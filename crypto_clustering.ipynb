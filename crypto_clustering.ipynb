{
 "cells": [
  {
   "cell_type": "markdown",
   "metadata": {},
   "source": [
    "# Clustering Crypto"
   ]
  },
  {
   "cell_type": "code",
   "execution_count": 24,
   "metadata": {},
   "outputs": [],
   "source": [
    "# Initial imports\n",
    "import pandas as pd\n",
    "import hvplot.pandas\n",
    "from pathlib import Path\n",
    "import plotly.express as px\n",
    "from sklearn.preprocessing import StandardScaler, MinMaxScaler\n",
    "from sklearn.decomposition import PCA\n",
    "from sklearn.cluster import KMeans\n"
   ]
  },
  {
   "cell_type": "markdown",
   "metadata": {},
   "source": [
    "### Deliverable 1: Preprocessing the Data for PCA"
   ]
  },
  {
   "cell_type": "code",
   "execution_count": 25,
   "metadata": {},
   "outputs": [
    {
     "data": {
      "text/html": [
       "<div>\n",
       "<style scoped>\n",
       "    .dataframe tbody tr th:only-of-type {\n",
       "        vertical-align: middle;\n",
       "    }\n",
       "\n",
       "    .dataframe tbody tr th {\n",
       "        vertical-align: top;\n",
       "    }\n",
       "\n",
       "    .dataframe thead th {\n",
       "        text-align: right;\n",
       "    }\n",
       "</style>\n",
       "<table border=\"1\" class=\"dataframe\">\n",
       "  <thead>\n",
       "    <tr style=\"text-align: right;\">\n",
       "      <th></th>\n",
       "      <th>Unnamed: 0</th>\n",
       "      <th>CoinName</th>\n",
       "      <th>Algorithm</th>\n",
       "      <th>IsTrading</th>\n",
       "      <th>ProofType</th>\n",
       "      <th>TotalCoinsMined</th>\n",
       "      <th>TotalCoinSupply</th>\n",
       "    </tr>\n",
       "  </thead>\n",
       "  <tbody>\n",
       "    <tr>\n",
       "      <th>0</th>\n",
       "      <td>42</td>\n",
       "      <td>42 Coin</td>\n",
       "      <td>Scrypt</td>\n",
       "      <td>True</td>\n",
       "      <td>PoW/PoS</td>\n",
       "      <td>4.199995e+01</td>\n",
       "      <td>42</td>\n",
       "    </tr>\n",
       "    <tr>\n",
       "      <th>1</th>\n",
       "      <td>365</td>\n",
       "      <td>365Coin</td>\n",
       "      <td>X11</td>\n",
       "      <td>True</td>\n",
       "      <td>PoW/PoS</td>\n",
       "      <td>NaN</td>\n",
       "      <td>2300000000</td>\n",
       "    </tr>\n",
       "    <tr>\n",
       "      <th>2</th>\n",
       "      <td>404</td>\n",
       "      <td>404Coin</td>\n",
       "      <td>Scrypt</td>\n",
       "      <td>True</td>\n",
       "      <td>PoW/PoS</td>\n",
       "      <td>1.055185e+09</td>\n",
       "      <td>532000000</td>\n",
       "    </tr>\n",
       "    <tr>\n",
       "      <th>3</th>\n",
       "      <td>611</td>\n",
       "      <td>SixEleven</td>\n",
       "      <td>SHA-256</td>\n",
       "      <td>True</td>\n",
       "      <td>PoW</td>\n",
       "      <td>NaN</td>\n",
       "      <td>611000</td>\n",
       "    </tr>\n",
       "    <tr>\n",
       "      <th>4</th>\n",
       "      <td>808</td>\n",
       "      <td>808</td>\n",
       "      <td>SHA-256</td>\n",
       "      <td>True</td>\n",
       "      <td>PoW/PoS</td>\n",
       "      <td>0.000000e+00</td>\n",
       "      <td>0</td>\n",
       "    </tr>\n",
       "    <tr>\n",
       "      <th>5</th>\n",
       "      <td>1337</td>\n",
       "      <td>EliteCoin</td>\n",
       "      <td>X13</td>\n",
       "      <td>True</td>\n",
       "      <td>PoW/PoS</td>\n",
       "      <td>2.927942e+10</td>\n",
       "      <td>314159265359</td>\n",
       "    </tr>\n",
       "    <tr>\n",
       "      <th>6</th>\n",
       "      <td>2015</td>\n",
       "      <td>2015 coin</td>\n",
       "      <td>X11</td>\n",
       "      <td>True</td>\n",
       "      <td>PoW/PoS</td>\n",
       "      <td>NaN</td>\n",
       "      <td>0</td>\n",
       "    </tr>\n",
       "    <tr>\n",
       "      <th>7</th>\n",
       "      <td>BTC</td>\n",
       "      <td>Bitcoin</td>\n",
       "      <td>SHA-256</td>\n",
       "      <td>True</td>\n",
       "      <td>PoW</td>\n",
       "      <td>1.792718e+07</td>\n",
       "      <td>21000000</td>\n",
       "    </tr>\n",
       "    <tr>\n",
       "      <th>8</th>\n",
       "      <td>ETH</td>\n",
       "      <td>Ethereum</td>\n",
       "      <td>Ethash</td>\n",
       "      <td>True</td>\n",
       "      <td>PoW</td>\n",
       "      <td>1.076842e+08</td>\n",
       "      <td>0</td>\n",
       "    </tr>\n",
       "    <tr>\n",
       "      <th>9</th>\n",
       "      <td>LTC</td>\n",
       "      <td>Litecoin</td>\n",
       "      <td>Scrypt</td>\n",
       "      <td>True</td>\n",
       "      <td>PoW</td>\n",
       "      <td>6.303924e+07</td>\n",
       "      <td>84000000</td>\n",
       "    </tr>\n",
       "  </tbody>\n",
       "</table>\n",
       "</div>"
      ],
      "text/plain": [
       "  Unnamed: 0   CoinName Algorithm  IsTrading ProofType  TotalCoinsMined  \\\n",
       "0         42    42 Coin    Scrypt       True   PoW/PoS     4.199995e+01   \n",
       "1        365    365Coin       X11       True   PoW/PoS              NaN   \n",
       "2        404    404Coin    Scrypt       True   PoW/PoS     1.055185e+09   \n",
       "3        611  SixEleven   SHA-256       True       PoW              NaN   \n",
       "4        808        808   SHA-256       True   PoW/PoS     0.000000e+00   \n",
       "5       1337  EliteCoin       X13       True   PoW/PoS     2.927942e+10   \n",
       "6       2015  2015 coin       X11       True   PoW/PoS              NaN   \n",
       "7        BTC    Bitcoin   SHA-256       True       PoW     1.792718e+07   \n",
       "8        ETH   Ethereum    Ethash       True       PoW     1.076842e+08   \n",
       "9        LTC   Litecoin    Scrypt       True       PoW     6.303924e+07   \n",
       "\n",
       "  TotalCoinSupply  \n",
       "0              42  \n",
       "1      2300000000  \n",
       "2       532000000  \n",
       "3          611000  \n",
       "4               0  \n",
       "5    314159265359  \n",
       "6               0  \n",
       "7        21000000  \n",
       "8               0  \n",
       "9        84000000  "
      ]
     },
     "execution_count": 25,
     "metadata": {},
     "output_type": "execute_result"
    }
   ],
   "source": [
    "# Load the crypto_data.csv dataset.\n",
    "# Load data\n",
    "file = 'data/crypto_data.csv'\n",
    "crypto_df = pd.read_csv(file)\n",
    "crypto_df.head(10)"
   ]
  },
  {
   "cell_type": "code",
   "execution_count": 26,
   "metadata": {},
   "outputs": [
    {
     "data": {
      "text/html": [
       "<div>\n",
       "<style scoped>\n",
       "    .dataframe tbody tr th:only-of-type {\n",
       "        vertical-align: middle;\n",
       "    }\n",
       "\n",
       "    .dataframe tbody tr th {\n",
       "        vertical-align: top;\n",
       "    }\n",
       "\n",
       "    .dataframe thead th {\n",
       "        text-align: right;\n",
       "    }\n",
       "</style>\n",
       "<table border=\"1\" class=\"dataframe\">\n",
       "  <thead>\n",
       "    <tr style=\"text-align: right;\">\n",
       "      <th></th>\n",
       "      <th>Unnamed: 0</th>\n",
       "      <th>CoinName</th>\n",
       "      <th>Algorithm</th>\n",
       "      <th>IsTrading</th>\n",
       "      <th>ProofType</th>\n",
       "      <th>TotalCoinsMined</th>\n",
       "      <th>TotalCoinSupply</th>\n",
       "    </tr>\n",
       "  </thead>\n",
       "  <tbody>\n",
       "    <tr>\n",
       "      <th>0</th>\n",
       "      <td>42</td>\n",
       "      <td>42 Coin</td>\n",
       "      <td>Scrypt</td>\n",
       "      <td>True</td>\n",
       "      <td>PoW/PoS</td>\n",
       "      <td>4.199995e+01</td>\n",
       "      <td>42</td>\n",
       "    </tr>\n",
       "    <tr>\n",
       "      <th>1</th>\n",
       "      <td>365</td>\n",
       "      <td>365Coin</td>\n",
       "      <td>X11</td>\n",
       "      <td>True</td>\n",
       "      <td>PoW/PoS</td>\n",
       "      <td>NaN</td>\n",
       "      <td>2300000000</td>\n",
       "    </tr>\n",
       "    <tr>\n",
       "      <th>2</th>\n",
       "      <td>404</td>\n",
       "      <td>404Coin</td>\n",
       "      <td>Scrypt</td>\n",
       "      <td>True</td>\n",
       "      <td>PoW/PoS</td>\n",
       "      <td>1.055185e+09</td>\n",
       "      <td>532000000</td>\n",
       "    </tr>\n",
       "    <tr>\n",
       "      <th>3</th>\n",
       "      <td>611</td>\n",
       "      <td>SixEleven</td>\n",
       "      <td>SHA-256</td>\n",
       "      <td>True</td>\n",
       "      <td>PoW</td>\n",
       "      <td>NaN</td>\n",
       "      <td>611000</td>\n",
       "    </tr>\n",
       "    <tr>\n",
       "      <th>4</th>\n",
       "      <td>808</td>\n",
       "      <td>808</td>\n",
       "      <td>SHA-256</td>\n",
       "      <td>True</td>\n",
       "      <td>PoW/PoS</td>\n",
       "      <td>0.000000e+00</td>\n",
       "      <td>0</td>\n",
       "    </tr>\n",
       "    <tr>\n",
       "      <th>5</th>\n",
       "      <td>1337</td>\n",
       "      <td>EliteCoin</td>\n",
       "      <td>X13</td>\n",
       "      <td>True</td>\n",
       "      <td>PoW/PoS</td>\n",
       "      <td>2.927942e+10</td>\n",
       "      <td>314159265359</td>\n",
       "    </tr>\n",
       "    <tr>\n",
       "      <th>6</th>\n",
       "      <td>2015</td>\n",
       "      <td>2015 coin</td>\n",
       "      <td>X11</td>\n",
       "      <td>True</td>\n",
       "      <td>PoW/PoS</td>\n",
       "      <td>NaN</td>\n",
       "      <td>0</td>\n",
       "    </tr>\n",
       "    <tr>\n",
       "      <th>7</th>\n",
       "      <td>BTC</td>\n",
       "      <td>Bitcoin</td>\n",
       "      <td>SHA-256</td>\n",
       "      <td>True</td>\n",
       "      <td>PoW</td>\n",
       "      <td>1.792718e+07</td>\n",
       "      <td>21000000</td>\n",
       "    </tr>\n",
       "    <tr>\n",
       "      <th>8</th>\n",
       "      <td>ETH</td>\n",
       "      <td>Ethereum</td>\n",
       "      <td>Ethash</td>\n",
       "      <td>True</td>\n",
       "      <td>PoW</td>\n",
       "      <td>1.076842e+08</td>\n",
       "      <td>0</td>\n",
       "    </tr>\n",
       "    <tr>\n",
       "      <th>9</th>\n",
       "      <td>LTC</td>\n",
       "      <td>Litecoin</td>\n",
       "      <td>Scrypt</td>\n",
       "      <td>True</td>\n",
       "      <td>PoW</td>\n",
       "      <td>6.303924e+07</td>\n",
       "      <td>84000000</td>\n",
       "    </tr>\n",
       "  </tbody>\n",
       "</table>\n",
       "</div>"
      ],
      "text/plain": [
       "  Unnamed: 0   CoinName Algorithm  IsTrading ProofType  TotalCoinsMined  \\\n",
       "0         42    42 Coin    Scrypt       True   PoW/PoS     4.199995e+01   \n",
       "1        365    365Coin       X11       True   PoW/PoS              NaN   \n",
       "2        404    404Coin    Scrypt       True   PoW/PoS     1.055185e+09   \n",
       "3        611  SixEleven   SHA-256       True       PoW              NaN   \n",
       "4        808        808   SHA-256       True   PoW/PoS     0.000000e+00   \n",
       "5       1337  EliteCoin       X13       True   PoW/PoS     2.927942e+10   \n",
       "6       2015  2015 coin       X11       True   PoW/PoS              NaN   \n",
       "7        BTC    Bitcoin   SHA-256       True       PoW     1.792718e+07   \n",
       "8        ETH   Ethereum    Ethash       True       PoW     1.076842e+08   \n",
       "9        LTC   Litecoin    Scrypt       True       PoW     6.303924e+07   \n",
       "\n",
       "  TotalCoinSupply  \n",
       "0              42  \n",
       "1      2300000000  \n",
       "2       532000000  \n",
       "3          611000  \n",
       "4               0  \n",
       "5    314159265359  \n",
       "6               0  \n",
       "7        21000000  \n",
       "8               0  \n",
       "9        84000000  "
      ]
     },
     "execution_count": 26,
     "metadata": {},
     "output_type": "execute_result"
    }
   ],
   "source": [
    "# Keep all the cryptocurrencies that are being traded.\n",
    "crypto_df = crypto_df.loc[crypto_df['IsTrading'] == True]\n",
    "crypto_df.head(10)"
   ]
  },
  {
   "cell_type": "code",
   "execution_count": 27,
   "metadata": {},
   "outputs": [
    {
     "data": {
      "text/html": [
       "<div>\n",
       "<style scoped>\n",
       "    .dataframe tbody tr th:only-of-type {\n",
       "        vertical-align: middle;\n",
       "    }\n",
       "\n",
       "    .dataframe tbody tr th {\n",
       "        vertical-align: top;\n",
       "    }\n",
       "\n",
       "    .dataframe thead th {\n",
       "        text-align: right;\n",
       "    }\n",
       "</style>\n",
       "<table border=\"1\" class=\"dataframe\">\n",
       "  <thead>\n",
       "    <tr style=\"text-align: right;\">\n",
       "      <th></th>\n",
       "      <th>Unnamed: 0</th>\n",
       "      <th>CoinName</th>\n",
       "      <th>Algorithm</th>\n",
       "      <th>ProofType</th>\n",
       "      <th>TotalCoinsMined</th>\n",
       "      <th>TotalCoinSupply</th>\n",
       "    </tr>\n",
       "  </thead>\n",
       "  <tbody>\n",
       "    <tr>\n",
       "      <th>0</th>\n",
       "      <td>42</td>\n",
       "      <td>42 Coin</td>\n",
       "      <td>Scrypt</td>\n",
       "      <td>PoW/PoS</td>\n",
       "      <td>4.199995e+01</td>\n",
       "      <td>42</td>\n",
       "    </tr>\n",
       "    <tr>\n",
       "      <th>1</th>\n",
       "      <td>365</td>\n",
       "      <td>365Coin</td>\n",
       "      <td>X11</td>\n",
       "      <td>PoW/PoS</td>\n",
       "      <td>NaN</td>\n",
       "      <td>2300000000</td>\n",
       "    </tr>\n",
       "    <tr>\n",
       "      <th>2</th>\n",
       "      <td>404</td>\n",
       "      <td>404Coin</td>\n",
       "      <td>Scrypt</td>\n",
       "      <td>PoW/PoS</td>\n",
       "      <td>1.055185e+09</td>\n",
       "      <td>532000000</td>\n",
       "    </tr>\n",
       "    <tr>\n",
       "      <th>3</th>\n",
       "      <td>611</td>\n",
       "      <td>SixEleven</td>\n",
       "      <td>SHA-256</td>\n",
       "      <td>PoW</td>\n",
       "      <td>NaN</td>\n",
       "      <td>611000</td>\n",
       "    </tr>\n",
       "    <tr>\n",
       "      <th>4</th>\n",
       "      <td>808</td>\n",
       "      <td>808</td>\n",
       "      <td>SHA-256</td>\n",
       "      <td>PoW/PoS</td>\n",
       "      <td>0.000000e+00</td>\n",
       "      <td>0</td>\n",
       "    </tr>\n",
       "  </tbody>\n",
       "</table>\n",
       "</div>"
      ],
      "text/plain": [
       "  Unnamed: 0   CoinName Algorithm ProofType  TotalCoinsMined TotalCoinSupply\n",
       "0         42    42 Coin    Scrypt   PoW/PoS     4.199995e+01              42\n",
       "1        365    365Coin       X11   PoW/PoS              NaN      2300000000\n",
       "2        404    404Coin    Scrypt   PoW/PoS     1.055185e+09       532000000\n",
       "3        611  SixEleven   SHA-256       PoW              NaN          611000\n",
       "4        808        808   SHA-256   PoW/PoS     0.000000e+00               0"
      ]
     },
     "execution_count": 27,
     "metadata": {},
     "output_type": "execute_result"
    }
   ],
   "source": [
    "# Drop IsTrading\n",
    "crypto_df.drop(columns=['IsTrading'], inplace=True)\n",
    "crypto_df.head()"
   ]
  },
  {
   "cell_type": "code",
   "execution_count": 19,
   "metadata": {},
   "outputs": [
    {
     "data": {
      "text/plain": [
       "0"
      ]
     },
     "execution_count": 19,
     "metadata": {},
     "output_type": "execute_result"
    }
   ],
   "source": [
    "# TESTING CELL\n",
    "crypto_df['Algorithm'].isna().sum()"
   ]
  },
  {
   "cell_type": "code",
   "execution_count": 4,
   "metadata": {},
   "outputs": [
    {
     "name": "stdout",
     "output_type": "stream",
     "text": [
      "(1144, 6)\n"
     ]
    },
    {
     "data": {
      "text/html": [
       "<div>\n",
       "<style scoped>\n",
       "    .dataframe tbody tr th:only-of-type {\n",
       "        vertical-align: middle;\n",
       "    }\n",
       "\n",
       "    .dataframe tbody tr th {\n",
       "        vertical-align: top;\n",
       "    }\n",
       "\n",
       "    .dataframe thead th {\n",
       "        text-align: right;\n",
       "    }\n",
       "</style>\n",
       "<table border=\"1\" class=\"dataframe\">\n",
       "  <thead>\n",
       "    <tr style=\"text-align: right;\">\n",
       "      <th></th>\n",
       "      <th>CoinName</th>\n",
       "      <th>Algorithm</th>\n",
       "      <th>IsTrading</th>\n",
       "      <th>ProofType</th>\n",
       "      <th>TotalCoinsMined</th>\n",
       "      <th>TotalCoinSupply</th>\n",
       "    </tr>\n",
       "  </thead>\n",
       "  <tbody>\n",
       "    <tr>\n",
       "      <th>42</th>\n",
       "      <td>42 Coin</td>\n",
       "      <td>Scrypt</td>\n",
       "      <td>True</td>\n",
       "      <td>PoW/PoS</td>\n",
       "      <td>4.199995e+01</td>\n",
       "      <td>42</td>\n",
       "    </tr>\n",
       "    <tr>\n",
       "      <th>365</th>\n",
       "      <td>365Coin</td>\n",
       "      <td>X11</td>\n",
       "      <td>True</td>\n",
       "      <td>PoW/PoS</td>\n",
       "      <td>NaN</td>\n",
       "      <td>2300000000</td>\n",
       "    </tr>\n",
       "    <tr>\n",
       "      <th>404</th>\n",
       "      <td>404Coin</td>\n",
       "      <td>Scrypt</td>\n",
       "      <td>True</td>\n",
       "      <td>PoW/PoS</td>\n",
       "      <td>1.055185e+09</td>\n",
       "      <td>532000000</td>\n",
       "    </tr>\n",
       "    <tr>\n",
       "      <th>611</th>\n",
       "      <td>SixEleven</td>\n",
       "      <td>SHA-256</td>\n",
       "      <td>True</td>\n",
       "      <td>PoW</td>\n",
       "      <td>NaN</td>\n",
       "      <td>611000</td>\n",
       "    </tr>\n",
       "    <tr>\n",
       "      <th>808</th>\n",
       "      <td>808</td>\n",
       "      <td>SHA-256</td>\n",
       "      <td>True</td>\n",
       "      <td>PoW/PoS</td>\n",
       "      <td>0.000000e+00</td>\n",
       "      <td>0</td>\n",
       "    </tr>\n",
       "    <tr>\n",
       "      <th>1337</th>\n",
       "      <td>EliteCoin</td>\n",
       "      <td>X13</td>\n",
       "      <td>True</td>\n",
       "      <td>PoW/PoS</td>\n",
       "      <td>2.927942e+10</td>\n",
       "      <td>314159265359</td>\n",
       "    </tr>\n",
       "    <tr>\n",
       "      <th>2015</th>\n",
       "      <td>2015 coin</td>\n",
       "      <td>X11</td>\n",
       "      <td>True</td>\n",
       "      <td>PoW/PoS</td>\n",
       "      <td>NaN</td>\n",
       "      <td>0</td>\n",
       "    </tr>\n",
       "    <tr>\n",
       "      <th>BTC</th>\n",
       "      <td>Bitcoin</td>\n",
       "      <td>SHA-256</td>\n",
       "      <td>True</td>\n",
       "      <td>PoW</td>\n",
       "      <td>1.792718e+07</td>\n",
       "      <td>21000000</td>\n",
       "    </tr>\n",
       "    <tr>\n",
       "      <th>ETH</th>\n",
       "      <td>Ethereum</td>\n",
       "      <td>Ethash</td>\n",
       "      <td>True</td>\n",
       "      <td>PoW</td>\n",
       "      <td>1.076842e+08</td>\n",
       "      <td>0</td>\n",
       "    </tr>\n",
       "    <tr>\n",
       "      <th>LTC</th>\n",
       "      <td>Litecoin</td>\n",
       "      <td>Scrypt</td>\n",
       "      <td>True</td>\n",
       "      <td>PoW</td>\n",
       "      <td>6.303924e+07</td>\n",
       "      <td>84000000</td>\n",
       "    </tr>\n",
       "  </tbody>\n",
       "</table>\n",
       "</div>"
      ],
      "text/plain": [
       "       CoinName Algorithm  IsTrading ProofType  TotalCoinsMined  \\\n",
       "42      42 Coin    Scrypt       True   PoW/PoS     4.199995e+01   \n",
       "365     365Coin       X11       True   PoW/PoS              NaN   \n",
       "404     404Coin    Scrypt       True   PoW/PoS     1.055185e+09   \n",
       "611   SixEleven   SHA-256       True       PoW              NaN   \n",
       "808         808   SHA-256       True   PoW/PoS     0.000000e+00   \n",
       "1337  EliteCoin       X13       True   PoW/PoS     2.927942e+10   \n",
       "2015  2015 coin       X11       True   PoW/PoS              NaN   \n",
       "BTC     Bitcoin   SHA-256       True       PoW     1.792718e+07   \n",
       "ETH    Ethereum    Ethash       True       PoW     1.076842e+08   \n",
       "LTC    Litecoin    Scrypt       True       PoW     6.303924e+07   \n",
       "\n",
       "     TotalCoinSupply  \n",
       "42                42  \n",
       "365       2300000000  \n",
       "404        532000000  \n",
       "611           611000  \n",
       "808                0  \n",
       "1337    314159265359  \n",
       "2015               0  \n",
       "BTC         21000000  \n",
       "ETH                0  \n",
       "LTC         84000000  "
      ]
     },
     "execution_count": 4,
     "metadata": {},
     "output_type": "execute_result"
    }
   ],
   "source": [
    "# Keep all the cryptocurrencies that have a working algorithm.\n",
    "# YOUR CODE HERE"
   ]
  },
  {
   "cell_type": "code",
   "execution_count": 28,
   "metadata": {},
   "outputs": [
    {
     "data": {
      "text/html": [
       "<div>\n",
       "<style scoped>\n",
       "    .dataframe tbody tr th:only-of-type {\n",
       "        vertical-align: middle;\n",
       "    }\n",
       "\n",
       "    .dataframe tbody tr th {\n",
       "        vertical-align: top;\n",
       "    }\n",
       "\n",
       "    .dataframe thead th {\n",
       "        text-align: right;\n",
       "    }\n",
       "</style>\n",
       "<table border=\"1\" class=\"dataframe\">\n",
       "  <thead>\n",
       "    <tr style=\"text-align: right;\">\n",
       "      <th></th>\n",
       "      <th>Unnamed: 0</th>\n",
       "      <th>CoinName</th>\n",
       "      <th>Algorithm</th>\n",
       "      <th>ProofType</th>\n",
       "      <th>TotalCoinsMined</th>\n",
       "      <th>TotalCoinSupply</th>\n",
       "    </tr>\n",
       "  </thead>\n",
       "  <tbody>\n",
       "    <tr>\n",
       "      <th>0</th>\n",
       "      <td>42</td>\n",
       "      <td>42 Coin</td>\n",
       "      <td>Scrypt</td>\n",
       "      <td>PoW/PoS</td>\n",
       "      <td>4.199995e+01</td>\n",
       "      <td>42</td>\n",
       "    </tr>\n",
       "    <tr>\n",
       "      <th>1</th>\n",
       "      <td>365</td>\n",
       "      <td>365Coin</td>\n",
       "      <td>X11</td>\n",
       "      <td>PoW/PoS</td>\n",
       "      <td>NaN</td>\n",
       "      <td>2300000000</td>\n",
       "    </tr>\n",
       "    <tr>\n",
       "      <th>2</th>\n",
       "      <td>404</td>\n",
       "      <td>404Coin</td>\n",
       "      <td>Scrypt</td>\n",
       "      <td>PoW/PoS</td>\n",
       "      <td>1.055185e+09</td>\n",
       "      <td>532000000</td>\n",
       "    </tr>\n",
       "    <tr>\n",
       "      <th>3</th>\n",
       "      <td>611</td>\n",
       "      <td>SixEleven</td>\n",
       "      <td>SHA-256</td>\n",
       "      <td>PoW</td>\n",
       "      <td>NaN</td>\n",
       "      <td>611000</td>\n",
       "    </tr>\n",
       "    <tr>\n",
       "      <th>4</th>\n",
       "      <td>808</td>\n",
       "      <td>808</td>\n",
       "      <td>SHA-256</td>\n",
       "      <td>PoW/PoS</td>\n",
       "      <td>0.000000e+00</td>\n",
       "      <td>0</td>\n",
       "    </tr>\n",
       "    <tr>\n",
       "      <th>5</th>\n",
       "      <td>1337</td>\n",
       "      <td>EliteCoin</td>\n",
       "      <td>X13</td>\n",
       "      <td>PoW/PoS</td>\n",
       "      <td>2.927942e+10</td>\n",
       "      <td>314159265359</td>\n",
       "    </tr>\n",
       "    <tr>\n",
       "      <th>6</th>\n",
       "      <td>2015</td>\n",
       "      <td>2015 coin</td>\n",
       "      <td>X11</td>\n",
       "      <td>PoW/PoS</td>\n",
       "      <td>NaN</td>\n",
       "      <td>0</td>\n",
       "    </tr>\n",
       "    <tr>\n",
       "      <th>7</th>\n",
       "      <td>BTC</td>\n",
       "      <td>Bitcoin</td>\n",
       "      <td>SHA-256</td>\n",
       "      <td>PoW</td>\n",
       "      <td>1.792718e+07</td>\n",
       "      <td>21000000</td>\n",
       "    </tr>\n",
       "    <tr>\n",
       "      <th>8</th>\n",
       "      <td>ETH</td>\n",
       "      <td>Ethereum</td>\n",
       "      <td>Ethash</td>\n",
       "      <td>PoW</td>\n",
       "      <td>1.076842e+08</td>\n",
       "      <td>0</td>\n",
       "    </tr>\n",
       "    <tr>\n",
       "      <th>9</th>\n",
       "      <td>LTC</td>\n",
       "      <td>Litecoin</td>\n",
       "      <td>Scrypt</td>\n",
       "      <td>PoW</td>\n",
       "      <td>6.303924e+07</td>\n",
       "      <td>84000000</td>\n",
       "    </tr>\n",
       "  </tbody>\n",
       "</table>\n",
       "</div>"
      ],
      "text/plain": [
       "  Unnamed: 0   CoinName Algorithm ProofType  TotalCoinsMined TotalCoinSupply\n",
       "0         42    42 Coin    Scrypt   PoW/PoS     4.199995e+01              42\n",
       "1        365    365Coin       X11   PoW/PoS              NaN      2300000000\n",
       "2        404    404Coin    Scrypt   PoW/PoS     1.055185e+09       532000000\n",
       "3        611  SixEleven   SHA-256       PoW              NaN          611000\n",
       "4        808        808   SHA-256   PoW/PoS     0.000000e+00               0\n",
       "5       1337  EliteCoin       X13   PoW/PoS     2.927942e+10    314159265359\n",
       "6       2015  2015 coin       X11   PoW/PoS              NaN               0\n",
       "7        BTC    Bitcoin   SHA-256       PoW     1.792718e+07        21000000\n",
       "8        ETH   Ethereum    Ethash       PoW     1.076842e+08               0\n",
       "9        LTC   Litecoin    Scrypt       PoW     6.303924e+07        84000000"
      ]
     },
     "execution_count": 28,
     "metadata": {},
     "output_type": "execute_result"
    }
   ],
   "source": [
    "# Remove the \"IsTrading\" column. \n",
    "crypto_df.head(10)"
   ]
  },
  {
   "cell_type": "code",
   "execution_count": 29,
   "metadata": {},
   "outputs": [
    {
     "data": {
      "text/html": [
       "<div>\n",
       "<style scoped>\n",
       "    .dataframe tbody tr th:only-of-type {\n",
       "        vertical-align: middle;\n",
       "    }\n",
       "\n",
       "    .dataframe tbody tr th {\n",
       "        vertical-align: top;\n",
       "    }\n",
       "\n",
       "    .dataframe thead th {\n",
       "        text-align: right;\n",
       "    }\n",
       "</style>\n",
       "<table border=\"1\" class=\"dataframe\">\n",
       "  <thead>\n",
       "    <tr style=\"text-align: right;\">\n",
       "      <th></th>\n",
       "      <th>Unnamed: 0</th>\n",
       "      <th>CoinName</th>\n",
       "      <th>Algorithm</th>\n",
       "      <th>ProofType</th>\n",
       "      <th>TotalCoinsMined</th>\n",
       "      <th>TotalCoinSupply</th>\n",
       "    </tr>\n",
       "  </thead>\n",
       "  <tbody>\n",
       "    <tr>\n",
       "      <th>0</th>\n",
       "      <td>42</td>\n",
       "      <td>42 Coin</td>\n",
       "      <td>Scrypt</td>\n",
       "      <td>PoW/PoS</td>\n",
       "      <td>4.199995e+01</td>\n",
       "      <td>42</td>\n",
       "    </tr>\n",
       "    <tr>\n",
       "      <th>2</th>\n",
       "      <td>404</td>\n",
       "      <td>404Coin</td>\n",
       "      <td>Scrypt</td>\n",
       "      <td>PoW/PoS</td>\n",
       "      <td>1.055185e+09</td>\n",
       "      <td>532000000</td>\n",
       "    </tr>\n",
       "    <tr>\n",
       "      <th>4</th>\n",
       "      <td>808</td>\n",
       "      <td>808</td>\n",
       "      <td>SHA-256</td>\n",
       "      <td>PoW/PoS</td>\n",
       "      <td>0.000000e+00</td>\n",
       "      <td>0</td>\n",
       "    </tr>\n",
       "    <tr>\n",
       "      <th>5</th>\n",
       "      <td>1337</td>\n",
       "      <td>EliteCoin</td>\n",
       "      <td>X13</td>\n",
       "      <td>PoW/PoS</td>\n",
       "      <td>2.927942e+10</td>\n",
       "      <td>314159265359</td>\n",
       "    </tr>\n",
       "    <tr>\n",
       "      <th>7</th>\n",
       "      <td>BTC</td>\n",
       "      <td>Bitcoin</td>\n",
       "      <td>SHA-256</td>\n",
       "      <td>PoW</td>\n",
       "      <td>1.792718e+07</td>\n",
       "      <td>21000000</td>\n",
       "    </tr>\n",
       "    <tr>\n",
       "      <th>...</th>\n",
       "      <td>...</td>\n",
       "      <td>...</td>\n",
       "      <td>...</td>\n",
       "      <td>...</td>\n",
       "      <td>...</td>\n",
       "      <td>...</td>\n",
       "    </tr>\n",
       "    <tr>\n",
       "      <th>1238</th>\n",
       "      <td>ZEPH</td>\n",
       "      <td>ZEPHYR</td>\n",
       "      <td>SHA-256</td>\n",
       "      <td>DPoS</td>\n",
       "      <td>2.000000e+09</td>\n",
       "      <td>2000000000</td>\n",
       "    </tr>\n",
       "    <tr>\n",
       "      <th>1242</th>\n",
       "      <td>GAP</td>\n",
       "      <td>Gapcoin</td>\n",
       "      <td>Scrypt</td>\n",
       "      <td>PoW/PoS</td>\n",
       "      <td>1.493105e+07</td>\n",
       "      <td>250000000</td>\n",
       "    </tr>\n",
       "    <tr>\n",
       "      <th>1245</th>\n",
       "      <td>BDX</td>\n",
       "      <td>Beldex</td>\n",
       "      <td>CryptoNight</td>\n",
       "      <td>PoW</td>\n",
       "      <td>9.802226e+08</td>\n",
       "      <td>1400222610</td>\n",
       "    </tr>\n",
       "    <tr>\n",
       "      <th>1246</th>\n",
       "      <td>ZEN</td>\n",
       "      <td>Horizen</td>\n",
       "      <td>Equihash</td>\n",
       "      <td>PoW</td>\n",
       "      <td>7.296538e+06</td>\n",
       "      <td>21000000</td>\n",
       "    </tr>\n",
       "    <tr>\n",
       "      <th>1247</th>\n",
       "      <td>XBC</td>\n",
       "      <td>BitcoinPlus</td>\n",
       "      <td>Scrypt</td>\n",
       "      <td>PoS</td>\n",
       "      <td>1.283270e+05</td>\n",
       "      <td>1000000</td>\n",
       "    </tr>\n",
       "  </tbody>\n",
       "</table>\n",
       "<p>685 rows × 6 columns</p>\n",
       "</div>"
      ],
      "text/plain": [
       "     Unnamed: 0     CoinName    Algorithm ProofType  TotalCoinsMined  \\\n",
       "0            42      42 Coin       Scrypt   PoW/PoS     4.199995e+01   \n",
       "2           404      404Coin       Scrypt   PoW/PoS     1.055185e+09   \n",
       "4           808          808      SHA-256   PoW/PoS     0.000000e+00   \n",
       "5          1337    EliteCoin          X13   PoW/PoS     2.927942e+10   \n",
       "7           BTC      Bitcoin      SHA-256       PoW     1.792718e+07   \n",
       "...         ...          ...          ...       ...              ...   \n",
       "1238       ZEPH       ZEPHYR      SHA-256      DPoS     2.000000e+09   \n",
       "1242        GAP      Gapcoin       Scrypt   PoW/PoS     1.493105e+07   \n",
       "1245        BDX       Beldex  CryptoNight       PoW     9.802226e+08   \n",
       "1246        ZEN      Horizen     Equihash       PoW     7.296538e+06   \n",
       "1247        XBC  BitcoinPlus       Scrypt       PoS     1.283270e+05   \n",
       "\n",
       "     TotalCoinSupply  \n",
       "0                 42  \n",
       "2          532000000  \n",
       "4                  0  \n",
       "5       314159265359  \n",
       "7           21000000  \n",
       "...              ...  \n",
       "1238      2000000000  \n",
       "1242       250000000  \n",
       "1245      1400222610  \n",
       "1246        21000000  \n",
       "1247         1000000  \n",
       "\n",
       "[685 rows x 6 columns]"
      ]
     },
     "execution_count": 29,
     "metadata": {},
     "output_type": "execute_result"
    }
   ],
   "source": [
    "# Remove rows that have at least 1 null value.\n",
    "crypto_df.dropna()"
   ]
  },
  {
   "cell_type": "code",
   "execution_count": 40,
   "metadata": {},
   "outputs": [
    {
     "data": {
      "text/html": [
       "<div>\n",
       "<style scoped>\n",
       "    .dataframe tbody tr th:only-of-type {\n",
       "        vertical-align: middle;\n",
       "    }\n",
       "\n",
       "    .dataframe tbody tr th {\n",
       "        vertical-align: top;\n",
       "    }\n",
       "\n",
       "    .dataframe thead th {\n",
       "        text-align: right;\n",
       "    }\n",
       "</style>\n",
       "<table border=\"1\" class=\"dataframe\">\n",
       "  <thead>\n",
       "    <tr style=\"text-align: right;\">\n",
       "      <th></th>\n",
       "      <th>CoinName</th>\n",
       "      <th>Algorithm</th>\n",
       "      <th>ProofType</th>\n",
       "      <th>TotalCoinsMined</th>\n",
       "      <th>TotalCoinSupply</th>\n",
       "    </tr>\n",
       "    <tr>\n",
       "      <th>Unnamed: 0</th>\n",
       "      <th></th>\n",
       "      <th></th>\n",
       "      <th></th>\n",
       "      <th></th>\n",
       "      <th></th>\n",
       "    </tr>\n",
       "  </thead>\n",
       "  <tbody>\n",
       "    <tr>\n",
       "      <th>42</th>\n",
       "      <td>42 Coin</td>\n",
       "      <td>Scrypt</td>\n",
       "      <td>PoW/PoS</td>\n",
       "      <td>4.199995e+01</td>\n",
       "      <td>42</td>\n",
       "    </tr>\n",
       "    <tr>\n",
       "      <th>404</th>\n",
       "      <td>404Coin</td>\n",
       "      <td>Scrypt</td>\n",
       "      <td>PoW/PoS</td>\n",
       "      <td>1.055185e+09</td>\n",
       "      <td>532000000</td>\n",
       "    </tr>\n",
       "    <tr>\n",
       "      <th>1337</th>\n",
       "      <td>EliteCoin</td>\n",
       "      <td>X13</td>\n",
       "      <td>PoW/PoS</td>\n",
       "      <td>2.927942e+10</td>\n",
       "      <td>314159265359</td>\n",
       "    </tr>\n",
       "    <tr>\n",
       "      <th>BTC</th>\n",
       "      <td>Bitcoin</td>\n",
       "      <td>SHA-256</td>\n",
       "      <td>PoW</td>\n",
       "      <td>1.792718e+07</td>\n",
       "      <td>21000000</td>\n",
       "    </tr>\n",
       "    <tr>\n",
       "      <th>ETH</th>\n",
       "      <td>Ethereum</td>\n",
       "      <td>Ethash</td>\n",
       "      <td>PoW</td>\n",
       "      <td>1.076842e+08</td>\n",
       "      <td>0</td>\n",
       "    </tr>\n",
       "    <tr>\n",
       "      <th>LTC</th>\n",
       "      <td>Litecoin</td>\n",
       "      <td>Scrypt</td>\n",
       "      <td>PoW</td>\n",
       "      <td>6.303924e+07</td>\n",
       "      <td>84000000</td>\n",
       "    </tr>\n",
       "    <tr>\n",
       "      <th>DASH</th>\n",
       "      <td>Dash</td>\n",
       "      <td>X11</td>\n",
       "      <td>PoW/PoS</td>\n",
       "      <td>9.031294e+06</td>\n",
       "      <td>22000000</td>\n",
       "    </tr>\n",
       "    <tr>\n",
       "      <th>XMR</th>\n",
       "      <td>Monero</td>\n",
       "      <td>CryptoNight-V7</td>\n",
       "      <td>PoW</td>\n",
       "      <td>1.720114e+07</td>\n",
       "      <td>0</td>\n",
       "    </tr>\n",
       "    <tr>\n",
       "      <th>ETC</th>\n",
       "      <td>Ethereum Classic</td>\n",
       "      <td>Ethash</td>\n",
       "      <td>PoW</td>\n",
       "      <td>1.133597e+08</td>\n",
       "      <td>210000000</td>\n",
       "    </tr>\n",
       "    <tr>\n",
       "      <th>ZEC</th>\n",
       "      <td>ZCash</td>\n",
       "      <td>Equihash</td>\n",
       "      <td>PoW</td>\n",
       "      <td>7.383056e+06</td>\n",
       "      <td>21000000</td>\n",
       "    </tr>\n",
       "  </tbody>\n",
       "</table>\n",
       "</div>"
      ],
      "text/plain": [
       "                    CoinName       Algorithm ProofType  TotalCoinsMined  \\\n",
       "Unnamed: 0                                                                \n",
       "42                   42 Coin          Scrypt   PoW/PoS     4.199995e+01   \n",
       "404                  404Coin          Scrypt   PoW/PoS     1.055185e+09   \n",
       "1337               EliteCoin             X13   PoW/PoS     2.927942e+10   \n",
       "BTC                  Bitcoin         SHA-256       PoW     1.792718e+07   \n",
       "ETH                 Ethereum          Ethash       PoW     1.076842e+08   \n",
       "LTC                 Litecoin          Scrypt       PoW     6.303924e+07   \n",
       "DASH                    Dash             X11   PoW/PoS     9.031294e+06   \n",
       "XMR                   Monero  CryptoNight-V7       PoW     1.720114e+07   \n",
       "ETC         Ethereum Classic          Ethash       PoW     1.133597e+08   \n",
       "ZEC                    ZCash        Equihash       PoW     7.383056e+06   \n",
       "\n",
       "           TotalCoinSupply  \n",
       "Unnamed: 0                  \n",
       "42                      42  \n",
       "404              532000000  \n",
       "1337          314159265359  \n",
       "BTC               21000000  \n",
       "ETH                      0  \n",
       "LTC               84000000  \n",
       "DASH              22000000  \n",
       "XMR                      0  \n",
       "ETC              210000000  \n",
       "ZEC               21000000  "
      ]
     },
     "execution_count": 40,
     "metadata": {},
     "output_type": "execute_result"
    }
   ],
   "source": [
    "# Keep the rows where coins are mined.\n",
    "crypto_df = crypto_df.loc[crypto_df['TotalCoinsMined'] > 0]\n",
    "crypto_df.head(10)"
   ]
  },
  {
   "cell_type": "code",
   "execution_count": 44,
   "metadata": {},
   "outputs": [
    {
     "data": {
      "text/html": [
       "<div>\n",
       "<style scoped>\n",
       "    .dataframe tbody tr th:only-of-type {\n",
       "        vertical-align: middle;\n",
       "    }\n",
       "\n",
       "    .dataframe tbody tr th {\n",
       "        vertical-align: top;\n",
       "    }\n",
       "\n",
       "    .dataframe thead th {\n",
       "        text-align: right;\n",
       "    }\n",
       "</style>\n",
       "<table border=\"1\" class=\"dataframe\">\n",
       "  <thead>\n",
       "    <tr style=\"text-align: right;\">\n",
       "      <th></th>\n",
       "      <th>CoinName</th>\n",
       "      <th>Algorithm</th>\n",
       "      <th>ProofType</th>\n",
       "      <th>TotalCoinsMined</th>\n",
       "      <th>TotalCoinSupply</th>\n",
       "    </tr>\n",
       "  </thead>\n",
       "  <tbody>\n",
       "    <tr>\n",
       "      <th>42</th>\n",
       "      <td>42 Coin</td>\n",
       "      <td>Scrypt</td>\n",
       "      <td>PoW/PoS</td>\n",
       "      <td>4.199995e+01</td>\n",
       "      <td>42</td>\n",
       "    </tr>\n",
       "    <tr>\n",
       "      <th>404</th>\n",
       "      <td>404Coin</td>\n",
       "      <td>Scrypt</td>\n",
       "      <td>PoW/PoS</td>\n",
       "      <td>1.055185e+09</td>\n",
       "      <td>532000000</td>\n",
       "    </tr>\n",
       "    <tr>\n",
       "      <th>1337</th>\n",
       "      <td>EliteCoin</td>\n",
       "      <td>X13</td>\n",
       "      <td>PoW/PoS</td>\n",
       "      <td>2.927942e+10</td>\n",
       "      <td>314159265359</td>\n",
       "    </tr>\n",
       "    <tr>\n",
       "      <th>BTC</th>\n",
       "      <td>Bitcoin</td>\n",
       "      <td>SHA-256</td>\n",
       "      <td>PoW</td>\n",
       "      <td>1.792718e+07</td>\n",
       "      <td>21000000</td>\n",
       "    </tr>\n",
       "    <tr>\n",
       "      <th>ETH</th>\n",
       "      <td>Ethereum</td>\n",
       "      <td>Ethash</td>\n",
       "      <td>PoW</td>\n",
       "      <td>1.076842e+08</td>\n",
       "      <td>0</td>\n",
       "    </tr>\n",
       "  </tbody>\n",
       "</table>\n",
       "</div>"
      ],
      "text/plain": [
       "       CoinName Algorithm ProofType  TotalCoinsMined TotalCoinSupply\n",
       "42      42 Coin    Scrypt   PoW/PoS     4.199995e+01              42\n",
       "404     404Coin    Scrypt   PoW/PoS     1.055185e+09       532000000\n",
       "1337  EliteCoin       X13   PoW/PoS     2.927942e+10    314159265359\n",
       "BTC     Bitcoin   SHA-256       PoW     1.792718e+07        21000000\n",
       "ETH    Ethereum    Ethash       PoW     1.076842e+08               0"
      ]
     },
     "execution_count": 44,
     "metadata": {},
     "output_type": "execute_result"
    }
   ],
   "source": [
    "# TESTING CELL\n",
    "crypto_df = crypto_df.rename_axis(None, axis=0)\n",
    "crypto_df.head()"
   ]
  },
  {
   "cell_type": "code",
   "execution_count": 46,
   "metadata": {},
   "outputs": [
    {
     "data": {
      "text/html": [
       "<div>\n",
       "<style scoped>\n",
       "    .dataframe tbody tr th:only-of-type {\n",
       "        vertical-align: middle;\n",
       "    }\n",
       "\n",
       "    .dataframe tbody tr th {\n",
       "        vertical-align: top;\n",
       "    }\n",
       "\n",
       "    .dataframe thead th {\n",
       "        text-align: right;\n",
       "    }\n",
       "</style>\n",
       "<table border=\"1\" class=\"dataframe\">\n",
       "  <thead>\n",
       "    <tr style=\"text-align: right;\">\n",
       "      <th></th>\n",
       "      <th>CoinName</th>\n",
       "    </tr>\n",
       "  </thead>\n",
       "  <tbody>\n",
       "    <tr>\n",
       "      <th>42</th>\n",
       "      <td>42 Coin</td>\n",
       "    </tr>\n",
       "    <tr>\n",
       "      <th>404</th>\n",
       "      <td>404Coin</td>\n",
       "    </tr>\n",
       "    <tr>\n",
       "      <th>1337</th>\n",
       "      <td>EliteCoin</td>\n",
       "    </tr>\n",
       "    <tr>\n",
       "      <th>BTC</th>\n",
       "      <td>Bitcoin</td>\n",
       "    </tr>\n",
       "    <tr>\n",
       "      <th>ETH</th>\n",
       "      <td>Ethereum</td>\n",
       "    </tr>\n",
       "  </tbody>\n",
       "</table>\n",
       "</div>"
      ],
      "text/plain": [
       "       CoinName\n",
       "42      42 Coin\n",
       "404     404Coin\n",
       "1337  EliteCoin\n",
       "BTC     Bitcoin\n",
       "ETH    Ethereum"
      ]
     },
     "execution_count": 46,
     "metadata": {},
     "output_type": "execute_result"
    }
   ],
   "source": [
    "# Create a new DataFrame that holds only the cryptocurrencies names.\n",
    "crypto_names = crypto_df[['CoinName']].copy()\n",
    "crypto_names.head()"
   ]
  },
  {
   "cell_type": "code",
   "execution_count": 49,
   "metadata": {},
   "outputs": [
    {
     "data": {
      "text/html": [
       "<div>\n",
       "<style scoped>\n",
       "    .dataframe tbody tr th:only-of-type {\n",
       "        vertical-align: middle;\n",
       "    }\n",
       "\n",
       "    .dataframe tbody tr th {\n",
       "        vertical-align: top;\n",
       "    }\n",
       "\n",
       "    .dataframe thead th {\n",
       "        text-align: right;\n",
       "    }\n",
       "</style>\n",
       "<table border=\"1\" class=\"dataframe\">\n",
       "  <thead>\n",
       "    <tr style=\"text-align: right;\">\n",
       "      <th></th>\n",
       "      <th>Algorithm</th>\n",
       "      <th>ProofType</th>\n",
       "      <th>TotalCoinsMined</th>\n",
       "      <th>TotalCoinSupply</th>\n",
       "    </tr>\n",
       "  </thead>\n",
       "  <tbody>\n",
       "    <tr>\n",
       "      <th>42</th>\n",
       "      <td>Scrypt</td>\n",
       "      <td>PoW/PoS</td>\n",
       "      <td>4.199995e+01</td>\n",
       "      <td>42</td>\n",
       "    </tr>\n",
       "    <tr>\n",
       "      <th>404</th>\n",
       "      <td>Scrypt</td>\n",
       "      <td>PoW/PoS</td>\n",
       "      <td>1.055185e+09</td>\n",
       "      <td>532000000</td>\n",
       "    </tr>\n",
       "    <tr>\n",
       "      <th>1337</th>\n",
       "      <td>X13</td>\n",
       "      <td>PoW/PoS</td>\n",
       "      <td>2.927942e+10</td>\n",
       "      <td>314159265359</td>\n",
       "    </tr>\n",
       "    <tr>\n",
       "      <th>BTC</th>\n",
       "      <td>SHA-256</td>\n",
       "      <td>PoW</td>\n",
       "      <td>1.792718e+07</td>\n",
       "      <td>21000000</td>\n",
       "    </tr>\n",
       "    <tr>\n",
       "      <th>ETH</th>\n",
       "      <td>Ethash</td>\n",
       "      <td>PoW</td>\n",
       "      <td>1.076842e+08</td>\n",
       "      <td>0</td>\n",
       "    </tr>\n",
       "    <tr>\n",
       "      <th>LTC</th>\n",
       "      <td>Scrypt</td>\n",
       "      <td>PoW</td>\n",
       "      <td>6.303924e+07</td>\n",
       "      <td>84000000</td>\n",
       "    </tr>\n",
       "    <tr>\n",
       "      <th>DASH</th>\n",
       "      <td>X11</td>\n",
       "      <td>PoW/PoS</td>\n",
       "      <td>9.031294e+06</td>\n",
       "      <td>22000000</td>\n",
       "    </tr>\n",
       "    <tr>\n",
       "      <th>XMR</th>\n",
       "      <td>CryptoNight-V7</td>\n",
       "      <td>PoW</td>\n",
       "      <td>1.720114e+07</td>\n",
       "      <td>0</td>\n",
       "    </tr>\n",
       "    <tr>\n",
       "      <th>ETC</th>\n",
       "      <td>Ethash</td>\n",
       "      <td>PoW</td>\n",
       "      <td>1.133597e+08</td>\n",
       "      <td>210000000</td>\n",
       "    </tr>\n",
       "    <tr>\n",
       "      <th>ZEC</th>\n",
       "      <td>Equihash</td>\n",
       "      <td>PoW</td>\n",
       "      <td>7.383056e+06</td>\n",
       "      <td>21000000</td>\n",
       "    </tr>\n",
       "  </tbody>\n",
       "</table>\n",
       "</div>"
      ],
      "text/plain": [
       "           Algorithm ProofType  TotalCoinsMined TotalCoinSupply\n",
       "42            Scrypt   PoW/PoS     4.199995e+01              42\n",
       "404           Scrypt   PoW/PoS     1.055185e+09       532000000\n",
       "1337             X13   PoW/PoS     2.927942e+10    314159265359\n",
       "BTC          SHA-256       PoW     1.792718e+07        21000000\n",
       "ETH           Ethash       PoW     1.076842e+08               0\n",
       "LTC           Scrypt       PoW     6.303924e+07        84000000\n",
       "DASH             X11   PoW/PoS     9.031294e+06        22000000\n",
       "XMR   CryptoNight-V7       PoW     1.720114e+07               0\n",
       "ETC           Ethash       PoW     1.133597e+08       210000000\n",
       "ZEC         Equihash       PoW     7.383056e+06        21000000"
      ]
     },
     "execution_count": 49,
     "metadata": {},
     "output_type": "execute_result"
    }
   ],
   "source": [
    "# Drop the 'CoinName' column since it's not going to be used on the clustering algorithm.\n",
    "# Drop 'CoinName'\n",
    "# crypto_df.drop(columns=['CoinName'], inplace=True)\n",
    "crypto_df.head(10)"
   ]
  },
  {
   "cell_type": "code",
   "execution_count": 57,
   "metadata": {},
   "outputs": [
    {
     "data": {
      "text/html": [
       "<div>\n",
       "<style scoped>\n",
       "    .dataframe tbody tr th:only-of-type {\n",
       "        vertical-align: middle;\n",
       "    }\n",
       "\n",
       "    .dataframe tbody tr th {\n",
       "        vertical-align: top;\n",
       "    }\n",
       "\n",
       "    .dataframe thead th {\n",
       "        text-align: right;\n",
       "    }\n",
       "</style>\n",
       "<table border=\"1\" class=\"dataframe\">\n",
       "  <thead>\n",
       "    <tr style=\"text-align: right;\">\n",
       "      <th></th>\n",
       "      <th>TotalCoinsMined</th>\n",
       "      <th>TotalCoinSupply</th>\n",
       "      <th>Algorithm_1GB AES Pattern Search</th>\n",
       "      <th>Algorithm_536</th>\n",
       "      <th>Algorithm_Argon2d</th>\n",
       "      <th>Algorithm_BLAKE256</th>\n",
       "      <th>Algorithm_Blake</th>\n",
       "      <th>Algorithm_Blake2S</th>\n",
       "      <th>Algorithm_Blake2b</th>\n",
       "      <th>Algorithm_C11</th>\n",
       "      <th>...</th>\n",
       "      <th>ProofType_PoW/PoS</th>\n",
       "      <th>ProofType_PoW/PoS</th>\n",
       "      <th>ProofType_PoW/PoW</th>\n",
       "      <th>ProofType_PoW/nPoS</th>\n",
       "      <th>ProofType_Pos</th>\n",
       "      <th>ProofType_Proof of Authority</th>\n",
       "      <th>ProofType_Proof of Trust</th>\n",
       "      <th>ProofType_TPoS</th>\n",
       "      <th>ProofType_Zero-Knowledge Proof</th>\n",
       "      <th>ProofType_dPoW/PoW</th>\n",
       "    </tr>\n",
       "  </thead>\n",
       "  <tbody>\n",
       "    <tr>\n",
       "      <th>42</th>\n",
       "      <td>4.199995e+01</td>\n",
       "      <td>42</td>\n",
       "      <td>0</td>\n",
       "      <td>0</td>\n",
       "      <td>0</td>\n",
       "      <td>0</td>\n",
       "      <td>0</td>\n",
       "      <td>0</td>\n",
       "      <td>0</td>\n",
       "      <td>0</td>\n",
       "      <td>...</td>\n",
       "      <td>1</td>\n",
       "      <td>0</td>\n",
       "      <td>0</td>\n",
       "      <td>0</td>\n",
       "      <td>0</td>\n",
       "      <td>0</td>\n",
       "      <td>0</td>\n",
       "      <td>0</td>\n",
       "      <td>0</td>\n",
       "      <td>0</td>\n",
       "    </tr>\n",
       "    <tr>\n",
       "      <th>404</th>\n",
       "      <td>1.055185e+09</td>\n",
       "      <td>532000000</td>\n",
       "      <td>0</td>\n",
       "      <td>0</td>\n",
       "      <td>0</td>\n",
       "      <td>0</td>\n",
       "      <td>0</td>\n",
       "      <td>0</td>\n",
       "      <td>0</td>\n",
       "      <td>0</td>\n",
       "      <td>...</td>\n",
       "      <td>1</td>\n",
       "      <td>0</td>\n",
       "      <td>0</td>\n",
       "      <td>0</td>\n",
       "      <td>0</td>\n",
       "      <td>0</td>\n",
       "      <td>0</td>\n",
       "      <td>0</td>\n",
       "      <td>0</td>\n",
       "      <td>0</td>\n",
       "    </tr>\n",
       "    <tr>\n",
       "      <th>1337</th>\n",
       "      <td>2.927942e+10</td>\n",
       "      <td>314159265359</td>\n",
       "      <td>0</td>\n",
       "      <td>0</td>\n",
       "      <td>0</td>\n",
       "      <td>0</td>\n",
       "      <td>0</td>\n",
       "      <td>0</td>\n",
       "      <td>0</td>\n",
       "      <td>0</td>\n",
       "      <td>...</td>\n",
       "      <td>1</td>\n",
       "      <td>0</td>\n",
       "      <td>0</td>\n",
       "      <td>0</td>\n",
       "      <td>0</td>\n",
       "      <td>0</td>\n",
       "      <td>0</td>\n",
       "      <td>0</td>\n",
       "      <td>0</td>\n",
       "      <td>0</td>\n",
       "    </tr>\n",
       "    <tr>\n",
       "      <th>BTC</th>\n",
       "      <td>1.792718e+07</td>\n",
       "      <td>21000000</td>\n",
       "      <td>0</td>\n",
       "      <td>0</td>\n",
       "      <td>0</td>\n",
       "      <td>0</td>\n",
       "      <td>0</td>\n",
       "      <td>0</td>\n",
       "      <td>0</td>\n",
       "      <td>0</td>\n",
       "      <td>...</td>\n",
       "      <td>0</td>\n",
       "      <td>0</td>\n",
       "      <td>0</td>\n",
       "      <td>0</td>\n",
       "      <td>0</td>\n",
       "      <td>0</td>\n",
       "      <td>0</td>\n",
       "      <td>0</td>\n",
       "      <td>0</td>\n",
       "      <td>0</td>\n",
       "    </tr>\n",
       "    <tr>\n",
       "      <th>ETH</th>\n",
       "      <td>1.076842e+08</td>\n",
       "      <td>0</td>\n",
       "      <td>0</td>\n",
       "      <td>0</td>\n",
       "      <td>0</td>\n",
       "      <td>0</td>\n",
       "      <td>0</td>\n",
       "      <td>0</td>\n",
       "      <td>0</td>\n",
       "      <td>0</td>\n",
       "      <td>...</td>\n",
       "      <td>0</td>\n",
       "      <td>0</td>\n",
       "      <td>0</td>\n",
       "      <td>0</td>\n",
       "      <td>0</td>\n",
       "      <td>0</td>\n",
       "      <td>0</td>\n",
       "      <td>0</td>\n",
       "      <td>0</td>\n",
       "      <td>0</td>\n",
       "    </tr>\n",
       "    <tr>\n",
       "      <th>LTC</th>\n",
       "      <td>6.303924e+07</td>\n",
       "      <td>84000000</td>\n",
       "      <td>0</td>\n",
       "      <td>0</td>\n",
       "      <td>0</td>\n",
       "      <td>0</td>\n",
       "      <td>0</td>\n",
       "      <td>0</td>\n",
       "      <td>0</td>\n",
       "      <td>0</td>\n",
       "      <td>...</td>\n",
       "      <td>0</td>\n",
       "      <td>0</td>\n",
       "      <td>0</td>\n",
       "      <td>0</td>\n",
       "      <td>0</td>\n",
       "      <td>0</td>\n",
       "      <td>0</td>\n",
       "      <td>0</td>\n",
       "      <td>0</td>\n",
       "      <td>0</td>\n",
       "    </tr>\n",
       "    <tr>\n",
       "      <th>DASH</th>\n",
       "      <td>9.031294e+06</td>\n",
       "      <td>22000000</td>\n",
       "      <td>0</td>\n",
       "      <td>0</td>\n",
       "      <td>0</td>\n",
       "      <td>0</td>\n",
       "      <td>0</td>\n",
       "      <td>0</td>\n",
       "      <td>0</td>\n",
       "      <td>0</td>\n",
       "      <td>...</td>\n",
       "      <td>1</td>\n",
       "      <td>0</td>\n",
       "      <td>0</td>\n",
       "      <td>0</td>\n",
       "      <td>0</td>\n",
       "      <td>0</td>\n",
       "      <td>0</td>\n",
       "      <td>0</td>\n",
       "      <td>0</td>\n",
       "      <td>0</td>\n",
       "    </tr>\n",
       "    <tr>\n",
       "      <th>XMR</th>\n",
       "      <td>1.720114e+07</td>\n",
       "      <td>0</td>\n",
       "      <td>0</td>\n",
       "      <td>0</td>\n",
       "      <td>0</td>\n",
       "      <td>0</td>\n",
       "      <td>0</td>\n",
       "      <td>0</td>\n",
       "      <td>0</td>\n",
       "      <td>0</td>\n",
       "      <td>...</td>\n",
       "      <td>0</td>\n",
       "      <td>0</td>\n",
       "      <td>0</td>\n",
       "      <td>0</td>\n",
       "      <td>0</td>\n",
       "      <td>0</td>\n",
       "      <td>0</td>\n",
       "      <td>0</td>\n",
       "      <td>0</td>\n",
       "      <td>0</td>\n",
       "    </tr>\n",
       "    <tr>\n",
       "      <th>ETC</th>\n",
       "      <td>1.133597e+08</td>\n",
       "      <td>210000000</td>\n",
       "      <td>0</td>\n",
       "      <td>0</td>\n",
       "      <td>0</td>\n",
       "      <td>0</td>\n",
       "      <td>0</td>\n",
       "      <td>0</td>\n",
       "      <td>0</td>\n",
       "      <td>0</td>\n",
       "      <td>...</td>\n",
       "      <td>0</td>\n",
       "      <td>0</td>\n",
       "      <td>0</td>\n",
       "      <td>0</td>\n",
       "      <td>0</td>\n",
       "      <td>0</td>\n",
       "      <td>0</td>\n",
       "      <td>0</td>\n",
       "      <td>0</td>\n",
       "      <td>0</td>\n",
       "    </tr>\n",
       "    <tr>\n",
       "      <th>ZEC</th>\n",
       "      <td>7.383056e+06</td>\n",
       "      <td>21000000</td>\n",
       "      <td>0</td>\n",
       "      <td>0</td>\n",
       "      <td>0</td>\n",
       "      <td>0</td>\n",
       "      <td>0</td>\n",
       "      <td>0</td>\n",
       "      <td>0</td>\n",
       "      <td>0</td>\n",
       "      <td>...</td>\n",
       "      <td>0</td>\n",
       "      <td>0</td>\n",
       "      <td>0</td>\n",
       "      <td>0</td>\n",
       "      <td>0</td>\n",
       "      <td>0</td>\n",
       "      <td>0</td>\n",
       "      <td>0</td>\n",
       "      <td>0</td>\n",
       "      <td>0</td>\n",
       "    </tr>\n",
       "  </tbody>\n",
       "</table>\n",
       "<p>10 rows × 98 columns</p>\n",
       "</div>"
      ],
      "text/plain": [
       "      TotalCoinsMined TotalCoinSupply  Algorithm_1GB AES Pattern Search  \\\n",
       "42       4.199995e+01              42                                 0   \n",
       "404      1.055185e+09       532000000                                 0   \n",
       "1337     2.927942e+10    314159265359                                 0   \n",
       "BTC      1.792718e+07        21000000                                 0   \n",
       "ETH      1.076842e+08               0                                 0   \n",
       "LTC      6.303924e+07        84000000                                 0   \n",
       "DASH     9.031294e+06        22000000                                 0   \n",
       "XMR      1.720114e+07               0                                 0   \n",
       "ETC      1.133597e+08       210000000                                 0   \n",
       "ZEC      7.383056e+06        21000000                                 0   \n",
       "\n",
       "      Algorithm_536  Algorithm_Argon2d  Algorithm_BLAKE256  Algorithm_Blake  \\\n",
       "42                0                  0                   0                0   \n",
       "404               0                  0                   0                0   \n",
       "1337              0                  0                   0                0   \n",
       "BTC               0                  0                   0                0   \n",
       "ETH               0                  0                   0                0   \n",
       "LTC               0                  0                   0                0   \n",
       "DASH              0                  0                   0                0   \n",
       "XMR               0                  0                   0                0   \n",
       "ETC               0                  0                   0                0   \n",
       "ZEC               0                  0                   0                0   \n",
       "\n",
       "      Algorithm_Blake2S  Algorithm_Blake2b  Algorithm_C11  ...  \\\n",
       "42                    0                  0              0  ...   \n",
       "404                   0                  0              0  ...   \n",
       "1337                  0                  0              0  ...   \n",
       "BTC                   0                  0              0  ...   \n",
       "ETH                   0                  0              0  ...   \n",
       "LTC                   0                  0              0  ...   \n",
       "DASH                  0                  0              0  ...   \n",
       "XMR                   0                  0              0  ...   \n",
       "ETC                   0                  0              0  ...   \n",
       "ZEC                   0                  0              0  ...   \n",
       "\n",
       "      ProofType_PoW/PoS  ProofType_PoW/PoS   ProofType_PoW/PoW  \\\n",
       "42                    1                   0                  0   \n",
       "404                   1                   0                  0   \n",
       "1337                  1                   0                  0   \n",
       "BTC                   0                   0                  0   \n",
       "ETH                   0                   0                  0   \n",
       "LTC                   0                   0                  0   \n",
       "DASH                  1                   0                  0   \n",
       "XMR                   0                   0                  0   \n",
       "ETC                   0                   0                  0   \n",
       "ZEC                   0                   0                  0   \n",
       "\n",
       "      ProofType_PoW/nPoS  ProofType_Pos  ProofType_Proof of Authority  \\\n",
       "42                     0              0                             0   \n",
       "404                    0              0                             0   \n",
       "1337                   0              0                             0   \n",
       "BTC                    0              0                             0   \n",
       "ETH                    0              0                             0   \n",
       "LTC                    0              0                             0   \n",
       "DASH                   0              0                             0   \n",
       "XMR                    0              0                             0   \n",
       "ETC                    0              0                             0   \n",
       "ZEC                    0              0                             0   \n",
       "\n",
       "      ProofType_Proof of Trust  ProofType_TPoS  \\\n",
       "42                           0               0   \n",
       "404                          0               0   \n",
       "1337                         0               0   \n",
       "BTC                          0               0   \n",
       "ETH                          0               0   \n",
       "LTC                          0               0   \n",
       "DASH                         0               0   \n",
       "XMR                          0               0   \n",
       "ETC                          0               0   \n",
       "ZEC                          0               0   \n",
       "\n",
       "      ProofType_Zero-Knowledge Proof  ProofType_dPoW/PoW  \n",
       "42                                 0                   0  \n",
       "404                                0                   0  \n",
       "1337                               0                   0  \n",
       "BTC                                0                   0  \n",
       "ETH                                0                   0  \n",
       "LTC                                0                   0  \n",
       "DASH                               0                   0  \n",
       "XMR                                0                   0  \n",
       "ETC                                0                   0  \n",
       "ZEC                                0                   0  \n",
       "\n",
       "[10 rows x 98 columns]"
      ]
     },
     "execution_count": 57,
     "metadata": {},
     "output_type": "execute_result"
    }
   ],
   "source": [
    "# Use get_dummies() to create variables for text features.\n",
    "X = pd.get_dummies(crypto_df, columns=['Algorithm', 'ProofType'])\n",
    "X.head(10)"
   ]
  },
  {
   "cell_type": "code",
   "execution_count": 58,
   "metadata": {},
   "outputs": [
    {
     "name": "stdout",
     "output_type": "stream",
     "text": [
      "[[-0.11710817 -0.1528703  -0.0433963  -0.0433963  -0.0433963  -0.06142951\n",
      "  -0.07530656 -0.0433963  -0.06142951 -0.06142951 -0.0433963  -0.0433963\n",
      "  -0.19245009 -0.06142951 -0.09740465 -0.0433963  -0.11547005 -0.07530656\n",
      "  -0.0433963  -0.0433963  -0.15191091 -0.0433963  -0.13118084 -0.0433963\n",
      "  -0.0433963  -0.08703883 -0.0433963  -0.0433963  -0.0433963  -0.0433963\n",
      "  -0.06142951 -0.0433963  -0.08703883 -0.08703883 -0.08703883 -0.0433963\n",
      "  -0.13118084 -0.13840913 -0.13840913 -0.0433963  -0.06142951 -0.0433963\n",
      "  -0.07530656 -0.18168574 -0.0433963  -0.0433963  -0.0433963  -0.07530656\n",
      "  -0.15826614 -0.31491833 -0.0433963  -0.08703883 -0.07530656 -0.06142951\n",
      "   1.38675049 -0.0433963  -0.0433963  -0.06142951 -0.0433963  -0.0433963\n",
      "  -0.0433963  -0.0433963  -0.0433963  -0.0433963  -0.0433963  -0.0433963\n",
      "  -0.39879994 -0.0433963  -0.18168574 -0.0433963  -0.08703883 -0.08703883\n",
      "  -0.10680283 -0.0433963  -0.13118084 -0.0433963  -0.0433963  -0.0433963\n",
      "  -0.0433963  -0.07530656 -0.43911856 -0.0433963  -0.06142951 -0.0433963\n",
      "  -0.0433963  -0.89632016 -0.0433963  -0.0433963   1.42222617 -0.0433963\n",
      "  -0.0433963  -0.0433963  -0.0433963  -0.0433963  -0.0433963  -0.0433963\n",
      "  -0.0433963  -0.0433963 ]\n",
      " [-0.09396955 -0.145009   -0.0433963  -0.0433963  -0.0433963  -0.06142951\n",
      "  -0.07530656 -0.0433963  -0.06142951 -0.06142951 -0.0433963  -0.0433963\n",
      "  -0.19245009 -0.06142951 -0.09740465 -0.0433963  -0.11547005 -0.07530656\n",
      "  -0.0433963  -0.0433963  -0.15191091 -0.0433963  -0.13118084 -0.0433963\n",
      "  -0.0433963  -0.08703883 -0.0433963  -0.0433963  -0.0433963  -0.0433963\n",
      "  -0.06142951 -0.0433963  -0.08703883 -0.08703883 -0.08703883 -0.0433963\n",
      "  -0.13118084 -0.13840913 -0.13840913 -0.0433963  -0.06142951 -0.0433963\n",
      "  -0.07530656 -0.18168574 -0.0433963  -0.0433963  -0.0433963  -0.07530656\n",
      "  -0.15826614 -0.31491833 -0.0433963  -0.08703883 -0.07530656 -0.06142951\n",
      "   1.38675049 -0.0433963  -0.0433963  -0.06142951 -0.0433963  -0.0433963\n",
      "  -0.0433963  -0.0433963  -0.0433963  -0.0433963  -0.0433963  -0.0433963\n",
      "  -0.39879994 -0.0433963  -0.18168574 -0.0433963  -0.08703883 -0.08703883\n",
      "  -0.10680283 -0.0433963  -0.13118084 -0.0433963  -0.0433963  -0.0433963\n",
      "  -0.0433963  -0.07530656 -0.43911856 -0.0433963  -0.06142951 -0.0433963\n",
      "  -0.0433963  -0.89632016 -0.0433963  -0.0433963   1.42222617 -0.0433963\n",
      "  -0.0433963  -0.0433963  -0.0433963  -0.0433963  -0.0433963  -0.0433963\n",
      "  -0.0433963  -0.0433963 ]\n",
      " [ 0.52494561  4.48942416 -0.0433963  -0.0433963  -0.0433963  -0.06142951\n",
      "  -0.07530656 -0.0433963  -0.06142951 -0.06142951 -0.0433963  -0.0433963\n",
      "  -0.19245009 -0.06142951 -0.09740465 -0.0433963  -0.11547005 -0.07530656\n",
      "  -0.0433963  -0.0433963  -0.15191091 -0.0433963  -0.13118084 -0.0433963\n",
      "  -0.0433963  -0.08703883 -0.0433963  -0.0433963  -0.0433963  -0.0433963\n",
      "  -0.06142951 -0.0433963  -0.08703883 -0.08703883 -0.08703883 -0.0433963\n",
      "  -0.13118084 -0.13840913 -0.13840913 -0.0433963  -0.06142951 -0.0433963\n",
      "  -0.07530656 -0.18168574 -0.0433963  -0.0433963  -0.0433963  -0.07530656\n",
      "  -0.15826614 -0.31491833 -0.0433963  -0.08703883 -0.07530656 -0.06142951\n",
      "  -0.72111026 -0.0433963  -0.0433963  -0.06142951 -0.0433963  -0.0433963\n",
      "  -0.0433963  -0.0433963  -0.0433963  -0.0433963  -0.0433963  -0.0433963\n",
      "  -0.39879994 -0.0433963   5.50400923 -0.0433963  -0.08703883 -0.08703883\n",
      "  -0.10680283 -0.0433963  -0.13118084 -0.0433963  -0.0433963  -0.0433963\n",
      "  -0.0433963  -0.07530656 -0.43911856 -0.0433963  -0.06142951 -0.0433963\n",
      "  -0.0433963  -0.89632016 -0.0433963  -0.0433963   1.42222617 -0.0433963\n",
      "  -0.0433963  -0.0433963  -0.0433963  -0.0433963  -0.0433963  -0.0433963\n",
      "  -0.0433963  -0.0433963 ]\n",
      " [-0.11671506 -0.15255998 -0.0433963  -0.0433963  -0.0433963  -0.06142951\n",
      "  -0.07530656 -0.0433963  -0.06142951 -0.06142951 -0.0433963  -0.0433963\n",
      "  -0.19245009 -0.06142951 -0.09740465 -0.0433963  -0.11547005 -0.07530656\n",
      "  -0.0433963  -0.0433963  -0.15191091 -0.0433963  -0.13118084 -0.0433963\n",
      "  -0.0433963  -0.08703883 -0.0433963  -0.0433963  -0.0433963  -0.0433963\n",
      "  -0.06142951 -0.0433963  -0.08703883 -0.08703883 -0.08703883 -0.0433963\n",
      "  -0.13118084 -0.13840913 -0.13840913 -0.0433963  -0.06142951 -0.0433963\n",
      "  -0.07530656 -0.18168574 -0.0433963  -0.0433963  -0.0433963  -0.07530656\n",
      "  -0.15826614  3.17542648 -0.0433963  -0.08703883 -0.07530656 -0.06142951\n",
      "  -0.72111026 -0.0433963  -0.0433963  -0.06142951 -0.0433963  -0.0433963\n",
      "  -0.0433963  -0.0433963  -0.0433963  -0.0433963  -0.0433963  -0.0433963\n",
      "  -0.39879994 -0.0433963  -0.18168574 -0.0433963  -0.08703883 -0.08703883\n",
      "  -0.10680283 -0.0433963  -0.13118084 -0.0433963  -0.0433963  -0.0433963\n",
      "  -0.0433963  -0.07530656 -0.43911856 -0.0433963  -0.06142951 -0.0433963\n",
      "  -0.0433963   1.11567277 -0.0433963  -0.0433963  -0.70312305 -0.0433963\n",
      "  -0.0433963  -0.0433963  -0.0433963  -0.0433963  -0.0433963  -0.0433963\n",
      "  -0.0433963  -0.0433963 ]\n",
      " [-0.11474682 -0.1528703  -0.0433963  -0.0433963  -0.0433963  -0.06142951\n",
      "  -0.07530656 -0.0433963  -0.06142951 -0.06142951 -0.0433963  -0.0433963\n",
      "  -0.19245009 -0.06142951 -0.09740465 -0.0433963  -0.11547005 -0.07530656\n",
      "  -0.0433963  -0.0433963  -0.15191091 -0.0433963   7.62306442 -0.0433963\n",
      "  -0.0433963  -0.08703883 -0.0433963  -0.0433963  -0.0433963  -0.0433963\n",
      "  -0.06142951 -0.0433963  -0.08703883 -0.08703883 -0.08703883 -0.0433963\n",
      "  -0.13118084 -0.13840913 -0.13840913 -0.0433963  -0.06142951 -0.0433963\n",
      "  -0.07530656 -0.18168574 -0.0433963  -0.0433963  -0.0433963  -0.07530656\n",
      "  -0.15826614 -0.31491833 -0.0433963  -0.08703883 -0.07530656 -0.06142951\n",
      "  -0.72111026 -0.0433963  -0.0433963  -0.06142951 -0.0433963  -0.0433963\n",
      "  -0.0433963  -0.0433963  -0.0433963  -0.0433963  -0.0433963  -0.0433963\n",
      "  -0.39879994 -0.0433963  -0.18168574 -0.0433963  -0.08703883 -0.08703883\n",
      "  -0.10680283 -0.0433963  -0.13118084 -0.0433963  -0.0433963  -0.0433963\n",
      "  -0.0433963  -0.07530656 -0.43911856 -0.0433963  -0.06142951 -0.0433963\n",
      "  -0.0433963   1.11567277 -0.0433963  -0.0433963  -0.70312305 -0.0433963\n",
      "  -0.0433963  -0.0433963  -0.0433963  -0.0433963  -0.0433963  -0.0433963\n",
      "  -0.0433963  -0.0433963 ]]\n"
     ]
    }
   ],
   "source": [
    "# Standardize the data with StandardScaler().\n",
    "X = StandardScaler().fit_transform(X)\n",
    "print(X[0:5])"
   ]
  },
  {
   "cell_type": "markdown",
   "metadata": {},
   "source": [
    "### Deliverable 2: Reducing Data Dimensions Using PCA"
   ]
  },
  {
   "cell_type": "code",
   "execution_count": 59,
   "metadata": {},
   "outputs": [
    {
     "data": {
      "text/plain": [
       "array([[-0.34253273,  1.11772266, -0.51153258],\n",
       "       [-0.32587473,  1.11780775, -0.51181234],\n",
       "       [ 2.30475602,  1.66161432, -0.63681086],\n",
       "       ...,\n",
       "       [ 0.32224041, -2.33685149,  0.37029391],\n",
       "       [-0.11873229, -2.21567855,  0.31643787],\n",
       "       [-0.29326974,  0.81881943, -0.24178155]])"
      ]
     },
     "execution_count": 59,
     "metadata": {},
     "output_type": "execute_result"
    }
   ],
   "source": [
    "# Using PCA to reduce dimension to three principal components.\n",
    "\n",
    "# Initialize PCA model\n",
    "pca = PCA(n_components=3)\n",
    "\n",
    "# Get three principal components for the scaled data.\n",
    "X_pca = pca.fit_transform(X)\n",
    "X_pca"
   ]
  },
  {
   "cell_type": "code",
   "execution_count": 71,
   "metadata": {},
   "outputs": [
    {
     "data": {
      "text/html": [
       "<div>\n",
       "<style scoped>\n",
       "    .dataframe tbody tr th:only-of-type {\n",
       "        vertical-align: middle;\n",
       "    }\n",
       "\n",
       "    .dataframe tbody tr th {\n",
       "        vertical-align: top;\n",
       "    }\n",
       "\n",
       "    .dataframe thead th {\n",
       "        text-align: right;\n",
       "    }\n",
       "</style>\n",
       "<table border=\"1\" class=\"dataframe\">\n",
       "  <thead>\n",
       "    <tr style=\"text-align: right;\">\n",
       "      <th></th>\n",
       "      <th>PC 1</th>\n",
       "      <th>PC 2</th>\n",
       "      <th>PC 3</th>\n",
       "    </tr>\n",
       "  </thead>\n",
       "  <tbody>\n",
       "    <tr>\n",
       "      <th>42</th>\n",
       "      <td>-0.342533</td>\n",
       "      <td>1.117723</td>\n",
       "      <td>-0.511533</td>\n",
       "    </tr>\n",
       "    <tr>\n",
       "      <th>404</th>\n",
       "      <td>-0.325875</td>\n",
       "      <td>1.117808</td>\n",
       "      <td>-0.511812</td>\n",
       "    </tr>\n",
       "    <tr>\n",
       "      <th>1337</th>\n",
       "      <td>2.304756</td>\n",
       "      <td>1.661614</td>\n",
       "      <td>-0.636811</td>\n",
       "    </tr>\n",
       "    <tr>\n",
       "      <th>BTC</th>\n",
       "      <td>-0.147471</td>\n",
       "      <td>-1.341510</td>\n",
       "      <td>0.178707</td>\n",
       "    </tr>\n",
       "    <tr>\n",
       "      <th>ETH</th>\n",
       "      <td>-0.157778</td>\n",
       "      <td>-1.980054</td>\n",
       "      <td>0.341221</td>\n",
       "    </tr>\n",
       "    <tr>\n",
       "      <th>LTC</th>\n",
       "      <td>-0.173023</td>\n",
       "      <td>-1.067184</td>\n",
       "      <td>0.003187</td>\n",
       "    </tr>\n",
       "    <tr>\n",
       "      <th>DASH</th>\n",
       "      <td>-0.391039</td>\n",
       "      <td>1.251390</td>\n",
       "      <td>-0.490289</td>\n",
       "    </tr>\n",
       "    <tr>\n",
       "      <th>XMR</th>\n",
       "      <td>-0.145323</td>\n",
       "      <td>-2.220821</td>\n",
       "      <td>0.418227</td>\n",
       "    </tr>\n",
       "    <tr>\n",
       "      <th>ETC</th>\n",
       "      <td>-0.156222</td>\n",
       "      <td>-1.980162</td>\n",
       "      <td>0.341208</td>\n",
       "    </tr>\n",
       "    <tr>\n",
       "      <th>ZEC</th>\n",
       "      <td>-0.118731</td>\n",
       "      <td>-2.215679</td>\n",
       "      <td>0.316438</td>\n",
       "    </tr>\n",
       "  </tbody>\n",
       "</table>\n",
       "</div>"
      ],
      "text/plain": [
       "          PC 1      PC 2      PC 3\n",
       "42   -0.342533  1.117723 -0.511533\n",
       "404  -0.325875  1.117808 -0.511812\n",
       "1337  2.304756  1.661614 -0.636811\n",
       "BTC  -0.147471 -1.341510  0.178707\n",
       "ETH  -0.157778 -1.980054  0.341221\n",
       "LTC  -0.173023 -1.067184  0.003187\n",
       "DASH -0.391039  1.251390 -0.490289\n",
       "XMR  -0.145323 -2.220821  0.418227\n",
       "ETC  -0.156222 -1.980162  0.341208\n",
       "ZEC  -0.118731 -2.215679  0.316438"
      ]
     },
     "execution_count": 71,
     "metadata": {},
     "output_type": "execute_result"
    }
   ],
   "source": [
    "# Create a DataFrame with the three principal components.\n",
    "pcs_df = pd.DataFrame(\n",
    "    data=X_pca, columns=['PC 1', 'PC 2', 'PC 3'], index=crypto_names.index\n",
    ")\n",
    "#pcs_df = pcs_df.reindex_like(crypto_df)\n",
    "pcs_df.head(10)"
   ]
  },
  {
   "cell_type": "markdown",
   "metadata": {},
   "source": [
    "### Deliverable 3: Clustering Crytocurrencies Using K-Means\n",
    "\n",
    "#### Finding the Best Value for `k` Using the Elbow Curve"
   ]
  },
  {
   "cell_type": "code",
   "execution_count": 72,
   "metadata": {},
   "outputs": [
    {
     "data": {},
     "metadata": {},
     "output_type": "display_data"
    },
    {
     "data": {
      "application/vnd.holoviews_exec.v0+json": "",
      "text/html": [
       "<div id='1002'>\n",
       "\n",
       "\n",
       "\n",
       "\n",
       "\n",
       "  <div class=\"bk-root\" id=\"6cf1eaee-112a-419e-b403-f83ba135066a\" data-root-id=\"1002\"></div>\n",
       "</div>\n",
       "<script type=\"application/javascript\">(function(root) {\n",
       "  function embed_document(root) {\n",
       "    var docs_json = {\"e146d794-8182-4985-8ca6-3e32ec89512d\":{\"defs\":[{\"extends\":null,\"module\":null,\"name\":\"ReactiveHTML1\",\"overrides\":[],\"properties\":[]},{\"extends\":null,\"module\":null,\"name\":\"FlexBox1\",\"overrides\":[],\"properties\":[{\"default\":\"flex-start\",\"kind\":null,\"name\":\"align_content\"},{\"default\":\"flex-start\",\"kind\":null,\"name\":\"align_items\"},{\"default\":\"row\",\"kind\":null,\"name\":\"flex_direction\"},{\"default\":\"wrap\",\"kind\":null,\"name\":\"flex_wrap\"},{\"default\":\"flex-start\",\"kind\":null,\"name\":\"justify_content\"}]},{\"extends\":null,\"module\":null,\"name\":\"GridStack1\",\"overrides\":[],\"properties\":[{\"default\":\"warn\",\"kind\":null,\"name\":\"mode\"},{\"default\":null,\"kind\":null,\"name\":\"ncols\"},{\"default\":null,\"kind\":null,\"name\":\"nrows\"},{\"default\":true,\"kind\":null,\"name\":\"allow_resize\"},{\"default\":true,\"kind\":null,\"name\":\"allow_drag\"},{\"default\":[],\"kind\":null,\"name\":\"state\"}]},{\"extends\":null,\"module\":null,\"name\":\"click1\",\"overrides\":[],\"properties\":[{\"default\":\"\",\"kind\":null,\"name\":\"terminal_output\"},{\"default\":\"\",\"kind\":null,\"name\":\"debug_name\"},{\"default\":0,\"kind\":null,\"name\":\"clears\"}]},{\"extends\":null,\"module\":null,\"name\":\"TemplateActions1\",\"overrides\":[],\"properties\":[{\"default\":0,\"kind\":null,\"name\":\"open_modal\"},{\"default\":0,\"kind\":null,\"name\":\"close_modal\"}]},{\"extends\":null,\"module\":null,\"name\":\"MaterialTemplateActions1\",\"overrides\":[],\"properties\":[{\"default\":0,\"kind\":null,\"name\":\"open_modal\"},{\"default\":0,\"kind\":null,\"name\":\"close_modal\"}]}],\"roots\":{\"references\":[{\"attributes\":{},\"id\":\"1025\",\"type\":\"PanTool\"},{\"attributes\":{\"line_alpha\":0.1,\"line_color\":\"#30a2da\",\"line_width\":2,\"x\":{\"field\":\"k\"},\"y\":{\"field\":\"inertia\"}},\"id\":\"1041\",\"type\":\"Line\"},{\"attributes\":{\"below\":[{\"id\":\"1016\"}],\"center\":[{\"id\":\"1019\"},{\"id\":\"1023\"}],\"height\":300,\"left\":[{\"id\":\"1020\"}],\"margin\":[5,5,5,5],\"min_border_bottom\":10,\"min_border_left\":10,\"min_border_right\":10,\"min_border_top\":10,\"renderers\":[{\"id\":\"1043\"}],\"sizing_mode\":\"fixed\",\"title\":{\"id\":\"1008\"},\"toolbar\":{\"id\":\"1030\"},\"width\":700,\"x_range\":{\"id\":\"1004\"},\"x_scale\":{\"id\":\"1012\"},\"y_range\":{\"id\":\"1005\"},\"y_scale\":{\"id\":\"1014\"}},\"id\":\"1007\",\"subtype\":\"Figure\",\"type\":\"Plot\"},{\"attributes\":{},\"id\":\"1026\",\"type\":\"WheelZoomTool\"},{\"attributes\":{\"ticks\":[1,2,3,4,5,6,7,8,9,10]},\"id\":\"1046\",\"type\":\"FixedTicker\"},{\"attributes\":{},\"id\":\"1061\",\"type\":\"UnionRenderers\"},{\"attributes\":{\"margin\":[5,5,5,5],\"name\":\"HSpacer01631\",\"sizing_mode\":\"stretch_width\"},\"id\":\"1003\",\"type\":\"Spacer\"},{\"attributes\":{\"overlay\":{\"id\":\"1029\"}},\"id\":\"1027\",\"type\":\"BoxZoomTool\"},{\"attributes\":{},\"id\":\"1048\",\"type\":\"BasicTickFormatter\"},{\"attributes\":{\"bottom_units\":\"screen\",\"coordinates\":null,\"fill_alpha\":0.5,\"fill_color\":\"lightgrey\",\"group\":null,\"left_units\":\"screen\",\"level\":\"overlay\",\"line_alpha\":1.0,\"line_color\":\"black\",\"line_dash\":[4,4],\"line_width\":2,\"right_units\":\"screen\",\"syncable\":false,\"top_units\":\"screen\"},\"id\":\"1029\",\"type\":\"BoxAnnotation\"},{\"attributes\":{},\"id\":\"1012\",\"type\":\"LinearScale\"},{\"attributes\":{\"coordinates\":null,\"group\":null,\"text\":\"Elbow Curve\",\"text_color\":\"black\",\"text_font_size\":\"12pt\"},\"id\":\"1008\",\"type\":\"Title\"},{\"attributes\":{\"children\":[{\"id\":\"1003\"},{\"id\":\"1007\"},{\"id\":\"1073\"}],\"margin\":[0,0,0,0],\"name\":\"Row01627\",\"tags\":[\"embedded\"]},\"id\":\"1002\",\"type\":\"Row\"},{\"attributes\":{},\"id\":\"1028\",\"type\":\"ResetTool\"},{\"attributes\":{},\"id\":\"1038\",\"type\":\"Selection\"},{\"attributes\":{\"margin\":[5,5,5,5],\"name\":\"HSpacer01632\",\"sizing_mode\":\"stretch_width\"},\"id\":\"1073\",\"type\":\"Spacer\"},{\"attributes\":{\"line_color\":\"#30a2da\",\"line_width\":2,\"x\":{\"field\":\"k\"},\"y\":{\"field\":\"inertia\"}},\"id\":\"1040\",\"type\":\"Line\"},{\"attributes\":{\"axis\":{\"id\":\"1020\"},\"coordinates\":null,\"dimension\":1,\"grid_line_color\":null,\"group\":null,\"ticker\":null},\"id\":\"1023\",\"type\":\"Grid\"},{\"attributes\":{},\"id\":\"1014\",\"type\":\"LinearScale\"},{\"attributes\":{\"tools\":[{\"id\":\"1006\"},{\"id\":\"1024\"},{\"id\":\"1025\"},{\"id\":\"1026\"},{\"id\":\"1027\"},{\"id\":\"1028\"}]},\"id\":\"1030\",\"type\":\"Toolbar\"},{\"attributes\":{\"axis_label\":\"k\",\"coordinates\":null,\"formatter\":{\"id\":\"1048\"},\"group\":null,\"major_label_policy\":{\"id\":\"1049\"},\"ticker\":{\"id\":\"1046\"}},\"id\":\"1016\",\"type\":\"LinearAxis\"},{\"attributes\":{},\"id\":\"1053\",\"type\":\"BasicTickFormatter\"},{\"attributes\":{\"callback\":null,\"renderers\":[{\"id\":\"1043\"}],\"tags\":[\"hv_created\"],\"tooltips\":[[\"k\",\"@{k}\"],[\"inertia\",\"@{inertia}\"]]},\"id\":\"1006\",\"type\":\"HoverTool\"},{\"attributes\":{},\"id\":\"1054\",\"type\":\"AllLabels\"},{\"attributes\":{\"axis\":{\"id\":\"1016\"},\"coordinates\":null,\"grid_line_color\":null,\"group\":null,\"ticker\":null},\"id\":\"1019\",\"type\":\"Grid\"},{\"attributes\":{\"source\":{\"id\":\"1037\"}},\"id\":\"1044\",\"type\":\"CDSView\"},{\"attributes\":{},\"id\":\"1021\",\"type\":\"BasicTicker\"},{\"attributes\":{\"axis_label\":\"inertia\",\"coordinates\":null,\"formatter\":{\"id\":\"1053\"},\"group\":null,\"major_label_policy\":{\"id\":\"1054\"},\"ticker\":{\"id\":\"1021\"}},\"id\":\"1020\",\"type\":\"LinearAxis\"},{\"attributes\":{\"line_color\":\"#30a2da\",\"line_width\":2,\"x\":{\"field\":\"k\"},\"y\":{\"field\":\"inertia\"}},\"id\":\"1045\",\"type\":\"Line\"},{\"attributes\":{\"end\":10.0,\"reset_end\":10.0,\"reset_start\":1.0,\"start\":1.0,\"tags\":[[[\"k\",\"k\",null]]]},\"id\":\"1004\",\"type\":\"Range1d\"},{\"attributes\":{},\"id\":\"1049\",\"type\":\"AllLabels\"},{\"attributes\":{\"end\":3994.7381987526796,\"reset_end\":3994.7381987526796,\"reset_start\":-261.71230814401594,\"start\":-261.71230814401594,\"tags\":[[[\"inertia\",\"inertia\",null]]]},\"id\":\"1005\",\"type\":\"Range1d\"},{\"attributes\":{\"coordinates\":null,\"data_source\":{\"id\":\"1037\"},\"glyph\":{\"id\":\"1040\"},\"group\":null,\"hover_glyph\":null,\"muted_glyph\":{\"id\":\"1042\"},\"nonselection_glyph\":{\"id\":\"1041\"},\"selection_glyph\":{\"id\":\"1045\"},\"view\":{\"id\":\"1044\"}},\"id\":\"1043\",\"type\":\"GlyphRenderer\"},{\"attributes\":{\"line_alpha\":0.2,\"line_color\":\"#30a2da\",\"line_width\":2,\"x\":{\"field\":\"k\"},\"y\":{\"field\":\"inertia\"}},\"id\":\"1042\",\"type\":\"Line\"},{\"attributes\":{},\"id\":\"1024\",\"type\":\"SaveTool\"},{\"attributes\":{\"data\":{\"inertia\":{\"__ndarray__\":\"GO4dZxFwrEAI8CyynVWjQDpS3NV3G5dA7MYnQ2cBf0BmUS39BCFzQDNnv3bftW1AuR17CjtvZ0C1IoqlSoNhQKEKKJ4bAV1ADZxXTXs/V0A=\",\"dtype\":\"float64\",\"order\":\"little\",\"shape\":[10]},\"k\":[1,2,3,4,5,6,7,8,9,10]},\"selected\":{\"id\":\"1038\"},\"selection_policy\":{\"id\":\"1061\"}},\"id\":\"1037\",\"type\":\"ColumnDataSource\"}],\"root_ids\":[\"1002\"]},\"title\":\"Bokeh Application\",\"version\":\"2.4.2\"}};\n",
       "    var render_items = [{\"docid\":\"e146d794-8182-4985-8ca6-3e32ec89512d\",\"root_ids\":[\"1002\"],\"roots\":{\"1002\":\"6cf1eaee-112a-419e-b403-f83ba135066a\"}}];\n",
       "    root.Bokeh.embed.embed_items_notebook(docs_json, render_items);\n",
       "  }\n",
       "  if (root.Bokeh !== undefined && root.Bokeh.Panel !== undefined) {\n",
       "    embed_document(root);\n",
       "  } else {\n",
       "    var attempts = 0;\n",
       "    var timer = setInterval(function(root) {\n",
       "      if (root.Bokeh !== undefined && root.Bokeh.Panel !== undefined) {\n",
       "        clearInterval(timer);\n",
       "        embed_document(root);\n",
       "      } else if (document.readyState == \"complete\") {\n",
       "        attempts++;\n",
       "        if (attempts > 200) {\n",
       "          clearInterval(timer);\n",
       "          console.log(\"Bokeh: ERROR: Unable to run BokehJS code because BokehJS library is missing\");\n",
       "        }\n",
       "      }\n",
       "    }, 25, root)\n",
       "  }\n",
       "})(window);</script>"
      ],
      "text/plain": [
       ":Curve   [k]   (inertia)"
      ]
     },
     "execution_count": 72,
     "metadata": {
      "application/vnd.holoviews_exec.v0+json": {
       "id": "1002"
      }
     },
     "output_type": "execute_result"
    }
   ],
   "source": [
    "# Create an elbow curve to find the best value for K.\n",
    "inertia = []\n",
    "k = list(range(1, 11))\n",
    "\n",
    "# Calculate the inertia for the range of K values\n",
    "for i in k:\n",
    "    km = KMeans(n_clusters=i, random_state=0)\n",
    "    km.fit(pcs_df)\n",
    "    inertia.append(km.inertia_)\n",
    "\n",
    "elbow_data = {'k': k, 'inertia': inertia}\n",
    "df_elbow = pd.DataFrame(elbow_data)\n",
    "df_elbow.hvplot.line(x='k', y='inertia', xticks=k, title='Elbow Curve')"
   ]
  },
  {
   "cell_type": "markdown",
   "metadata": {},
   "source": [
    "Running K-Means with `k=4`"
   ]
  },
  {
   "cell_type": "code",
   "execution_count": 74,
   "metadata": {},
   "outputs": [
    {
     "data": {
      "text/plain": [
       "array([0, 0, 0, 3, 3, 3, 0, 3, 3, 3, 0, 3, 0, 0, 3, 0, 3, 3, 0, 0, 3, 3,\n",
       "       3, 3, 3, 0, 3, 3, 3, 0, 3, 0, 3, 3, 0, 0, 3, 3, 3, 3, 3, 3, 0, 0,\n",
       "       3, 3, 3, 3, 3, 0, 0, 3, 0, 3, 3, 3, 3, 0, 3, 3, 0, 3, 0, 0, 0, 3,\n",
       "       3, 3, 0, 0, 0, 0, 0, 3, 3, 3, 0, 0, 3, 0, 3, 0, 0, 3, 3, 3, 3, 0,\n",
       "       0, 3, 0, 3, 3, 0, 0, 3, 0, 0, 3, 3, 0, 0, 3, 0, 0, 3, 0, 3, 0, 3,\n",
       "       0, 3, 0, 0, 3, 3, 0, 3, 3, 3, 0, 3, 3, 3, 3, 3, 0, 0, 3, 3, 3, 0,\n",
       "       3, 0, 3, 3, 0, 3, 0, 3, 0, 0, 3, 3, 0, 3, 3, 0, 0, 3, 0, 3, 0, 0,\n",
       "       0, 3, 3, 3, 3, 0, 0, 0, 0, 0, 3, 3, 0, 0, 0, 0, 0, 3, 0, 0, 0, 0,\n",
       "       0, 3, 0, 3, 0, 0, 3, 0, 3, 0, 0, 3, 0, 3, 0, 3, 0, 3, 0, 0, 0, 0,\n",
       "       3, 0, 0, 0, 0, 0, 3, 3, 0, 0, 3, 3, 0, 0, 0, 0, 0, 3, 0, 0, 0, 0,\n",
       "       0, 0, 0, 0, 3, 0, 0, 0, 0, 0, 0, 3, 3, 3, 0, 0, 0, 0, 3, 0, 3, 0,\n",
       "       0, 3, 0, 3, 3, 0, 3, 3, 0, 3, 0, 0, 0, 3, 0, 0, 3, 0, 0, 0, 0, 0,\n",
       "       0, 0, 3, 0, 3, 0, 0, 0, 0, 3, 0, 3, 0, 3, 3, 3, 3, 0, 3, 0, 0, 3,\n",
       "       0, 3, 3, 3, 0, 3, 0, 3, 3, 3, 0, 3, 0, 3, 0, 0, 0, 3, 0, 3, 3, 3,\n",
       "       3, 3, 0, 0, 3, 0, 0, 0, 3, 0, 3, 0, 3, 0, 3, 0, 0, 0, 0, 3, 0, 0,\n",
       "       3, 0, 0, 0, 3, 3, 3, 3, 0, 0, 0, 0, 3, 0, 3, 3, 3, 0, 0, 3, 3, 0,\n",
       "       0, 3, 0, 3, 3, 3, 0, 3, 3, 0, 0, 0, 3, 3, 3, 0, 0, 0, 3, 3, 0, 3,\n",
       "       3, 3, 3, 0, 1, 1, 3, 3, 3, 0, 0, 0, 0, 0, 0, 3, 3, 3, 3, 0, 0, 0,\n",
       "       3, 0, 3, 0, 0, 0, 0, 3, 0, 0, 3, 0, 0, 3, 3, 0, 3, 0, 3, 3, 3, 3,\n",
       "       0, 0, 3, 0, 3, 0, 0, 0, 0, 0, 0, 3, 3, 3, 0, 0, 0, 0, 0, 0, 3, 0,\n",
       "       3, 3, 3, 3, 0, 0, 0, 0, 3, 0, 0, 3, 0, 0, 3, 1, 3, 0, 3, 3, 0, 0,\n",
       "       3, 0, 3, 3, 3, 3, 3, 0, 3, 0, 3, 0, 0, 3, 0, 0, 0, 0, 0, 3, 3, 3,\n",
       "       0, 0, 0, 3, 0, 3, 0, 3, 0, 0, 0, 0, 3, 0, 0, 0, 3, 0, 3, 0, 3, 0,\n",
       "       0, 0, 3, 3, 0, 0, 0, 0, 0, 0, 3, 0, 3, 0, 3, 0, 0, 1, 0, 2, 0, 0,\n",
       "       0, 3, 3, 0], dtype=int32)"
      ]
     },
     "execution_count": 74,
     "metadata": {},
     "output_type": "execute_result"
    }
   ],
   "source": [
    "# Initialize the K-Means model.\n",
    "model = KMeans(n_clusters=4, random_state=0)\n",
    "\n",
    "# Fit the model\n",
    "model.fit(pcs_df)\n",
    "\n",
    "# Predict clusters\n",
    "predictions = model.predict(pcs_df)\n",
    "predictions"
   ]
  },
  {
   "cell_type": "code",
   "execution_count": 79,
   "metadata": {},
   "outputs": [
    {
     "name": "stdout",
     "output_type": "stream",
     "text": [
      "(532, 9)\n"
     ]
    },
    {
     "data": {
      "text/html": [
       "<div>\n",
       "<style scoped>\n",
       "    .dataframe tbody tr th:only-of-type {\n",
       "        vertical-align: middle;\n",
       "    }\n",
       "\n",
       "    .dataframe tbody tr th {\n",
       "        vertical-align: top;\n",
       "    }\n",
       "\n",
       "    .dataframe thead th {\n",
       "        text-align: right;\n",
       "    }\n",
       "</style>\n",
       "<table border=\"1\" class=\"dataframe\">\n",
       "  <thead>\n",
       "    <tr style=\"text-align: right;\">\n",
       "      <th></th>\n",
       "      <th>Algorithm</th>\n",
       "      <th>ProofType</th>\n",
       "      <th>TotalCoinsMined</th>\n",
       "      <th>TotalCoinSupply</th>\n",
       "      <th>PC 1</th>\n",
       "      <th>PC 2</th>\n",
       "      <th>PC 3</th>\n",
       "      <th>CoinName</th>\n",
       "      <th>Class</th>\n",
       "    </tr>\n",
       "  </thead>\n",
       "  <tbody>\n",
       "    <tr>\n",
       "      <th>42</th>\n",
       "      <td>Scrypt</td>\n",
       "      <td>PoW/PoS</td>\n",
       "      <td>4.199995e+01</td>\n",
       "      <td>42</td>\n",
       "      <td>-0.342533</td>\n",
       "      <td>1.117723</td>\n",
       "      <td>-0.511533</td>\n",
       "      <td>42 Coin</td>\n",
       "      <td>0</td>\n",
       "    </tr>\n",
       "    <tr>\n",
       "      <th>404</th>\n",
       "      <td>Scrypt</td>\n",
       "      <td>PoW/PoS</td>\n",
       "      <td>1.055185e+09</td>\n",
       "      <td>532000000</td>\n",
       "      <td>-0.325875</td>\n",
       "      <td>1.117808</td>\n",
       "      <td>-0.511812</td>\n",
       "      <td>404Coin</td>\n",
       "      <td>0</td>\n",
       "    </tr>\n",
       "    <tr>\n",
       "      <th>1337</th>\n",
       "      <td>X13</td>\n",
       "      <td>PoW/PoS</td>\n",
       "      <td>2.927942e+10</td>\n",
       "      <td>314159265359</td>\n",
       "      <td>2.304756</td>\n",
       "      <td>1.661614</td>\n",
       "      <td>-0.636811</td>\n",
       "      <td>EliteCoin</td>\n",
       "      <td>0</td>\n",
       "    </tr>\n",
       "    <tr>\n",
       "      <th>BTC</th>\n",
       "      <td>SHA-256</td>\n",
       "      <td>PoW</td>\n",
       "      <td>1.792718e+07</td>\n",
       "      <td>21000000</td>\n",
       "      <td>-0.147471</td>\n",
       "      <td>-1.341510</td>\n",
       "      <td>0.178707</td>\n",
       "      <td>Bitcoin</td>\n",
       "      <td>3</td>\n",
       "    </tr>\n",
       "    <tr>\n",
       "      <th>ETH</th>\n",
       "      <td>Ethash</td>\n",
       "      <td>PoW</td>\n",
       "      <td>1.076842e+08</td>\n",
       "      <td>0</td>\n",
       "      <td>-0.157778</td>\n",
       "      <td>-1.980054</td>\n",
       "      <td>0.341221</td>\n",
       "      <td>Ethereum</td>\n",
       "      <td>3</td>\n",
       "    </tr>\n",
       "    <tr>\n",
       "      <th>LTC</th>\n",
       "      <td>Scrypt</td>\n",
       "      <td>PoW</td>\n",
       "      <td>6.303924e+07</td>\n",
       "      <td>84000000</td>\n",
       "      <td>-0.173023</td>\n",
       "      <td>-1.067184</td>\n",
       "      <td>0.003187</td>\n",
       "      <td>Litecoin</td>\n",
       "      <td>3</td>\n",
       "    </tr>\n",
       "    <tr>\n",
       "      <th>DASH</th>\n",
       "      <td>X11</td>\n",
       "      <td>PoW/PoS</td>\n",
       "      <td>9.031294e+06</td>\n",
       "      <td>22000000</td>\n",
       "      <td>-0.391039</td>\n",
       "      <td>1.251390</td>\n",
       "      <td>-0.490289</td>\n",
       "      <td>Dash</td>\n",
       "      <td>0</td>\n",
       "    </tr>\n",
       "    <tr>\n",
       "      <th>XMR</th>\n",
       "      <td>CryptoNight-V7</td>\n",
       "      <td>PoW</td>\n",
       "      <td>1.720114e+07</td>\n",
       "      <td>0</td>\n",
       "      <td>-0.145323</td>\n",
       "      <td>-2.220821</td>\n",
       "      <td>0.418227</td>\n",
       "      <td>Monero</td>\n",
       "      <td>3</td>\n",
       "    </tr>\n",
       "    <tr>\n",
       "      <th>ETC</th>\n",
       "      <td>Ethash</td>\n",
       "      <td>PoW</td>\n",
       "      <td>1.133597e+08</td>\n",
       "      <td>210000000</td>\n",
       "      <td>-0.156222</td>\n",
       "      <td>-1.980162</td>\n",
       "      <td>0.341208</td>\n",
       "      <td>Ethereum Classic</td>\n",
       "      <td>3</td>\n",
       "    </tr>\n",
       "    <tr>\n",
       "      <th>ZEC</th>\n",
       "      <td>Equihash</td>\n",
       "      <td>PoW</td>\n",
       "      <td>7.383056e+06</td>\n",
       "      <td>21000000</td>\n",
       "      <td>-0.118731</td>\n",
       "      <td>-2.215679</td>\n",
       "      <td>0.316438</td>\n",
       "      <td>ZCash</td>\n",
       "      <td>3</td>\n",
       "    </tr>\n",
       "  </tbody>\n",
       "</table>\n",
       "</div>"
      ],
      "text/plain": [
       "           Algorithm ProofType  TotalCoinsMined TotalCoinSupply      PC 1  \\\n",
       "42            Scrypt   PoW/PoS     4.199995e+01              42 -0.342533   \n",
       "404           Scrypt   PoW/PoS     1.055185e+09       532000000 -0.325875   \n",
       "1337             X13   PoW/PoS     2.927942e+10    314159265359  2.304756   \n",
       "BTC          SHA-256       PoW     1.792718e+07        21000000 -0.147471   \n",
       "ETH           Ethash       PoW     1.076842e+08               0 -0.157778   \n",
       "LTC           Scrypt       PoW     6.303924e+07        84000000 -0.173023   \n",
       "DASH             X11   PoW/PoS     9.031294e+06        22000000 -0.391039   \n",
       "XMR   CryptoNight-V7       PoW     1.720114e+07               0 -0.145323   \n",
       "ETC           Ethash       PoW     1.133597e+08       210000000 -0.156222   \n",
       "ZEC         Equihash       PoW     7.383056e+06        21000000 -0.118731   \n",
       "\n",
       "          PC 2      PC 3          CoinName  Class  \n",
       "42    1.117723 -0.511533           42 Coin      0  \n",
       "404   1.117808 -0.511812           404Coin      0  \n",
       "1337  1.661614 -0.636811         EliteCoin      0  \n",
       "BTC  -1.341510  0.178707           Bitcoin      3  \n",
       "ETH  -1.980054  0.341221          Ethereum      3  \n",
       "LTC  -1.067184  0.003187          Litecoin      3  \n",
       "DASH  1.251390 -0.490289              Dash      0  \n",
       "XMR  -2.220821  0.418227            Monero      3  \n",
       "ETC  -1.980162  0.341208  Ethereum Classic      3  \n",
       "ZEC  -2.215679  0.316438             ZCash      3  "
      ]
     },
     "execution_count": 79,
     "metadata": {},
     "output_type": "execute_result"
    }
   ],
   "source": [
    "# Create a new DataFrame including predicted clusters and cryptocurrencies features.\n",
    "# Concatentate the crypto_df and pcs_df DataFrames on the same columns.\n",
    "clustered_df = pd.concat([crypto_df, pcs_df], axis=1, join='inner')\n",
    "#  Add a new column, \"CoinName\" to the clustered_df DataFrame that holds the names of the cryptocurrencies. \n",
    "clustered_df = pd.concat([clustered_df, crypto_names], axis=1, join='inner')\n",
    "#  Add a new column, \"Class\" to the clustered_df DataFrame that holds the predictions.\n",
    "clustered_df['Class'] = model.labels_\n",
    "# Print the shape of the clustered_df\n",
    "print(clustered_df.shape)\n",
    "clustered_df.head(10)"
   ]
  },
  {
   "cell_type": "markdown",
   "metadata": {},
   "source": [
    "### Deliverable 4: Visualizing Cryptocurrencies Results\n",
    "\n",
    "#### 3D-Scatter with Clusters"
   ]
  },
  {
   "cell_type": "code",
   "execution_count": 85,
   "metadata": {},
   "outputs": [
    {
     "data": {
      "application/vnd.plotly.v1+json": {
       "config": {
        "plotlyServerURL": "https://plot.ly"
       },
       "data": [
        {
         "customdata": [
          [
           "Scrypt"
          ],
          [
           "Scrypt"
          ],
          [
           "X13"
          ],
          [
           "X11"
          ],
          [
           "SHA-512"
          ],
          [
           "SHA-256"
          ],
          [
           "SHA-256"
          ],
          [
           "X15"
          ],
          [
           "Scrypt"
          ],
          [
           "Scrypt"
          ],
          [
           "Scrypt"
          ],
          [
           "Scrypt"
          ],
          [
           "Scrypt"
          ],
          [
           "Scrypt"
          ],
          [
           "Groestl"
          ],
          [
           "PoS"
          ],
          [
           "Scrypt"
          ],
          [
           "Scrypt"
          ],
          [
           "X11"
          ],
          [
           "X11"
          ],
          [
           "SHA3"
          ],
          [
           "Scrypt"
          ],
          [
           "SHA-256"
          ],
          [
           "Scrypt"
          ],
          [
           "X13"
          ],
          [
           "X13"
          ],
          [
           "NeoScrypt"
          ],
          [
           "Scrypt"
          ],
          [
           "Scrypt"
          ],
          [
           "Scrypt"
          ],
          [
           "X11"
          ],
          [
           "X11"
          ],
          [
           "Multiple"
          ],
          [
           "PHI1612"
          ],
          [
           "X11"
          ],
          [
           "Scrypt"
          ],
          [
           "Scrypt"
          ],
          [
           "Scrypt"
          ],
          [
           "X11"
          ],
          [
           "Multiple"
          ],
          [
           "X13"
          ],
          [
           "Scrypt"
          ],
          [
           "Shabal256"
          ],
          [
           "Counterparty"
          ],
          [
           "SHA-256"
          ],
          [
           "Groestl"
          ],
          [
           "Scrypt"
          ],
          [
           "X13"
          ],
          [
           "Scrypt"
          ],
          [
           "Scrypt"
          ],
          [
           "X13"
          ],
          [
           "X11"
          ],
          [
           "Scrypt"
          ],
          [
           "X11"
          ],
          [
           "SHA3"
          ],
          [
           "QUAIT"
          ],
          [
           "X11"
          ],
          [
           "Scrypt"
          ],
          [
           "X13"
          ],
          [
           "SHA-256"
          ],
          [
           "X15"
          ],
          [
           "BLAKE256"
          ],
          [
           "SHA-256"
          ],
          [
           "X11"
          ],
          [
           "SHA-256"
          ],
          [
           "NIST5"
          ],
          [
           "Scrypt"
          ],
          [
           "Scrypt"
          ],
          [
           "X11"
          ],
          [
           "Scrypt"
          ],
          [
           "SHA-256"
          ],
          [
           "Scrypt"
          ],
          [
           "PoS"
          ],
          [
           "X11"
          ],
          [
           "SHA-256"
          ],
          [
           "SHA-256"
          ],
          [
           "NIST5"
          ],
          [
           "X11"
          ],
          [
           "POS 3.0"
          ],
          [
           "Scrypt"
          ],
          [
           "Scrypt"
          ],
          [
           "Scrypt"
          ],
          [
           "X13"
          ],
          [
           "X11"
          ],
          [
           "X11"
          ],
          [
           "Scrypt"
          ],
          [
           "SHA-256"
          ],
          [
           "X11"
          ],
          [
           "Scrypt"
          ],
          [
           "Scrypt"
          ],
          [
           "Scrypt"
          ],
          [
           "Scrypt"
          ],
          [
           "SHA-256D"
          ],
          [
           "PoS"
          ],
          [
           "Scrypt"
          ],
          [
           "X11"
          ],
          [
           "PoS"
          ],
          [
           "X13"
          ],
          [
           "X14"
          ],
          [
           "PoS"
          ],
          [
           "SHA-256D"
          ],
          [
           "DPoS"
          ],
          [
           "X11"
          ],
          [
           "X13"
          ],
          [
           "X11"
          ],
          [
           "PoS"
          ],
          [
           "Scrypt"
          ],
          [
           "Scrypt"
          ],
          [
           "PoS"
          ],
          [
           "X11"
          ],
          [
           "SHA-256"
          ],
          [
           "Scrypt"
          ],
          [
           "X11"
          ],
          [
           "Scrypt"
          ],
          [
           "Scrypt"
          ],
          [
           "X11"
          ],
          [
           "Scrypt"
          ],
          [
           "Scrypt"
          ],
          [
           "Scrypt"
          ],
          [
           "Scrypt"
          ],
          [
           "Quark"
          ],
          [
           "QuBit"
          ],
          [
           "Scrypt"
          ],
          [
           "SHA-256"
          ],
          [
           "X11"
          ],
          [
           "Scrypt"
          ],
          [
           "Scrypt"
          ],
          [
           "Scrypt"
          ],
          [
           "Scrypt"
          ],
          [
           "X13"
          ],
          [
           "Scrypt"
          ],
          [
           "Scrypt"
          ],
          [
           "X11"
          ],
          [
           "Blake2S"
          ],
          [
           "X11"
          ],
          [
           "PoS"
          ],
          [
           "X11"
          ],
          [
           "PoS"
          ],
          [
           "X11"
          ],
          [
           "Scrypt"
          ],
          [
           "Scrypt"
          ],
          [
           "Scrypt"
          ],
          [
           "SHA-256"
          ],
          [
           "X11"
          ],
          [
           "Scrypt"
          ],
          [
           "PoS"
          ],
          [
           "Scrypt"
          ],
          [
           "X15"
          ],
          [
           "SHA-256"
          ],
          [
           "POS 3.0"
          ],
          [
           "536"
          ],
          [
           "NIST5"
          ],
          [
           "NIST5"
          ],
          [
           "Skein"
          ],
          [
           "X13"
          ],
          [
           "Scrypt"
          ],
          [
           "X13"
          ],
          [
           "SkunkHash v2 Raptor"
          ],
          [
           "Skein"
          ],
          [
           "X11"
          ],
          [
           "Scrypt"
          ],
          [
           "VeChainThor Authority"
          ],
          [
           "PoS"
          ],
          [
           "Scrypt"
          ],
          [
           "Scrypt"
          ],
          [
           "SHA-512"
          ],
          [
           "Ouroboros"
          ],
          [
           "X11"
          ],
          [
           "NeoScrypt"
          ],
          [
           "Scrypt"
          ],
          [
           "Lyra2REv2"
          ],
          [
           "Scrypt"
          ],
          [
           "SHA-256"
          ],
          [
           "NIST5"
          ],
          [
           "PHI1612"
          ],
          [
           "Scrypt"
          ],
          [
           "Quark"
          ],
          [
           "POS 2.0"
          ],
          [
           "Scrypt"
          ],
          [
           "SHA-256"
          ],
          [
           "X11"
          ],
          [
           "DPoS"
          ],
          [
           "NIST5"
          ],
          [
           "X13"
          ],
          [
           "Scrypt"
          ],
          [
           "NIST5"
          ],
          [
           "Quark"
          ],
          [
           "Scrypt"
          ],
          [
           "Scrypt"
          ],
          [
           "X11"
          ],
          [
           "Quark"
          ],
          [
           "Scrypt"
          ],
          [
           "Scrypt"
          ],
          [
           "X11"
          ],
          [
           "POS 3.0"
          ],
          [
           "Ethash"
          ],
          [
           "Scrypt"
          ],
          [
           "Scrypt"
          ],
          [
           "X13"
          ],
          [
           "C11"
          ],
          [
           "Proof-of-Authority"
          ],
          [
           "X11"
          ],
          [
           "XEVAN"
          ],
          [
           "Scrypt"
          ],
          [
           "VBFT"
          ],
          [
           "NIST5"
          ],
          [
           "Scrypt"
          ],
          [
           "Scrypt"
          ],
          [
           "Scrypt"
          ],
          [
           "Green Protocol"
          ],
          [
           "PoS"
          ],
          [
           "Scrypt"
          ],
          [
           "Semux BFT consensus"
          ],
          [
           "Quark"
          ],
          [
           "PoS"
          ],
          [
           "X16R"
          ],
          [
           "Scrypt"
          ],
          [
           "XEVAN"
          ],
          [
           "Scrypt"
          ],
          [
           "Scrypt"
          ],
          [
           "Scrypt"
          ],
          [
           "SHA-256D"
          ],
          [
           "Scrypt"
          ],
          [
           "X15"
          ],
          [
           "Scrypt"
          ],
          [
           "Quark"
          ],
          [
           "SHA-256"
          ],
          [
           "DPoS"
          ],
          [
           "X16R"
          ],
          [
           "Quark"
          ],
          [
           "Quark"
          ],
          [
           "Scrypt"
          ],
          [
           "Lyra2REv2"
          ],
          [
           "Quark"
          ],
          [
           "Scrypt"
          ],
          [
           "X11"
          ],
          [
           "X11"
          ],
          [
           "Scrypt"
          ],
          [
           "PoS"
          ],
          [
           "Keccak"
          ],
          [
           "X11"
          ],
          [
           "Scrypt"
          ],
          [
           "SHA-512"
          ],
          [
           "XEVAN"
          ],
          [
           "XEVAN"
          ],
          [
           "X11"
          ],
          [
           "Quark"
          ],
          [
           "Scrypt"
          ],
          [
           "Quark"
          ],
          [
           "Quark"
          ],
          [
           "Scrypt"
          ],
          [
           "X11"
          ],
          [
           "Scrypt"
          ],
          [
           "XEVAN"
          ],
          [
           "SHA-256D"
          ],
          [
           "X11"
          ],
          [
           "X11"
          ],
          [
           "DPoS"
          ],
          [
           "Scrypt"
          ],
          [
           "X11"
          ],
          [
           "Scrypt"
          ],
          [
           "Scrypt"
          ],
          [
           "SHA-256"
          ],
          [
           "Scrypt"
          ],
          [
           "X11"
          ],
          [
           "Scrypt"
          ],
          [
           "SHA-256"
          ],
          [
           "X11"
          ],
          [
           "Scrypt"
          ],
          [
           "Scrypt"
          ],
          [
           "X11"
          ],
          [
           "Scrypt"
          ],
          [
           "PoS"
          ],
          [
           "X11"
          ],
          [
           "SHA-256"
          ],
          [
           "DPoS"
          ],
          [
           "Scrypt"
          ],
          [
           "Scrypt"
          ],
          [
           "NeoScrypt"
          ],
          [
           "X13"
          ],
          [
           "DPoS"
          ],
          [
           "DPoS"
          ],
          [
           "SHA-256"
          ],
          [
           "PoS"
          ],
          [
           "PoS"
          ],
          [
           "SHA-256"
          ],
          [
           "Scrypt"
          ],
          [
           "Scrypt"
          ]
         ],
         "hovertemplate": "<b>%{hovertext}</b><br><br>Class=%{marker.color}<br>PC 1=%{x}<br>PC 2=%{y}<br>PC 3=%{z}<br>Algorithm=%{customdata[0]}<extra></extra>",
         "hovertext": [
          "42 Coin",
          "404Coin",
          "EliteCoin",
          "Dash",
          "Bitshares",
          "BitcoinDark",
          "PayCoin",
          "KoboCoin",
          "Aurora Coin",
          "BlueCoin",
          "EnergyCoin",
          "BitBar",
          "CryptoBullion",
          "CasinoCoin",
          "Diamond",
          "Exclusive Coin",
          "FlutterCoin",
          "HoboNickels",
          "HyperStake",
          "IOCoin",
          "MaxCoin",
          "MintCoin",
          "MazaCoin",
          "Nautilus Coin",
          "NavCoin",
          "OpalCoin",
          "Orbitcoin",
          "PotCoin",
          "PhoenixCoin",
          "Reddcoin",
          "SuperCoin",
          "SyncCoin",
          "TeslaCoin",
          "TittieCoin",
          "TorCoin",
          "UnitaryStatus Dollar",
          "UltraCoin",
          "VeriCoin",
          "X11 Coin",
          "Crypti",
          "StealthCoin",
          "ZCC Coin",
          "BurstCoin",
          "StorjCoin",
          "Neutron",
          "FairCoin",
          "RubyCoin",
          "Kore",
          "Dnotes",
          "8BIT Coin",
          "Sativa Coin",
          "Ucoin",
          "Vtorrent",
          "IslaCoin",
          "Nexus",
          "Droidz",
          "Squall Coin",
          "Diggits",
          "Paycon",
          "Emercoin",
          "EverGreenCoin",
          "Decred",
          "EDRCoin",
          "Hitcoin",
          "DubaiCoin",
          "PWR Coin",
          "BillaryCoin",
          "GPU Coin",
          "EuropeCoin",
          "ZeitCoin",
          "SwingCoin",
          "SafeExchangeCoin",
          "Nebuchadnezzar",
          "Ratecoin",
          "Revenu",
          "Clockcoin",
          "VIP Tokens",
          "BitSend",
          "Let it Ride",
          "PutinCoin",
          "iBankCoin",
          "Frankywillcoin",
          "MudraCoin",
          "Lutetium Coin",
          "GoldBlocks",
          "CarterCoin",
          "BitTokens",
          "MustangCoin",
          "ZoneCoin",
          "RootCoin",
          "BitCurrency",
          "Swiscoin",
          "BuzzCoin",
          "Opair",
          "PesoBit",
          "Halloween Coin",
          "CoffeeCoin",
          "RoyalCoin",
          "GanjaCoin V2",
          "TeamUP",
          "LanaCoin",
          "ARK",
          "InsaneCoin",
          "EmberCoin",
          "XenixCoin",
          "FreeCoin",
          "PLNCoin",
          "AquariusCoin",
          "Creatio",
          "Eternity",
          "Eurocoin",
          "BitcoinFast",
          "Stakenet",
          "BitConnect Coin",
          "MoneyCoin",
          "Enigma",
          "Russiacoin",
          "PandaCoin",
          "GameUnits",
          "GAKHcoin",
          "Allsafe",
          "LiteCreed",
          "Klingon Empire Darsek",
          "Internet of People",
          "KushCoin",
          "Printerium",
          "Impeach",
          "Zilbercoin",
          "FirstCoin",
          "FindCoin",
          "OpenChat",
          "RenosCoin",
          "VirtacoinPlus",
          "TajCoin",
          "Impact",
          "Atmos",
          "HappyCoin",
          "MacronCoin",
          "Condensate",
          "Independent Money System",
          "ArgusCoin",
          "LomoCoin",
          "ProCurrency",
          "GoldReserve",
          "GrowthCoin",
          "Phreak",
          "Degas Coin",
          "HTML5 Coin",
          "Ultimate Secure Cash",
          "QTUM",
          "Espers",
          "Denarius",
          "Virta Unique Coin",
          "Bitcoin Planet",
          "BritCoin",
          "Linda",
          "DeepOnion",
          "Signatum",
          "Cream",
          "Monoeci",
          "Draftcoin",
          "Vechain",
          "Stakecoin",
          "CoinonatX",
          "Ethereum Dark",
          "Obsidian",
          "Cardano",
          "Regalcoin",
          "TrezarCoin",
          "TerraNovaCoin",
          "Rupee",
          "WomenCoin",
          "Theresa May Coin",
          "NamoCoin",
          "LUXCoin",
          "Xios",
          "Bitcloud 2.0",
          "KekCoin",
          "BlackholeCoin",
          "Infinity Economics",
          "Magnet",
          "Lamden Tau",
          "Electra",
          "Bitcoin Diamond",
          "Cash & Back Coin",
          "Bulwark",
          "Kalkulus",
          "GermanCoin",
          "LiteCoin Ultra",
          "PhantomX",
          "Digiwage",
          "Trollcoin",
          "Litecoin Plus",
          "Monkey Project",
          "TokenPay",
          "1717 Masonic Commemorative Token",
          "My Big Coin",
          "Unified Society USDEX",
          "Tokyo Coin",
          "Stipend",
          "Poa Network",
          "Pushi",
          "Ellerium",
          "Velox",
          "Ontology",
          "Bitspace",
          "Briacoin",
          "Ignition",
          "MedicCoin",
          "Bitcoin Green",
          "Deviant Coin",
          "Abjcoin",
          "Semux",
          "Carebit",
          "Zealium",
          "Proton",
          "iDealCash",
          "Bitcoin Incognito",
          "HollyWoodCoin",
          "Swisscoin",
          "Xt3ch",
          "TheVig",
          "EmaratCoin",
          "Dekado",
          "Lynx",
          "Poseidon Quark",
          "BitcoinWSpectrum",
          "Muse",
          "Trivechain",
          "Dystem",
          "Giant",
          "Peony Coin",
          "Absolute Coin",
          "Vitae",
          "TPCash",
          "ARENON",
          "EUNO",
          "MMOCoin",
          "Ketan",
          "XDNA",
          "PAXEX",
          "ThunderStake",
          "Kcash",
          "Bettex coin",
          "BitMoney",
          "Junson Ming Chan Coin",
          "HerbCoin",
          "Oduwa",
          "Galilel",
          "Crypto Sports",
          "Credit",
          "Dash Platinum",
          "Nasdacoin",
          "Beetle Coin",
          "Titan Coin",
          "Award",
          "Insane Coin",
          "ALAX",
          "LiteDoge",
          "TruckCoin",
          "OrangeCoin",
          "BitstarCoin",
          "NeosCoin",
          "HyperCoin",
          "PinkCoin",
          "AudioCoin",
          "IncaKoin",
          "Piggy Coin",
          "Genstake",
          "XiaoMiCoin",
          "CapriCoin",
          " ClubCoin",
          "Radium",
          "Creditbit ",
          "OKCash",
          "Lisk",
          "HiCoin",
          "WhiteCoin",
          "FriendshipCoin",
          "Triangles Coin",
          "EOS",
          "Oxycoin",
          "TigerCash",
          "Particl",
          "Nxt",
          "ZEPHYR",
          "Gapcoin",
          "BitcoinPlus"
         ],
         "legendgroup": "0",
         "marker": {
          "color": [
           0,
           0,
           0,
           0,
           0,
           0,
           0,
           0,
           0,
           0,
           0,
           0,
           0,
           0,
           0,
           0,
           0,
           0,
           0,
           0,
           0,
           0,
           0,
           0,
           0,
           0,
           0,
           0,
           0,
           0,
           0,
           0,
           0,
           0,
           0,
           0,
           0,
           0,
           0,
           0,
           0,
           0,
           0,
           0,
           0,
           0,
           0,
           0,
           0,
           0,
           0,
           0,
           0,
           0,
           0,
           0,
           0,
           0,
           0,
           0,
           0,
           0,
           0,
           0,
           0,
           0,
           0,
           0,
           0,
           0,
           0,
           0,
           0,
           0,
           0,
           0,
           0,
           0,
           0,
           0,
           0,
           0,
           0,
           0,
           0,
           0,
           0,
           0,
           0,
           0,
           0,
           0,
           0,
           0,
           0,
           0,
           0,
           0,
           0,
           0,
           0,
           0,
           0,
           0,
           0,
           0,
           0,
           0,
           0,
           0,
           0,
           0,
           0,
           0,
           0,
           0,
           0,
           0,
           0,
           0,
           0,
           0,
           0,
           0,
           0,
           0,
           0,
           0,
           0,
           0,
           0,
           0,
           0,
           0,
           0,
           0,
           0,
           0,
           0,
           0,
           0,
           0,
           0,
           0,
           0,
           0,
           0,
           0,
           0,
           0,
           0,
           0,
           0,
           0,
           0,
           0,
           0,
           0,
           0,
           0,
           0,
           0,
           0,
           0,
           0,
           0,
           0,
           0,
           0,
           0,
           0,
           0,
           0,
           0,
           0,
           0,
           0,
           0,
           0,
           0,
           0,
           0,
           0,
           0,
           0,
           0,
           0,
           0,
           0,
           0,
           0,
           0,
           0,
           0,
           0,
           0,
           0,
           0,
           0,
           0,
           0,
           0,
           0,
           0,
           0,
           0,
           0,
           0,
           0,
           0,
           0,
           0,
           0,
           0,
           0,
           0,
           0,
           0,
           0,
           0,
           0,
           0,
           0,
           0,
           0,
           0,
           0,
           0,
           0,
           0,
           0,
           0,
           0,
           0,
           0,
           0,
           0,
           0,
           0,
           0,
           0,
           0,
           0,
           0,
           0,
           0,
           0,
           0,
           0,
           0,
           0,
           0,
           0,
           0,
           0,
           0,
           0,
           0,
           0,
           0,
           0,
           0,
           0,
           0,
           0,
           0,
           0,
           0,
           0,
           0,
           0,
           0,
           0,
           0,
           0,
           0,
           0,
           0,
           0,
           0,
           0,
           0,
           0,
           0,
           0,
           0,
           0,
           0
          ],
          "coloraxis": "coloraxis",
          "symbol": "circle"
         },
         "mode": "markers",
         "name": "0",
         "scene": "scene",
         "showlegend": true,
         "type": "scatter3d",
         "x": [
          -0.34253272931119866,
          -0.32587472628079533,
          2.3047560244177503,
          -0.3910391007793736,
          -0.19503716460128742,
          -0.31581163182270117,
          -0.2664937743776872,
          -0.24907153737057666,
          -0.3421924339038678,
          -0.3347701869723143,
          -0.3410293552819464,
          -0.34252866905014084,
          -0.34251295412388594,
          0.7091445850461012,
          -0.3631143203065469,
          -0.35509381832814546,
          -0.30440475563374747,
          -0.34059239881946535,
          -0.32154554654529655,
          -0.3909338007283898,
          -0.42763232802485746,
          -0.03314493323251229,
          -0.27913571072304555,
          -0.29296614532382736,
          -0.27694098200821754,
          -0.27756316824299143,
          -0.3495058448921199,
          -0.3368380715147374,
          -0.3409352020223122,
          0.015595686356223179,
          -0.3414314277962463,
          -0.3913052084280423,
          -0.24301252148402178,
          -0.29731325203300224,
          -0.3912169197959346,
          -0.31777666879496563,
          -0.34121085919985816,
          -0.30937316133404863,
          -0.391181366319054,
          -0.24347955833978724,
          -0.2773440396590916,
          -0.33364301975428073,
          0.14966355829011824,
          -0.34416558929380986,
          -0.31502369031350164,
          -0.3625358743558252,
          -0.29294629467194166,
          -0.2776386344243373,
          -0.28760394899151226,
          -0.34251479850299815,
          -0.277590807923715,
          -0.3418763930456645,
          -0.34224932681923914,
          -0.39128673799256086,
          -0.44183537610749163,
          -0.41405124722780967,
          -0.37978651902469873,
          -0.2913485755467498,
          -0.2771127367013116,
          -0.30837533062641465,
          -0.25151067691066675,
          -0.06856251819819861,
          -0.3157825468380116,
          -0.06894850433366294,
          -0.3158461601483913,
          -0.23133368783849662,
          -0.34212536238926344,
          -0.2912184549699756,
          -0.3884586747792859,
          0.8594737242347429,
          -0.3156464324860099,
          -0.02133839841935617,
          -0.35477724071071476,
          -0.3891303273180457,
          -0.314391274957399,
          -0.31206166619251735,
          -0.35268850216445896,
          -0.3900229294505572,
          -0.32279891784875403,
          -0.31843610421617513,
          -0.34216347467397135,
          -0.3406029165007692,
          -0.22701653792379056,
          -0.32937201344482797,
          -0.3907610059036413,
          -0.34136804320887726,
          -0.3158271848376369,
          -0.39127595054914904,
          -0.34235246985163487,
          -0.34250903181249664,
          -0.29120651781570805,
          -0.2617783472755219,
          0.03468958582588902,
          -0.3537347283607007,
          -0.34212320287508896,
          -0.37744911165226946,
          -0.3530631590469161,
          -0.22844573458679757,
          -0.3987776903302452,
          -0.3528138986793501,
          -0.27973910860344,
          3.727956228952125,
          -0.39086869375550115,
          0.8545284532247305,
          -0.39123086786346395,
          -0.3541982966244307,
          -0.34205102495172535,
          -0.3422053691096839,
          -0.35477724071071476,
          -0.39080617430379105,
          -0.31568985597880195,
          -0.34205172274505646,
          -0.34937527076541675,
          -0.34219907365610774,
          -0.33779154420785,
          -0.3912598685353492,
          -0.3414106021198361,
          0.35005846446882405,
          -0.34239823946107073,
          -0.34246874157395224,
          -0.34243371562658004,
          -0.34615012561556197,
          -0.3386990544510085,
          -0.3158035994014295,
          -0.3911698532487423,
          -0.3422466758040055,
          -0.3423736375246611,
          -0.29285318580770053,
          -0.28459843524082395,
          -0.22821367975795476,
          -0.32323459391224885,
          -0.29259418476859517,
          -0.3904362481109515,
          -0.4232654252138183,
          -0.38917473388428075,
          -0.35302447876387155,
          -0.3903341370902757,
          -0.3474265846584062,
          -0.38627801855765104,
          -0.3423169211997651,
          -0.3423161619473791,
          -0.3354448080351784,
          0.2656355077012618,
          -0.3908121861948767,
          -0.27550929134236907,
          -0.3548116023457521,
          -0.34152821411493617,
          0.8822047372689474,
          -0.2651855220529719,
          -0.32157777053385017,
          0.5714330343775395,
          -0.3542235453493924,
          -0.3527265840910528,
          -0.42430095636206433,
          -0.2772760509903082,
          0.12205375758788048,
          -0.27734674447004987,
          -0.3421021550463069,
          -0.4238058600878435,
          -0.39108435100229505,
          -0.29292712702973456,
          4.441612817803886,
          -0.3546780986558269,
          -0.3419523165318819,
          -0.3424516779496362,
          -0.25307503003855003,
          0.6751035446984897,
          -0.39102530106857236,
          -0.34450799229103346,
          -0.3424073739995995,
          -0.31230992736022767,
          0.42650915122732846,
          -0.3141504732507853,
          -0.3389991247689367,
          -0.382148253409294,
          -0.34235775074786445,
          -0.39013122730678285,
          -0.34404391298211334,
          -0.3422281121798605,
          -0.09304561016557093,
          -0.38981880233791716,
          3.732809484863701,
          0.20504226686102534,
          -0.2740190315518298,
          -0.33968981867665493,
          -0.3047328692632913,
          -0.3423196579698288,
          0.07155843633747606,
          -0.34136760390071413,
          -0.39039927643372657,
          -0.34148511197677395,
          -0.32893897322207444,
          -0.3424738072551006,
          -0.34184833043119545,
          -0.32308076557278176,
          -0.2779527549385456,
          -0.3235790204754379,
          -0.33802079162101883,
          -0.22001512529049838,
          -0.3671737108024098,
          -0.3529847451296521,
          -0.39110170166582287,
          -0.34255339063748236,
          -0.2920878727196848,
          -0.3133844113925622,
          -0.3538227948635197,
          -0.3425011540958748,
          -0.34248287948394374,
          -0.2864720876453819,
          -0.35006494886624956,
          -0.354272752373997,
          -0.342199572302652,
          3.93507345870261,
          -0.3887993055591216,
          -0.3544613594474944,
          -0.3145086632701642,
          -0.28910638372923125,
          -0.331186795589836,
          -0.29262140714660484,
          -0.14569174078515107,
          -0.29287357881576354,
          -0.345001021689925,
          -0.34167399325741665,
          -0.20160054238089833,
          2.2097790846364225,
          -0.33803206951737114,
          -0.2653125598292604,
          1.023769963371879,
          -0.3630998399432374,
          -0.3424331924582831,
          -0.3918139794726782,
          -0.1737246405470798,
          -0.3614927527945289,
          -0.3411533144872265,
          -0.33538490160347106,
          -0.34142598662486795,
          -0.39057522920023013,
          -0.29012063940603333,
          -0.35356207926499494,
          -0.35331060218874816,
          -0.341287677420111,
          -0.20211133881169382,
          -0.120270137688968,
          -0.2932920726967314,
          0.442929616333743,
          -0.13180891418491836,
          -0.391108969297401,
          -0.3422034847233158,
          -0.3915648316242356,
          -0.34255011254558243,
          0.5637637594935594,
          -0.34190263447372393,
          -0.3416868547415996,
          -0.3370122220273377,
          -0.29975594490876467,
          -0.38814248948497787,
          -0.3908023206768141,
          3.7450473068909638,
          0.09247121888210255,
          -0.3883418664412827,
          -0.34107315637226987,
          -0.3418971288362433,
          -0.2665264605938847,
          -0.3424150722786181,
          -0.38243368641917347,
          -0.2561927392565742,
          -0.09548016939537407,
          -0.3781856127009728,
          -0.3416935235757909,
          -0.3347607441815345,
          -0.3873722810716156,
          -0.34013376165871584,
          -0.3550527855400706,
          -0.35740894731413947,
          -0.3143273195441434,
          3.7283477900137854,
          -0.10023146568840105,
          -0.3373296047545416,
          -0.3491321008256092,
          -0.2777457536702329,
          3.738216471480591,
          3.739460554381077,
          -0.24743069971914483,
          -0.35498865226182835,
          -0.39819680406567515,
          2.4741969709302327,
          -0.3405798741685035,
          -0.29326973966982617
         ],
         "y": [
          1.1177226567642604,
          1.1178077519683645,
          1.6616143175490814,
          1.2513904074654496,
          1.6578808834887608,
          0.8433671486362259,
          0.5444731060560517,
          1.9170149624212611,
          1.117720109267051,
          1.1179423755233633,
          1.1177652097904067,
          1.1177224085535826,
          1.1177224901976508,
          0.13121730941148638,
          0.9985103111739394,
          1.367968347654838,
          0.5829434889821762,
          1.1176904177962488,
          0.9530765170702901,
          1.2513933879829582,
          1.9033351960741327,
          0.8261829925751332,
          0.8426640932645157,
          0.8188170021687051,
          1.8167238587668464,
          1.8167062477880602,
          0.5561537981889294,
          1.1175787839024611,
          1.1176966940946038,
          1.1278594801099167,
          0.9525136472842347,
          1.2513988539048173,
          0.04249872536994495,
          1.6021269167635415,
          1.251394090303431,
          1.1172612430511926,
          1.1176874389519236,
          0.49803145133295795,
          1.2513983651461338,
          0.042558139264527346,
          1.816712450221716,
          1.117247946278364,
          -0.2220612703166472,
          1.4707201229745477,
          0.8433560399667779,
          0.9985298654258099,
          0.8188293161207258,
          1.8166953957136105,
          0.8186173643387715,
          1.1177231643262158,
          1.8166982021099287,
          0.9524865258705334,
          1.1177161518269516,
          1.25139937743675,
          1.8532796954203694,
          2.0269582029759072,
          0.7439780824978892,
          0.8188019061830742,
          1.8166826805655525,
          0.8428672787438113,
          1.9171810382608105,
          0.9400430720971902,
          0.8433679718865963,
          1.2412389998406648,
          0.8433745241497576,
          1.5409021870750335,
          1.1177036812980414,
          0.8187176646383447,
          1.2512005136102018,
          0.779541522827101,
          0.8433587505960121,
          0.13803455017984673,
          1.3679627817088136,
          1.2514059396037873,
          0.8432615584977657,
          0.8431079455424504,
          1.5374018695267844,
          1.2513341891468028,
          1.335089950815846,
          1.116952044250973,
          1.11770090775157,
          1.1177046467674912,
          1.5176948187070636,
          0.9523777877108388,
          1.2513779415959183,
          1.1176902531962865,
          0.8433674347419112,
          1.2513975037741658,
          1.1177125060301403,
          1.1177233275523668,
          0.8188785604974019,
          0.47223700887782766,
          1.987672295474707,
          1.3679530679962884,
          1.1177342484388346,
          1.2507015508301054,
          1.3679967721830917,
          1.5177978161188108,
          1.9551505092170167,
          1.3678142543247773,
          1.9878472059402859,
          2.041911708983461,
          1.2513894201658882,
          1.8481327127704708,
          1.2513981600393937,
          1.367957378707514,
          1.1177082985335327,
          1.1177014167081523,
          1.3679627817088136,
          1.251369399767456,
          0.8433720481683975,
          1.1177123026712397,
          0.6418984002270954,
          1.1177117635728573,
          1.1173842598499648,
          1.251396506308082,
          1.1176498265462345,
          0.813412882983072,
          1.117717021191203,
          1.11772205959808,
          1.4117811986641156,
          0.6004179229004141,
          1.117468002091521,
          0.8433681023275844,
          1.251395891733429,
          1.117716226863927,
          1.1177112289680242,
          0.8187920032127781,
          0.3646941960178907,
          1.5177956504648706,
          1.117542556728509,
          0.8188142775185895,
          1.2513508171784684,
          1.9118369704971265,
          1.2513792609963208,
          1.3679468129361032,
          1.2513537074304835,
          1.3678948351885882,
          1.251177982365305,
          1.1177133581639513,
          1.1177080135890354,
          1.1171969466685716,
          0.5050690742111118,
          1.2513837562750725,
          0.8178702030105769,
          1.3679545457657938,
          1.1176748245538308,
          1.8839199157078235,
          0.5443738874050326,
          1.3350762141939037,
          1.9404051902873942,
          1.5374165268324966,
          1.5373790016067586,
          1.9530661406216605,
          1.8166925846294508,
          1.094556089952355,
          1.8166986472713553,
          1.4399918552697515,
          1.9530801543196414,
          1.2513982005482651,
          0.8188172161752578,
          2.1741556888428066,
          1.3679353724674164,
          1.117704038321969,
          1.1177219003516412,
          1.65878695880215,
          1.4070589900988004,
          1.2513871663976686,
          0.5560074671807196,
          1.117714777326234,
          0.592681434155894,
          1.1213320413127401,
          0.8433575136934346,
          1.5369831168806574,
          1.9016495344096207,
          1.117712356554395,
          1.7105936335585932,
          1.407870849305445,
          1.1177205377580577,
          0.5428546314179078,
          1.2513363352953346,
          2.041776705231186,
          1.531463795404414,
          1.816654034483588,
          1.1176505952896778,
          1.238507607897144,
          1.4117807953970731,
          1.0931268200944932,
          1.1176466856083973,
          1.251388180347059,
          1.411731783847092,
          1.1174537276667245,
          1.117721419248483,
          0.9524865938490104,
          1.335088146953712,
          -0.09411011525180668,
          0.533655690368632,
          1.1176818577519565,
          1.5174571934374639,
          0.9808878213594294,
          1.7262628617521332,
          1.251386456546498,
          1.439158823927782,
          0.818763548370669,
          1.451748613578822,
          1.537398816724995,
          1.1177213715299779,
          1.1177204361253752,
          0.8186494016694638,
          1.4628474802312048,
          1.3679276705569134,
          1.1177102967912524,
          1.8689383773703603,
          1.7106313335981174,
          1.3679281427041494,
          0.5883539621706297,
          1.1155146434601895,
          0.9317620737790444,
          0.8188196273843602,
          1.1158856363300265,
          0.8187994156595622,
          1.991379195206477,
          1.1176859512836865,
          1.6182505910009326,
          0.42744165564609193,
          1.4114445653340761,
          0.544442795681113,
          1.7314922810135953,
          0.887248202282191,
          1.4117768554701415,
          1.7106875286622913,
          0.8099433715465534,
          0.8915654984761097,
          1.411755702047821,
          1.1171986423198714,
          0.9524738529426047,
          1.2513832000047351,
          0.818720449517081,
          1.3678591734438785,
          1.0632929596129004,
          0.9524450827671916,
          1.1086232769170303,
          2.1901676708031554,
          1.14026354416403,
          0.9453927537241508,
          0.9584470116596814,
          1.7106720032970457,
          1.117716723053577,
          1.7106844956482885,
          1.4117790879737522,
          1.0890456137494688,
          0.9524860010071335,
          1.11768558723943,
          1.43899607985053,
          1.9891008217452504,
          1.2511833152201381,
          1.251391298855604,
          2.041759929878535,
          1.1046137619436203,
          1.2514827320137545,
          1.1176187032590437,
          1.1177012394154455,
          0.5444660070363166,
          1.117725987076582,
          1.2512867961704865,
          1.1125400059156063,
          0.8494816057003313,
          1.251043871025194,
          1.1177355155039865,
          1.1176521093181513,
          1.2513590987122578,
          1.1176743461708383,
          1.3679629720843576,
          0.5917348914652535,
          0.8433488763912952,
          2.0418974297067183,
          0.8170143538494549,
          1.1176520311011637,
          0.556123413139371,
          1.8167009925482573,
          2.0422929168190853,
          2.0423281305804055,
          0.5442954317678731,
          1.3679650531129823,
          1.2480225983405342,
          0.8545598632155719,
          1.1175963489243477,
          0.8188194346776986
         ],
         "z": [
          -0.5115325777589604,
          -0.5118123431713638,
          -0.6368108607670112,
          -0.49028949869897087,
          -0.30125012909235277,
          -0.3360284144896021,
          -0.06627932018794334,
          -0.5540502418184727,
          -0.5115378058017053,
          -0.5116834119438701,
          -0.5115617898660384,
          -0.5115326153823577,
          -0.5115328794644223,
          -0.4731835209849139,
          -0.41167713964196606,
          -0.1606093073886222,
          -0.2839180212460348,
          -0.5115603743518222,
          -0.22093347081458312,
          -0.49029154478726517,
          -0.5558720298597162,
          -0.24683612562403895,
          -0.336543175944652,
          -0.24178619658337372,
          -0.6125797525050551,
          -0.6125676627865925,
          -0.29182906152590876,
          -0.5116085597234572,
          -0.5115555294380937,
          -0.5184913812151315,
          -0.22054706768918078,
          -0.49028614397619374,
          0.04079064089891853,
          -0.2901623790011746,
          -0.49028703409536323,
          -0.5118815331106997,
          -0.511550008035158,
          -0.2729461215446392,
          -0.4902880964120245,
          0.04079146088229703,
          -0.6125719206803522,
          -0.5116227637314323,
          -0.7204172511865942,
          0.025164855767159145,
          -0.33603992769291063,
          -0.4116887410117329,
          -0.24178791796469,
          -0.6125652057983023,
          -0.24185045012049172,
          -0.5115329261764697,
          -0.6125663002168608,
          -0.22053677055212065,
          -0.5115364335597083,
          -0.4902865029583024,
          -0.36332151128581974,
          -0.6544834300884605,
          -0.16266944940922637,
          -0.24181070826747425,
          -0.612572287623179,
          -0.3360921753444042,
          -0.5540295685033493,
          -0.42641352673610244,
          -0.33602897964076855,
          -0.49435815773705466,
          -0.33602869289637544,
          -0.518139510372315,
          -0.5115370262110037,
          -0.2418032437214025,
          -0.4903097558465895,
          -0.2560081513527344,
          -0.33603013857846803,
          -0.4621142192724965,
          -0.16061380781271442,
          -0.4903222129682753,
          -0.33603944358926363,
          -0.33605975741256655,
          -0.5157740319953532,
          -0.49029958557602643,
          -0.12565416865928783,
          -0.511835699509922,
          -0.5115360930329353,
          -0.5115618209870724,
          -0.34282515053232815,
          -0.2207271590115549,
          -0.4902925909619681,
          -0.5115477792905064,
          -0.3360281948287563,
          -0.49028646491873035,
          -0.5115343468342753,
          -0.5115330382291975,
          -0.2418217236183733,
          -0.24869543179393105,
          -0.6539057503017911,
          -0.160629607187441,
          -0.5115405352822777,
          -0.49043155692396984,
          -0.1606454631861851,
          -0.34281368343157487,
          -0.6387778859944171,
          -0.16062876095283884,
          -0.6488274599614153,
          0.04242868466723543,
          -0.4902921494808649,
          -0.6344951996556153,
          -0.4902872704793584,
          -0.16062258078483363,
          -0.5115387562876695,
          -0.5115354715981385,
          -0.16061380781271442,
          -0.4902908877911895,
          -0.3360309458199575,
          -0.511539200057106,
          -0.36524899728450827,
          -0.5115367496285073,
          -0.5115709917459343,
          -0.4902866123083374,
          -0.5115424946146325,
          -0.25159804787365037,
          -0.5115341178855358,
          -0.5115335473908239,
          -0.18292699564874446,
          -0.2962743098701874,
          -0.5115657948925156,
          -0.3360286531180394,
          -0.49028800197423217,
          -0.511536485071661,
          -0.5115338584777626,
          -0.2417851869029924,
          -0.3328858658866221,
          -0.34281719985153997,
          -0.5118250101506442,
          -0.24179191791309457,
          -0.49029477382835557,
          -0.7414498387548675,
          -0.4903184608449439,
          -0.16064041231725007,
          -0.4902967579505091,
          -0.16072526953228927,
          -0.4903425524130176,
          -0.5115350200705052,
          -0.5115344249524438,
          -0.5115877531319891,
          -0.07042890400490152,
          -0.49029242197857814,
          -0.24196163641184096,
          -0.160612314628497,
          -0.5115434287516037,
          -0.5686314751667846,
          -0.06628925575715369,
          -0.1256724072172234,
          -0.7664839090726191,
          -0.5157508085459354,
          -0.5157708155174289,
          -0.6805045532775807,
          -0.6125707652631901,
          -0.5164324594926564,
          -0.6125703080733438,
          -0.04771542494086468,
          -0.6805141735073971,
          -0.49028965071826364,
          -0.24178685355135712,
          1.830460633458777,
          -0.1606123001580976,
          -0.5115398725659478,
          -0.5115338059627723,
          -0.3004120774220612,
          -0.06336563524634059,
          -0.49028935409039326,
          -0.29189346606431427,
          -0.5115337147547874,
          -0.035647357757582876,
          -0.524412096693971,
          -0.33605425359116076,
          -0.515948399921554,
          -0.559407035410885,
          -0.5115342442210302,
          -0.4526930873696428,
          -0.040286681415514634,
          -0.5115372760109905,
          -0.0689076762114751,
          -0.49030313922461655,
          0.042365337249826,
          -0.524142237062878,
          -0.6126191934591946,
          -0.5115704828915333,
          -0.24600282559114808,
          -0.18292879915517002,
          -0.515451283466152,
          -0.5115428348128687,
          -0.49029961973760866,
          -0.18293676021907002,
          -0.5117224232167589,
          -0.5115333924776532,
          -0.22053723328735153,
          -0.12564939374508988,
          0.0962581522139794,
          -0.21472309050171395,
          -0.5116010976987473,
          -0.3429116650423014,
          -0.4134609685447943,
          6.469122247410236,
          -0.49028803464867177,
          -0.38122762838304036,
          -0.2417943617574957,
          -0.11070483738959201,
          -0.5157552935308182,
          -0.5115329436506414,
          -0.5115331336446851,
          -0.24187244335057043,
          -0.11015778580198035,
          -0.1606179971242721,
          -0.5115365748388306,
          0.015258473050124708,
          -0.4527189679790856,
          -0.16061499269669663,
          -0.07689276317178861,
          -0.5121478883510056,
          -0.05361119784276261,
          -0.24179208455745532,
          -0.5145153882671549,
          -0.24178569869840988,
          -0.6481707208772021,
          -0.5115423296677772,
          -0.28428593991261314,
          -0.3548304515356498,
          -0.182960104763209,
          -0.06629502761122581,
          -0.04280793902965369,
          -0.34665366237790896,
          -0.18292651051305794,
          -0.4526764745942604,
          -0.24271106942864729,
          -0.30539750741570615,
          -0.1829448583901625,
          -0.5115889171755711,
          -0.2205426331540439,
          -0.4902962007943873,
          -0.24182136029270013,
          -0.1606217351055538,
          -0.3849047839597294,
          -0.22054160588375887,
          -0.5127752056496683,
          -0.5700164415675539,
          -0.11147747673577849,
          0.010405457754541858,
          -0.22462024872611422,
          -0.45268614117084777,
          -0.5115372417685501,
          -0.452680169583333,
          -0.1829248684937697,
          -0.5229680934065764,
          -0.220536285419253,
          -0.5115420797559114,
          -0.38129897688670306,
          -0.6486453831229534,
          -0.49031292784374736,
          -0.49029343917804874,
          0.042168818896585004,
          -0.5170958938015596,
          -0.4903437248413541,
          -0.5115444287196478,
          -0.5115404492782258,
          -0.06627798338418309,
          -0.5115348639595783,
          -0.4904172517403769,
          -0.5123434751469698,
          -0.34029581297744965,
          -0.4904585210664896,
          -0.511547646139528,
          -0.5116505753346953,
          -0.49034539443430614,
          -0.5115659841343341,
          -0.16060936174581975,
          -0.3502260817819977,
          -0.33605040453464,
          0.042423958755064585,
          -0.24470633360818783,
          -0.5116089147547581,
          -0.2918316680776327,
          -0.6125641050579239,
          0.04221899882336585,
          0.042194825013066095,
          -0.06656821698210069,
          -0.1606106381232048,
          -0.32347804283835874,
          0.018403226384940328,
          -0.5115498861886704,
          -0.24178155054548645
         ]
        },
        {
         "customdata": [
          [
           "SHA-256"
          ],
          [
           "Ethash"
          ],
          [
           "Scrypt"
          ],
          [
           "CryptoNight-V7"
          ],
          [
           "Ethash"
          ],
          [
           "Equihash"
          ],
          [
           "Multiple"
          ],
          [
           "Scrypt"
          ],
          [
           "X11"
          ],
          [
           "Scrypt"
          ],
          [
           "Multiple"
          ],
          [
           "Scrypt"
          ],
          [
           "SHA-256"
          ],
          [
           "Scrypt"
          ],
          [
           "Scrypt"
          ],
          [
           "Quark"
          ],
          [
           "Groestl"
          ],
          [
           "Scrypt"
          ],
          [
           "Scrypt"
          ],
          [
           "Scrypt"
          ],
          [
           "X11"
          ],
          [
           "Multiple"
          ],
          [
           "SHA-256"
          ],
          [
           "Scrypt"
          ],
          [
           "Scrypt"
          ],
          [
           "Scrypt"
          ],
          [
           "Scrypt"
          ],
          [
           "Scrypt"
          ],
          [
           "NeoScrypt"
          ],
          [
           "Scrypt"
          ],
          [
           "Scrypt"
          ],
          [
           "Scrypt"
          ],
          [
           "Scrypt"
          ],
          [
           "SHA-256"
          ],
          [
           "Scrypt"
          ],
          [
           "Scrypt"
          ],
          [
           "Scrypt"
          ],
          [
           "Scrypt"
          ],
          [
           "HybridScryptHash256"
          ],
          [
           "Scrypt"
          ],
          [
           "Scrypt"
          ],
          [
           "SHA-256"
          ],
          [
           "Scrypt"
          ],
          [
           "Scrypt"
          ],
          [
           "Scrypt"
          ],
          [
           "Scrypt"
          ],
          [
           "SHA-256"
          ],
          [
           "SHA-256"
          ],
          [
           "SHA-256"
          ],
          [
           "SHA-256"
          ],
          [
           "SHA-256"
          ],
          [
           "X11"
          ],
          [
           "Scrypt"
          ],
          [
           "Lyra2REv2"
          ],
          [
           "Scrypt"
          ],
          [
           "SHA-256"
          ],
          [
           "CryptoNight"
          ],
          [
           "CryptoNight"
          ],
          [
           "Scrypt"
          ],
          [
           "Scrypt"
          ],
          [
           "Scrypt"
          ],
          [
           "Scrypt"
          ],
          [
           "Scrypt"
          ],
          [
           "Scrypt"
          ],
          [
           "Stanford Folding"
          ],
          [
           "Multiple"
          ],
          [
           "QuBit"
          ],
          [
           "Scrypt"
          ],
          [
           "Scrypt"
          ],
          [
           "M7 POW"
          ],
          [
           "Scrypt"
          ],
          [
           "SHA-256"
          ],
          [
           "Scrypt"
          ],
          [
           "X11"
          ],
          [
           "Lyra2RE"
          ],
          [
           "SHA-256"
          ],
          [
           "X11"
          ],
          [
           "Scrypt"
          ],
          [
           "Scrypt"
          ],
          [
           "Ethash"
          ],
          [
           "Blake2b"
          ],
          [
           "X11"
          ],
          [
           "SHA-256"
          ],
          [
           "Scrypt"
          ],
          [
           "1GB AES Pattern Search"
          ],
          [
           "Scrypt"
          ],
          [
           "SHA-256"
          ],
          [
           "X11"
          ],
          [
           "Dagger"
          ],
          [
           "Scrypt"
          ],
          [
           "X11GOST"
          ],
          [
           "Scrypt"
          ],
          [
           "X11"
          ],
          [
           "Scrypt"
          ],
          [
           "X11"
          ],
          [
           "Equihash"
          ],
          [
           "CryptoNight"
          ],
          [
           "SHA-256"
          ],
          [
           "Multiple"
          ],
          [
           "Scrypt"
          ],
          [
           "SHA-256"
          ],
          [
           "Scrypt"
          ],
          [
           "Lyra2Z"
          ],
          [
           "Ethash"
          ],
          [
           "Equihash"
          ],
          [
           "Scrypt"
          ],
          [
           "X11"
          ],
          [
           "X11"
          ],
          [
           "CryptoNight"
          ],
          [
           "Scrypt"
          ],
          [
           "CryptoNight"
          ],
          [
           "Lyra2RE"
          ],
          [
           "X11"
          ],
          [
           "CryptoNight-V7"
          ],
          [
           "Scrypt"
          ],
          [
           "X11"
          ],
          [
           "Equihash"
          ],
          [
           "Scrypt"
          ],
          [
           "Lyra2RE"
          ],
          [
           "Dagger-Hashimoto"
          ],
          [
           "Scrypt"
          ],
          [
           "NIST5"
          ],
          [
           "Scrypt"
          ],
          [
           "SHA-256"
          ],
          [
           "Scrypt"
          ],
          [
           "CryptoNight-V7"
          ],
          [
           "Argon2d"
          ],
          [
           "Blake2b"
          ],
          [
           "Cloverhash"
          ],
          [
           "CryptoNight"
          ],
          [
           "X11"
          ],
          [
           "Scrypt"
          ],
          [
           "Scrypt"
          ],
          [
           "X11"
          ],
          [
           "X11"
          ],
          [
           "CryptoNight"
          ],
          [
           "Time Travel"
          ],
          [
           "Scrypt"
          ],
          [
           "Keccak"
          ],
          [
           "X11"
          ],
          [
           "SHA-256"
          ],
          [
           "Scrypt"
          ],
          [
           "Scrypt"
          ],
          [
           "Scrypt"
          ],
          [
           "Scrypt"
          ],
          [
           "Scrypt"
          ],
          [
           "Scrypt"
          ],
          [
           "CryptoNight"
          ],
          [
           "Equihash"
          ],
          [
           "X11"
          ],
          [
           "NeoScrypt"
          ],
          [
           "Equihash"
          ],
          [
           "Dagger"
          ],
          [
           "Scrypt"
          ],
          [
           "X11"
          ],
          [
           "NeoScrypt"
          ],
          [
           "Ethash"
          ],
          [
           "NeoScrypt"
          ],
          [
           "Multiple"
          ],
          [
           "CryptoNight"
          ],
          [
           "CryptoNight"
          ],
          [
           "Ethash"
          ],
          [
           "X11"
          ],
          [
           "CryptoNight-V7"
          ],
          [
           "Scrypt"
          ],
          [
           "BLAKE256"
          ],
          [
           "X11"
          ],
          [
           "NeoScrypt"
          ],
          [
           "NeoScrypt"
          ],
          [
           "Scrypt"
          ],
          [
           "X11"
          ],
          [
           "SHA-256"
          ],
          [
           "C11"
          ],
          [
           "CryptoNight"
          ],
          [
           "SkunkHash"
          ],
          [
           "CryptoNight"
          ],
          [
           "Scrypt"
          ],
          [
           "Dagger"
          ],
          [
           "Lyra2REv2"
          ],
          [
           "Scrypt"
          ],
          [
           "Scrypt"
          ],
          [
           "X11"
          ],
          [
           "Ethash"
          ],
          [
           "CryptoNight"
          ],
          [
           "Scrypt"
          ],
          [
           "IMesh"
          ],
          [
           "Equihash"
          ],
          [
           "Lyra2Z"
          ],
          [
           "X11"
          ],
          [
           "CryptoNight"
          ],
          [
           "NIST5"
          ],
          [
           "Lyra2RE"
          ],
          [
           "Tribus"
          ],
          [
           "Lyra2Z"
          ],
          [
           "CryptoNight"
          ],
          [
           "CryptoNight Heavy"
          ],
          [
           "CryptoNight"
          ],
          [
           "Jump Consistent Hash"
          ],
          [
           "CryptoNight"
          ],
          [
           "X16R"
          ],
          [
           "HMQ1725"
          ],
          [
           "X11"
          ],
          [
           "Scrypt"
          ],
          [
           "CryptoNight-V7"
          ],
          [
           "Cryptonight-GPU"
          ],
          [
           "XEVAN"
          ],
          [
           "CryptoNight Heavy"
          ],
          [
           "SHA-256"
          ],
          [
           "X11"
          ],
          [
           "X16R"
          ],
          [
           "Equihash"
          ],
          [
           "Lyra2Z"
          ],
          [
           "SHA-256"
          ],
          [
           "CryptoNight"
          ],
          [
           "Blake"
          ],
          [
           "Blake"
          ],
          [
           "Equihash"
          ],
          [
           "Exosis"
          ],
          [
           "Scrypt"
          ],
          [
           "Equihash"
          ],
          [
           "Equihash"
          ],
          [
           "QuBit"
          ],
          [
           "SHA-256"
          ],
          [
           "X13"
          ],
          [
           "SHA-256"
          ],
          [
           "Scrypt"
          ],
          [
           "NeoScrypt"
          ],
          [
           "Blake"
          ],
          [
           "Scrypt"
          ],
          [
           "SHA-256"
          ],
          [
           "Scrypt"
          ],
          [
           "Groestl"
          ],
          [
           "Scrypt"
          ],
          [
           "Scrypt"
          ],
          [
           "Multiple"
          ],
          [
           "Equihash+Scrypt"
          ],
          [
           "Ethash"
          ],
          [
           "CryptoNight"
          ],
          [
           "Equihash"
          ]
         ],
         "hovertemplate": "<b>%{hovertext}</b><br><br>Class=%{marker.color}<br>PC 1=%{x}<br>PC 2=%{y}<br>PC 3=%{z}<br>Algorithm=%{customdata[0]}<extra></extra>",
         "hovertext": [
          "Bitcoin",
          "Ethereum",
          "Litecoin",
          "Monero",
          "Ethereum Classic",
          "ZCash",
          "DigiByte",
          "ProsperCoin",
          "Spreadcoin",
          "Argentum",
          "MyriadCoin",
          "MoonCoin",
          "ZetaCoin",
          "SexCoin",
          "Quatloo",
          "QuarkCoin",
          "Riecoin",
          "Digitalcoin ",
          "Catcoin",
          "CannaCoin",
          "CryptCoin",
          "Verge",
          "DevCoin",
          "EarthCoin",
          "E-Gulden",
          "Einsteinium",
          "Emerald",
          "Franko",
          "FeatherCoin",
          "GrandCoin",
          "GlobalCoin",
          "GoldCoin",
          "Infinite Coin",
          "IXcoin",
          "KrugerCoin",
          "LuckyCoin",
          "Litebar ",
          "MegaCoin",
          "MediterraneanCoin",
          "MinCoin",
          "NobleCoin",
          "Namecoin",
          "NyanCoin",
          "RonPaulCoin",
          "StableCoin",
          "SmartCoin",
          "SysCoin",
          "TigerCoin",
          "TerraCoin",
          "UnbreakableCoin",
          "Unobtanium",
          "UroCoin",
          "ViaCoin",
          "Vertcoin",
          "WorldCoin",
          "JouleCoin",
          "ByteCoin",
          "DigitalNote ",
          "MonaCoin",
          "Gulden",
          "PesetaCoin",
          "Wild Beast Coin",
          "Flo",
          "ArtByte",
          "Folding Coin",
          "Unitus",
          "CypherPunkCoin",
          "OmniCron",
          "GreenCoin",
          "Cryptonite",
          "MasterCoin",
          "SoonCoin",
          "1Credit",
          "MarsCoin ",
          "Crypto",
          "Anarchists Prime",
          "BowsCoin",
          "Song Coin",
          "BitZeny",
          "Expanse",
          "Siacoin",
          "MindCoin",
          "I0coin",
          "Revolution VR",
          "HOdlcoin",
          "Gamecredits",
          "CarpeDiemCoin",
          "Adzcoin",
          "SoilCoin",
          "YoCoin",
          "SibCoin",
          "Francs",
          "BolivarCoin",
          "Omni",
          "PizzaCoin",
          "Komodo",
          "Karbo",
          "ZayedCoin",
          "Circuits of Value",
          "DopeCoin",
          "DollarCoin",
          "Shilling",
          "ZCoin",
          "Elementrem",
          "ZClassic",
          "KiloCoin",
          "ArtexCoin",
          "Kurrent",
          "Cannabis Industry Coin",
          "OsmiumCoin",
          "Bikercoins",
          "HexxCoin",
          "PacCoin",
          "Citadel",
          "BeaverCoin",
          "VaultCoin",
          "Zero",
          "Canada eCoin",
          "Zoin",
          "DubaiCoin",
          "EB3coin",
          "Coinonat",
          "BenjiRolls",
          "ILCoin",
          "EquiTrader",
          "Quantum Resistant Ledger",
          "Dynamic",
          "Nano",
          "ChanCoin",
          "Dinastycoin",
          "DigitalPrice",
          "Unify",
          "SocialCoin",
          "ArcticCoin",
          "DAS",
          "LeviarCoin",
          "Bitcore",
          "gCn Coin",
          "SmartCash",
          "Onix",
          "Bitcoin Cash",
          "Sojourn Coin",
          "NewYorkCoin",
          "FrazCoin",
          "Kronecoin",
          "AdCoin",
          "Linx",
          "Sumokoin",
          "BitcoinZ",
          "Elements",
          "VIVO Coin",
          "Bitcoin Gold",
          "Pirl",
          "eBoost",
          "Pura",
          "Innova",
          "Ellaism",
          "GoByte",
          "SHIELD",
          "UltraNote",
          "BitCoal",
          "DaxxCoin",
          "AC3",
          "Lethean",
          "PopularCoin",
          "Photon",
          "Sucre",
          "SparksPay",
          "GunCoin",
          "IrishCoin",
          "Pioneer Coin",
          "UnitedBitcoin",
          "Interzone",
          "TurtleCoin",
          "MUNcoin",
          "Niobio Cash",
          "ShareChain",
          "Travelflex",
          "KREDS",
          "BitFlip",
          "LottoCoin",
          "Crypto Improvement Fund",
          "Callisto Network",
          "BitTube",
          "Poseidon",
          "Aidos Kuneen",
          "Bitrolium",
          "Alpenschillling",
          "FuturoCoin",
          "Monero Classic",
          "Jumpcoin",
          "Infinex",
          "KEYCO",
          "GINcoin",
          "PlatinCoin",
          "Loki",
          "Newton Coin",
          "MassGrid",
          "PluraCoin",
          "Motion",
          "PlusOneCoin",
          "Axe",
          "HexCoin",
          "Webchain",
          "Ryo",
          "Urals Coin",
          "Qwertycoin",
          "Project Pai",
          "Azart",
          "Xchange",
          "CrypticCoin",
          "Actinium",
          "Bitcoin SV",
          "FREDEnergy",
          "Universal Molecule",
          "Lithium",
          "PirateCash",
          "Exosis",
          "Block-Logic",
          "Beam",
          "Bithereum",
          "SLICE",
          "BLAST",
          "Bitcoin Rhodium",
          "GlobalToken",
          "SolarCoin",
          "UFO Coin",
          "BlakeCoin",
          "Crypto Escudo",
          "Crown Coin",
          "SmileyCoin",
          "Groestlcoin",
          "Bata",
          "Pakcoin",
          "JoinCoin",
          "Vollar",
          "Reality Clash",
          "Beldex",
          "Horizen"
         ],
         "legendgroup": "3",
         "marker": {
          "color": [
           3,
           3,
           3,
           3,
           3,
           3,
           3,
           3,
           3,
           3,
           3,
           3,
           3,
           3,
           3,
           3,
           3,
           3,
           3,
           3,
           3,
           3,
           3,
           3,
           3,
           3,
           3,
           3,
           3,
           3,
           3,
           3,
           3,
           3,
           3,
           3,
           3,
           3,
           3,
           3,
           3,
           3,
           3,
           3,
           3,
           3,
           3,
           3,
           3,
           3,
           3,
           3,
           3,
           3,
           3,
           3,
           3,
           3,
           3,
           3,
           3,
           3,
           3,
           3,
           3,
           3,
           3,
           3,
           3,
           3,
           3,
           3,
           3,
           3,
           3,
           3,
           3,
           3,
           3,
           3,
           3,
           3,
           3,
           3,
           3,
           3,
           3,
           3,
           3,
           3,
           3,
           3,
           3,
           3,
           3,
           3,
           3,
           3,
           3,
           3,
           3,
           3,
           3,
           3,
           3,
           3,
           3,
           3,
           3,
           3,
           3,
           3,
           3,
           3,
           3,
           3,
           3,
           3,
           3,
           3,
           3,
           3,
           3,
           3,
           3,
           3,
           3,
           3,
           3,
           3,
           3,
           3,
           3,
           3,
           3,
           3,
           3,
           3,
           3,
           3,
           3,
           3,
           3,
           3,
           3,
           3,
           3,
           3,
           3,
           3,
           3,
           3,
           3,
           3,
           3,
           3,
           3,
           3,
           3,
           3,
           3,
           3,
           3,
           3,
           3,
           3,
           3,
           3,
           3,
           3,
           3,
           3,
           3,
           3,
           3,
           3,
           3,
           3,
           3,
           3,
           3,
           3,
           3,
           3,
           3,
           3,
           3,
           3,
           3,
           3,
           3,
           3,
           3,
           3,
           3,
           3,
           3,
           3,
           3,
           3,
           3,
           3,
           3,
           3,
           3,
           3,
           3,
           3,
           3,
           3,
           3,
           3,
           3,
           3,
           3,
           3,
           3,
           3,
           3,
           3,
           3,
           3,
           3,
           3,
           3,
           3,
           3,
           3,
           3,
           3,
           3,
           3,
           3,
           3,
           3,
           3,
           3,
           3,
           3
          ],
          "coloraxis": "coloraxis",
          "symbol": "diamond"
         },
         "mode": "markers",
         "name": "3",
         "scene": "scene",
         "showlegend": true,
         "type": "scatter3d",
         "x": [
          -0.147471112600781,
          -0.1577784737025689,
          -0.17302340799731308,
          -0.14532331325467363,
          -0.15622195928160948,
          -0.11873123302730881,
          0.1622489520222679,
          -0.17416920245331488,
          -0.22288304282408938,
          -0.1737860420576283,
          -0.09102330361399569,
          2.545028160347163,
          -0.14455710240167985,
          -0.1710427503831269,
          -0.17359032149471781,
          -0.21885838823168777,
          -0.19384119144233308,
          -0.1736387351064588,
          -0.17415146867004158,
          -0.17423786893658258,
          -0.22297237040189818,
          0.18602852054266295,
          0.2302267513278833,
          0.07439675056018316,
          -0.17398422083909793,
          -0.16959150404937973,
          -0.17392359100906038,
          -0.17429485815855805,
          -0.17649888700522517,
          -0.15352712939587138,
          -0.17309038198642107,
          -0.17336784200554634,
          1.573970870004848,
          -0.14743248246409166,
          -0.170658594063091,
          -0.17401065525800996,
          -0.17436533660592474,
          -0.17362487476717842,
          -0.1513077552326412,
          -0.17424666390297472,
          -0.039256550662104386,
          -0.1475100921365176,
          -0.16791290104136294,
          -0.17422618124439354,
          -0.1723221141342738,
          -0.1737131378654613,
          -0.13466828333199218,
          -0.14697404525099816,
          -0.14726121246654253,
          -0.1472444591120149,
          -0.1478346099839808,
          -0.2231461389584371,
          -0.17394268759957088,
          -0.19266305446894766,
          -0.17104757042354515,
          -0.14704132542980536,
          3.8553333763448046,
          0.4555408225523106,
          -0.17281085967362145,
          -0.15742077088402004,
          -0.17153011340188118,
          -0.17436755468863727,
          -0.1713951103353318,
          -0.1576246836862153,
          -0.1341379207140927,
          -0.12501574439802823,
          -0.1788555913536923,
          -0.17424063884753802,
          -0.04724884171732205,
          -0.12544783613387386,
          -0.17437643330891986,
          -0.14753786936580074,
          0.47713957069508045,
          -0.2225335588444423,
          -0.1503390159910888,
          -0.14727795997603857,
          -0.22281837200249843,
          -0.17250167931999008,
          -0.17169420349704484,
          -0.15884603721560525,
          0.38423800132027763,
          -0.22285373394766225,
          -0.1474336048036891,
          -0.17033577947575457,
          -0.150378361792907,
          -0.17294037540534685,
          0.27089695954917925,
          -0.2220149332204377,
          -0.1563013167147979,
          -0.17318838026729153,
          -0.1461397208149778,
          -0.17416648069723295,
          -0.22281703982606038,
          -0.17437649178227255,
          -0.2229670094202063,
          -0.12197473881171451,
          0.30051596266520253,
          -0.1476936095385501,
          -0.10509669048569419,
          -0.17154460633205978,
          -0.1476522458405662,
          -0.17404009793123973,
          -0.15044204799005795,
          -0.15858826081075258,
          -0.11875284988594242,
          -0.10117220954834236,
          -0.20955373132172117,
          -0.22079658193899399,
          0.30051025059373565,
          -0.17435824430160402,
          0.30064093771752515,
          -0.15087907013030236,
          0.4915804507698086,
          -0.14408930765647512,
          -0.17432653618922728,
          -0.2157078743716829,
          -0.11876519692282281,
          -0.17246048743327655,
          -0.15059752882902605,
          -0.14061111111412322,
          -0.14527811434979213,
          -0.1857356004342806,
          -0.17388913985454935,
          -0.11403627187813971,
          -0.1737114587374133,
          -0.14394649126996684,
          -0.16017472719983655,
          -0.016063835598830383,
          -0.15016306906645044,
          0.33661824479885927,
          -0.22202343741062244,
          -0.17403035241490564,
          -0.17379412083044635,
          -0.22241783709474364,
          -0.2229949995426136,
          0.30090500626828476,
          -0.15976412270721158,
          3.233908018120084,
          -0.1250293253430348,
          -0.21387469065804243,
          -0.14747027682540606,
          -0.10002341433248924,
          1.572627178256505,
          -0.1741282040967046,
          -0.1735802950822216,
          -0.17328138369901563,
          -0.1732683147392878,
          0.30108837292800483,
          0.09341396171948857,
          -0.17739466684274527,
          -0.1811854435965586,
          -0.11861127723478998,
          -0.15506129809112584,
          -0.1724586966037742,
          -0.21854175956978103,
          -0.1810309815293456,
          -0.15695523508226047,
          -0.18113109435179328,
          -0.11525221643421857,
          1.1378567114364966,
          0.30049307929108765,
          -0.08191245775825802,
          -0.2182847215181802,
          -0.13306485078594693,
          -0.09055135840471648,
          1.1042548611218947,
          -0.22296900460902266,
          -0.18118296070338777,
          -0.17422420999841476,
          -0.17337951639931973,
          -0.22289443487123808,
          -0.14744966862585782,
          -0.198995326669671,
          8.031336861656118,
          -0.14562105483768575,
          0.30436523483630423,
          0.018592974014928893,
          -0.1545641277570482,
          -0.1782282678828243,
          -0.17395306995391308,
          0.1329933204657096,
          -0.21703870083401106,
          -0.11003727482934857,
          0.30840930248745796,
          -0.17418994696392892,
          -0.17835327870485676,
          -0.11760271643579011,
          -0.1482275108137412,
          -0.22206420955499226,
          0.3006755557155733,
          -0.18579487237698925,
          -0.1507244227817112,
          -0.16401967807371848,
          -0.1505263482143326,
          0.3045997050263273,
          0.563957494920453,
          2.107870510533233,
          -0.15779696520801445,
          0.3142735875934936,
          -0.19573553786332162,
          -0.1456641134147399,
          -0.22295117328188732,
          -0.1742145363078225,
          -0.1329499408575385,
          -0.1661317569820314,
          -0.17317175475119279,
          3.0852163333095843,
          -0.10731274880077714,
          -0.2229225668749659,
          -0.19516380565874591,
          -0.013410872039484222,
          -0.14992461527931442,
          -0.14747031439059693,
          0.38037918373802093,
          -0.14507129775505756,
          -0.14546276451719692,
          -0.23695192935832646,
          -0.13908051691053522,
          -0.17310752093199597,
          -0.11667307396890018,
          -0.11844416588363554,
          -0.17806726471256262,
          -0.14674676038771692,
          -0.1095748127527461,
          -0.1456154292021372,
          0.52101635888243,
          -0.10637670493183317,
          -0.09597698728451724,
          -0.15777526879366602,
          -0.1472605829217627,
          0.5411098562073741,
          -0.19340234035317386,
          -0.17429125535864085,
          -0.1722482101794915,
          -0.1257506443458415,
          -0.11256230883453243,
          -0.15862140719184464,
          0.32224041427554245,
          -0.1187322899682423
         ],
         "y": [
          -1.3415104862602898,
          -1.9800537619157184,
          -1.0671836335286182,
          -2.2208212829490814,
          -1.9801622348602848,
          -2.215678518658189,
          -1.8505570792409092,
          -1.0671703062123008,
          -0.9334917222727429,
          -1.0671906932083568,
          -1.8439256089228389,
          -1.2691003271974446,
          -1.3415360804649625,
          -1.0672481424186915,
          -1.0672113013521414,
          -0.47423586605469004,
          -1.186399483234109,
          -1.0671750229177779,
          -1.067169804257639,
          -1.067166540833876,
          -0.9334927980220443,
          -1.84665544531899,
          -1.3460575046623853,
          -1.0699249000023632,
          -1.0671650703084803,
          -1.0672432308379238,
          -1.0671713438521855,
          -1.0671667708383612,
          -1.6288337893622529,
          -1.0676026160615797,
          -1.0671753605551868,
          -1.0671848451874826,
          -1.0834797897106136,
          -1.3415093928344355,
          -1.0672484695225022,
          -1.0671650922008888,
          -1.0671615853313035,
          -1.0671701520272865,
          -2.2112232148478475,
          -1.0671645090875186,
          -1.0742313567831263,
          -1.341511589575891,
          -1.0672227430787296,
          -1.067171918996745,
          -1.0672843548043438,
          -1.0671793325840335,
          -1.3417778335563142,
          -1.341515310140207,
          -1.3415197980457443,
          -1.341546924523034,
          -1.3415057036277627,
          -0.9334846425335624,
          -1.0671653473777247,
          -1.29332189605344,
          -1.0672594794967658,
          -1.3415157531452102,
          -2.369815199918177,
          -2.339324730778634,
          -1.0671929575171257,
          -1.0679012295486896,
          -1.067201205560214,
          -1.067162576368605,
          -1.0671927459319148,
          -1.0674130943779845,
          -2.169058339915519,
          -1.8434350974009452,
          -1.5844327842665855,
          -1.0671595239269704,
          -1.0708259100061097,
          -2.133138078784695,
          -1.0671613688206822,
          -1.34151237581025,
          -1.1155424622650096,
          -0.9334912724683626,
          -2.2418788110170125,
          -1.3415288137683419,
          -0.9334906180991154,
          -1.0672605583679315,
          -1.0672665817963698,
          -1.9800962589825482,
          -2.183890837735374,
          -0.9334879873502842,
          -1.3415094246022532,
          -1.0671990782617637,
          -2.199094901515761,
          -1.0671812832914513,
          -1.3453612228628324,
          -0.9335136357913628,
          -2.210149225399399,
          -1.0672495702605758,
          -2.194766880206839,
          -1.0671695028392976,
          -0.9334934857267003,
          -1.0671613682749794,
          -0.9334977306154386,
          -2.1474590952820365,
          -2.336456635045552,
          -1.3415086026123,
          -1.8437428891129448,
          -1.0672260307638164,
          -1.341508087182453,
          -1.0671731889127163,
          -2.2149014795960476,
          -1.9800957169027742,
          -2.2156791305232826,
          -1.0723522107081698,
          -0.9334630763461762,
          -0.9335837424174236,
          -2.336464786396502,
          -1.067162375510569,
          -2.3364639926328414,
          -2.2418535757425566,
          -0.9858876802270834,
          -2.2209207261618156,
          -1.0671619470164244,
          -0.934000436193803,
          -2.2156765746712765,
          -1.0671793214037337,
          -2.2418535963887143,
          -2.2094096586979934,
          -1.0692426259095416,
          -0.6474854452311138,
          -1.0671729256975875,
          -1.3423646944959362,
          -1.0671943927974559,
          -2.2208585770479163,
          -2.1508068178222706,
          -2.1954685381170864,
          -2.19430185586407,
          -2.3368801641797408,
          -0.9335254978417652,
          -1.067165124444295,
          -1.0671989115487803,
          -0.9335076079748464,
          -0.9334940922401157,
          -2.336477581851156,
          -2.1552643880942646,
          -1.1159561833414886,
          -1.1232546091270201,
          -0.9340211813072589,
          -1.3415104626036753,
          -1.0726828609185732,
          -1.0177119889175428,
          -1.0671684194202786,
          -1.0671993962152426,
          -1.06720255686912,
          -1.0672021869522685,
          -2.3364977326340193,
          -2.2249115046725425,
          -0.9334970479808653,
          -1.6287420052111672,
          -2.215675123309981,
          -2.210205867514983,
          -1.067179270714312,
          -0.9336085323920725,
          -1.628750707169749,
          -1.9802338335883591,
          -1.628743953257821,
          -1.8436381210301127,
          -2.3744868105142922,
          -2.336459098593631,
          -1.9851697117342808,
          -0.9337465236727746,
          -2.221200264335925,
          -1.0684199190179449,
          -1.281758356537475,
          -0.9334940101539658,
          -1.6287375769306358,
          -1.628888523367221,
          -1.0671791865012903,
          -0.9334942237257152,
          -1.3415092735263603,
          -1.2039977870537548,
          -2.8439622267487215,
          -2.352026035135115,
          -2.336584466201709,
          -1.0689622576858018,
          -2.2101508976327677,
          -1.2936512745269382,
          -1.067177988923264,
          -1.0718304291993366,
          -0.9336749383770737,
          -1.9834236165849868,
          -2.336952284466061,
          -1.0671708933855875,
          -2.148672660104492,
          -2.2156821663524746,
          -2.215041153701652,
          -0.9335266518971419,
          -2.336458218968075,
          -0.6474673288769839,
          -2.2418610231634983,
          -2.2285987130741454,
          -2.2148959486761233,
          -2.3367695819992194,
          -2.2002511851856528,
          -2.4189376111005743,
          -2.1129545311261384,
          -2.336786295900538,
          -1.297613868743279,
          -2.218929186121295,
          -0.9334943770387759,
          -1.0671723921766374,
          -2.221742138684596,
          -2.2541259624304453,
          -0.7457990185558556,
          -2.2627647933920914,
          -1.3418838517198446,
          -0.9334964726693804,
          -1.2976542849114026,
          -2.218202309454787,
          -2.21493230215547,
          -1.341510463666958,
          -2.3400576199323377,
          -2.178100693761306,
          -2.178053746553767,
          -0.32973941258126344,
          -2.246095904249693,
          -1.067212162358391,
          -2.2157958899653,
          -2.2156775737589234,
          -1.5844831040551306,
          -1.3415212158233791,
          -0.36818360673591555,
          -1.3415647322045545,
          -1.118731165579288,
          -1.629510267998104,
          -2.1817190632661694,
          -1.0674173566888239,
          -1.3415197802264822,
          -1.0832257678463515,
          -1.1864023145637332,
          -1.067162139579943,
          -1.067232872261039,
          -1.8434579324752922,
          -2.139112870781733,
          -1.980095407563808,
          -2.3368514900769677,
          -2.2156785485748975
         ],
         "z": [
          0.17870687138752414,
          0.34122113139295185,
          0.0031870138575573206,
          0.4182270283959739,
          0.34120822226534353,
          0.31643785294537147,
          0.28193951611123746,
          0.0032040771577520094,
          0.024449288900055818,
          0.0032001816171055328,
          0.28529240214480545,
          -0.01793516924053979,
          0.17866253228241807,
          0.0031622309813103024,
          0.0031993503735770978,
          0.06198918292791652,
          0.10304667987022717,
          0.0031960121911843655,
          0.003203732572103832,
          0.003204762573331594,
          0.02445085952630472,
          0.2811105188617026,
          0.17309963471939196,
          -0.0005131203995431789,
          0.0032004827747335552,
          0.003138142151332898,
          0.0032002127273165525,
          0.003205712741452063,
          0.22284305886191538,
          0.0029185185444411963,
          0.003187159527818025,
          0.003192736244411356,
          -0.02328676506428751,
          0.17870612076424053,
          0.003156039419504679,
          0.003200913872449974,
          0.0032062661340271073,
          0.0031952338658136023,
          0.3673787201734095,
          0.003204674260849752,
          0.0018191054821809036,
          0.17870762879999752,
          0.0031085966596169153,
          0.003205184314265526,
          0.003187090334825112,
          0.00319770837071568,
          0.17852967029716782,
          0.17869936015164722,
          0.17870452636688258,
          0.1787073377407431,
          0.1787122215982528,
          0.024452750123925785,
          0.0031998408416340973,
          0.20933095609081737,
          0.0031635976302519307,
          0.17870050138629673,
          0.3167545247524698,
          0.36841366327457065,
          0.0031846272858957084,
          0.003015588739405809,
          0.003164798591022948,
          0.00320641473285029,
          0.00316164817681475,
          0.002963416817947215,
          0.3937444713410794,
          0.28578780976901996,
          0.21847487525679224,
          0.003204009990165415,
          0.0015616527635831403,
          0.3251964634052312,
          0.0032064214496195366,
          0.17870816854013155,
          -0.0018586345008997837,
          0.024443571219886,
          0.3375539619954391,
          0.178705822578931,
          0.02444811482970894,
          0.0031872972738910656,
          0.003174889385335587,
          0.34124327087698214,
          0.3494513280186411,
          0.024448389197519405,
          0.17870614257245315,
          0.003145191800227009,
          0.3368491705421165,
          0.0031854004488963824,
          0.1723610703027379,
          0.024437703852373087,
          0.35761989749190454,
          0.0031971826577194004,
          0.3766855382399539,
          0.0032039417210012544,
          0.02444841914507362,
          0.0032064223356898435,
          0.02445133320853206,
          0.23785392637827044,
          0.3706012789402797,
          0.17871026488606792,
          0.28549982234162463,
          0.003167855047019534,
          0.17870953563178132,
          0.0032023114761806615,
          0.2854974279596701,
          0.34123902966262953,
          0.3164382729831675,
          0.0026094392609062665,
          0.024229910779097006,
          0.0244259172671284,
          0.3706022979842417,
          0.0032062409453838072,
          0.37060008879993744,
          0.337559850399649,
          0.018819900464773394,
          0.41821832219071603,
          0.0032056781279880737,
          0.02439076722350468,
          0.3164381826978705,
          0.0031773965357251442,
          0.33755528781522015,
          0.3987220521222133,
          0.0029711609695916488,
          -0.0010151470399937714,
          0.003199833915783645,
          0.17826184006654305,
          0.0031993927883308187,
          0.4182089431029762,
          0.4202117441516449,
          0.3572576948097011,
          0.33428979682840265,
          0.3700640494263552,
          0.02443918990122737,
          0.003201236908140236,
          0.0032012466485091848,
          0.024443551483500043,
          0.024451373528990638,
          0.37059735163309376,
          0.49769694922959234,
          -0.046510055855829464,
          0.1290484116671624,
          0.024363401601590992,
          0.17870685514755252,
          0.002628392103712378,
          -0.030739706660281172,
          0.0032031979672853287,
          0.003197834746377488,
          0.0031933473944629424,
          0.0031930934511338483,
          0.37059666871605823,
          0.31404747491092044,
          0.023712342380577598,
          0.22290861545531337,
          0.3164355220809477,
          0.3576062293046174,
          0.0031773617380659387,
          0.024392174877557432,
          0.22290710000263667,
          0.3412282490844787,
          0.22290795563469698,
          0.2856525775311763,
          0.3613468310978373,
          0.3706019299633511,
          0.340572478982503,
          0.024403690410006177,
          0.418071341292142,
          0.0019903140456222833,
          0.07623161040703845,
          0.0244509427159028,
          0.22290807190876058,
          0.22281239778600806,
          0.0031922824054517397,
          0.024449757909940924,
          0.17870638586214732,
          0.10127785241891513,
          0.3029328829749571,
          0.25794570096707864,
          0.37055339499823975,
          0.0002822785653747982,
          0.357591920639905,
          0.20913434437569434,
          0.0032014459353805003,
          -0.0012466397013539859,
          0.024375351435037343,
          0.34083004729693456,
          0.3705296279576785,
          0.0032044802449291317,
          0.5222014002728173,
          0.3164199696686231,
          0.28547739571897046,
          0.024439982145926766,
          0.3705988713051074,
          -0.001016244984074832,
          0.3375581893604502,
          0.395637398847047,
          0.285498166202215,
          0.3705706323049811,
          0.415429915505948,
          0.3506709381661158,
          0.4383157996209293,
          0.37041567886663096,
          0.16809568306878483,
          0.32392117251999114,
          0.024450695295154014,
          0.003205049280886793,
          0.4181310639481068,
          0.40591794162508743,
          0.13349989261135614,
          0.3816549216901353,
          0.17809817500567163,
          0.02445046964416872,
          0.16809100639296964,
          0.31501701820811057,
          0.285492541354366,
          0.17870685587748275,
          0.3697156347776347,
          0.4042290697507582,
          0.4042300813154558,
          0.07144371425281004,
          0.3716815024296443,
          0.003191620066697025,
          0.3164178214438454,
          0.3164330910271017,
          0.2184678122824366,
          0.17869634613895272,
          -0.09782527810023922,
          0.17868294843444005,
          -0.0022076492150482304,
          0.22178297678890496,
          0.4038442907397318,
          0.002966342841462111,
          0.17870451413418015,
          -0.006568752634813523,
          0.1030398860970515,
          0.0032051279675416513,
          0.0031800408892801463,
          0.28580232077149903,
          0.3109511325242972,
          0.3412395319430421,
          0.3702939136991096,
          0.316437873482821
         ]
        },
        {
         "customdata": [
          [
           "Proof-of-BibleHash"
          ],
          [
           "SHA-256 + Hive"
          ],
          [
           "ECC 256K1"
          ],
          [
           "Leased POS"
          ]
         ],
         "hovertemplate": "<b>%{hovertext}</b><br><br>Class=%{marker.color}<br>PC 1=%{x}<br>PC 2=%{y}<br>PC 3=%{z}<br>Algorithm=%{customdata[0]}<extra></extra>",
         "hovertext": [
          "BiblePay",
          "LitecoinCash",
          "Acute Angle Cloud",
          "Waves"
         ],
         "legendgroup": "1",
         "marker": {
          "color": [
           1,
           1,
           1,
           1
          ],
          "coloraxis": "coloraxis",
          "symbol": "square"
         },
         "mode": "markers",
         "name": "1",
         "scene": "scene",
         "showlegend": true,
         "type": "scatter3d",
         "x": [
          -0.23245243235049065,
          -0.35165128076739277,
          -0.3315918211372003,
          -0.41208435839130536
         ],
         "y": [
          4.446835399662548,
          1.463816152099527,
          2.8973017206118272,
          3.552175827576075
         ],
         "z": [
          16.739793034304082,
          12.622648146314956,
          15.963665534074257,
          16.318177383549937
         ]
        },
        {
         "customdata": [
          [
           "TRC10"
          ]
         ],
         "hovertemplate": "<b>%{hovertext}</b><br><br>Class=%{marker.color}<br>PC 1=%{x}<br>PC 2=%{y}<br>PC 3=%{z}<br>Algorithm=%{customdata[0]}<extra></extra>",
         "hovertext": [
          "BitTorrent"
         ],
         "legendgroup": "2",
         "marker": {
          "color": [
           2
          ],
          "coloraxis": "coloraxis",
          "symbol": "x"
         },
         "mode": "markers",
         "name": "2",
         "scene": "scene",
         "showlegend": true,
         "type": "scatter3d",
         "x": [
          34.060535012881886
         ],
         "y": [
          1.6252098436624742
         ],
         "z": [
          -0.5237967463165669
         ]
        }
       ],
       "layout": {
        "coloraxis": {
         "colorbar": {
          "title": {
           "text": "Class"
          }
         },
         "colorscale": [
          [
           0,
           "#0d0887"
          ],
          [
           0.1111111111111111,
           "#46039f"
          ],
          [
           0.2222222222222222,
           "#7201a8"
          ],
          [
           0.3333333333333333,
           "#9c179e"
          ],
          [
           0.4444444444444444,
           "#bd3786"
          ],
          [
           0.5555555555555556,
           "#d8576b"
          ],
          [
           0.6666666666666666,
           "#ed7953"
          ],
          [
           0.7777777777777778,
           "#fb9f3a"
          ],
          [
           0.8888888888888888,
           "#fdca26"
          ],
          [
           1,
           "#f0f921"
          ]
         ]
        },
        "legend": {
         "title": {
          "text": "Class"
         },
         "tracegroupgap": 0,
         "x": 0,
         "y": 1
        },
        "margin": {
         "t": 60
        },
        "scene": {
         "domain": {
          "x": [
           0,
           1
          ],
          "y": [
           0,
           1
          ]
         },
         "xaxis": {
          "title": {
           "text": "PC 1"
          }
         },
         "yaxis": {
          "title": {
           "text": "PC 2"
          }
         },
         "zaxis": {
          "title": {
           "text": "PC 3"
          }
         }
        },
        "template": {
         "data": {
          "bar": [
           {
            "error_x": {
             "color": "#2a3f5f"
            },
            "error_y": {
             "color": "#2a3f5f"
            },
            "marker": {
             "line": {
              "color": "#E5ECF6",
              "width": 0.5
             },
             "pattern": {
              "fillmode": "overlay",
              "size": 10,
              "solidity": 0.2
             }
            },
            "type": "bar"
           }
          ],
          "barpolar": [
           {
            "marker": {
             "line": {
              "color": "#E5ECF6",
              "width": 0.5
             },
             "pattern": {
              "fillmode": "overlay",
              "size": 10,
              "solidity": 0.2
             }
            },
            "type": "barpolar"
           }
          ],
          "carpet": [
           {
            "aaxis": {
             "endlinecolor": "#2a3f5f",
             "gridcolor": "white",
             "linecolor": "white",
             "minorgridcolor": "white",
             "startlinecolor": "#2a3f5f"
            },
            "baxis": {
             "endlinecolor": "#2a3f5f",
             "gridcolor": "white",
             "linecolor": "white",
             "minorgridcolor": "white",
             "startlinecolor": "#2a3f5f"
            },
            "type": "carpet"
           }
          ],
          "choropleth": [
           {
            "colorbar": {
             "outlinewidth": 0,
             "ticks": ""
            },
            "type": "choropleth"
           }
          ],
          "contour": [
           {
            "colorbar": {
             "outlinewidth": 0,
             "ticks": ""
            },
            "colorscale": [
             [
              0,
              "#0d0887"
             ],
             [
              0.1111111111111111,
              "#46039f"
             ],
             [
              0.2222222222222222,
              "#7201a8"
             ],
             [
              0.3333333333333333,
              "#9c179e"
             ],
             [
              0.4444444444444444,
              "#bd3786"
             ],
             [
              0.5555555555555556,
              "#d8576b"
             ],
             [
              0.6666666666666666,
              "#ed7953"
             ],
             [
              0.7777777777777778,
              "#fb9f3a"
             ],
             [
              0.8888888888888888,
              "#fdca26"
             ],
             [
              1,
              "#f0f921"
             ]
            ],
            "type": "contour"
           }
          ],
          "contourcarpet": [
           {
            "colorbar": {
             "outlinewidth": 0,
             "ticks": ""
            },
            "type": "contourcarpet"
           }
          ],
          "heatmap": [
           {
            "colorbar": {
             "outlinewidth": 0,
             "ticks": ""
            },
            "colorscale": [
             [
              0,
              "#0d0887"
             ],
             [
              0.1111111111111111,
              "#46039f"
             ],
             [
              0.2222222222222222,
              "#7201a8"
             ],
             [
              0.3333333333333333,
              "#9c179e"
             ],
             [
              0.4444444444444444,
              "#bd3786"
             ],
             [
              0.5555555555555556,
              "#d8576b"
             ],
             [
              0.6666666666666666,
              "#ed7953"
             ],
             [
              0.7777777777777778,
              "#fb9f3a"
             ],
             [
              0.8888888888888888,
              "#fdca26"
             ],
             [
              1,
              "#f0f921"
             ]
            ],
            "type": "heatmap"
           }
          ],
          "heatmapgl": [
           {
            "colorbar": {
             "outlinewidth": 0,
             "ticks": ""
            },
            "colorscale": [
             [
              0,
              "#0d0887"
             ],
             [
              0.1111111111111111,
              "#46039f"
             ],
             [
              0.2222222222222222,
              "#7201a8"
             ],
             [
              0.3333333333333333,
              "#9c179e"
             ],
             [
              0.4444444444444444,
              "#bd3786"
             ],
             [
              0.5555555555555556,
              "#d8576b"
             ],
             [
              0.6666666666666666,
              "#ed7953"
             ],
             [
              0.7777777777777778,
              "#fb9f3a"
             ],
             [
              0.8888888888888888,
              "#fdca26"
             ],
             [
              1,
              "#f0f921"
             ]
            ],
            "type": "heatmapgl"
           }
          ],
          "histogram": [
           {
            "marker": {
             "pattern": {
              "fillmode": "overlay",
              "size": 10,
              "solidity": 0.2
             }
            },
            "type": "histogram"
           }
          ],
          "histogram2d": [
           {
            "colorbar": {
             "outlinewidth": 0,
             "ticks": ""
            },
            "colorscale": [
             [
              0,
              "#0d0887"
             ],
             [
              0.1111111111111111,
              "#46039f"
             ],
             [
              0.2222222222222222,
              "#7201a8"
             ],
             [
              0.3333333333333333,
              "#9c179e"
             ],
             [
              0.4444444444444444,
              "#bd3786"
             ],
             [
              0.5555555555555556,
              "#d8576b"
             ],
             [
              0.6666666666666666,
              "#ed7953"
             ],
             [
              0.7777777777777778,
              "#fb9f3a"
             ],
             [
              0.8888888888888888,
              "#fdca26"
             ],
             [
              1,
              "#f0f921"
             ]
            ],
            "type": "histogram2d"
           }
          ],
          "histogram2dcontour": [
           {
            "colorbar": {
             "outlinewidth": 0,
             "ticks": ""
            },
            "colorscale": [
             [
              0,
              "#0d0887"
             ],
             [
              0.1111111111111111,
              "#46039f"
             ],
             [
              0.2222222222222222,
              "#7201a8"
             ],
             [
              0.3333333333333333,
              "#9c179e"
             ],
             [
              0.4444444444444444,
              "#bd3786"
             ],
             [
              0.5555555555555556,
              "#d8576b"
             ],
             [
              0.6666666666666666,
              "#ed7953"
             ],
             [
              0.7777777777777778,
              "#fb9f3a"
             ],
             [
              0.8888888888888888,
              "#fdca26"
             ],
             [
              1,
              "#f0f921"
             ]
            ],
            "type": "histogram2dcontour"
           }
          ],
          "mesh3d": [
           {
            "colorbar": {
             "outlinewidth": 0,
             "ticks": ""
            },
            "type": "mesh3d"
           }
          ],
          "parcoords": [
           {
            "line": {
             "colorbar": {
              "outlinewidth": 0,
              "ticks": ""
             }
            },
            "type": "parcoords"
           }
          ],
          "pie": [
           {
            "automargin": true,
            "type": "pie"
           }
          ],
          "scatter": [
           {
            "marker": {
             "colorbar": {
              "outlinewidth": 0,
              "ticks": ""
             }
            },
            "type": "scatter"
           }
          ],
          "scatter3d": [
           {
            "line": {
             "colorbar": {
              "outlinewidth": 0,
              "ticks": ""
             }
            },
            "marker": {
             "colorbar": {
              "outlinewidth": 0,
              "ticks": ""
             }
            },
            "type": "scatter3d"
           }
          ],
          "scattercarpet": [
           {
            "marker": {
             "colorbar": {
              "outlinewidth": 0,
              "ticks": ""
             }
            },
            "type": "scattercarpet"
           }
          ],
          "scattergeo": [
           {
            "marker": {
             "colorbar": {
              "outlinewidth": 0,
              "ticks": ""
             }
            },
            "type": "scattergeo"
           }
          ],
          "scattergl": [
           {
            "marker": {
             "colorbar": {
              "outlinewidth": 0,
              "ticks": ""
             }
            },
            "type": "scattergl"
           }
          ],
          "scattermapbox": [
           {
            "marker": {
             "colorbar": {
              "outlinewidth": 0,
              "ticks": ""
             }
            },
            "type": "scattermapbox"
           }
          ],
          "scatterpolar": [
           {
            "marker": {
             "colorbar": {
              "outlinewidth": 0,
              "ticks": ""
             }
            },
            "type": "scatterpolar"
           }
          ],
          "scatterpolargl": [
           {
            "marker": {
             "colorbar": {
              "outlinewidth": 0,
              "ticks": ""
             }
            },
            "type": "scatterpolargl"
           }
          ],
          "scatterternary": [
           {
            "marker": {
             "colorbar": {
              "outlinewidth": 0,
              "ticks": ""
             }
            },
            "type": "scatterternary"
           }
          ],
          "surface": [
           {
            "colorbar": {
             "outlinewidth": 0,
             "ticks": ""
            },
            "colorscale": [
             [
              0,
              "#0d0887"
             ],
             [
              0.1111111111111111,
              "#46039f"
             ],
             [
              0.2222222222222222,
              "#7201a8"
             ],
             [
              0.3333333333333333,
              "#9c179e"
             ],
             [
              0.4444444444444444,
              "#bd3786"
             ],
             [
              0.5555555555555556,
              "#d8576b"
             ],
             [
              0.6666666666666666,
              "#ed7953"
             ],
             [
              0.7777777777777778,
              "#fb9f3a"
             ],
             [
              0.8888888888888888,
              "#fdca26"
             ],
             [
              1,
              "#f0f921"
             ]
            ],
            "type": "surface"
           }
          ],
          "table": [
           {
            "cells": {
             "fill": {
              "color": "#EBF0F8"
             },
             "line": {
              "color": "white"
             }
            },
            "header": {
             "fill": {
              "color": "#C8D4E3"
             },
             "line": {
              "color": "white"
             }
            },
            "type": "table"
           }
          ]
         },
         "layout": {
          "annotationdefaults": {
           "arrowcolor": "#2a3f5f",
           "arrowhead": 0,
           "arrowwidth": 1
          },
          "autotypenumbers": "strict",
          "coloraxis": {
           "colorbar": {
            "outlinewidth": 0,
            "ticks": ""
           }
          },
          "colorscale": {
           "diverging": [
            [
             0,
             "#8e0152"
            ],
            [
             0.1,
             "#c51b7d"
            ],
            [
             0.2,
             "#de77ae"
            ],
            [
             0.3,
             "#f1b6da"
            ],
            [
             0.4,
             "#fde0ef"
            ],
            [
             0.5,
             "#f7f7f7"
            ],
            [
             0.6,
             "#e6f5d0"
            ],
            [
             0.7,
             "#b8e186"
            ],
            [
             0.8,
             "#7fbc41"
            ],
            [
             0.9,
             "#4d9221"
            ],
            [
             1,
             "#276419"
            ]
           ],
           "sequential": [
            [
             0,
             "#0d0887"
            ],
            [
             0.1111111111111111,
             "#46039f"
            ],
            [
             0.2222222222222222,
             "#7201a8"
            ],
            [
             0.3333333333333333,
             "#9c179e"
            ],
            [
             0.4444444444444444,
             "#bd3786"
            ],
            [
             0.5555555555555556,
             "#d8576b"
            ],
            [
             0.6666666666666666,
             "#ed7953"
            ],
            [
             0.7777777777777778,
             "#fb9f3a"
            ],
            [
             0.8888888888888888,
             "#fdca26"
            ],
            [
             1,
             "#f0f921"
            ]
           ],
           "sequentialminus": [
            [
             0,
             "#0d0887"
            ],
            [
             0.1111111111111111,
             "#46039f"
            ],
            [
             0.2222222222222222,
             "#7201a8"
            ],
            [
             0.3333333333333333,
             "#9c179e"
            ],
            [
             0.4444444444444444,
             "#bd3786"
            ],
            [
             0.5555555555555556,
             "#d8576b"
            ],
            [
             0.6666666666666666,
             "#ed7953"
            ],
            [
             0.7777777777777778,
             "#fb9f3a"
            ],
            [
             0.8888888888888888,
             "#fdca26"
            ],
            [
             1,
             "#f0f921"
            ]
           ]
          },
          "colorway": [
           "#636efa",
           "#EF553B",
           "#00cc96",
           "#ab63fa",
           "#FFA15A",
           "#19d3f3",
           "#FF6692",
           "#B6E880",
           "#FF97FF",
           "#FECB52"
          ],
          "font": {
           "color": "#2a3f5f"
          },
          "geo": {
           "bgcolor": "white",
           "lakecolor": "white",
           "landcolor": "#E5ECF6",
           "showlakes": true,
           "showland": true,
           "subunitcolor": "white"
          },
          "hoverlabel": {
           "align": "left"
          },
          "hovermode": "closest",
          "mapbox": {
           "style": "light"
          },
          "paper_bgcolor": "white",
          "plot_bgcolor": "#E5ECF6",
          "polar": {
           "angularaxis": {
            "gridcolor": "white",
            "linecolor": "white",
            "ticks": ""
           },
           "bgcolor": "#E5ECF6",
           "radialaxis": {
            "gridcolor": "white",
            "linecolor": "white",
            "ticks": ""
           }
          },
          "scene": {
           "xaxis": {
            "backgroundcolor": "#E5ECF6",
            "gridcolor": "white",
            "gridwidth": 2,
            "linecolor": "white",
            "showbackground": true,
            "ticks": "",
            "zerolinecolor": "white"
           },
           "yaxis": {
            "backgroundcolor": "#E5ECF6",
            "gridcolor": "white",
            "gridwidth": 2,
            "linecolor": "white",
            "showbackground": true,
            "ticks": "",
            "zerolinecolor": "white"
           },
           "zaxis": {
            "backgroundcolor": "#E5ECF6",
            "gridcolor": "white",
            "gridwidth": 2,
            "linecolor": "white",
            "showbackground": true,
            "ticks": "",
            "zerolinecolor": "white"
           }
          },
          "shapedefaults": {
           "line": {
            "color": "#2a3f5f"
           }
          },
          "ternary": {
           "aaxis": {
            "gridcolor": "white",
            "linecolor": "white",
            "ticks": ""
           },
           "baxis": {
            "gridcolor": "white",
            "linecolor": "white",
            "ticks": ""
           },
           "bgcolor": "#E5ECF6",
           "caxis": {
            "gridcolor": "white",
            "linecolor": "white",
            "ticks": ""
           }
          },
          "title": {
           "x": 0.05
          },
          "xaxis": {
           "automargin": true,
           "gridcolor": "white",
           "linecolor": "white",
           "ticks": "",
           "title": {
            "standoff": 15
           },
           "zerolinecolor": "white",
           "zerolinewidth": 2
          },
          "yaxis": {
           "automargin": true,
           "gridcolor": "white",
           "linecolor": "white",
           "ticks": "",
           "title": {
            "standoff": 15
           },
           "zerolinecolor": "white",
           "zerolinewidth": 2
          }
         }
        },
        "width": 800
       }
      },
      "text/html": [
       "<div>                            <div id=\"cba06999-2f82-4c04-bb21-cb23c4c18beb\" class=\"plotly-graph-div\" style=\"height:525px; width:800px;\"></div>            <script type=\"text/javascript\">                require([\"plotly\"], function(Plotly) {                    window.PLOTLYENV=window.PLOTLYENV || {};                                    if (document.getElementById(\"cba06999-2f82-4c04-bb21-cb23c4c18beb\")) {                    Plotly.newPlot(                        \"cba06999-2f82-4c04-bb21-cb23c4c18beb\",                        [{\"customdata\":[[\"Scrypt\"],[\"Scrypt\"],[\"X13\"],[\"X11\"],[\"SHA-512\"],[\"SHA-256\"],[\"SHA-256\"],[\"X15\"],[\"Scrypt\"],[\"Scrypt\"],[\"Scrypt\"],[\"Scrypt\"],[\"Scrypt\"],[\"Scrypt\"],[\"Groestl\"],[\"PoS\"],[\"Scrypt\"],[\"Scrypt\"],[\"X11\"],[\"X11\"],[\"SHA3\"],[\"Scrypt\"],[\"SHA-256\"],[\"Scrypt\"],[\"X13\"],[\"X13\"],[\"NeoScrypt\"],[\"Scrypt\"],[\"Scrypt\"],[\"Scrypt\"],[\"X11\"],[\"X11\"],[\"Multiple\"],[\"PHI1612\"],[\"X11\"],[\"Scrypt\"],[\"Scrypt\"],[\"Scrypt\"],[\"X11\"],[\"Multiple\"],[\"X13\"],[\"Scrypt\"],[\"Shabal256\"],[\"Counterparty\"],[\"SHA-256\"],[\"Groestl\"],[\"Scrypt\"],[\"X13\"],[\"Scrypt\"],[\"Scrypt\"],[\"X13\"],[\"X11\"],[\"Scrypt\"],[\"X11\"],[\"SHA3\"],[\"QUAIT\"],[\"X11\"],[\"Scrypt\"],[\"X13\"],[\"SHA-256\"],[\"X15\"],[\"BLAKE256\"],[\"SHA-256\"],[\"X11\"],[\"SHA-256\"],[\"NIST5\"],[\"Scrypt\"],[\"Scrypt\"],[\"X11\"],[\"Scrypt\"],[\"SHA-256\"],[\"Scrypt\"],[\"PoS\"],[\"X11\"],[\"SHA-256\"],[\"SHA-256\"],[\"NIST5\"],[\"X11\"],[\"POS 3.0\"],[\"Scrypt\"],[\"Scrypt\"],[\"Scrypt\"],[\"X13\"],[\"X11\"],[\"X11\"],[\"Scrypt\"],[\"SHA-256\"],[\"X11\"],[\"Scrypt\"],[\"Scrypt\"],[\"Scrypt\"],[\"Scrypt\"],[\"SHA-256D\"],[\"PoS\"],[\"Scrypt\"],[\"X11\"],[\"PoS\"],[\"X13\"],[\"X14\"],[\"PoS\"],[\"SHA-256D\"],[\"DPoS\"],[\"X11\"],[\"X13\"],[\"X11\"],[\"PoS\"],[\"Scrypt\"],[\"Scrypt\"],[\"PoS\"],[\"X11\"],[\"SHA-256\"],[\"Scrypt\"],[\"X11\"],[\"Scrypt\"],[\"Scrypt\"],[\"X11\"],[\"Scrypt\"],[\"Scrypt\"],[\"Scrypt\"],[\"Scrypt\"],[\"Quark\"],[\"QuBit\"],[\"Scrypt\"],[\"SHA-256\"],[\"X11\"],[\"Scrypt\"],[\"Scrypt\"],[\"Scrypt\"],[\"Scrypt\"],[\"X13\"],[\"Scrypt\"],[\"Scrypt\"],[\"X11\"],[\"Blake2S\"],[\"X11\"],[\"PoS\"],[\"X11\"],[\"PoS\"],[\"X11\"],[\"Scrypt\"],[\"Scrypt\"],[\"Scrypt\"],[\"SHA-256\"],[\"X11\"],[\"Scrypt\"],[\"PoS\"],[\"Scrypt\"],[\"X15\"],[\"SHA-256\"],[\"POS 3.0\"],[\"536\"],[\"NIST5\"],[\"NIST5\"],[\"Skein\"],[\"X13\"],[\"Scrypt\"],[\"X13\"],[\"SkunkHash v2 Raptor\"],[\"Skein\"],[\"X11\"],[\"Scrypt\"],[\"VeChainThor Authority\"],[\"PoS\"],[\"Scrypt\"],[\"Scrypt\"],[\"SHA-512\"],[\"Ouroboros\"],[\"X11\"],[\"NeoScrypt\"],[\"Scrypt\"],[\"Lyra2REv2\"],[\"Scrypt\"],[\"SHA-256\"],[\"NIST5\"],[\"PHI1612\"],[\"Scrypt\"],[\"Quark\"],[\"POS 2.0\"],[\"Scrypt\"],[\"SHA-256\"],[\"X11\"],[\"DPoS\"],[\"NIST5\"],[\"X13\"],[\"Scrypt\"],[\"NIST5\"],[\"Quark\"],[\"Scrypt\"],[\"Scrypt\"],[\"X11\"],[\"Quark\"],[\"Scrypt\"],[\"Scrypt\"],[\"X11\"],[\"POS 3.0\"],[\"Ethash\"],[\"Scrypt\"],[\"Scrypt\"],[\"X13\"],[\"C11\"],[\"Proof-of-Authority\"],[\"X11\"],[\"XEVAN\"],[\"Scrypt\"],[\"VBFT\"],[\"NIST5\"],[\"Scrypt\"],[\"Scrypt\"],[\"Scrypt\"],[\"Green Protocol\"],[\"PoS\"],[\"Scrypt\"],[\"Semux BFT consensus\"],[\"Quark\"],[\"PoS\"],[\"X16R\"],[\"Scrypt\"],[\"XEVAN\"],[\"Scrypt\"],[\"Scrypt\"],[\"Scrypt\"],[\"SHA-256D\"],[\"Scrypt\"],[\"X15\"],[\"Scrypt\"],[\"Quark\"],[\"SHA-256\"],[\"DPoS\"],[\"X16R\"],[\"Quark\"],[\"Quark\"],[\"Scrypt\"],[\"Lyra2REv2\"],[\"Quark\"],[\"Scrypt\"],[\"X11\"],[\"X11\"],[\"Scrypt\"],[\"PoS\"],[\"Keccak\"],[\"X11\"],[\"Scrypt\"],[\"SHA-512\"],[\"XEVAN\"],[\"XEVAN\"],[\"X11\"],[\"Quark\"],[\"Scrypt\"],[\"Quark\"],[\"Quark\"],[\"Scrypt\"],[\"X11\"],[\"Scrypt\"],[\"XEVAN\"],[\"SHA-256D\"],[\"X11\"],[\"X11\"],[\"DPoS\"],[\"Scrypt\"],[\"X11\"],[\"Scrypt\"],[\"Scrypt\"],[\"SHA-256\"],[\"Scrypt\"],[\"X11\"],[\"Scrypt\"],[\"SHA-256\"],[\"X11\"],[\"Scrypt\"],[\"Scrypt\"],[\"X11\"],[\"Scrypt\"],[\"PoS\"],[\"X11\"],[\"SHA-256\"],[\"DPoS\"],[\"Scrypt\"],[\"Scrypt\"],[\"NeoScrypt\"],[\"X13\"],[\"DPoS\"],[\"DPoS\"],[\"SHA-256\"],[\"PoS\"],[\"PoS\"],[\"SHA-256\"],[\"Scrypt\"],[\"Scrypt\"]],\"hovertemplate\":\"<b>%{hovertext}</b><br><br>Class=%{marker.color}<br>PC 1=%{x}<br>PC 2=%{y}<br>PC 3=%{z}<br>Algorithm=%{customdata[0]}<extra></extra>\",\"hovertext\":[\"42 Coin\",\"404Coin\",\"EliteCoin\",\"Dash\",\"Bitshares\",\"BitcoinDark\",\"PayCoin\",\"KoboCoin\",\"Aurora Coin\",\"BlueCoin\",\"EnergyCoin\",\"BitBar\",\"CryptoBullion\",\"CasinoCoin\",\"Diamond\",\"Exclusive Coin\",\"FlutterCoin\",\"HoboNickels\",\"HyperStake\",\"IOCoin\",\"MaxCoin\",\"MintCoin\",\"MazaCoin\",\"Nautilus Coin\",\"NavCoin\",\"OpalCoin\",\"Orbitcoin\",\"PotCoin\",\"PhoenixCoin\",\"Reddcoin\",\"SuperCoin\",\"SyncCoin\",\"TeslaCoin\",\"TittieCoin\",\"TorCoin\",\"UnitaryStatus Dollar\",\"UltraCoin\",\"VeriCoin\",\"X11 Coin\",\"Crypti\",\"StealthCoin\",\"ZCC Coin\",\"BurstCoin\",\"StorjCoin\",\"Neutron\",\"FairCoin\",\"RubyCoin\",\"Kore\",\"Dnotes\",\"8BIT Coin\",\"Sativa Coin\",\"Ucoin\",\"Vtorrent\",\"IslaCoin\",\"Nexus\",\"Droidz\",\"Squall Coin\",\"Diggits\",\"Paycon\",\"Emercoin\",\"EverGreenCoin\",\"Decred\",\"EDRCoin\",\"Hitcoin\",\"DubaiCoin\",\"PWR Coin\",\"BillaryCoin\",\"GPU Coin\",\"EuropeCoin\",\"ZeitCoin\",\"SwingCoin\",\"SafeExchangeCoin\",\"Nebuchadnezzar\",\"Ratecoin\",\"Revenu\",\"Clockcoin\",\"VIP Tokens\",\"BitSend\",\"Let it Ride\",\"PutinCoin\",\"iBankCoin\",\"Frankywillcoin\",\"MudraCoin\",\"Lutetium Coin\",\"GoldBlocks\",\"CarterCoin\",\"BitTokens\",\"MustangCoin\",\"ZoneCoin\",\"RootCoin\",\"BitCurrency\",\"Swiscoin\",\"BuzzCoin\",\"Opair\",\"PesoBit\",\"Halloween Coin\",\"CoffeeCoin\",\"RoyalCoin\",\"GanjaCoin V2\",\"TeamUP\",\"LanaCoin\",\"ARK\",\"InsaneCoin\",\"EmberCoin\",\"XenixCoin\",\"FreeCoin\",\"PLNCoin\",\"AquariusCoin\",\"Creatio\",\"Eternity\",\"Eurocoin\",\"BitcoinFast\",\"Stakenet\",\"BitConnect Coin\",\"MoneyCoin\",\"Enigma\",\"Russiacoin\",\"PandaCoin\",\"GameUnits\",\"GAKHcoin\",\"Allsafe\",\"LiteCreed\",\"Klingon Empire Darsek\",\"Internet of People\",\"KushCoin\",\"Printerium\",\"Impeach\",\"Zilbercoin\",\"FirstCoin\",\"FindCoin\",\"OpenChat\",\"RenosCoin\",\"VirtacoinPlus\",\"TajCoin\",\"Impact\",\"Atmos\",\"HappyCoin\",\"MacronCoin\",\"Condensate\",\"Independent Money System\",\"ArgusCoin\",\"LomoCoin\",\"ProCurrency\",\"GoldReserve\",\"GrowthCoin\",\"Phreak\",\"Degas Coin\",\"HTML5 Coin\",\"Ultimate Secure Cash\",\"QTUM\",\"Espers\",\"Denarius\",\"Virta Unique Coin\",\"Bitcoin Planet\",\"BritCoin\",\"Linda\",\"DeepOnion\",\"Signatum\",\"Cream\",\"Monoeci\",\"Draftcoin\",\"Vechain\",\"Stakecoin\",\"CoinonatX\",\"Ethereum Dark\",\"Obsidian\",\"Cardano\",\"Regalcoin\",\"TrezarCoin\",\"TerraNovaCoin\",\"Rupee\",\"WomenCoin\",\"Theresa May Coin\",\"NamoCoin\",\"LUXCoin\",\"Xios\",\"Bitcloud 2.0\",\"KekCoin\",\"BlackholeCoin\",\"Infinity Economics\",\"Magnet\",\"Lamden Tau\",\"Electra\",\"Bitcoin Diamond\",\"Cash & Back Coin\",\"Bulwark\",\"Kalkulus\",\"GermanCoin\",\"LiteCoin Ultra\",\"PhantomX\",\"Digiwage\",\"Trollcoin\",\"Litecoin Plus\",\"Monkey Project\",\"TokenPay\",\"1717 Masonic Commemorative Token\",\"My Big Coin\",\"Unified Society USDEX\",\"Tokyo Coin\",\"Stipend\",\"Poa Network\",\"Pushi\",\"Ellerium\",\"Velox\",\"Ontology\",\"Bitspace\",\"Briacoin\",\"Ignition\",\"MedicCoin\",\"Bitcoin Green\",\"Deviant Coin\",\"Abjcoin\",\"Semux\",\"Carebit\",\"Zealium\",\"Proton\",\"iDealCash\",\"Bitcoin Incognito\",\"HollyWoodCoin\",\"Swisscoin\",\"Xt3ch\",\"TheVig\",\"EmaratCoin\",\"Dekado\",\"Lynx\",\"Poseidon Quark\",\"BitcoinWSpectrum\",\"Muse\",\"Trivechain\",\"Dystem\",\"Giant\",\"Peony Coin\",\"Absolute Coin\",\"Vitae\",\"TPCash\",\"ARENON\",\"EUNO\",\"MMOCoin\",\"Ketan\",\"XDNA\",\"PAXEX\",\"ThunderStake\",\"Kcash\",\"Bettex coin\",\"BitMoney\",\"Junson Ming Chan Coin\",\"HerbCoin\",\"Oduwa\",\"Galilel\",\"Crypto Sports\",\"Credit\",\"Dash Platinum\",\"Nasdacoin\",\"Beetle Coin\",\"Titan Coin\",\"Award\",\"Insane Coin\",\"ALAX\",\"LiteDoge\",\"TruckCoin\",\"OrangeCoin\",\"BitstarCoin\",\"NeosCoin\",\"HyperCoin\",\"PinkCoin\",\"AudioCoin\",\"IncaKoin\",\"Piggy Coin\",\"Genstake\",\"XiaoMiCoin\",\"CapriCoin\",\" ClubCoin\",\"Radium\",\"Creditbit \",\"OKCash\",\"Lisk\",\"HiCoin\",\"WhiteCoin\",\"FriendshipCoin\",\"Triangles Coin\",\"EOS\",\"Oxycoin\",\"TigerCash\",\"Particl\",\"Nxt\",\"ZEPHYR\",\"Gapcoin\",\"BitcoinPlus\"],\"legendgroup\":\"0\",\"marker\":{\"color\":[0,0,0,0,0,0,0,0,0,0,0,0,0,0,0,0,0,0,0,0,0,0,0,0,0,0,0,0,0,0,0,0,0,0,0,0,0,0,0,0,0,0,0,0,0,0,0,0,0,0,0,0,0,0,0,0,0,0,0,0,0,0,0,0,0,0,0,0,0,0,0,0,0,0,0,0,0,0,0,0,0,0,0,0,0,0,0,0,0,0,0,0,0,0,0,0,0,0,0,0,0,0,0,0,0,0,0,0,0,0,0,0,0,0,0,0,0,0,0,0,0,0,0,0,0,0,0,0,0,0,0,0,0,0,0,0,0,0,0,0,0,0,0,0,0,0,0,0,0,0,0,0,0,0,0,0,0,0,0,0,0,0,0,0,0,0,0,0,0,0,0,0,0,0,0,0,0,0,0,0,0,0,0,0,0,0,0,0,0,0,0,0,0,0,0,0,0,0,0,0,0,0,0,0,0,0,0,0,0,0,0,0,0,0,0,0,0,0,0,0,0,0,0,0,0,0,0,0,0,0,0,0,0,0,0,0,0,0,0,0,0,0,0,0,0,0,0,0,0,0,0,0,0,0,0,0,0,0,0,0,0,0,0,0,0,0,0,0,0,0,0,0,0,0,0,0,0,0,0,0,0,0,0,0,0,0,0,0],\"coloraxis\":\"coloraxis\",\"symbol\":\"circle\"},\"mode\":\"markers\",\"name\":\"0\",\"scene\":\"scene\",\"showlegend\":true,\"x\":[-0.34253272931119866,-0.32587472628079533,2.3047560244177503,-0.3910391007793736,-0.19503716460128742,-0.31581163182270117,-0.2664937743776872,-0.24907153737057666,-0.3421924339038678,-0.3347701869723143,-0.3410293552819464,-0.34252866905014084,-0.34251295412388594,0.7091445850461012,-0.3631143203065469,-0.35509381832814546,-0.30440475563374747,-0.34059239881946535,-0.32154554654529655,-0.3909338007283898,-0.42763232802485746,-0.03314493323251229,-0.27913571072304555,-0.29296614532382736,-0.27694098200821754,-0.27756316824299143,-0.3495058448921199,-0.3368380715147374,-0.3409352020223122,0.015595686356223179,-0.3414314277962463,-0.3913052084280423,-0.24301252148402178,-0.29731325203300224,-0.3912169197959346,-0.31777666879496563,-0.34121085919985816,-0.30937316133404863,-0.391181366319054,-0.24347955833978724,-0.2773440396590916,-0.33364301975428073,0.14966355829011824,-0.34416558929380986,-0.31502369031350164,-0.3625358743558252,-0.29294629467194166,-0.2776386344243373,-0.28760394899151226,-0.34251479850299815,-0.277590807923715,-0.3418763930456645,-0.34224932681923914,-0.39128673799256086,-0.44183537610749163,-0.41405124722780967,-0.37978651902469873,-0.2913485755467498,-0.2771127367013116,-0.30837533062641465,-0.25151067691066675,-0.06856251819819861,-0.3157825468380116,-0.06894850433366294,-0.3158461601483913,-0.23133368783849662,-0.34212536238926344,-0.2912184549699756,-0.3884586747792859,0.8594737242347429,-0.3156464324860099,-0.02133839841935617,-0.35477724071071476,-0.3891303273180457,-0.314391274957399,-0.31206166619251735,-0.35268850216445896,-0.3900229294505572,-0.32279891784875403,-0.31843610421617513,-0.34216347467397135,-0.3406029165007692,-0.22701653792379056,-0.32937201344482797,-0.3907610059036413,-0.34136804320887726,-0.3158271848376369,-0.39127595054914904,-0.34235246985163487,-0.34250903181249664,-0.29120651781570805,-0.2617783472755219,0.03468958582588902,-0.3537347283607007,-0.34212320287508896,-0.37744911165226946,-0.3530631590469161,-0.22844573458679757,-0.3987776903302452,-0.3528138986793501,-0.27973910860344,3.727956228952125,-0.39086869375550115,0.8545284532247305,-0.39123086786346395,-0.3541982966244307,-0.34205102495172535,-0.3422053691096839,-0.35477724071071476,-0.39080617430379105,-0.31568985597880195,-0.34205172274505646,-0.34937527076541675,-0.34219907365610774,-0.33779154420785,-0.3912598685353492,-0.3414106021198361,0.35005846446882405,-0.34239823946107073,-0.34246874157395224,-0.34243371562658004,-0.34615012561556197,-0.3386990544510085,-0.3158035994014295,-0.3911698532487423,-0.3422466758040055,-0.3423736375246611,-0.29285318580770053,-0.28459843524082395,-0.22821367975795476,-0.32323459391224885,-0.29259418476859517,-0.3904362481109515,-0.4232654252138183,-0.38917473388428075,-0.35302447876387155,-0.3903341370902757,-0.3474265846584062,-0.38627801855765104,-0.3423169211997651,-0.3423161619473791,-0.3354448080351784,0.2656355077012618,-0.3908121861948767,-0.27550929134236907,-0.3548116023457521,-0.34152821411493617,0.8822047372689474,-0.2651855220529719,-0.32157777053385017,0.5714330343775395,-0.3542235453493924,-0.3527265840910528,-0.42430095636206433,-0.2772760509903082,0.12205375758788048,-0.27734674447004987,-0.3421021550463069,-0.4238058600878435,-0.39108435100229505,-0.29292712702973456,4.441612817803886,-0.3546780986558269,-0.3419523165318819,-0.3424516779496362,-0.25307503003855003,0.6751035446984897,-0.39102530106857236,-0.34450799229103346,-0.3424073739995995,-0.31230992736022767,0.42650915122732846,-0.3141504732507853,-0.3389991247689367,-0.382148253409294,-0.34235775074786445,-0.39013122730678285,-0.34404391298211334,-0.3422281121798605,-0.09304561016557093,-0.38981880233791716,3.732809484863701,0.20504226686102534,-0.2740190315518298,-0.33968981867665493,-0.3047328692632913,-0.3423196579698288,0.07155843633747606,-0.34136760390071413,-0.39039927643372657,-0.34148511197677395,-0.32893897322207444,-0.3424738072551006,-0.34184833043119545,-0.32308076557278176,-0.2779527549385456,-0.3235790204754379,-0.33802079162101883,-0.22001512529049838,-0.3671737108024098,-0.3529847451296521,-0.39110170166582287,-0.34255339063748236,-0.2920878727196848,-0.3133844113925622,-0.3538227948635197,-0.3425011540958748,-0.34248287948394374,-0.2864720876453819,-0.35006494886624956,-0.354272752373997,-0.342199572302652,3.93507345870261,-0.3887993055591216,-0.3544613594474944,-0.3145086632701642,-0.28910638372923125,-0.331186795589836,-0.29262140714660484,-0.14569174078515107,-0.29287357881576354,-0.345001021689925,-0.34167399325741665,-0.20160054238089833,2.2097790846364225,-0.33803206951737114,-0.2653125598292604,1.023769963371879,-0.3630998399432374,-0.3424331924582831,-0.3918139794726782,-0.1737246405470798,-0.3614927527945289,-0.3411533144872265,-0.33538490160347106,-0.34142598662486795,-0.39057522920023013,-0.29012063940603333,-0.35356207926499494,-0.35331060218874816,-0.341287677420111,-0.20211133881169382,-0.120270137688968,-0.2932920726967314,0.442929616333743,-0.13180891418491836,-0.391108969297401,-0.3422034847233158,-0.3915648316242356,-0.34255011254558243,0.5637637594935594,-0.34190263447372393,-0.3416868547415996,-0.3370122220273377,-0.29975594490876467,-0.38814248948497787,-0.3908023206768141,3.7450473068909638,0.09247121888210255,-0.3883418664412827,-0.34107315637226987,-0.3418971288362433,-0.2665264605938847,-0.3424150722786181,-0.38243368641917347,-0.2561927392565742,-0.09548016939537407,-0.3781856127009728,-0.3416935235757909,-0.3347607441815345,-0.3873722810716156,-0.34013376165871584,-0.3550527855400706,-0.35740894731413947,-0.3143273195441434,3.7283477900137854,-0.10023146568840105,-0.3373296047545416,-0.3491321008256092,-0.2777457536702329,3.738216471480591,3.739460554381077,-0.24743069971914483,-0.35498865226182835,-0.39819680406567515,2.4741969709302327,-0.3405798741685035,-0.29326973966982617],\"y\":[1.1177226567642604,1.1178077519683645,1.6616143175490814,1.2513904074654496,1.6578808834887608,0.8433671486362259,0.5444731060560517,1.9170149624212611,1.117720109267051,1.1179423755233633,1.1177652097904067,1.1177224085535826,1.1177224901976508,0.13121730941148638,0.9985103111739394,1.367968347654838,0.5829434889821762,1.1176904177962488,0.9530765170702901,1.2513933879829582,1.9033351960741327,0.8261829925751332,0.8426640932645157,0.8188170021687051,1.8167238587668464,1.8167062477880602,0.5561537981889294,1.1175787839024611,1.1176966940946038,1.1278594801099167,0.9525136472842347,1.2513988539048173,0.04249872536994495,1.6021269167635415,1.251394090303431,1.1172612430511926,1.1176874389519236,0.49803145133295795,1.2513983651461338,0.042558139264527346,1.816712450221716,1.117247946278364,-0.2220612703166472,1.4707201229745477,0.8433560399667779,0.9985298654258099,0.8188293161207258,1.8166953957136105,0.8186173643387715,1.1177231643262158,1.8166982021099287,0.9524865258705334,1.1177161518269516,1.25139937743675,1.8532796954203694,2.0269582029759072,0.7439780824978892,0.8188019061830742,1.8166826805655525,0.8428672787438113,1.9171810382608105,0.9400430720971902,0.8433679718865963,1.2412389998406648,0.8433745241497576,1.5409021870750335,1.1177036812980414,0.8187176646383447,1.2512005136102018,0.779541522827101,0.8433587505960121,0.13803455017984673,1.3679627817088136,1.2514059396037873,0.8432615584977657,0.8431079455424504,1.5374018695267844,1.2513341891468028,1.335089950815846,1.116952044250973,1.11770090775157,1.1177046467674912,1.5176948187070636,0.9523777877108388,1.2513779415959183,1.1176902531962865,0.8433674347419112,1.2513975037741658,1.1177125060301403,1.1177233275523668,0.8188785604974019,0.47223700887782766,1.987672295474707,1.3679530679962884,1.1177342484388346,1.2507015508301054,1.3679967721830917,1.5177978161188108,1.9551505092170167,1.3678142543247773,1.9878472059402859,2.041911708983461,1.2513894201658882,1.8481327127704708,1.2513981600393937,1.367957378707514,1.1177082985335327,1.1177014167081523,1.3679627817088136,1.251369399767456,0.8433720481683975,1.1177123026712397,0.6418984002270954,1.1177117635728573,1.1173842598499648,1.251396506308082,1.1176498265462345,0.813412882983072,1.117717021191203,1.11772205959808,1.4117811986641156,0.6004179229004141,1.117468002091521,0.8433681023275844,1.251395891733429,1.117716226863927,1.1177112289680242,0.8187920032127781,0.3646941960178907,1.5177956504648706,1.117542556728509,0.8188142775185895,1.2513508171784684,1.9118369704971265,1.2513792609963208,1.3679468129361032,1.2513537074304835,1.3678948351885882,1.251177982365305,1.1177133581639513,1.1177080135890354,1.1171969466685716,0.5050690742111118,1.2513837562750725,0.8178702030105769,1.3679545457657938,1.1176748245538308,1.8839199157078235,0.5443738874050326,1.3350762141939037,1.9404051902873942,1.5374165268324966,1.5373790016067586,1.9530661406216605,1.8166925846294508,1.094556089952355,1.8166986472713553,1.4399918552697515,1.9530801543196414,1.2513982005482651,0.8188172161752578,2.1741556888428066,1.3679353724674164,1.117704038321969,1.1177219003516412,1.65878695880215,1.4070589900988004,1.2513871663976686,0.5560074671807196,1.117714777326234,0.592681434155894,1.1213320413127401,0.8433575136934346,1.5369831168806574,1.9016495344096207,1.117712356554395,1.7105936335585932,1.407870849305445,1.1177205377580577,0.5428546314179078,1.2513363352953346,2.041776705231186,1.531463795404414,1.816654034483588,1.1176505952896778,1.238507607897144,1.4117807953970731,1.0931268200944932,1.1176466856083973,1.251388180347059,1.411731783847092,1.1174537276667245,1.117721419248483,0.9524865938490104,1.335088146953712,-0.09411011525180668,0.533655690368632,1.1176818577519565,1.5174571934374639,0.9808878213594294,1.7262628617521332,1.251386456546498,1.439158823927782,0.818763548370669,1.451748613578822,1.537398816724995,1.1177213715299779,1.1177204361253752,0.8186494016694638,1.4628474802312048,1.3679276705569134,1.1177102967912524,1.8689383773703603,1.7106313335981174,1.3679281427041494,0.5883539621706297,1.1155146434601895,0.9317620737790444,0.8188196273843602,1.1158856363300265,0.8187994156595622,1.991379195206477,1.1176859512836865,1.6182505910009326,0.42744165564609193,1.4114445653340761,0.544442795681113,1.7314922810135953,0.887248202282191,1.4117768554701415,1.7106875286622913,0.8099433715465534,0.8915654984761097,1.411755702047821,1.1171986423198714,0.9524738529426047,1.2513832000047351,0.818720449517081,1.3678591734438785,1.0632929596129004,0.9524450827671916,1.1086232769170303,2.1901676708031554,1.14026354416403,0.9453927537241508,0.9584470116596814,1.7106720032970457,1.117716723053577,1.7106844956482885,1.4117790879737522,1.0890456137494688,0.9524860010071335,1.11768558723943,1.43899607985053,1.9891008217452504,1.2511833152201381,1.251391298855604,2.041759929878535,1.1046137619436203,1.2514827320137545,1.1176187032590437,1.1177012394154455,0.5444660070363166,1.117725987076582,1.2512867961704865,1.1125400059156063,0.8494816057003313,1.251043871025194,1.1177355155039865,1.1176521093181513,1.2513590987122578,1.1176743461708383,1.3679629720843576,0.5917348914652535,0.8433488763912952,2.0418974297067183,0.8170143538494549,1.1176520311011637,0.556123413139371,1.8167009925482573,2.0422929168190853,2.0423281305804055,0.5442954317678731,1.3679650531129823,1.2480225983405342,0.8545598632155719,1.1175963489243477,0.8188194346776986],\"z\":[-0.5115325777589604,-0.5118123431713638,-0.6368108607670112,-0.49028949869897087,-0.30125012909235277,-0.3360284144896021,-0.06627932018794334,-0.5540502418184727,-0.5115378058017053,-0.5116834119438701,-0.5115617898660384,-0.5115326153823577,-0.5115328794644223,-0.4731835209849139,-0.41167713964196606,-0.1606093073886222,-0.2839180212460348,-0.5115603743518222,-0.22093347081458312,-0.49029154478726517,-0.5558720298597162,-0.24683612562403895,-0.336543175944652,-0.24178619658337372,-0.6125797525050551,-0.6125676627865925,-0.29182906152590876,-0.5116085597234572,-0.5115555294380937,-0.5184913812151315,-0.22054706768918078,-0.49028614397619374,0.04079064089891853,-0.2901623790011746,-0.49028703409536323,-0.5118815331106997,-0.511550008035158,-0.2729461215446392,-0.4902880964120245,0.04079146088229703,-0.6125719206803522,-0.5116227637314323,-0.7204172511865942,0.025164855767159145,-0.33603992769291063,-0.4116887410117329,-0.24178791796469,-0.6125652057983023,-0.24185045012049172,-0.5115329261764697,-0.6125663002168608,-0.22053677055212065,-0.5115364335597083,-0.4902865029583024,-0.36332151128581974,-0.6544834300884605,-0.16266944940922637,-0.24181070826747425,-0.612572287623179,-0.3360921753444042,-0.5540295685033493,-0.42641352673610244,-0.33602897964076855,-0.49435815773705466,-0.33602869289637544,-0.518139510372315,-0.5115370262110037,-0.2418032437214025,-0.4903097558465895,-0.2560081513527344,-0.33603013857846803,-0.4621142192724965,-0.16061380781271442,-0.4903222129682753,-0.33603944358926363,-0.33605975741256655,-0.5157740319953532,-0.49029958557602643,-0.12565416865928783,-0.511835699509922,-0.5115360930329353,-0.5115618209870724,-0.34282515053232815,-0.2207271590115549,-0.4902925909619681,-0.5115477792905064,-0.3360281948287563,-0.49028646491873035,-0.5115343468342753,-0.5115330382291975,-0.2418217236183733,-0.24869543179393105,-0.6539057503017911,-0.160629607187441,-0.5115405352822777,-0.49043155692396984,-0.1606454631861851,-0.34281368343157487,-0.6387778859944171,-0.16062876095283884,-0.6488274599614153,0.04242868466723543,-0.4902921494808649,-0.6344951996556153,-0.4902872704793584,-0.16062258078483363,-0.5115387562876695,-0.5115354715981385,-0.16061380781271442,-0.4902908877911895,-0.3360309458199575,-0.511539200057106,-0.36524899728450827,-0.5115367496285073,-0.5115709917459343,-0.4902866123083374,-0.5115424946146325,-0.25159804787365037,-0.5115341178855358,-0.5115335473908239,-0.18292699564874446,-0.2962743098701874,-0.5115657948925156,-0.3360286531180394,-0.49028800197423217,-0.511536485071661,-0.5115338584777626,-0.2417851869029924,-0.3328858658866221,-0.34281719985153997,-0.5118250101506442,-0.24179191791309457,-0.49029477382835557,-0.7414498387548675,-0.4903184608449439,-0.16064041231725007,-0.4902967579505091,-0.16072526953228927,-0.4903425524130176,-0.5115350200705052,-0.5115344249524438,-0.5115877531319891,-0.07042890400490152,-0.49029242197857814,-0.24196163641184096,-0.160612314628497,-0.5115434287516037,-0.5686314751667846,-0.06628925575715369,-0.1256724072172234,-0.7664839090726191,-0.5157508085459354,-0.5157708155174289,-0.6805045532775807,-0.6125707652631901,-0.5164324594926564,-0.6125703080733438,-0.04771542494086468,-0.6805141735073971,-0.49028965071826364,-0.24178685355135712,1.830460633458777,-0.1606123001580976,-0.5115398725659478,-0.5115338059627723,-0.3004120774220612,-0.06336563524634059,-0.49028935409039326,-0.29189346606431427,-0.5115337147547874,-0.035647357757582876,-0.524412096693971,-0.33605425359116076,-0.515948399921554,-0.559407035410885,-0.5115342442210302,-0.4526930873696428,-0.040286681415514634,-0.5115372760109905,-0.0689076762114751,-0.49030313922461655,0.042365337249826,-0.524142237062878,-0.6126191934591946,-0.5115704828915333,-0.24600282559114808,-0.18292879915517002,-0.515451283466152,-0.5115428348128687,-0.49029961973760866,-0.18293676021907002,-0.5117224232167589,-0.5115333924776532,-0.22053723328735153,-0.12564939374508988,0.0962581522139794,-0.21472309050171395,-0.5116010976987473,-0.3429116650423014,-0.4134609685447943,6.469122247410236,-0.49028803464867177,-0.38122762838304036,-0.2417943617574957,-0.11070483738959201,-0.5157552935308182,-0.5115329436506414,-0.5115331336446851,-0.24187244335057043,-0.11015778580198035,-0.1606179971242721,-0.5115365748388306,0.015258473050124708,-0.4527189679790856,-0.16061499269669663,-0.07689276317178861,-0.5121478883510056,-0.05361119784276261,-0.24179208455745532,-0.5145153882671549,-0.24178569869840988,-0.6481707208772021,-0.5115423296677772,-0.28428593991261314,-0.3548304515356498,-0.182960104763209,-0.06629502761122581,-0.04280793902965369,-0.34665366237790896,-0.18292651051305794,-0.4526764745942604,-0.24271106942864729,-0.30539750741570615,-0.1829448583901625,-0.5115889171755711,-0.2205426331540439,-0.4902962007943873,-0.24182136029270013,-0.1606217351055538,-0.3849047839597294,-0.22054160588375887,-0.5127752056496683,-0.5700164415675539,-0.11147747673577849,0.010405457754541858,-0.22462024872611422,-0.45268614117084777,-0.5115372417685501,-0.452680169583333,-0.1829248684937697,-0.5229680934065764,-0.220536285419253,-0.5115420797559114,-0.38129897688670306,-0.6486453831229534,-0.49031292784374736,-0.49029343917804874,0.042168818896585004,-0.5170958938015596,-0.4903437248413541,-0.5115444287196478,-0.5115404492782258,-0.06627798338418309,-0.5115348639595783,-0.4904172517403769,-0.5123434751469698,-0.34029581297744965,-0.4904585210664896,-0.511547646139528,-0.5116505753346953,-0.49034539443430614,-0.5115659841343341,-0.16060936174581975,-0.3502260817819977,-0.33605040453464,0.042423958755064585,-0.24470633360818783,-0.5116089147547581,-0.2918316680776327,-0.6125641050579239,0.04221899882336585,0.042194825013066095,-0.06656821698210069,-0.1606106381232048,-0.32347804283835874,0.018403226384940328,-0.5115498861886704,-0.24178155054548645],\"type\":\"scatter3d\"},{\"customdata\":[[\"SHA-256\"],[\"Ethash\"],[\"Scrypt\"],[\"CryptoNight-V7\"],[\"Ethash\"],[\"Equihash\"],[\"Multiple\"],[\"Scrypt\"],[\"X11\"],[\"Scrypt\"],[\"Multiple\"],[\"Scrypt\"],[\"SHA-256\"],[\"Scrypt\"],[\"Scrypt\"],[\"Quark\"],[\"Groestl\"],[\"Scrypt\"],[\"Scrypt\"],[\"Scrypt\"],[\"X11\"],[\"Multiple\"],[\"SHA-256\"],[\"Scrypt\"],[\"Scrypt\"],[\"Scrypt\"],[\"Scrypt\"],[\"Scrypt\"],[\"NeoScrypt\"],[\"Scrypt\"],[\"Scrypt\"],[\"Scrypt\"],[\"Scrypt\"],[\"SHA-256\"],[\"Scrypt\"],[\"Scrypt\"],[\"Scrypt\"],[\"Scrypt\"],[\"HybridScryptHash256\"],[\"Scrypt\"],[\"Scrypt\"],[\"SHA-256\"],[\"Scrypt\"],[\"Scrypt\"],[\"Scrypt\"],[\"Scrypt\"],[\"SHA-256\"],[\"SHA-256\"],[\"SHA-256\"],[\"SHA-256\"],[\"SHA-256\"],[\"X11\"],[\"Scrypt\"],[\"Lyra2REv2\"],[\"Scrypt\"],[\"SHA-256\"],[\"CryptoNight\"],[\"CryptoNight\"],[\"Scrypt\"],[\"Scrypt\"],[\"Scrypt\"],[\"Scrypt\"],[\"Scrypt\"],[\"Scrypt\"],[\"Stanford Folding\"],[\"Multiple\"],[\"QuBit\"],[\"Scrypt\"],[\"Scrypt\"],[\"M7 POW\"],[\"Scrypt\"],[\"SHA-256\"],[\"Scrypt\"],[\"X11\"],[\"Lyra2RE\"],[\"SHA-256\"],[\"X11\"],[\"Scrypt\"],[\"Scrypt\"],[\"Ethash\"],[\"Blake2b\"],[\"X11\"],[\"SHA-256\"],[\"Scrypt\"],[\"1GB AES Pattern Search\"],[\"Scrypt\"],[\"SHA-256\"],[\"X11\"],[\"Dagger\"],[\"Scrypt\"],[\"X11GOST\"],[\"Scrypt\"],[\"X11\"],[\"Scrypt\"],[\"X11\"],[\"Equihash\"],[\"CryptoNight\"],[\"SHA-256\"],[\"Multiple\"],[\"Scrypt\"],[\"SHA-256\"],[\"Scrypt\"],[\"Lyra2Z\"],[\"Ethash\"],[\"Equihash\"],[\"Scrypt\"],[\"X11\"],[\"X11\"],[\"CryptoNight\"],[\"Scrypt\"],[\"CryptoNight\"],[\"Lyra2RE\"],[\"X11\"],[\"CryptoNight-V7\"],[\"Scrypt\"],[\"X11\"],[\"Equihash\"],[\"Scrypt\"],[\"Lyra2RE\"],[\"Dagger-Hashimoto\"],[\"Scrypt\"],[\"NIST5\"],[\"Scrypt\"],[\"SHA-256\"],[\"Scrypt\"],[\"CryptoNight-V7\"],[\"Argon2d\"],[\"Blake2b\"],[\"Cloverhash\"],[\"CryptoNight\"],[\"X11\"],[\"Scrypt\"],[\"Scrypt\"],[\"X11\"],[\"X11\"],[\"CryptoNight\"],[\"Time Travel\"],[\"Scrypt\"],[\"Keccak\"],[\"X11\"],[\"SHA-256\"],[\"Scrypt\"],[\"Scrypt\"],[\"Scrypt\"],[\"Scrypt\"],[\"Scrypt\"],[\"Scrypt\"],[\"CryptoNight\"],[\"Equihash\"],[\"X11\"],[\"NeoScrypt\"],[\"Equihash\"],[\"Dagger\"],[\"Scrypt\"],[\"X11\"],[\"NeoScrypt\"],[\"Ethash\"],[\"NeoScrypt\"],[\"Multiple\"],[\"CryptoNight\"],[\"CryptoNight\"],[\"Ethash\"],[\"X11\"],[\"CryptoNight-V7\"],[\"Scrypt\"],[\"BLAKE256\"],[\"X11\"],[\"NeoScrypt\"],[\"NeoScrypt\"],[\"Scrypt\"],[\"X11\"],[\"SHA-256\"],[\"C11\"],[\"CryptoNight\"],[\"SkunkHash\"],[\"CryptoNight\"],[\"Scrypt\"],[\"Dagger\"],[\"Lyra2REv2\"],[\"Scrypt\"],[\"Scrypt\"],[\"X11\"],[\"Ethash\"],[\"CryptoNight\"],[\"Scrypt\"],[\"IMesh\"],[\"Equihash\"],[\"Lyra2Z\"],[\"X11\"],[\"CryptoNight\"],[\"NIST5\"],[\"Lyra2RE\"],[\"Tribus\"],[\"Lyra2Z\"],[\"CryptoNight\"],[\"CryptoNight Heavy\"],[\"CryptoNight\"],[\"Jump Consistent Hash\"],[\"CryptoNight\"],[\"X16R\"],[\"HMQ1725\"],[\"X11\"],[\"Scrypt\"],[\"CryptoNight-V7\"],[\"Cryptonight-GPU\"],[\"XEVAN\"],[\"CryptoNight Heavy\"],[\"SHA-256\"],[\"X11\"],[\"X16R\"],[\"Equihash\"],[\"Lyra2Z\"],[\"SHA-256\"],[\"CryptoNight\"],[\"Blake\"],[\"Blake\"],[\"Equihash\"],[\"Exosis\"],[\"Scrypt\"],[\"Equihash\"],[\"Equihash\"],[\"QuBit\"],[\"SHA-256\"],[\"X13\"],[\"SHA-256\"],[\"Scrypt\"],[\"NeoScrypt\"],[\"Blake\"],[\"Scrypt\"],[\"SHA-256\"],[\"Scrypt\"],[\"Groestl\"],[\"Scrypt\"],[\"Scrypt\"],[\"Multiple\"],[\"Equihash+Scrypt\"],[\"Ethash\"],[\"CryptoNight\"],[\"Equihash\"]],\"hovertemplate\":\"<b>%{hovertext}</b><br><br>Class=%{marker.color}<br>PC 1=%{x}<br>PC 2=%{y}<br>PC 3=%{z}<br>Algorithm=%{customdata[0]}<extra></extra>\",\"hovertext\":[\"Bitcoin\",\"Ethereum\",\"Litecoin\",\"Monero\",\"Ethereum Classic\",\"ZCash\",\"DigiByte\",\"ProsperCoin\",\"Spreadcoin\",\"Argentum\",\"MyriadCoin\",\"MoonCoin\",\"ZetaCoin\",\"SexCoin\",\"Quatloo\",\"QuarkCoin\",\"Riecoin\",\"Digitalcoin \",\"Catcoin\",\"CannaCoin\",\"CryptCoin\",\"Verge\",\"DevCoin\",\"EarthCoin\",\"E-Gulden\",\"Einsteinium\",\"Emerald\",\"Franko\",\"FeatherCoin\",\"GrandCoin\",\"GlobalCoin\",\"GoldCoin\",\"Infinite Coin\",\"IXcoin\",\"KrugerCoin\",\"LuckyCoin\",\"Litebar \",\"MegaCoin\",\"MediterraneanCoin\",\"MinCoin\",\"NobleCoin\",\"Namecoin\",\"NyanCoin\",\"RonPaulCoin\",\"StableCoin\",\"SmartCoin\",\"SysCoin\",\"TigerCoin\",\"TerraCoin\",\"UnbreakableCoin\",\"Unobtanium\",\"UroCoin\",\"ViaCoin\",\"Vertcoin\",\"WorldCoin\",\"JouleCoin\",\"ByteCoin\",\"DigitalNote \",\"MonaCoin\",\"Gulden\",\"PesetaCoin\",\"Wild Beast Coin\",\"Flo\",\"ArtByte\",\"Folding Coin\",\"Unitus\",\"CypherPunkCoin\",\"OmniCron\",\"GreenCoin\",\"Cryptonite\",\"MasterCoin\",\"SoonCoin\",\"1Credit\",\"MarsCoin \",\"Crypto\",\"Anarchists Prime\",\"BowsCoin\",\"Song Coin\",\"BitZeny\",\"Expanse\",\"Siacoin\",\"MindCoin\",\"I0coin\",\"Revolution VR\",\"HOdlcoin\",\"Gamecredits\",\"CarpeDiemCoin\",\"Adzcoin\",\"SoilCoin\",\"YoCoin\",\"SibCoin\",\"Francs\",\"BolivarCoin\",\"Omni\",\"PizzaCoin\",\"Komodo\",\"Karbo\",\"ZayedCoin\",\"Circuits of Value\",\"DopeCoin\",\"DollarCoin\",\"Shilling\",\"ZCoin\",\"Elementrem\",\"ZClassic\",\"KiloCoin\",\"ArtexCoin\",\"Kurrent\",\"Cannabis Industry Coin\",\"OsmiumCoin\",\"Bikercoins\",\"HexxCoin\",\"PacCoin\",\"Citadel\",\"BeaverCoin\",\"VaultCoin\",\"Zero\",\"Canada eCoin\",\"Zoin\",\"DubaiCoin\",\"EB3coin\",\"Coinonat\",\"BenjiRolls\",\"ILCoin\",\"EquiTrader\",\"Quantum Resistant Ledger\",\"Dynamic\",\"Nano\",\"ChanCoin\",\"Dinastycoin\",\"DigitalPrice\",\"Unify\",\"SocialCoin\",\"ArcticCoin\",\"DAS\",\"LeviarCoin\",\"Bitcore\",\"gCn Coin\",\"SmartCash\",\"Onix\",\"Bitcoin Cash\",\"Sojourn Coin\",\"NewYorkCoin\",\"FrazCoin\",\"Kronecoin\",\"AdCoin\",\"Linx\",\"Sumokoin\",\"BitcoinZ\",\"Elements\",\"VIVO Coin\",\"Bitcoin Gold\",\"Pirl\",\"eBoost\",\"Pura\",\"Innova\",\"Ellaism\",\"GoByte\",\"SHIELD\",\"UltraNote\",\"BitCoal\",\"DaxxCoin\",\"AC3\",\"Lethean\",\"PopularCoin\",\"Photon\",\"Sucre\",\"SparksPay\",\"GunCoin\",\"IrishCoin\",\"Pioneer Coin\",\"UnitedBitcoin\",\"Interzone\",\"TurtleCoin\",\"MUNcoin\",\"Niobio Cash\",\"ShareChain\",\"Travelflex\",\"KREDS\",\"BitFlip\",\"LottoCoin\",\"Crypto Improvement Fund\",\"Callisto Network\",\"BitTube\",\"Poseidon\",\"Aidos Kuneen\",\"Bitrolium\",\"Alpenschillling\",\"FuturoCoin\",\"Monero Classic\",\"Jumpcoin\",\"Infinex\",\"KEYCO\",\"GINcoin\",\"PlatinCoin\",\"Loki\",\"Newton Coin\",\"MassGrid\",\"PluraCoin\",\"Motion\",\"PlusOneCoin\",\"Axe\",\"HexCoin\",\"Webchain\",\"Ryo\",\"Urals Coin\",\"Qwertycoin\",\"Project Pai\",\"Azart\",\"Xchange\",\"CrypticCoin\",\"Actinium\",\"Bitcoin SV\",\"FREDEnergy\",\"Universal Molecule\",\"Lithium\",\"PirateCash\",\"Exosis\",\"Block-Logic\",\"Beam\",\"Bithereum\",\"SLICE\",\"BLAST\",\"Bitcoin Rhodium\",\"GlobalToken\",\"SolarCoin\",\"UFO Coin\",\"BlakeCoin\",\"Crypto Escudo\",\"Crown Coin\",\"SmileyCoin\",\"Groestlcoin\",\"Bata\",\"Pakcoin\",\"JoinCoin\",\"Vollar\",\"Reality Clash\",\"Beldex\",\"Horizen\"],\"legendgroup\":\"3\",\"marker\":{\"color\":[3,3,3,3,3,3,3,3,3,3,3,3,3,3,3,3,3,3,3,3,3,3,3,3,3,3,3,3,3,3,3,3,3,3,3,3,3,3,3,3,3,3,3,3,3,3,3,3,3,3,3,3,3,3,3,3,3,3,3,3,3,3,3,3,3,3,3,3,3,3,3,3,3,3,3,3,3,3,3,3,3,3,3,3,3,3,3,3,3,3,3,3,3,3,3,3,3,3,3,3,3,3,3,3,3,3,3,3,3,3,3,3,3,3,3,3,3,3,3,3,3,3,3,3,3,3,3,3,3,3,3,3,3,3,3,3,3,3,3,3,3,3,3,3,3,3,3,3,3,3,3,3,3,3,3,3,3,3,3,3,3,3,3,3,3,3,3,3,3,3,3,3,3,3,3,3,3,3,3,3,3,3,3,3,3,3,3,3,3,3,3,3,3,3,3,3,3,3,3,3,3,3,3,3,3,3,3,3,3,3,3,3,3,3,3,3,3,3,3,3,3,3,3,3,3,3,3,3,3,3,3,3,3,3,3,3,3,3,3],\"coloraxis\":\"coloraxis\",\"symbol\":\"diamond\"},\"mode\":\"markers\",\"name\":\"3\",\"scene\":\"scene\",\"showlegend\":true,\"x\":[-0.147471112600781,-0.1577784737025689,-0.17302340799731308,-0.14532331325467363,-0.15622195928160948,-0.11873123302730881,0.1622489520222679,-0.17416920245331488,-0.22288304282408938,-0.1737860420576283,-0.09102330361399569,2.545028160347163,-0.14455710240167985,-0.1710427503831269,-0.17359032149471781,-0.21885838823168777,-0.19384119144233308,-0.1736387351064588,-0.17415146867004158,-0.17423786893658258,-0.22297237040189818,0.18602852054266295,0.2302267513278833,0.07439675056018316,-0.17398422083909793,-0.16959150404937973,-0.17392359100906038,-0.17429485815855805,-0.17649888700522517,-0.15352712939587138,-0.17309038198642107,-0.17336784200554634,1.573970870004848,-0.14743248246409166,-0.170658594063091,-0.17401065525800996,-0.17436533660592474,-0.17362487476717842,-0.1513077552326412,-0.17424666390297472,-0.039256550662104386,-0.1475100921365176,-0.16791290104136294,-0.17422618124439354,-0.1723221141342738,-0.1737131378654613,-0.13466828333199218,-0.14697404525099816,-0.14726121246654253,-0.1472444591120149,-0.1478346099839808,-0.2231461389584371,-0.17394268759957088,-0.19266305446894766,-0.17104757042354515,-0.14704132542980536,3.8553333763448046,0.4555408225523106,-0.17281085967362145,-0.15742077088402004,-0.17153011340188118,-0.17436755468863727,-0.1713951103353318,-0.1576246836862153,-0.1341379207140927,-0.12501574439802823,-0.1788555913536923,-0.17424063884753802,-0.04724884171732205,-0.12544783613387386,-0.17437643330891986,-0.14753786936580074,0.47713957069508045,-0.2225335588444423,-0.1503390159910888,-0.14727795997603857,-0.22281837200249843,-0.17250167931999008,-0.17169420349704484,-0.15884603721560525,0.38423800132027763,-0.22285373394766225,-0.1474336048036891,-0.17033577947575457,-0.150378361792907,-0.17294037540534685,0.27089695954917925,-0.2220149332204377,-0.1563013167147979,-0.17318838026729153,-0.1461397208149778,-0.17416648069723295,-0.22281703982606038,-0.17437649178227255,-0.2229670094202063,-0.12197473881171451,0.30051596266520253,-0.1476936095385501,-0.10509669048569419,-0.17154460633205978,-0.1476522458405662,-0.17404009793123973,-0.15044204799005795,-0.15858826081075258,-0.11875284988594242,-0.10117220954834236,-0.20955373132172117,-0.22079658193899399,0.30051025059373565,-0.17435824430160402,0.30064093771752515,-0.15087907013030236,0.4915804507698086,-0.14408930765647512,-0.17432653618922728,-0.2157078743716829,-0.11876519692282281,-0.17246048743327655,-0.15059752882902605,-0.14061111111412322,-0.14527811434979213,-0.1857356004342806,-0.17388913985454935,-0.11403627187813971,-0.1737114587374133,-0.14394649126996684,-0.16017472719983655,-0.016063835598830383,-0.15016306906645044,0.33661824479885927,-0.22202343741062244,-0.17403035241490564,-0.17379412083044635,-0.22241783709474364,-0.2229949995426136,0.30090500626828476,-0.15976412270721158,3.233908018120084,-0.1250293253430348,-0.21387469065804243,-0.14747027682540606,-0.10002341433248924,1.572627178256505,-0.1741282040967046,-0.1735802950822216,-0.17328138369901563,-0.1732683147392878,0.30108837292800483,0.09341396171948857,-0.17739466684274527,-0.1811854435965586,-0.11861127723478998,-0.15506129809112584,-0.1724586966037742,-0.21854175956978103,-0.1810309815293456,-0.15695523508226047,-0.18113109435179328,-0.11525221643421857,1.1378567114364966,0.30049307929108765,-0.08191245775825802,-0.2182847215181802,-0.13306485078594693,-0.09055135840471648,1.1042548611218947,-0.22296900460902266,-0.18118296070338777,-0.17422420999841476,-0.17337951639931973,-0.22289443487123808,-0.14744966862585782,-0.198995326669671,8.031336861656118,-0.14562105483768575,0.30436523483630423,0.018592974014928893,-0.1545641277570482,-0.1782282678828243,-0.17395306995391308,0.1329933204657096,-0.21703870083401106,-0.11003727482934857,0.30840930248745796,-0.17418994696392892,-0.17835327870485676,-0.11760271643579011,-0.1482275108137412,-0.22206420955499226,0.3006755557155733,-0.18579487237698925,-0.1507244227817112,-0.16401967807371848,-0.1505263482143326,0.3045997050263273,0.563957494920453,2.107870510533233,-0.15779696520801445,0.3142735875934936,-0.19573553786332162,-0.1456641134147399,-0.22295117328188732,-0.1742145363078225,-0.1329499408575385,-0.1661317569820314,-0.17317175475119279,3.0852163333095843,-0.10731274880077714,-0.2229225668749659,-0.19516380565874591,-0.013410872039484222,-0.14992461527931442,-0.14747031439059693,0.38037918373802093,-0.14507129775505756,-0.14546276451719692,-0.23695192935832646,-0.13908051691053522,-0.17310752093199597,-0.11667307396890018,-0.11844416588363554,-0.17806726471256262,-0.14674676038771692,-0.1095748127527461,-0.1456154292021372,0.52101635888243,-0.10637670493183317,-0.09597698728451724,-0.15777526879366602,-0.1472605829217627,0.5411098562073741,-0.19340234035317386,-0.17429125535864085,-0.1722482101794915,-0.1257506443458415,-0.11256230883453243,-0.15862140719184464,0.32224041427554245,-0.1187322899682423],\"y\":[-1.3415104862602898,-1.9800537619157184,-1.0671836335286182,-2.2208212829490814,-1.9801622348602848,-2.215678518658189,-1.8505570792409092,-1.0671703062123008,-0.9334917222727429,-1.0671906932083568,-1.8439256089228389,-1.2691003271974446,-1.3415360804649625,-1.0672481424186915,-1.0672113013521414,-0.47423586605469004,-1.186399483234109,-1.0671750229177779,-1.067169804257639,-1.067166540833876,-0.9334927980220443,-1.84665544531899,-1.3460575046623853,-1.0699249000023632,-1.0671650703084803,-1.0672432308379238,-1.0671713438521855,-1.0671667708383612,-1.6288337893622529,-1.0676026160615797,-1.0671753605551868,-1.0671848451874826,-1.0834797897106136,-1.3415093928344355,-1.0672484695225022,-1.0671650922008888,-1.0671615853313035,-1.0671701520272865,-2.2112232148478475,-1.0671645090875186,-1.0742313567831263,-1.341511589575891,-1.0672227430787296,-1.067171918996745,-1.0672843548043438,-1.0671793325840335,-1.3417778335563142,-1.341515310140207,-1.3415197980457443,-1.341546924523034,-1.3415057036277627,-0.9334846425335624,-1.0671653473777247,-1.29332189605344,-1.0672594794967658,-1.3415157531452102,-2.369815199918177,-2.339324730778634,-1.0671929575171257,-1.0679012295486896,-1.067201205560214,-1.067162576368605,-1.0671927459319148,-1.0674130943779845,-2.169058339915519,-1.8434350974009452,-1.5844327842665855,-1.0671595239269704,-1.0708259100061097,-2.133138078784695,-1.0671613688206822,-1.34151237581025,-1.1155424622650096,-0.9334912724683626,-2.2418788110170125,-1.3415288137683419,-0.9334906180991154,-1.0672605583679315,-1.0672665817963698,-1.9800962589825482,-2.183890837735374,-0.9334879873502842,-1.3415094246022532,-1.0671990782617637,-2.199094901515761,-1.0671812832914513,-1.3453612228628324,-0.9335136357913628,-2.210149225399399,-1.0672495702605758,-2.194766880206839,-1.0671695028392976,-0.9334934857267003,-1.0671613682749794,-0.9334977306154386,-2.1474590952820365,-2.336456635045552,-1.3415086026123,-1.8437428891129448,-1.0672260307638164,-1.341508087182453,-1.0671731889127163,-2.2149014795960476,-1.9800957169027742,-2.2156791305232826,-1.0723522107081698,-0.9334630763461762,-0.9335837424174236,-2.336464786396502,-1.067162375510569,-2.3364639926328414,-2.2418535757425566,-0.9858876802270834,-2.2209207261618156,-1.0671619470164244,-0.934000436193803,-2.2156765746712765,-1.0671793214037337,-2.2418535963887143,-2.2094096586979934,-1.0692426259095416,-0.6474854452311138,-1.0671729256975875,-1.3423646944959362,-1.0671943927974559,-2.2208585770479163,-2.1508068178222706,-2.1954685381170864,-2.19430185586407,-2.3368801641797408,-0.9335254978417652,-1.067165124444295,-1.0671989115487803,-0.9335076079748464,-0.9334940922401157,-2.336477581851156,-2.1552643880942646,-1.1159561833414886,-1.1232546091270201,-0.9340211813072589,-1.3415104626036753,-1.0726828609185732,-1.0177119889175428,-1.0671684194202786,-1.0671993962152426,-1.06720255686912,-1.0672021869522685,-2.3364977326340193,-2.2249115046725425,-0.9334970479808653,-1.6287420052111672,-2.215675123309981,-2.210205867514983,-1.067179270714312,-0.9336085323920725,-1.628750707169749,-1.9802338335883591,-1.628743953257821,-1.8436381210301127,-2.3744868105142922,-2.336459098593631,-1.9851697117342808,-0.9337465236727746,-2.221200264335925,-1.0684199190179449,-1.281758356537475,-0.9334940101539658,-1.6287375769306358,-1.628888523367221,-1.0671791865012903,-0.9334942237257152,-1.3415092735263603,-1.2039977870537548,-2.8439622267487215,-2.352026035135115,-2.336584466201709,-1.0689622576858018,-2.2101508976327677,-1.2936512745269382,-1.067177988923264,-1.0718304291993366,-0.9336749383770737,-1.9834236165849868,-2.336952284466061,-1.0671708933855875,-2.148672660104492,-2.2156821663524746,-2.215041153701652,-0.9335266518971419,-2.336458218968075,-0.6474673288769839,-2.2418610231634983,-2.2285987130741454,-2.2148959486761233,-2.3367695819992194,-2.2002511851856528,-2.4189376111005743,-2.1129545311261384,-2.336786295900538,-1.297613868743279,-2.218929186121295,-0.9334943770387759,-1.0671723921766374,-2.221742138684596,-2.2541259624304453,-0.7457990185558556,-2.2627647933920914,-1.3418838517198446,-0.9334964726693804,-1.2976542849114026,-2.218202309454787,-2.21493230215547,-1.341510463666958,-2.3400576199323377,-2.178100693761306,-2.178053746553767,-0.32973941258126344,-2.246095904249693,-1.067212162358391,-2.2157958899653,-2.2156775737589234,-1.5844831040551306,-1.3415212158233791,-0.36818360673591555,-1.3415647322045545,-1.118731165579288,-1.629510267998104,-2.1817190632661694,-1.0674173566888239,-1.3415197802264822,-1.0832257678463515,-1.1864023145637332,-1.067162139579943,-1.067232872261039,-1.8434579324752922,-2.139112870781733,-1.980095407563808,-2.3368514900769677,-2.2156785485748975],\"z\":[0.17870687138752414,0.34122113139295185,0.0031870138575573206,0.4182270283959739,0.34120822226534353,0.31643785294537147,0.28193951611123746,0.0032040771577520094,0.024449288900055818,0.0032001816171055328,0.28529240214480545,-0.01793516924053979,0.17866253228241807,0.0031622309813103024,0.0031993503735770978,0.06198918292791652,0.10304667987022717,0.0031960121911843655,0.003203732572103832,0.003204762573331594,0.02445085952630472,0.2811105188617026,0.17309963471939196,-0.0005131203995431789,0.0032004827747335552,0.003138142151332898,0.0032002127273165525,0.003205712741452063,0.22284305886191538,0.0029185185444411963,0.003187159527818025,0.003192736244411356,-0.02328676506428751,0.17870612076424053,0.003156039419504679,0.003200913872449974,0.0032062661340271073,0.0031952338658136023,0.3673787201734095,0.003204674260849752,0.0018191054821809036,0.17870762879999752,0.0031085966596169153,0.003205184314265526,0.003187090334825112,0.00319770837071568,0.17852967029716782,0.17869936015164722,0.17870452636688258,0.1787073377407431,0.1787122215982528,0.024452750123925785,0.0031998408416340973,0.20933095609081737,0.0031635976302519307,0.17870050138629673,0.3167545247524698,0.36841366327457065,0.0031846272858957084,0.003015588739405809,0.003164798591022948,0.00320641473285029,0.00316164817681475,0.002963416817947215,0.3937444713410794,0.28578780976901996,0.21847487525679224,0.003204009990165415,0.0015616527635831403,0.3251964634052312,0.0032064214496195366,0.17870816854013155,-0.0018586345008997837,0.024443571219886,0.3375539619954391,0.178705822578931,0.02444811482970894,0.0031872972738910656,0.003174889385335587,0.34124327087698214,0.3494513280186411,0.024448389197519405,0.17870614257245315,0.003145191800227009,0.3368491705421165,0.0031854004488963824,0.1723610703027379,0.024437703852373087,0.35761989749190454,0.0031971826577194004,0.3766855382399539,0.0032039417210012544,0.02444841914507362,0.0032064223356898435,0.02445133320853206,0.23785392637827044,0.3706012789402797,0.17871026488606792,0.28549982234162463,0.003167855047019534,0.17870953563178132,0.0032023114761806615,0.2854974279596701,0.34123902966262953,0.3164382729831675,0.0026094392609062665,0.024229910779097006,0.0244259172671284,0.3706022979842417,0.0032062409453838072,0.37060008879993744,0.337559850399649,0.018819900464773394,0.41821832219071603,0.0032056781279880737,0.02439076722350468,0.3164381826978705,0.0031773965357251442,0.33755528781522015,0.3987220521222133,0.0029711609695916488,-0.0010151470399937714,0.003199833915783645,0.17826184006654305,0.0031993927883308187,0.4182089431029762,0.4202117441516449,0.3572576948097011,0.33428979682840265,0.3700640494263552,0.02443918990122737,0.003201236908140236,0.0032012466485091848,0.024443551483500043,0.024451373528990638,0.37059735163309376,0.49769694922959234,-0.046510055855829464,0.1290484116671624,0.024363401601590992,0.17870685514755252,0.002628392103712378,-0.030739706660281172,0.0032031979672853287,0.003197834746377488,0.0031933473944629424,0.0031930934511338483,0.37059666871605823,0.31404747491092044,0.023712342380577598,0.22290861545531337,0.3164355220809477,0.3576062293046174,0.0031773617380659387,0.024392174877557432,0.22290710000263667,0.3412282490844787,0.22290795563469698,0.2856525775311763,0.3613468310978373,0.3706019299633511,0.340572478982503,0.024403690410006177,0.418071341292142,0.0019903140456222833,0.07623161040703845,0.0244509427159028,0.22290807190876058,0.22281239778600806,0.0031922824054517397,0.024449757909940924,0.17870638586214732,0.10127785241891513,0.3029328829749571,0.25794570096707864,0.37055339499823975,0.0002822785653747982,0.357591920639905,0.20913434437569434,0.0032014459353805003,-0.0012466397013539859,0.024375351435037343,0.34083004729693456,0.3705296279576785,0.0032044802449291317,0.5222014002728173,0.3164199696686231,0.28547739571897046,0.024439982145926766,0.3705988713051074,-0.001016244984074832,0.3375581893604502,0.395637398847047,0.285498166202215,0.3705706323049811,0.415429915505948,0.3506709381661158,0.4383157996209293,0.37041567886663096,0.16809568306878483,0.32392117251999114,0.024450695295154014,0.003205049280886793,0.4181310639481068,0.40591794162508743,0.13349989261135614,0.3816549216901353,0.17809817500567163,0.02445046964416872,0.16809100639296964,0.31501701820811057,0.285492541354366,0.17870685587748275,0.3697156347776347,0.4042290697507582,0.4042300813154558,0.07144371425281004,0.3716815024296443,0.003191620066697025,0.3164178214438454,0.3164330910271017,0.2184678122824366,0.17869634613895272,-0.09782527810023922,0.17868294843444005,-0.0022076492150482304,0.22178297678890496,0.4038442907397318,0.002966342841462111,0.17870451413418015,-0.006568752634813523,0.1030398860970515,0.0032051279675416513,0.0031800408892801463,0.28580232077149903,0.3109511325242972,0.3412395319430421,0.3702939136991096,0.316437873482821],\"type\":\"scatter3d\"},{\"customdata\":[[\"Proof-of-BibleHash\"],[\"SHA-256 + Hive\"],[\"ECC 256K1\"],[\"Leased POS\"]],\"hovertemplate\":\"<b>%{hovertext}</b><br><br>Class=%{marker.color}<br>PC 1=%{x}<br>PC 2=%{y}<br>PC 3=%{z}<br>Algorithm=%{customdata[0]}<extra></extra>\",\"hovertext\":[\"BiblePay\",\"LitecoinCash\",\"Acute Angle Cloud\",\"Waves\"],\"legendgroup\":\"1\",\"marker\":{\"color\":[1,1,1,1],\"coloraxis\":\"coloraxis\",\"symbol\":\"square\"},\"mode\":\"markers\",\"name\":\"1\",\"scene\":\"scene\",\"showlegend\":true,\"x\":[-0.23245243235049065,-0.35165128076739277,-0.3315918211372003,-0.41208435839130536],\"y\":[4.446835399662548,1.463816152099527,2.8973017206118272,3.552175827576075],\"z\":[16.739793034304082,12.622648146314956,15.963665534074257,16.318177383549937],\"type\":\"scatter3d\"},{\"customdata\":[[\"TRC10\"]],\"hovertemplate\":\"<b>%{hovertext}</b><br><br>Class=%{marker.color}<br>PC 1=%{x}<br>PC 2=%{y}<br>PC 3=%{z}<br>Algorithm=%{customdata[0]}<extra></extra>\",\"hovertext\":[\"BitTorrent\"],\"legendgroup\":\"2\",\"marker\":{\"color\":[2],\"coloraxis\":\"coloraxis\",\"symbol\":\"x\"},\"mode\":\"markers\",\"name\":\"2\",\"scene\":\"scene\",\"showlegend\":true,\"x\":[34.060535012881886],\"y\":[1.6252098436624742],\"z\":[-0.5237967463165669],\"type\":\"scatter3d\"}],                        {\"template\":{\"data\":{\"bar\":[{\"error_x\":{\"color\":\"#2a3f5f\"},\"error_y\":{\"color\":\"#2a3f5f\"},\"marker\":{\"line\":{\"color\":\"#E5ECF6\",\"width\":0.5},\"pattern\":{\"fillmode\":\"overlay\",\"size\":10,\"solidity\":0.2}},\"type\":\"bar\"}],\"barpolar\":[{\"marker\":{\"line\":{\"color\":\"#E5ECF6\",\"width\":0.5},\"pattern\":{\"fillmode\":\"overlay\",\"size\":10,\"solidity\":0.2}},\"type\":\"barpolar\"}],\"carpet\":[{\"aaxis\":{\"endlinecolor\":\"#2a3f5f\",\"gridcolor\":\"white\",\"linecolor\":\"white\",\"minorgridcolor\":\"white\",\"startlinecolor\":\"#2a3f5f\"},\"baxis\":{\"endlinecolor\":\"#2a3f5f\",\"gridcolor\":\"white\",\"linecolor\":\"white\",\"minorgridcolor\":\"white\",\"startlinecolor\":\"#2a3f5f\"},\"type\":\"carpet\"}],\"choropleth\":[{\"colorbar\":{\"outlinewidth\":0,\"ticks\":\"\"},\"type\":\"choropleth\"}],\"contour\":[{\"colorbar\":{\"outlinewidth\":0,\"ticks\":\"\"},\"colorscale\":[[0.0,\"#0d0887\"],[0.1111111111111111,\"#46039f\"],[0.2222222222222222,\"#7201a8\"],[0.3333333333333333,\"#9c179e\"],[0.4444444444444444,\"#bd3786\"],[0.5555555555555556,\"#d8576b\"],[0.6666666666666666,\"#ed7953\"],[0.7777777777777778,\"#fb9f3a\"],[0.8888888888888888,\"#fdca26\"],[1.0,\"#f0f921\"]],\"type\":\"contour\"}],\"contourcarpet\":[{\"colorbar\":{\"outlinewidth\":0,\"ticks\":\"\"},\"type\":\"contourcarpet\"}],\"heatmap\":[{\"colorbar\":{\"outlinewidth\":0,\"ticks\":\"\"},\"colorscale\":[[0.0,\"#0d0887\"],[0.1111111111111111,\"#46039f\"],[0.2222222222222222,\"#7201a8\"],[0.3333333333333333,\"#9c179e\"],[0.4444444444444444,\"#bd3786\"],[0.5555555555555556,\"#d8576b\"],[0.6666666666666666,\"#ed7953\"],[0.7777777777777778,\"#fb9f3a\"],[0.8888888888888888,\"#fdca26\"],[1.0,\"#f0f921\"]],\"type\":\"heatmap\"}],\"heatmapgl\":[{\"colorbar\":{\"outlinewidth\":0,\"ticks\":\"\"},\"colorscale\":[[0.0,\"#0d0887\"],[0.1111111111111111,\"#46039f\"],[0.2222222222222222,\"#7201a8\"],[0.3333333333333333,\"#9c179e\"],[0.4444444444444444,\"#bd3786\"],[0.5555555555555556,\"#d8576b\"],[0.6666666666666666,\"#ed7953\"],[0.7777777777777778,\"#fb9f3a\"],[0.8888888888888888,\"#fdca26\"],[1.0,\"#f0f921\"]],\"type\":\"heatmapgl\"}],\"histogram\":[{\"marker\":{\"pattern\":{\"fillmode\":\"overlay\",\"size\":10,\"solidity\":0.2}},\"type\":\"histogram\"}],\"histogram2d\":[{\"colorbar\":{\"outlinewidth\":0,\"ticks\":\"\"},\"colorscale\":[[0.0,\"#0d0887\"],[0.1111111111111111,\"#46039f\"],[0.2222222222222222,\"#7201a8\"],[0.3333333333333333,\"#9c179e\"],[0.4444444444444444,\"#bd3786\"],[0.5555555555555556,\"#d8576b\"],[0.6666666666666666,\"#ed7953\"],[0.7777777777777778,\"#fb9f3a\"],[0.8888888888888888,\"#fdca26\"],[1.0,\"#f0f921\"]],\"type\":\"histogram2d\"}],\"histogram2dcontour\":[{\"colorbar\":{\"outlinewidth\":0,\"ticks\":\"\"},\"colorscale\":[[0.0,\"#0d0887\"],[0.1111111111111111,\"#46039f\"],[0.2222222222222222,\"#7201a8\"],[0.3333333333333333,\"#9c179e\"],[0.4444444444444444,\"#bd3786\"],[0.5555555555555556,\"#d8576b\"],[0.6666666666666666,\"#ed7953\"],[0.7777777777777778,\"#fb9f3a\"],[0.8888888888888888,\"#fdca26\"],[1.0,\"#f0f921\"]],\"type\":\"histogram2dcontour\"}],\"mesh3d\":[{\"colorbar\":{\"outlinewidth\":0,\"ticks\":\"\"},\"type\":\"mesh3d\"}],\"parcoords\":[{\"line\":{\"colorbar\":{\"outlinewidth\":0,\"ticks\":\"\"}},\"type\":\"parcoords\"}],\"pie\":[{\"automargin\":true,\"type\":\"pie\"}],\"scatter\":[{\"marker\":{\"colorbar\":{\"outlinewidth\":0,\"ticks\":\"\"}},\"type\":\"scatter\"}],\"scatter3d\":[{\"line\":{\"colorbar\":{\"outlinewidth\":0,\"ticks\":\"\"}},\"marker\":{\"colorbar\":{\"outlinewidth\":0,\"ticks\":\"\"}},\"type\":\"scatter3d\"}],\"scattercarpet\":[{\"marker\":{\"colorbar\":{\"outlinewidth\":0,\"ticks\":\"\"}},\"type\":\"scattercarpet\"}],\"scattergeo\":[{\"marker\":{\"colorbar\":{\"outlinewidth\":0,\"ticks\":\"\"}},\"type\":\"scattergeo\"}],\"scattergl\":[{\"marker\":{\"colorbar\":{\"outlinewidth\":0,\"ticks\":\"\"}},\"type\":\"scattergl\"}],\"scattermapbox\":[{\"marker\":{\"colorbar\":{\"outlinewidth\":0,\"ticks\":\"\"}},\"type\":\"scattermapbox\"}],\"scatterpolar\":[{\"marker\":{\"colorbar\":{\"outlinewidth\":0,\"ticks\":\"\"}},\"type\":\"scatterpolar\"}],\"scatterpolargl\":[{\"marker\":{\"colorbar\":{\"outlinewidth\":0,\"ticks\":\"\"}},\"type\":\"scatterpolargl\"}],\"scatterternary\":[{\"marker\":{\"colorbar\":{\"outlinewidth\":0,\"ticks\":\"\"}},\"type\":\"scatterternary\"}],\"surface\":[{\"colorbar\":{\"outlinewidth\":0,\"ticks\":\"\"},\"colorscale\":[[0.0,\"#0d0887\"],[0.1111111111111111,\"#46039f\"],[0.2222222222222222,\"#7201a8\"],[0.3333333333333333,\"#9c179e\"],[0.4444444444444444,\"#bd3786\"],[0.5555555555555556,\"#d8576b\"],[0.6666666666666666,\"#ed7953\"],[0.7777777777777778,\"#fb9f3a\"],[0.8888888888888888,\"#fdca26\"],[1.0,\"#f0f921\"]],\"type\":\"surface\"}],\"table\":[{\"cells\":{\"fill\":{\"color\":\"#EBF0F8\"},\"line\":{\"color\":\"white\"}},\"header\":{\"fill\":{\"color\":\"#C8D4E3\"},\"line\":{\"color\":\"white\"}},\"type\":\"table\"}]},\"layout\":{\"annotationdefaults\":{\"arrowcolor\":\"#2a3f5f\",\"arrowhead\":0,\"arrowwidth\":1},\"autotypenumbers\":\"strict\",\"coloraxis\":{\"colorbar\":{\"outlinewidth\":0,\"ticks\":\"\"}},\"colorscale\":{\"diverging\":[[0,\"#8e0152\"],[0.1,\"#c51b7d\"],[0.2,\"#de77ae\"],[0.3,\"#f1b6da\"],[0.4,\"#fde0ef\"],[0.5,\"#f7f7f7\"],[0.6,\"#e6f5d0\"],[0.7,\"#b8e186\"],[0.8,\"#7fbc41\"],[0.9,\"#4d9221\"],[1,\"#276419\"]],\"sequential\":[[0.0,\"#0d0887\"],[0.1111111111111111,\"#46039f\"],[0.2222222222222222,\"#7201a8\"],[0.3333333333333333,\"#9c179e\"],[0.4444444444444444,\"#bd3786\"],[0.5555555555555556,\"#d8576b\"],[0.6666666666666666,\"#ed7953\"],[0.7777777777777778,\"#fb9f3a\"],[0.8888888888888888,\"#fdca26\"],[1.0,\"#f0f921\"]],\"sequentialminus\":[[0.0,\"#0d0887\"],[0.1111111111111111,\"#46039f\"],[0.2222222222222222,\"#7201a8\"],[0.3333333333333333,\"#9c179e\"],[0.4444444444444444,\"#bd3786\"],[0.5555555555555556,\"#d8576b\"],[0.6666666666666666,\"#ed7953\"],[0.7777777777777778,\"#fb9f3a\"],[0.8888888888888888,\"#fdca26\"],[1.0,\"#f0f921\"]]},\"colorway\":[\"#636efa\",\"#EF553B\",\"#00cc96\",\"#ab63fa\",\"#FFA15A\",\"#19d3f3\",\"#FF6692\",\"#B6E880\",\"#FF97FF\",\"#FECB52\"],\"font\":{\"color\":\"#2a3f5f\"},\"geo\":{\"bgcolor\":\"white\",\"lakecolor\":\"white\",\"landcolor\":\"#E5ECF6\",\"showlakes\":true,\"showland\":true,\"subunitcolor\":\"white\"},\"hoverlabel\":{\"align\":\"left\"},\"hovermode\":\"closest\",\"mapbox\":{\"style\":\"light\"},\"paper_bgcolor\":\"white\",\"plot_bgcolor\":\"#E5ECF6\",\"polar\":{\"angularaxis\":{\"gridcolor\":\"white\",\"linecolor\":\"white\",\"ticks\":\"\"},\"bgcolor\":\"#E5ECF6\",\"radialaxis\":{\"gridcolor\":\"white\",\"linecolor\":\"white\",\"ticks\":\"\"}},\"scene\":{\"xaxis\":{\"backgroundcolor\":\"#E5ECF6\",\"gridcolor\":\"white\",\"gridwidth\":2,\"linecolor\":\"white\",\"showbackground\":true,\"ticks\":\"\",\"zerolinecolor\":\"white\"},\"yaxis\":{\"backgroundcolor\":\"#E5ECF6\",\"gridcolor\":\"white\",\"gridwidth\":2,\"linecolor\":\"white\",\"showbackground\":true,\"ticks\":\"\",\"zerolinecolor\":\"white\"},\"zaxis\":{\"backgroundcolor\":\"#E5ECF6\",\"gridcolor\":\"white\",\"gridwidth\":2,\"linecolor\":\"white\",\"showbackground\":true,\"ticks\":\"\",\"zerolinecolor\":\"white\"}},\"shapedefaults\":{\"line\":{\"color\":\"#2a3f5f\"}},\"ternary\":{\"aaxis\":{\"gridcolor\":\"white\",\"linecolor\":\"white\",\"ticks\":\"\"},\"baxis\":{\"gridcolor\":\"white\",\"linecolor\":\"white\",\"ticks\":\"\"},\"bgcolor\":\"#E5ECF6\",\"caxis\":{\"gridcolor\":\"white\",\"linecolor\":\"white\",\"ticks\":\"\"}},\"title\":{\"x\":0.05},\"xaxis\":{\"automargin\":true,\"gridcolor\":\"white\",\"linecolor\":\"white\",\"ticks\":\"\",\"title\":{\"standoff\":15},\"zerolinecolor\":\"white\",\"zerolinewidth\":2},\"yaxis\":{\"automargin\":true,\"gridcolor\":\"white\",\"linecolor\":\"white\",\"ticks\":\"\",\"title\":{\"standoff\":15},\"zerolinecolor\":\"white\",\"zerolinewidth\":2}}},\"scene\":{\"domain\":{\"x\":[0.0,1.0],\"y\":[0.0,1.0]},\"xaxis\":{\"title\":{\"text\":\"PC 1\"}},\"yaxis\":{\"title\":{\"text\":\"PC 2\"}},\"zaxis\":{\"title\":{\"text\":\"PC 3\"}}},\"coloraxis\":{\"colorbar\":{\"title\":{\"text\":\"Class\"}},\"colorscale\":[[0.0,\"#0d0887\"],[0.1111111111111111,\"#46039f\"],[0.2222222222222222,\"#7201a8\"],[0.3333333333333333,\"#9c179e\"],[0.4444444444444444,\"#bd3786\"],[0.5555555555555556,\"#d8576b\"],[0.6666666666666666,\"#ed7953\"],[0.7777777777777778,\"#fb9f3a\"],[0.8888888888888888,\"#fdca26\"],[1.0,\"#f0f921\"]]},\"legend\":{\"title\":{\"text\":\"Class\"},\"tracegroupgap\":0,\"x\":0,\"y\":1},\"margin\":{\"t\":60},\"width\":800},                        {\"responsive\": true}                    ).then(function(){\n",
       "                            \n",
       "var gd = document.getElementById('cba06999-2f82-4c04-bb21-cb23c4c18beb');\n",
       "var x = new MutationObserver(function (mutations, observer) {{\n",
       "        var display = window.getComputedStyle(gd).display;\n",
       "        if (!display || display === 'none') {{\n",
       "            console.log([gd, 'removed!']);\n",
       "            Plotly.purge(gd);\n",
       "            observer.disconnect();\n",
       "        }}\n",
       "}});\n",
       "\n",
       "// Listen for the removal of the full notebook cells\n",
       "var notebookContainer = gd.closest('#notebook-container');\n",
       "if (notebookContainer) {{\n",
       "    x.observe(notebookContainer, {childList: true});\n",
       "}}\n",
       "\n",
       "// Listen for the clearing of the current output cell\n",
       "var outputEl = gd.closest('.output');\n",
       "if (outputEl) {{\n",
       "    x.observe(outputEl, {childList: true});\n",
       "}}\n",
       "\n",
       "                        })                };                });            </script>        </div>"
      ]
     },
     "metadata": {},
     "output_type": "display_data"
    }
   ],
   "source": [
    "# Creating a 3D-Scatter with the PCA data and the clusters\n",
    "# Plotting the 3D-Scatter with x=\"Annual Income\", y=\"Spending Score (1-100)\" and z=\"Age\"\n",
    "fig = px.scatter_3d(\n",
    "    clustered_df,\n",
    "    x=\"PC 1\",\n",
    "    y=\"PC 2\",\n",
    "    z=\"PC 3\",\n",
    "    color=\"Class\",\n",
    "    symbol=\"Class\",\n",
    "    width=800,\n",
    "    hover_name='CoinName',\n",
    "    hover_data=['Algorithm']\n",
    ")\n",
    "fig.update_layout(legend=dict(x=0, y=1))\n",
    "fig.show()"
   ]
  },
  {
   "cell_type": "code",
   "execution_count": 107,
   "metadata": {},
   "outputs": [
    {
     "data": {},
     "metadata": {},
     "output_type": "display_data"
    },
    {
     "data": {
      "application/vnd.holoviews_exec.v0+json": "",
      "text/html": [
       "<div id='1544'>\n",
       "\n",
       "\n",
       "\n",
       "\n",
       "\n",
       "  <div class=\"bk-root\" id=\"306e8056-892e-4642-8d2d-1c4446cac1d5\" data-root-id=\"1544\"></div>\n",
       "</div>\n",
       "<script type=\"application/javascript\">(function(root) {\n",
       "  function embed_document(root) {\n",
       "    var docs_json = {\"4b775bfc-6735-4686-af4e-3528fba6d7f9\":{\"defs\":[{\"extends\":null,\"module\":null,\"name\":\"ReactiveHTML1\",\"overrides\":[],\"properties\":[]},{\"extends\":null,\"module\":null,\"name\":\"FlexBox1\",\"overrides\":[],\"properties\":[{\"default\":\"flex-start\",\"kind\":null,\"name\":\"align_content\"},{\"default\":\"flex-start\",\"kind\":null,\"name\":\"align_items\"},{\"default\":\"row\",\"kind\":null,\"name\":\"flex_direction\"},{\"default\":\"wrap\",\"kind\":null,\"name\":\"flex_wrap\"},{\"default\":\"flex-start\",\"kind\":null,\"name\":\"justify_content\"}]},{\"extends\":null,\"module\":null,\"name\":\"GridStack1\",\"overrides\":[],\"properties\":[{\"default\":\"warn\",\"kind\":null,\"name\":\"mode\"},{\"default\":null,\"kind\":null,\"name\":\"ncols\"},{\"default\":null,\"kind\":null,\"name\":\"nrows\"},{\"default\":true,\"kind\":null,\"name\":\"allow_resize\"},{\"default\":true,\"kind\":null,\"name\":\"allow_drag\"},{\"default\":[],\"kind\":null,\"name\":\"state\"}]},{\"extends\":null,\"module\":null,\"name\":\"click1\",\"overrides\":[],\"properties\":[{\"default\":\"\",\"kind\":null,\"name\":\"terminal_output\"},{\"default\":\"\",\"kind\":null,\"name\":\"debug_name\"},{\"default\":0,\"kind\":null,\"name\":\"clears\"}]},{\"extends\":null,\"module\":null,\"name\":\"TemplateActions1\",\"overrides\":[],\"properties\":[{\"default\":0,\"kind\":null,\"name\":\"open_modal\"},{\"default\":0,\"kind\":null,\"name\":\"close_modal\"}]},{\"extends\":null,\"module\":null,\"name\":\"MaterialTemplateActions1\",\"overrides\":[],\"properties\":[{\"default\":0,\"kind\":null,\"name\":\"open_modal\"},{\"default\":0,\"kind\":null,\"name\":\"close_modal\"}]}],\"roots\":{\"references\":[{\"attributes\":{\"editor\":{\"id\":\"1569\"},\"field\":\"TotalCoinsMined\",\"formatter\":{\"id\":\"1568\"},\"title\":\"TotalCoinsMined\"},\"id\":\"1570\",\"type\":\"TableColumn\"},{\"attributes\":{},\"id\":\"1581\",\"type\":\"UnionRenderers\"},{\"attributes\":{\"editor\":{\"id\":\"1559\"},\"field\":\"ProofType\",\"formatter\":{\"id\":\"1558\"},\"title\":\"ProofType\"},\"id\":\"1560\",\"type\":\"TableColumn\"},{\"attributes\":{},\"id\":\"1553\",\"type\":\"StringFormatter\"},{\"attributes\":{},\"id\":\"1559\",\"type\":\"StringEditor\"},{\"attributes\":{},\"id\":\"1563\",\"type\":\"StringFormatter\"},{\"attributes\":{},\"id\":\"1573\",\"type\":\"NumberFormatter\"},{\"attributes\":{\"margin\":[5,5,5,5],\"name\":\"HSpacer02737\",\"sizing_mode\":\"stretch_width\"},\"id\":\"1545\",\"type\":\"Spacer\"},{\"attributes\":{\"data\":{\"Algorithm\":[\"Scrypt\",\"Scrypt\",\"X13\",\"SHA-256\",\"Ethash\",\"Scrypt\",\"X11\",\"CryptoNight-V7\",\"Ethash\",\"Equihash\",\"SHA-512\",\"Multiple\",\"SHA-256\",\"SHA-256\",\"Scrypt\",\"X15\",\"X11\",\"Scrypt\",\"Scrypt\",\"Scrypt\",\"Multiple\",\"Scrypt\",\"SHA-256\",\"Scrypt\",\"Scrypt\",\"Scrypt\",\"Quark\",\"Groestl\",\"Scrypt\",\"Scrypt\",\"Scrypt\",\"Scrypt\",\"Scrypt\",\"X11\",\"Scrypt\",\"Groestl\",\"Multiple\",\"SHA-256\",\"Scrypt\",\"Scrypt\",\"Scrypt\",\"Scrypt\",\"PoS\",\"Scrypt\",\"Scrypt\",\"NeoScrypt\",\"Scrypt\",\"Scrypt\",\"Scrypt\",\"Scrypt\",\"X11\",\"Scrypt\",\"X11\",\"SHA-256\",\"Scrypt\",\"Scrypt\",\"Scrypt\",\"SHA3\",\"Scrypt\",\"HybridScryptHash256\",\"Scrypt\",\"Scrypt\",\"SHA-256\",\"Scrypt\",\"X13\",\"Scrypt\",\"SHA-256\",\"Scrypt\",\"X13\",\"NeoScrypt\",\"Scrypt\",\"Scrypt\",\"Scrypt\",\"Scrypt\",\"Scrypt\",\"Scrypt\",\"X11\",\"X11\",\"SHA-256\",\"Multiple\",\"SHA-256\",\"PHI1612\",\"X11\",\"SHA-256\",\"SHA-256\",\"SHA-256\",\"X11\",\"Scrypt\",\"Scrypt\",\"Scrypt\",\"Scrypt\",\"Lyra2REv2\",\"Scrypt\",\"X11\",\"Multiple\",\"SHA-256\",\"X13\",\"Scrypt\",\"CryptoNight\",\"CryptoNight\",\"Shabal256\",\"Counterparty\",\"Scrypt\",\"SHA-256\",\"Groestl\",\"Scrypt\",\"Scrypt\",\"Scrypt\",\"X13\",\"Scrypt\",\"Scrypt\",\"Scrypt\",\"Scrypt\",\"X13\",\"Scrypt\",\"Stanford Folding\",\"X11\",\"Multiple\",\"QuBit\",\"Scrypt\",\"Scrypt\",\"Scrypt\",\"M7 POW\",\"Scrypt\",\"SHA-256\",\"Scrypt\",\"X11\",\"SHA3\",\"X11\",\"Lyra2RE\",\"SHA-256\",\"QUAIT\",\"X11\",\"X11\",\"Scrypt\",\"Scrypt\",\"Scrypt\",\"Ethash\",\"X13\",\"Blake2b\",\"SHA-256\",\"X15\",\"X11\",\"SHA-256\",\"BLAKE256\",\"Scrypt\",\"1GB AES Pattern Search\",\"SHA-256\",\"X11\",\"Scrypt\",\"SHA-256\",\"SHA-256\",\"NIST5\",\"Scrypt\",\"Scrypt\",\"X11\",\"Dagger\",\"Scrypt\",\"X11GOST\",\"X11\",\"Scrypt\",\"SHA-256\",\"Scrypt\",\"PoS\",\"Scrypt\",\"X11\",\"X11\",\"SHA-256\",\"SHA-256\",\"NIST5\",\"X11\",\"Scrypt\",\"POS 3.0\",\"Scrypt\",\"Scrypt\",\"Scrypt\",\"X13\",\"X11\",\"X11\",\"Equihash\",\"X11\",\"Scrypt\",\"CryptoNight\",\"SHA-256\",\"SHA-256\",\"X11\",\"Scrypt\",\"Multiple\",\"Scrypt\",\"Scrypt\",\"Scrypt\",\"SHA-256\",\"Scrypt\",\"Scrypt\",\"SHA-256D\",\"PoS\",\"Scrypt\",\"X11\",\"Lyra2Z\",\"PoS\",\"X13\",\"X14\",\"PoS\",\"SHA-256D\",\"Ethash\",\"Equihash\",\"DPoS\",\"X11\",\"Scrypt\",\"X11\",\"X13\",\"X11\",\"PoS\",\"Scrypt\",\"Scrypt\",\"X11\",\"PoS\",\"X11\",\"SHA-256\",\"Scrypt\",\"X11\",\"Scrypt\",\"Scrypt\",\"X11\",\"CryptoNight\",\"Scrypt\",\"Scrypt\",\"Scrypt\",\"Scrypt\",\"Quark\",\"QuBit\",\"Scrypt\",\"CryptoNight\",\"Lyra2RE\",\"Scrypt\",\"SHA-256\",\"X11\",\"Scrypt\",\"X11\",\"Scrypt\",\"CryptoNight-V7\",\"Scrypt\",\"Scrypt\",\"Scrypt\",\"X13\",\"X11\",\"Equihash\",\"Scrypt\",\"Scrypt\",\"Lyra2RE\",\"Scrypt\",\"Dagger-Hashimoto\",\"X11\",\"Blake2S\",\"X11\",\"Scrypt\",\"PoS\",\"X11\",\"NIST5\",\"PoS\",\"X11\",\"Scrypt\",\"Scrypt\",\"Scrypt\",\"SHA-256\",\"X11\",\"Scrypt\",\"Scrypt\",\"SHA-256\",\"PoS\",\"Scrypt\",\"X15\",\"SHA-256\",\"Scrypt\",\"POS 3.0\",\"CryptoNight-V7\",\"536\",\"Argon2d\",\"Blake2b\",\"Cloverhash\",\"CryptoNight\",\"NIST5\",\"X11\",\"NIST5\",\"Skein\",\"Scrypt\",\"X13\",\"Scrypt\",\"X11\",\"X11\",\"Scrypt\",\"CryptoNight\",\"X13\",\"Time Travel\",\"Scrypt\",\"Keccak\",\"SkunkHash v2 Raptor\",\"X11\",\"Skein\",\"SHA-256\",\"X11\",\"Scrypt\",\"VeChainThor Authority\",\"Scrypt\",\"PoS\",\"Scrypt\",\"Scrypt\",\"Scrypt\",\"Scrypt\",\"Scrypt\",\"Scrypt\",\"Scrypt\",\"CryptoNight\",\"SHA-512\",\"Ouroboros\",\"X11\",\"Equihash\",\"NeoScrypt\",\"X11\",\"Scrypt\",\"NeoScrypt\",\"Lyra2REv2\",\"Equihash\",\"Scrypt\",\"SHA-256\",\"NIST5\",\"PHI1612\",\"Dagger\",\"Scrypt\",\"Quark\",\"Scrypt\",\"POS 2.0\",\"Scrypt\",\"SHA-256\",\"X11\",\"NeoScrypt\",\"Ethash\",\"NeoScrypt\",\"X11\",\"DPoS\",\"NIST5\",\"X13\",\"Multiple\",\"Scrypt\",\"CryptoNight\",\"CryptoNight\",\"Ethash\",\"NIST5\",\"Quark\",\"X11\",\"CryptoNight-V7\",\"Scrypt\",\"Scrypt\",\"Scrypt\",\"X11\",\"BLAKE256\",\"X11\",\"NeoScrypt\",\"Quark\",\"NeoScrypt\",\"Scrypt\",\"Scrypt\",\"Scrypt\",\"X11\",\"X11\",\"SHA-256\",\"C11\",\"POS 3.0\",\"Ethash\",\"Scrypt\",\"CryptoNight\",\"SkunkHash\",\"Scrypt\",\"CryptoNight\",\"Scrypt\",\"Dagger\",\"Lyra2REv2\",\"X13\",\"Proof-of-BibleHash\",\"SHA-256 + Hive\",\"Scrypt\",\"Scrypt\",\"X11\",\"C11\",\"Proof-of-Authority\",\"X11\",\"XEVAN\",\"Scrypt\",\"VBFT\",\"Ethash\",\"CryptoNight\",\"Scrypt\",\"IMesh\",\"NIST5\",\"Scrypt\",\"Scrypt\",\"Equihash\",\"Scrypt\",\"Lyra2Z\",\"Green Protocol\",\"PoS\",\"Scrypt\",\"Semux BFT consensus\",\"X11\",\"Quark\",\"PoS\",\"CryptoNight\",\"X16R\",\"Scrypt\",\"NIST5\",\"Lyra2RE\",\"XEVAN\",\"Tribus\",\"Scrypt\",\"Lyra2Z\",\"CryptoNight\",\"CryptoNight Heavy\",\"CryptoNight\",\"Scrypt\",\"Scrypt\",\"Jump Consistent Hash\",\"SHA-256D\",\"CryptoNight\",\"Scrypt\",\"X15\",\"Scrypt\",\"Quark\",\"SHA-256\",\"DPoS\",\"X16R\",\"HMQ1725\",\"X11\",\"X16R\",\"Quark\",\"Quark\",\"Scrypt\",\"Lyra2REv2\",\"Quark\",\"Scrypt\",\"Scrypt\",\"CryptoNight-V7\",\"Cryptonight-GPU\",\"XEVAN\",\"CryptoNight Heavy\",\"X11\",\"X11\",\"Scrypt\",\"PoS\",\"SHA-256\",\"Keccak\",\"X11\",\"X11\",\"Scrypt\",\"SHA-512\",\"X16R\",\"ECC 256K1\",\"Equihash\",\"XEVAN\",\"Lyra2Z\",\"SHA-256\",\"XEVAN\",\"X11\",\"CryptoNight\",\"Quark\",\"Blake\",\"Blake\",\"Equihash\",\"Exosis\",\"Scrypt\",\"Scrypt\",\"Equihash\",\"Quark\",\"Equihash\",\"Quark\",\"Scrypt\",\"QuBit\",\"X11\",\"Scrypt\",\"XEVAN\",\"SHA-256D\",\"X11\",\"SHA-256\",\"X13\",\"SHA-256\",\"X11\",\"DPoS\",\"Scrypt\",\"Scrypt\",\"X11\",\"NeoScrypt\",\"Scrypt\",\"Blake\",\"Scrypt\",\"SHA-256\",\"Scrypt\",\"X11\",\"Scrypt\",\"Scrypt\",\"SHA-256\",\"X11\",\"SHA-256\",\"Scrypt\",\"Scrypt\",\"Scrypt\",\"Groestl\",\"X11\",\"Scrypt\",\"PoS\",\"Scrypt\",\"Scrypt\",\"X11\",\"SHA-256\",\"DPoS\",\"Scrypt\",\"Scrypt\",\"NeoScrypt\",\"Multiple\",\"X13\",\"Equihash+Scrypt\",\"DPoS\",\"Ethash\",\"DPoS\",\"SHA-256\",\"Leased POS\",\"PoS\",\"TRC10\",\"PoS\",\"SHA-256\",\"Scrypt\",\"CryptoNight\",\"Equihash\",\"Scrypt\"],\"Class\":{\"__ndarray__\":\"AAAAAAAAAAAAAAAAAwAAAAMAAAADAAAAAAAAAAMAAAADAAAAAwAAAAAAAAADAAAAAAAAAAAAAAADAAAAAAAAAAMAAAADAAAAAAAAAAAAAAADAAAAAwAAAAMAAAADAAAAAwAAAAAAAAADAAAAAwAAAAMAAAAAAAAAAwAAAAAAAAADAAAAAwAAAAAAAAAAAAAAAwAAAAMAAAADAAAAAwAAAAMAAAADAAAAAAAAAAAAAAADAAAAAwAAAAMAAAADAAAAAwAAAAAAAAAAAAAAAwAAAAAAAAADAAAAAwAAAAMAAAADAAAAAAAAAAMAAAADAAAAAAAAAAMAAAAAAAAAAAAAAAAAAAADAAAAAwAAAAMAAAAAAAAAAAAAAAAAAAAAAAAAAAAAAAMAAAADAAAAAwAAAAAAAAAAAAAAAwAAAAAAAAADAAAAAAAAAAAAAAADAAAAAwAAAAMAAAADAAAAAAAAAAAAAAADAAAAAAAAAAMAAAADAAAAAAAAAAAAAAADAAAAAAAAAAAAAAADAAAAAwAAAAAAAAAAAAAAAwAAAAAAAAAAAAAAAwAAAAAAAAADAAAAAAAAAAMAAAAAAAAAAwAAAAAAAAAAAAAAAwAAAAMAAAAAAAAAAwAAAAMAAAADAAAAAAAAAAMAAAADAAAAAwAAAAMAAAADAAAAAAAAAAAAAAADAAAAAwAAAAMAAAAAAAAAAwAAAAAAAAADAAAAAwAAAAAAAAADAAAAAAAAAAMAAAAAAAAAAAAAAAMAAAADAAAAAAAAAAMAAAADAAAAAAAAAAAAAAADAAAAAAAAAAMAAAAAAAAAAAAAAAAAAAADAAAAAwAAAAMAAAADAAAAAAAAAAAAAAAAAAAAAAAAAAAAAAADAAAAAwAAAAAAAAAAAAAAAAAAAAAAAAAAAAAAAwAAAAAAAAAAAAAAAAAAAAAAAAAAAAAAAwAAAAAAAAADAAAAAAAAAAAAAAADAAAAAAAAAAMAAAAAAAAAAAAAAAMAAAAAAAAAAwAAAAAAAAADAAAAAAAAAAMAAAAAAAAAAAAAAAAAAAAAAAAAAwAAAAAAAAAAAAAAAAAAAAAAAAAAAAAAAwAAAAMAAAAAAAAAAAAAAAMAAAADAAAAAAAAAAAAAAAAAAAAAAAAAAAAAAADAAAAAAAAAAAAAAAAAAAAAAAAAAAAAAAAAAAAAAAAAAAAAAADAAAAAAAAAAAAAAAAAAAAAAAAAAAAAAAAAAAAAwAAAAMAAAADAAAAAAAAAAAAAAAAAAAAAAAAAAMAAAAAAAAAAwAAAAAAAAAAAAAAAwAAAAAAAAADAAAAAwAAAAAAAAADAAAAAwAAAAAAAAADAAAAAAAAAAAAAAAAAAAAAwAAAAAAAAAAAAAAAwAAAAAAAAAAAAAAAAAAAAAAAAAAAAAAAAAAAAAAAAADAAAAAAAAAAMAAAAAAAAAAAAAAAAAAAAAAAAAAwAAAAAAAAADAAAAAAAAAAMAAAADAAAAAwAAAAMAAAAAAAAAAwAAAAAAAAAAAAAAAwAAAAAAAAADAAAAAwAAAAMAAAAAAAAAAwAAAAAAAAADAAAAAwAAAAMAAAAAAAAAAwAAAAAAAAADAAAAAAAAAAAAAAAAAAAAAwAAAAAAAAADAAAAAwAAAAMAAAADAAAAAwAAAAAAAAAAAAAAAwAAAAAAAAAAAAAAAAAAAAMAAAAAAAAAAwAAAAAAAAADAAAAAAAAAAMAAAAAAAAAAAAAAAAAAAAAAAAAAwAAAAAAAAAAAAAAAwAAAAAAAAAAAAAAAAAAAAMAAAADAAAAAwAAAAMAAAAAAAAAAAAAAAAAAAAAAAAAAwAAAAAAAAADAAAAAwAAAAMAAAAAAAAAAAAAAAMAAAADAAAAAAAAAAAAAAADAAAAAAAAAAMAAAADAAAAAwAAAAAAAAADAAAAAwAAAAAAAAAAAAAAAAAAAAMAAAADAAAAAwAAAAAAAAAAAAAAAAAAAAMAAAADAAAAAAAAAAMAAAADAAAAAwAAAAMAAAAAAAAAAQAAAAEAAAADAAAAAwAAAAMAAAAAAAAAAAAAAAAAAAAAAAAAAAAAAAAAAAADAAAAAwAAAAMAAAADAAAAAAAAAAAAAAAAAAAAAwAAAAAAAAADAAAAAAAAAAAAAAAAAAAAAAAAAAMAAAAAAAAAAAAAAAMAAAAAAAAAAAAAAAMAAAADAAAAAAAAAAMAAAAAAAAAAwAAAAMAAAADAAAAAwAAAAAAAAAAAAAAAwAAAAAAAAADAAAAAAAAAAAAAAAAAAAAAAAAAAAAAAAAAAAAAwAAAAMAAAADAAAAAAAAAAAAAAAAAAAAAAAAAAAAAAAAAAAAAwAAAAAAAAADAAAAAwAAAAMAAAADAAAAAAAAAAAAAAAAAAAAAAAAAAMAAAAAAAAAAAAAAAMAAAAAAAAAAAAAAAMAAAABAAAAAwAAAAAAAAADAAAAAwAAAAAAAAAAAAAAAwAAAAAAAAADAAAAAwAAAAMAAAADAAAAAwAAAAAAAAADAAAAAAAAAAMAAAAAAAAAAAAAAAMAAAAAAAAAAAAAAAAAAAAAAAAAAAAAAAMAAAADAAAAAwAAAAAAAAAAAAAAAAAAAAMAAAAAAAAAAwAAAAAAAAADAAAAAAAAAAAAAAAAAAAAAAAAAAMAAAAAAAAAAAAAAAAAAAADAAAAAAAAAAMAAAAAAAAAAwAAAAAAAAAAAAAAAAAAAAMAAAADAAAAAAAAAAAAAAAAAAAAAAAAAAAAAAAAAAAAAwAAAAAAAAADAAAAAAAAAAMAAAAAAAAAAAAAAAEAAAAAAAAAAgAAAAAAAAAAAAAAAAAAAAMAAAADAAAAAAAAAA==\",\"dtype\":\"int32\",\"order\":\"little\",\"shape\":[532]},\"CoinName\":[\"42 Coin\",\"404Coin\",\"EliteCoin\",\"Bitcoin\",\"Ethereum\",\"Litecoin\",\"Dash\",\"Monero\",\"Ethereum Classic\",\"ZCash\",\"Bitshares\",\"DigiByte\",\"BitcoinDark\",\"PayCoin\",\"ProsperCoin\",\"KoboCoin\",\"Spreadcoin\",\"Argentum\",\"Aurora Coin\",\"BlueCoin\",\"MyriadCoin\",\"MoonCoin\",\"ZetaCoin\",\"SexCoin\",\"Quatloo\",\"EnergyCoin\",\"QuarkCoin\",\"Riecoin\",\"Digitalcoin \",\"BitBar\",\"Catcoin\",\"CryptoBullion\",\"CannaCoin\",\"CryptCoin\",\"CasinoCoin\",\"Diamond\",\"Verge\",\"DevCoin\",\"EarthCoin\",\"E-Gulden\",\"Einsteinium\",\"Emerald\",\"Exclusive Coin\",\"FlutterCoin\",\"Franko\",\"FeatherCoin\",\"GrandCoin\",\"GlobalCoin\",\"GoldCoin\",\"HoboNickels\",\"HyperStake\",\"Infinite Coin\",\"IOCoin\",\"IXcoin\",\"KrugerCoin\",\"LuckyCoin\",\"Litebar \",\"MaxCoin\",\"MegaCoin\",\"MediterraneanCoin\",\"MintCoin\",\"MinCoin\",\"MazaCoin\",\"Nautilus Coin\",\"NavCoin\",\"NobleCoin\",\"Namecoin\",\"NyanCoin\",\"OpalCoin\",\"Orbitcoin\",\"PotCoin\",\"PhoenixCoin\",\"Reddcoin\",\"RonPaulCoin\",\"StableCoin\",\"SmartCoin\",\"SuperCoin\",\"SyncCoin\",\"SysCoin\",\"TeslaCoin\",\"TigerCoin\",\"TittieCoin\",\"TorCoin\",\"TerraCoin\",\"UnbreakableCoin\",\"Unobtanium\",\"UroCoin\",\"UnitaryStatus Dollar\",\"UltraCoin\",\"ViaCoin\",\"VeriCoin\",\"Vertcoin\",\"WorldCoin\",\"X11 Coin\",\"Crypti\",\"JouleCoin\",\"StealthCoin\",\"ZCC Coin\",\"ByteCoin\",\"DigitalNote \",\"BurstCoin\",\"StorjCoin\",\"MonaCoin\",\"Neutron\",\"FairCoin\",\"Gulden\",\"RubyCoin\",\"PesetaCoin\",\"Kore\",\"Wild Beast Coin\",\"Dnotes\",\"Flo\",\"8BIT Coin\",\"Sativa Coin\",\"ArtByte\",\"Folding Coin\",\"Ucoin\",\"Unitus\",\"CypherPunkCoin\",\"OmniCron\",\"Vtorrent\",\"GreenCoin\",\"Cryptonite\",\"MasterCoin\",\"SoonCoin\",\"1Credit\",\"IslaCoin\",\"Nexus\",\"MarsCoin \",\"Crypto\",\"Anarchists Prime\",\"Droidz\",\"BowsCoin\",\"Squall Coin\",\"Song Coin\",\"BitZeny\",\"Diggits\",\"Expanse\",\"Paycon\",\"Siacoin\",\"Emercoin\",\"EverGreenCoin\",\"MindCoin\",\"I0coin\",\"Decred\",\"Revolution VR\",\"HOdlcoin\",\"EDRCoin\",\"Hitcoin\",\"Gamecredits\",\"DubaiCoin\",\"CarpeDiemCoin\",\"PWR Coin\",\"BillaryCoin\",\"GPU Coin\",\"Adzcoin\",\"SoilCoin\",\"YoCoin\",\"SibCoin\",\"EuropeCoin\",\"ZeitCoin\",\"SwingCoin\",\"SafeExchangeCoin\",\"Nebuchadnezzar\",\"Francs\",\"BolivarCoin\",\"Ratecoin\",\"Revenu\",\"Clockcoin\",\"VIP Tokens\",\"BitSend\",\"Omni\",\"Let it Ride\",\"PutinCoin\",\"iBankCoin\",\"Frankywillcoin\",\"MudraCoin\",\"PizzaCoin\",\"Lutetium Coin\",\"Komodo\",\"GoldBlocks\",\"CarterCoin\",\"Karbo\",\"BitTokens\",\"ZayedCoin\",\"MustangCoin\",\"ZoneCoin\",\"Circuits of Value\",\"RootCoin\",\"DopeCoin\",\"BitCurrency\",\"DollarCoin\",\"Swiscoin\",\"Shilling\",\"BuzzCoin\",\"Opair\",\"PesoBit\",\"Halloween Coin\",\"ZCoin\",\"CoffeeCoin\",\"RoyalCoin\",\"GanjaCoin V2\",\"TeamUP\",\"LanaCoin\",\"Elementrem\",\"ZClassic\",\"ARK\",\"InsaneCoin\",\"KiloCoin\",\"ArtexCoin\",\"EmberCoin\",\"XenixCoin\",\"FreeCoin\",\"PLNCoin\",\"AquariusCoin\",\"Kurrent\",\"Creatio\",\"Eternity\",\"Eurocoin\",\"BitcoinFast\",\"Stakenet\",\"BitConnect Coin\",\"MoneyCoin\",\"Enigma\",\"Cannabis Industry Coin\",\"Russiacoin\",\"PandaCoin\",\"GameUnits\",\"GAKHcoin\",\"Allsafe\",\"LiteCreed\",\"OsmiumCoin\",\"Bikercoins\",\"HexxCoin\",\"Klingon Empire Darsek\",\"Internet of People\",\"KushCoin\",\"Printerium\",\"PacCoin\",\"Impeach\",\"Citadel\",\"Zilbercoin\",\"FirstCoin\",\"BeaverCoin\",\"FindCoin\",\"VaultCoin\",\"Zero\",\"OpenChat\",\"Canada eCoin\",\"Zoin\",\"RenosCoin\",\"DubaiCoin\",\"VirtacoinPlus\",\"TajCoin\",\"Impact\",\"EB3coin\",\"Atmos\",\"HappyCoin\",\"Coinonat\",\"MacronCoin\",\"Condensate\",\"Independent Money System\",\"ArgusCoin\",\"LomoCoin\",\"ProCurrency\",\"GoldReserve\",\"BenjiRolls\",\"GrowthCoin\",\"ILCoin\",\"Phreak\",\"Degas Coin\",\"HTML5 Coin\",\"Ultimate Secure Cash\",\"EquiTrader\",\"QTUM\",\"Quantum Resistant Ledger\",\"Espers\",\"Dynamic\",\"Nano\",\"ChanCoin\",\"Dinastycoin\",\"Denarius\",\"DigitalPrice\",\"Virta Unique Coin\",\"Bitcoin Planet\",\"Unify\",\"BritCoin\",\"SocialCoin\",\"ArcticCoin\",\"DAS\",\"Linda\",\"LeviarCoin\",\"DeepOnion\",\"Bitcore\",\"gCn Coin\",\"SmartCash\",\"Signatum\",\"Onix\",\"Cream\",\"Bitcoin Cash\",\"Monoeci\",\"Draftcoin\",\"Vechain\",\"Sojourn Coin\",\"Stakecoin\",\"NewYorkCoin\",\"FrazCoin\",\"Kronecoin\",\"AdCoin\",\"Linx\",\"CoinonatX\",\"Ethereum Dark\",\"Sumokoin\",\"Obsidian\",\"Cardano\",\"Regalcoin\",\"BitcoinZ\",\"TrezarCoin\",\"Elements\",\"TerraNovaCoin\",\"VIVO Coin\",\"Rupee\",\"Bitcoin Gold\",\"WomenCoin\",\"Theresa May Coin\",\"NamoCoin\",\"LUXCoin\",\"Pirl\",\"Xios\",\"Bitcloud 2.0\",\"eBoost\",\"KekCoin\",\"BlackholeCoin\",\"Infinity Economics\",\"Pura\",\"Innova\",\"Ellaism\",\"GoByte\",\"Magnet\",\"Lamden Tau\",\"Electra\",\"Bitcoin Diamond\",\"SHIELD\",\"Cash & Back Coin\",\"UltraNote\",\"BitCoal\",\"DaxxCoin\",\"Bulwark\",\"Kalkulus\",\"AC3\",\"Lethean\",\"GermanCoin\",\"LiteCoin Ultra\",\"PopularCoin\",\"PhantomX\",\"Photon\",\"Sucre\",\"SparksPay\",\"Digiwage\",\"GunCoin\",\"IrishCoin\",\"Trollcoin\",\"Litecoin Plus\",\"Monkey Project\",\"Pioneer Coin\",\"UnitedBitcoin\",\"Interzone\",\"TokenPay\",\"1717 Masonic Commemorative Token\",\"My Big Coin\",\"TurtleCoin\",\"MUNcoin\",\"Unified Society USDEX\",\"Niobio Cash\",\"ShareChain\",\"Travelflex\",\"KREDS\",\"Tokyo Coin\",\"BiblePay\",\"LitecoinCash\",\"BitFlip\",\"LottoCoin\",\"Crypto Improvement Fund\",\"Stipend\",\"Poa Network\",\"Pushi\",\"Ellerium\",\"Velox\",\"Ontology\",\"Callisto Network\",\"BitTube\",\"Poseidon\",\"Aidos Kuneen\",\"Bitspace\",\"Briacoin\",\"Ignition\",\"Bitrolium\",\"MedicCoin\",\"Alpenschillling\",\"Bitcoin Green\",\"Deviant Coin\",\"Abjcoin\",\"Semux\",\"FuturoCoin\",\"Carebit\",\"Zealium\",\"Monero Classic\",\"Proton\",\"iDealCash\",\"Jumpcoin\",\"Infinex\",\"Bitcoin Incognito\",\"KEYCO\",\"HollyWoodCoin\",\"GINcoin\",\"PlatinCoin\",\"Loki\",\"Newton Coin\",\"Swisscoin\",\"Xt3ch\",\"MassGrid\",\"TheVig\",\"PluraCoin\",\"EmaratCoin\",\"Dekado\",\"Lynx\",\"Poseidon Quark\",\"BitcoinWSpectrum\",\"Muse\",\"Motion\",\"PlusOneCoin\",\"Axe\",\"Trivechain\",\"Dystem\",\"Giant\",\"Peony Coin\",\"Absolute Coin\",\"Vitae\",\"HexCoin\",\"TPCash\",\"Webchain\",\"Ryo\",\"Urals Coin\",\"Qwertycoin\",\"ARENON\",\"EUNO\",\"MMOCoin\",\"Ketan\",\"Project Pai\",\"XDNA\",\"PAXEX\",\"Azart\",\"ThunderStake\",\"Kcash\",\"Xchange\",\"Acute Angle Cloud\",\"CrypticCoin\",\"Bettex coin\",\"Actinium\",\"Bitcoin SV\",\"BitMoney\",\"Junson Ming Chan Coin\",\"FREDEnergy\",\"HerbCoin\",\"Universal Molecule\",\"Lithium\",\"PirateCash\",\"Exosis\",\"Block-Logic\",\"Oduwa\",\"Beam\",\"Galilel\",\"Bithereum\",\"Crypto Sports\",\"Credit\",\"SLICE\",\"Dash Platinum\",\"Nasdacoin\",\"Beetle Coin\",\"Titan Coin\",\"Award\",\"BLAST\",\"Bitcoin Rhodium\",\"GlobalToken\",\"Insane Coin\",\"ALAX\",\"LiteDoge\",\"SolarCoin\",\"TruckCoin\",\"UFO Coin\",\"OrangeCoin\",\"BlakeCoin\",\"BitstarCoin\",\"NeosCoin\",\"HyperCoin\",\"PinkCoin\",\"Crypto Escudo\",\"AudioCoin\",\"IncaKoin\",\"Piggy Coin\",\"Crown Coin\",\"Genstake\",\"SmileyCoin\",\"XiaoMiCoin\",\"Groestlcoin\",\"CapriCoin\",\" ClubCoin\",\"Radium\",\"Bata\",\"Pakcoin\",\"Creditbit \",\"OKCash\",\"Lisk\",\"HiCoin\",\"WhiteCoin\",\"FriendshipCoin\",\"JoinCoin\",\"Triangles Coin\",\"Vollar\",\"EOS\",\"Reality Clash\",\"Oxycoin\",\"TigerCash\",\"Waves\",\"Particl\",\"BitTorrent\",\"Nxt\",\"ZEPHYR\",\"Gapcoin\",\"Beldex\",\"Horizen\",\"BitcoinPlus\"],\"ProofType\":[\"PoW/PoS\",\"PoW/PoS\",\"PoW/PoS\",\"PoW\",\"PoW\",\"PoW\",\"PoW/PoS\",\"PoW\",\"PoW\",\"PoW\",\"PoS\",\"PoW\",\"PoW/PoS\",\"PoS\",\"PoW\",\"PoW/PoS\",\"PoW\",\"PoW\",\"PoW/PoS\",\"PoW/PoS\",\"PoW\",\"PoW\",\"PoW\",\"PoW\",\"PoW\",\"PoW/PoS\",\"PoW\",\"PoW\",\"PoW\",\"PoW/PoS\",\"PoW\",\"PoW/PoS\",\"PoW\",\"PoW\",\"PoC\",\"PoW/PoS\",\"PoW\",\"PoW\",\"PoW\",\"PoW\",\"PoW\",\"PoW\",\"PoS\",\"PoS/PoW/PoT\",\"PoW\",\"PoW\",\"PoW\",\"PoW\",\"PoW\",\"PoW/PoS\",\"PoS\",\"PoW\",\"PoW/PoS\",\"PoW\",\"PoW\",\"PoW\",\"PoW\",\"PoW/PoS\",\"PoW\",\"PoW\",\"PoS\",\"PoW\",\"PoW/PoS\",\"PoS\",\"PoW/PoS\",\"PoW\",\"PoW\",\"PoW\",\"PoW/PoS\",\"PoW/PoS\",\"PoW/PoS\",\"PoW/PoS\",\"PoW/PoS\",\"PoW\",\"PoW\",\"PoW\",\"PoS\",\"PoW/PoS\",\"PoW\",\"PoS\",\"PoW\",\"PoS\",\"PoW/PoS\",\"PoW\",\"PoW\",\"PoW\",\"PoW\",\"PoW/PoS\",\"PoW/PoS\",\"PoW\",\"PoST\",\"PoW\",\"PoW\",\"PoW/PoS\",\"PoS\",\"PoW\",\"PoW/PoS\",\"PoW/PoS\",\"PoW\",\"PoW\",\"PoC\",\"PoS\",\"PoW\",\"PoW/PoS\",\"PoW/PoS\",\"PoW\",\"PoS\",\"PoW\",\"PoW/PoS\",\"PoW\",\"PoS\",\"PoW\",\"PoW/PoS\",\"PoW/PoS\",\"PoW\",\"PoW\",\"PoS\",\"PoW\",\"PoW\",\"PoW\",\"PoW/PoS\",\"PoW\",\"PoW\",\"PoW\",\"PoW\",\"PoW\",\"PoW/PoS\",\"PoW/nPoS\",\"PoW\",\"PoW\",\"PoW\",\"PoW/PoS\",\"PoW\",\"PoS/PoW\",\"PoW\",\"PoW\",\"PoS\",\"PoW\",\"PoW/PoS\",\"PoW\",\"PoW/PoS\",\"PoW/PoS\",\"PoW\",\"PoW\",\"PoW/PoS\",\"PoW\",\"PoW\",\"PoW/PoS\",\"PoW/PoS\",\"PoW\",\"PoW/PoS\",\"PoW\",\"PoW/PoS\",\"PoW/PoS\",\"PoS\",\"PoW\",\"PoW\",\"PoW\",\"PoW\",\"PoW/PoS\",\"PoS\",\"PoW/PoS\",\"PoC\",\"PoS\",\"PoW\",\"PoW\",\"PoW/PoS\",\"PoW/PoS\",\"PoW/PoS\",\"PoW/PoS\",\"PoW/PoS\",\"PoW\",\"PoS\",\"PoW/PoS\",\"PoW/PoS\",\"PoW/PoS\",\"PoS\",\"PoW\",\"PoS\",\"dPoW/PoW\",\"PoW/PoS\",\"PoW/PoS\",\"PoW\",\"PoW/PoS\",\"PoW\",\"PoW/PoS\",\"PoW/PoS\",\"PoW\",\"PoW/PoS\",\"PoW\",\"PoS\",\"PoW\",\"PoW/PoW\",\"PoW\",\"PoW/PoS\",\"PoS\",\"PoW/PoS\",\"PoW/PoS\",\"PoW\",\"PoS\",\"PoS\",\"PoW/PoS\",\"PoS\",\"PoW/PoS\",\"PoW\",\"PoW\",\"DPoS\",\"PoW/PoS\",\"PoW\",\"PoW\",\"PoW/PoS\",\"PoW/PoS\",\"PoS\",\"PoW/PoS\",\"PoW/PoS\",\"PoW\",\"PoS\",\"PoW/PoS\",\"PoW/PoS\",\"PoW/PoS\",\"TPoS\",\"PoW/PoS\",\"PoW/PoS\",\"PoW/PoS\",\"PoW\",\"PoW/PoS\",\"PoS\",\"PoW/PoS\",\"PoW/PoS\",\"PoS\",\"PoW/PoS\",\"PoW\",\"PoW\",\"PoW\",\"PoW/PoS\",\"PoW/PoS\",\"PoW/PoS\",\"PoW/PoS\",\"PoW\",\"PoW/PoS\",\"PoW\",\"PoS\",\"PoW/PoS \",\"PoW\",\"PoS\",\"PoW\",\"PoW\",\"PoW/PoS\",\"PoW\",\"PoW\",\"PoS\",\"PoW\",\"PoW/PoS\",\"PoW/PoS\",\"PoW/PoS\",\"PoW\",\"PoS\",\"PoW/PoS\",\"PoW\",\"PoS\",\"PoW/PoS\",\"PoW/PoS\",\"PoW/PoS\",\"PoW/PoS\",\"PoS\",\"PoW/PoS\",\"PoW\",\"PoS\",\"PoW\",\"PoS\",\"PoW/PoS\",\"PoW/PoS\",\"PoS\",\"PoW\",\"PoS\",\"PoW\",\"PoW/PoS\",\"PoW\",\"PoW\",\"PoW\",\"PoW\",\"PoW/PoS\",\"PoW\",\"PoW/PoS\",\"PoW/PoS\",\"PoW\",\"PoW/PoS\",\"PoW\",\"PoW\",\"PoW\",\"PoW/PoS\",\"PoW\",\"PoW/PoS\",\"PoW\",\"PoW\",\"PoW\",\"PoS\",\"PoW\",\"PoW/PoS\",\"PoW\",\"PoW/PoS\",\"PoS\",\"Proof of Authority\",\"PoW\",\"PoS\",\"PoW\",\"PoW\",\"PoW\",\"PoW\",\"PoW\",\"PoW/PoS\",\"PoW/PoS\",\"PoW\",\"PoS\",\"PoS\",\"PoW/PoS\",\"PoW\",\"PoW/PoS\",\"PoW\",\"PoW/PoS\",\"PoW\",\"PoS\",\"PoW\",\"PoW/PoS\",\"PoW/PoS\",\"PoW/PoS\",\"PoW/PoS\",\"PoW\",\"PoW/PoS\",\"PoW/PoS\",\"PoW\",\"PoS\",\"PoW/PoS\",\"PoS\",\"PoW\",\"PoW\",\"PoW\",\"PoW\",\"PoW/PoS\",\"DPoS\",\"PoW/PoS\",\"PoW/PoS\",\"PoW\",\"PoW/PoS\",\"PoW\",\"PoW\",\"PoW\",\"PoS\",\"PoS\",\"PoW\",\"PoW\",\"PoW/PoS\",\"PoW/PoS\",\"PoW\",\"PoW/PoS\",\"PoW\",\"PoW\",\"PoW\",\"PoS\",\"PoW\",\"PoW\",\"PoW/PoS\",\"PoW/PoS\",\"PoS\",\"PoW\",\"PoW\",\"PoW\",\"PoS\",\"PoS\",\"PoW and PoS\",\"PoW\",\"PoW\",\"PoW/PoS\",\"PoW\",\"PoW\",\"PoW\",\"PoW\",\"PoS\",\"POBh\",\"PoW + Hive\",\"PoW\",\"PoW\",\"PoW\",\"PoW/PoS\",\"PoA\",\"PoW/PoS\",\"PoW/PoS\",\"PoS\",\"PoS\",\"PoW\",\"PoW\",\"PoW\",\"PoW\",\"PoW/PoS\",\"PoW/PoS\",\"PoW/PoS\",\"PoW\",\"PoS\",\"PoW\",\"PoS\",\"PoS\",\"PoW/PoS\",\"DPoS\",\"PoW\",\"PoW/PoS\",\"PoS\",\"PoW\",\"PoS\",\"PoW/PoS\",\"PoW\",\"PoW\",\"PoS/PoW\",\"PoW\",\"PoS\",\"PoW\",\"PoW\",\"PoW\",\"PoW\",\"PoW/PoS\",\"PoS\",\"PoW\",\"PoW/PoS\",\"PoW\",\"PoW/PoS\",\"PoS\",\"HPoW\",\"PoS\",\"PoS\",\"PoS\",\"PoW\",\"PoW\",\"PoW\",\"PoW/PoS\",\"PoS\",\"PoW/PoS\",\"PoS\",\"PoW/PoS\",\"PoS\",\"PoW\",\"PoW/PoS\",\"PoW\",\"PoW\",\"PoW\",\"PoW\",\"PoS\",\"PoW/PoS\",\"PoS\",\"PoS\",\"PoW\",\"PoW/PoS\",\"PoS\",\"PoW\",\"PoW/PoS\",\"Zero-Knowledge Proof\",\"PoW\",\"DPOS\",\"PoW\",\"PoS\",\"PoW\",\"PoW\",\"Pos\",\"PoS\",\"PoW\",\"PoW/PoS\",\"PoW\",\"PoW\",\"PoS\",\"PoW\",\"PoW\",\"PoW/PoS\",\"PoW\",\"PoW/PoS\",\"PoW\",\"PoS\",\"PoW/PoS\",\"PoW\",\"PoS\",\"PoW/PoS\",\"PoW/PoS\",\"PoW/PoS\",\"PoW/PoS\",\"PoW\",\"PoW\",\"PoW\",\"PoW/PoS\",\"DPoS\",\"PoW/PoS\",\"PoW\",\"PoW/PoS\",\"PoW\",\"PoW/PoS\",\"PoW\",\"PoW/PoS\",\"PoS\",\"PoW/PoS\",\"PoW/PoS\",\"PoW\",\"PoW/PoS\",\"PoW/PoS\",\"PoW/PoS\",\"PoW\",\"PoW/PoS\",\"PoW\",\"PoW/PoS\",\"PoW\",\"PoW/PoS\",\"PoW/PoS\",\"PoS\",\"PoW\",\"PoW\",\"Proof of Trust\",\"PoW/PoS\",\"DPoS\",\"PoS\",\"PoW/PoS\",\"PoW/PoS\",\"PoW\",\"PoW/PoS\",\"PoW\",\"DPoS\",\"PoW\",\"DPoS\",\"PoS\",\"LPoS\",\"PoS\",\"DPoS\",\"PoS/LPoS\",\"DPoS\",\"PoW/PoS\",\"PoW\",\"PoW\",\"PoS\"],\"TotalCoinSupply\":[\"42\",\"532000000\",\"314159265359\",\"21000000\",\"0\",\"84000000\",\"22000000\",\"0\",\"210000000\",\"21000000\",\"3600570502\",\"21000000000\",\"22000000\",\"12500000\",\"21000000\",\"350000000\",\"20000000\",\"64000000\",\"16768584\",\"0\",\"2000000000\",\"384000000000\",\"169795588\",\"250000000\",\"100000000\",\"0\",\"247000000\",\"84000000\",\"48166000\",\"500000\",\"21000000 \",\"1000000\",\"13140000\",\"18000000\",\"40000000000\",\"4380000\",\"16555000000\",\"21000000000\",\"13500000000\",\"21000000 \",\"299792458\",\"32000000\",\"0\",\"0\",\"11235813\",\"336000000\",\"1420609614\",\"70000000\",\"72245700\",\"120000000\",\"0\",\"90600000000\",\"22000000\",\"21000000\",\"265420800\",\"20000000\",\"1350000\",\"100000000\",\"42000000\",\"200000000\",\"0\",\"10000000\",\"2419200000\",\"16180000\",\"0\",\"15000000000\",\"21000000\",\"337000000\",\"0\",\"3770000\",\"420000000\",\"98000000\",\"0\",\"21000000\",\"250000000\",\"51200000\",\"0\",\"1000\",\"888000000\",\"100000000\",\"47011968\",\"2300000000\",\"10000000\",\"42000000\",\"80000000\",\"250000\",\"0\",\"1600000000\",\"100000000\",\"23000000\",\"0\",\"84000000\",\"265420800\",\"5500000\",\"0\",\"45000000\",\"0\",\"1000000000\",\"184467440735\",\"10000000000\",\"2158812800\",\"500000000\",\"105120000\",\"68000000\",\"0\",\"1680000000\",\"0\",\"166386000\",\"12000000\",\"2628000\",\"500000000\",\"160000000\",\"0\",\"10000000\",\"1000000000\",\"1000000000\",\"20000000\",\"0\",\"0\",\"3371337\",\"20000000\",\"10000000000\",\"1840000000\",\"619478\",\"21000000\",\"92000000000\",\"0\",\"78000000\",\"33000000\",\"65789100\",\"53760000\",\"5060000\",\"21000000\",\"0\",\"210240000\",\"250000000\",\"100000000\",\"16906397\",\"50000000\",\"0\",\"1000000000\",\"26298000\",\"16000000\",\"21000000\",\"21000000\",\"210000000\",\"81962100\",\"22000000\",\"26550000000\",\"84000000\",\"10500000\",\"21626280000 \",\"0\",\"42000000\",\"221052632\",\"84000000\",\"30000000\",\"168351300\",\"24000000\",\"384000000\",\" 99000000000\",\"40000000\",\"2147483647\",\"20000000\",\"20000000\",\"25000000\",\"75000000\",\"222725000\",\"525000000\",\"90000000\",\"139000000\",\"616448\",\"33500000\",\"2000000000\",\"44333333\",\"100000000\",\"200000000\",\"25000000\",\"657000000\",\"200000000\",\"50000000\",\"90000000\",\"10000000\",\"21000000\",\"9736000\",\"3000000\",\"21000000\",\"1200000000\",\"0\",\"200000000\",\"0\",\"10638298\",\"3100000000\",\"30000000\",\"20000000000\",\"74000000\",\"0\",\"1500000000\",\"21400000\",\"39999898\",\"2500124\",\"100000000\",\"301000000\",\"7506000000\",\"26205539\",\"21000000\",\"125000000\",\"30000000\",\"10000000000\",\"500000000\",\"850000000\",\"3853326.77707314\",\"50000000\",\"38540000 \",\"42000000\",\"228000000\",\"20000000\",\"60000000\",\"20000000\",\"33000000\",\"76500000\",\"28000000\",\"650659833\",\"5000000\",\"21000000\",\"144000000\",\"32514916898\",\"13000000\",\"3315789\",\"15000000\",\"78835200\",\"2714286\",\"25000000\",\"9999999\",\"500000000\",\"21000000\",\"9354000\",\"20000000\",\"100000000000\",\"21933333\",\"185000000\",\"55000000\",\"110000000\",\"3360000\",\"14524851.4827\",\"1000000000\",\"17000000\",\"1000000000\",\"100000000 \",\"21000000\",\"34426423\",\"2232901\",\"100000000\",\"36900000\",\"110000000\",\"4000000000\",\"110290030\",\"100000000\",\"48252000\",\"400000000\",\"500000000\",\"21212121\",\"28600000\",\"1000000000\",\"75000000000\",\"40000000\",\"35520400\",\"2000000000\",\"2500000000\",\"30000000\",\"105000000\",\"90000000000\",\"200084200\",\"72000000\",\"100000000\",\"105000000\",\"50000000000\",\"0\",\"340282367\",\"30000000\",\"2000000000\",\"10000000\",\"100000000\",\"120000000\",\"100000000\",\"19276800\",\"30000000\",\" 75000000\",\"60000000\",\"18900000\",\"50000000000\",\"54000000\",\"18898187.6216583\",\"21000000\",\"200000000000\",\"5000000000\",\"137500000\",\"1100000000\",\"100000000\",\"21000000\",\"9507271\",\"17405891.19707116\",\"86712634466\",\"10500000000\",\"61599965\",\"0\",\"20000000\",\"84000000\",\"100000000\",\"100000000\",\"48252000\",\"4200000\",\"88888888\",\"91388946\",\"45000000000\",\"27000000\",\"21000000000\",\"400000000\",\"1800000000\",\"15733333\",\"27000000\",\"24000000\",\"21000000\",\"25000000000\",\"100000000\",\"1200000000\",\"60000000\",\"156306732.71\",\"21000000\",\"200000000\",\"100000000\",\"21000000\",\"14788275.991\",\"9000000000\",\"350000000\",\"45000000\",\"280000000\",\"31800000\",\"144000000\",\"500000000\",\"30000000000\",\"210000000\",\"660000000\",\"210000000\",\"85000000000\",\"12500000\",\"10000000000\",\"27716121\",\"20000000\",\"550000000\",\"999481516\",\"50000000000\",\"150000000\",\"4999999999\",\"50000000\",\" 90000000000\",\"19800000\",\"21000000\",\"120000000\",\"500000000\",\"64000000\",\"900000000\",\"4000000\",\"21000000\",\"23000000\",\"20166000\",\"23000000\",\"25000000\",\"1618033\",\"30000000\",\"1000000000000\",\"16600000\",\"232000000\",\"336000000\",\"10000000000\",\"100000000\",\"1100000000\",\"800000000\",\"5200000000\",\"840000000\",\"40000000\",\"18406979840\",\"500000000\",\"19340594\",\"252460800\",\"25000000\",\"60000000\",\"124000000\",\"1000000000\",\"6500000000\",\"1000000000\",\"21000000\",\"25000000\",\"50000000\",\"3000000\",\"5000000\",\"70000000\",\"500000000\",\"300000000\",\"21000000\",\"88000000\",\"30000000\",\"100000000\",\"100000000\",\"200000000\",\"80000000\",\"18400000\",\"45000000\",\"5121951220\",\"21000000\",\"26280000\",\"21000000\",\"18000000\",\"26000000\",\"10500000\",\"600000518\",\"150000000\",\"184000000000\",\"10200000000\",\"44000000\",\"168000000\",\"100000000\",\"1000000000\",\"84000000\",\"90000000\",\"92000000000\",\"650000000 \",\"100262205\",\"18081806 \",\"22075700\",\"21000000\",\"21000000\",\"82546564\",\"21000000\",\"5151000\",\"16880000000\",\"52500000\",\"100000000\",\"22105263\",\"1000000000\",\"1750000000\",\"88188888\",\"210000000\",\"184470000000\",\"55000000\",\"50000000\",\"260000000\",\"210000000\",\"2100000000\",\"366000000\",\"100000000\",\"25000000\",\"18000000000\",\"1000000000\",\"100000000\",\"1000000000\",\"7600000000\",\"50000000\",\"84000000\",\"21000000\",\"70000000000\",\"0\",\"8080000000\",\"54000000\",\"105120001.44\",\"25228800\",\"105000000\",\"21000000\",\"120000000\",\"21000000\",\"262800000\",\"19035999\",\"30886000\",\"13370000\",\"74800000000\",\"100000000\",\"19700000\",\"84000000\",\"500000000\",\"5000000000\",\"420000000\",\"64000000\",\"2100000\",\"168000000\",\"30000000\",\"1000000000\",\"35000000000\",\"98100000000\",\"0\",\"4000000000\",\"200000000\",\"7000000000\",\"54256119\",\"21000000\",\"0\",\"500000000\",\"1000000000\",\"10500000000\",\"190000000\",\"1000000000\",\"42000000\",\"15000000\",\"50000000000\",\"400000000\",\"105000000\",\"208000000\",\"160000000\",\"9000000\",\"5000000\",\"182000000\",\"16504333\",\"105000000\",\"159918400\",\"10008835635\",\"300000000\",\"60168145\",\"2800000\",\"120000\",\"2100000000\",\"0\",\"24487944\",\"0\",\"1000000000\",\"100000000\",\"8634140\",\"990000000000\",\"1000000000\",\"2000000000\",\"250000000\",\"1400222610\",\"21000000\",\"1000000\"],\"TotalCoinsMined\":{\"__ndarray__\":\"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\",\"dtype\":\"float64\",\"order\":\"little\",\"shape\":[532]}},\"selected\":{\"id\":\"1547\"},\"selection_policy\":{\"id\":\"1581\"}},\"id\":\"1546\",\"type\":\"ColumnDataSource\"},{\"attributes\":{},\"id\":\"1564\",\"type\":\"StringEditor\"},{\"attributes\":{},\"id\":\"1574\",\"type\":\"IntEditor\"},{\"attributes\":{\"editor\":{\"id\":\"1564\"},\"field\":\"TotalCoinSupply\",\"formatter\":{\"id\":\"1563\"},\"title\":\"TotalCoinSupply\"},\"id\":\"1565\",\"type\":\"TableColumn\"},{\"attributes\":{},\"id\":\"1548\",\"type\":\"StringFormatter\"},{\"attributes\":{\"source\":{\"id\":\"1546\"}},\"id\":\"1580\",\"type\":\"CDSView\"},{\"attributes\":{},\"id\":\"1554\",\"type\":\"StringEditor\"},{\"attributes\":{\"format\":\"0,0.0[00000]\"},\"id\":\"1568\",\"type\":\"NumberFormatter\"},{\"attributes\":{\"editor\":{\"id\":\"1554\"},\"field\":\"Algorithm\",\"formatter\":{\"id\":\"1553\"},\"title\":\"Algorithm\"},\"id\":\"1555\",\"type\":\"TableColumn\"},{\"attributes\":{},\"id\":\"1547\",\"type\":\"Selection\"},{\"attributes\":{\"margin\":[5,5,5,5],\"name\":\"HSpacer02738\",\"sizing_mode\":\"stretch_width\"},\"id\":\"1585\",\"type\":\"Spacer\"},{\"attributes\":{},\"id\":\"1569\",\"type\":\"NumberEditor\"},{\"attributes\":{\"columns\":[{\"id\":\"1550\"},{\"id\":\"1555\"},{\"id\":\"1560\"},{\"id\":\"1565\"},{\"id\":\"1570\"},{\"id\":\"1575\"}],\"height\":300,\"reorderable\":false,\"source\":{\"id\":\"1546\"},\"view\":{\"id\":\"1580\"},\"width\":700},\"id\":\"1578\",\"type\":\"DataTable\"},{\"attributes\":{\"editor\":{\"id\":\"1574\"},\"field\":\"Class\",\"formatter\":{\"id\":\"1573\"},\"title\":\"Class\"},\"id\":\"1575\",\"type\":\"TableColumn\"},{\"attributes\":{},\"id\":\"1549\",\"type\":\"StringEditor\"},{\"attributes\":{},\"id\":\"1558\",\"type\":\"StringFormatter\"},{\"attributes\":{\"children\":[{\"id\":\"1545\"},{\"id\":\"1578\"},{\"id\":\"1585\"}],\"margin\":[0,0,0,0],\"name\":\"Row02733\",\"tags\":[\"embedded\"]},\"id\":\"1544\",\"type\":\"Row\"},{\"attributes\":{\"editor\":{\"id\":\"1549\"},\"field\":\"CoinName\",\"formatter\":{\"id\":\"1548\"},\"title\":\"CoinName\"},\"id\":\"1550\",\"type\":\"TableColumn\"}],\"root_ids\":[\"1544\"]},\"title\":\"Bokeh Application\",\"version\":\"2.4.2\"}};\n",
       "    var render_items = [{\"docid\":\"4b775bfc-6735-4686-af4e-3528fba6d7f9\",\"root_ids\":[\"1544\"],\"roots\":{\"1544\":\"306e8056-892e-4642-8d2d-1c4446cac1d5\"}}];\n",
       "    root.Bokeh.embed.embed_items_notebook(docs_json, render_items);\n",
       "  }\n",
       "  if (root.Bokeh !== undefined && root.Bokeh.Panel !== undefined) {\n",
       "    embed_document(root);\n",
       "  } else {\n",
       "    var attempts = 0;\n",
       "    var timer = setInterval(function(root) {\n",
       "      if (root.Bokeh !== undefined && root.Bokeh.Panel !== undefined) {\n",
       "        clearInterval(timer);\n",
       "        embed_document(root);\n",
       "      } else if (document.readyState == \"complete\") {\n",
       "        attempts++;\n",
       "        if (attempts > 200) {\n",
       "          clearInterval(timer);\n",
       "          console.log(\"Bokeh: ERROR: Unable to run BokehJS code because BokehJS library is missing\");\n",
       "        }\n",
       "      }\n",
       "    }, 25, root)\n",
       "  }\n",
       "})(window);</script>"
      ],
      "text/plain": [
       ":Table   [CoinName,Algorithm,ProofType,TotalCoinSupply,TotalCoinsMined,Class]"
      ]
     },
     "execution_count": 107,
     "metadata": {
      "application/vnd.holoviews_exec.v0+json": {
       "id": "1544"
      }
     },
     "output_type": "execute_result"
    }
   ],
   "source": [
    "# Create a table with tradable cryptocurrencies.\n",
    "table = clustered_df.hvplot.table(columns=['CoinName',\n",
    "                                   'Algorithm',\n",
    "                                   'ProofType',\n",
    "                                   'TotalCoinSupply',\n",
    "                                   'TotalCoinsMined',\n",
    "                                   'Class'])\n",
    "table"
   ]
  },
  {
   "cell_type": "code",
   "execution_count": 95,
   "metadata": {},
   "outputs": [
    {
     "name": "stdout",
     "output_type": "stream",
     "text": [
      "There are 532 tradable cryptocurrencies.\n"
     ]
    }
   ],
   "source": [
    "# Print the total number of tradable cryptocurrencies.\n",
    "print('There are ' + str(len(clustered_df.index)) + ' tradable cryptocurrencies.')"
   ]
  },
  {
   "cell_type": "code",
   "execution_count": 112,
   "metadata": {},
   "outputs": [
    {
     "name": "stdout",
     "output_type": "stream",
     "text": [
      "object\n",
      "float64\n"
     ]
    }
   ],
   "source": [
    "# Check data type\n",
    "print(clustered_df['TotalCoinSupply'].dtype)\n",
    "# Convert to float type\n",
    "clustered_df['TotalCoinSupply'] = clustered_df['TotalCoinSupply'].astype(float)\n",
    "# Check data type\n",
    "print(clustered_df['TotalCoinSupply'].dtype)"
   ]
  },
  {
   "cell_type": "code",
   "execution_count": 123,
   "metadata": {},
   "outputs": [
    {
     "data": {
      "text/plain": [
       "dtype('float64')"
      ]
     },
     "execution_count": 123,
     "metadata": {},
     "output_type": "execute_result"
    }
   ],
   "source": [
    "clustered_df['TotalCoinsMined'].dtype"
   ]
  },
  {
   "cell_type": "code",
   "execution_count": 134,
   "metadata": {},
   "outputs": [
    {
     "name": "stdout",
     "output_type": "stream",
     "text": [
      "[[4.20000000e-11]\n",
      " [5.32000000e-04]\n",
      " [3.14159265e-01]\n",
      " [2.10000000e-05]\n",
      " [0.00000000e+00]\n",
      " [8.40000000e-05]\n",
      " [2.20000000e-05]\n",
      " [0.00000000e+00]\n",
      " [2.10000000e-04]\n",
      " [2.10000000e-05]\n",
      " [3.60057050e-03]\n",
      " [2.10000000e-02]\n",
      " [2.20000000e-05]\n",
      " [1.25000000e-05]\n",
      " [2.10000000e-05]\n",
      " [3.50000000e-04]\n",
      " [2.00000000e-05]\n",
      " [6.40000000e-05]\n",
      " [1.67685840e-05]\n",
      " [0.00000000e+00]\n",
      " [2.00000000e-03]\n",
      " [3.84000000e-01]\n",
      " [1.69795588e-04]\n",
      " [2.50000000e-04]\n",
      " [1.00000000e-04]\n",
      " [0.00000000e+00]\n",
      " [2.47000000e-04]\n",
      " [8.40000000e-05]\n",
      " [4.81660000e-05]\n",
      " [5.00000000e-07]\n",
      " [2.10000000e-05]\n",
      " [1.00000000e-06]\n",
      " [1.31400000e-05]\n",
      " [1.80000000e-05]\n",
      " [4.00000000e-02]\n",
      " [4.38000000e-06]\n",
      " [1.65550000e-02]\n",
      " [2.10000000e-02]\n",
      " [1.35000000e-02]\n",
      " [2.10000000e-05]\n",
      " [2.99792458e-04]\n",
      " [3.20000000e-05]\n",
      " [0.00000000e+00]\n",
      " [0.00000000e+00]\n",
      " [1.12358130e-05]\n",
      " [3.36000000e-04]\n",
      " [1.42060961e-03]\n",
      " [7.00000000e-05]\n",
      " [7.22457000e-05]\n",
      " [1.20000000e-04]\n",
      " [0.00000000e+00]\n",
      " [9.06000000e-02]\n",
      " [2.20000000e-05]\n",
      " [2.10000000e-05]\n",
      " [2.65420800e-04]\n",
      " [2.00000000e-05]\n",
      " [1.35000000e-06]\n",
      " [1.00000000e-04]\n",
      " [4.20000000e-05]\n",
      " [2.00000000e-04]\n",
      " [0.00000000e+00]\n",
      " [1.00000000e-05]\n",
      " [2.41920000e-03]\n",
      " [1.61800000e-05]\n",
      " [0.00000000e+00]\n",
      " [1.50000000e-02]\n",
      " [2.10000000e-05]\n",
      " [3.37000000e-04]\n",
      " [0.00000000e+00]\n",
      " [3.77000000e-06]\n",
      " [4.20000000e-04]\n",
      " [9.80000000e-05]\n",
      " [0.00000000e+00]\n",
      " [2.10000000e-05]\n",
      " [2.50000000e-04]\n",
      " [5.12000000e-05]\n",
      " [0.00000000e+00]\n",
      " [1.00000000e-09]\n",
      " [8.88000000e-04]\n",
      " [1.00000000e-04]\n",
      " [4.70119680e-05]\n",
      " [2.30000000e-03]\n",
      " [1.00000000e-05]\n",
      " [4.20000000e-05]\n",
      " [8.00000000e-05]\n",
      " [2.50000000e-07]\n",
      " [0.00000000e+00]\n",
      " [1.60000000e-03]\n",
      " [1.00000000e-04]\n",
      " [2.30000000e-05]\n",
      " [0.00000000e+00]\n",
      " [8.40000000e-05]\n",
      " [2.65420800e-04]\n",
      " [5.50000000e-06]\n",
      " [0.00000000e+00]\n",
      " [4.50000000e-05]\n",
      " [0.00000000e+00]\n",
      " [1.00000000e-03]\n",
      " [1.84467441e-01]\n",
      " [1.00000000e-02]\n",
      " [2.15881280e-03]\n",
      " [5.00000000e-04]\n",
      " [1.05120000e-04]\n",
      " [6.80000000e-05]\n",
      " [0.00000000e+00]\n",
      " [1.68000000e-03]\n",
      " [0.00000000e+00]\n",
      " [1.66386000e-04]\n",
      " [1.20000000e-05]\n",
      " [2.62800000e-06]\n",
      " [5.00000000e-04]\n",
      " [1.60000000e-04]\n",
      " [0.00000000e+00]\n",
      " [1.00000000e-05]\n",
      " [1.00000000e-03]\n",
      " [1.00000000e-03]\n",
      " [2.00000000e-05]\n",
      " [0.00000000e+00]\n",
      " [0.00000000e+00]\n",
      " [3.37133700e-06]\n",
      " [2.00000000e-05]\n",
      " [1.00000000e-02]\n",
      " [1.84000000e-03]\n",
      " [6.19478000e-07]\n",
      " [2.10000000e-05]\n",
      " [9.20000000e-02]\n",
      " [0.00000000e+00]\n",
      " [7.80000000e-05]\n",
      " [3.30000000e-05]\n",
      " [6.57891000e-05]\n",
      " [5.37600000e-05]\n",
      " [5.06000000e-06]\n",
      " [2.10000000e-05]\n",
      " [0.00000000e+00]\n",
      " [2.10240000e-04]\n",
      " [2.50000000e-04]\n",
      " [1.00000000e-04]\n",
      " [1.69063970e-05]\n",
      " [5.00000000e-05]\n",
      " [0.00000000e+00]\n",
      " [1.00000000e-03]\n",
      " [2.62980000e-05]\n",
      " [1.60000000e-05]\n",
      " [2.10000000e-05]\n",
      " [2.10000000e-05]\n",
      " [2.10000000e-04]\n",
      " [8.19621000e-05]\n",
      " [2.20000000e-05]\n",
      " [2.65500000e-02]\n",
      " [8.40000000e-05]\n",
      " [1.05000000e-05]\n",
      " [2.16262800e-02]\n",
      " [0.00000000e+00]\n",
      " [4.20000000e-05]\n",
      " [2.21052632e-04]\n",
      " [8.40000000e-05]\n",
      " [3.00000000e-05]\n",
      " [1.68351300e-04]\n",
      " [2.40000000e-05]\n",
      " [3.84000000e-04]\n",
      " [9.90000000e-02]\n",
      " [4.00000000e-05]\n",
      " [2.14748365e-03]\n",
      " [2.00000000e-05]\n",
      " [2.00000000e-05]\n",
      " [2.50000000e-05]\n",
      " [7.50000000e-05]\n",
      " [2.22725000e-04]\n",
      " [5.25000000e-04]\n",
      " [9.00000000e-05]\n",
      " [1.39000000e-04]\n",
      " [6.16448000e-07]\n",
      " [3.35000000e-05]\n",
      " [2.00000000e-03]\n",
      " [4.43333330e-05]\n",
      " [1.00000000e-04]\n",
      " [2.00000000e-04]\n",
      " [2.50000000e-05]\n",
      " [6.57000000e-04]\n",
      " [2.00000000e-04]\n",
      " [5.00000000e-05]\n",
      " [9.00000000e-05]\n",
      " [1.00000000e-05]\n",
      " [2.10000000e-05]\n",
      " [9.73600000e-06]\n",
      " [3.00000000e-06]\n",
      " [2.10000000e-05]\n",
      " [1.20000000e-03]\n",
      " [0.00000000e+00]\n",
      " [2.00000000e-04]\n",
      " [0.00000000e+00]\n",
      " [1.06382980e-05]\n",
      " [3.10000000e-03]\n",
      " [3.00000000e-05]\n",
      " [2.00000000e-02]\n",
      " [7.40000000e-05]\n",
      " [0.00000000e+00]\n",
      " [1.50000000e-03]\n",
      " [2.14000000e-05]\n",
      " [3.99998980e-05]\n",
      " [2.50012400e-06]\n",
      " [1.00000000e-04]\n",
      " [3.01000000e-04]\n",
      " [7.50600000e-03]\n",
      " [2.62055390e-05]\n",
      " [2.10000000e-05]\n",
      " [1.25000000e-04]\n",
      " [3.00000000e-05]\n",
      " [1.00000000e-02]\n",
      " [5.00000000e-04]\n",
      " [8.50000000e-04]\n",
      " [3.85332678e-06]\n",
      " [5.00000000e-05]\n",
      " [3.85400000e-05]\n",
      " [4.20000000e-05]\n",
      " [2.28000000e-04]\n",
      " [2.00000000e-05]\n",
      " [6.00000000e-05]\n",
      " [2.00000000e-05]\n",
      " [3.30000000e-05]\n",
      " [7.65000000e-05]\n",
      " [2.80000000e-05]\n",
      " [6.50659833e-04]\n",
      " [5.00000000e-06]\n",
      " [2.10000000e-05]\n",
      " [1.44000000e-04]\n",
      " [3.25149169e-02]\n",
      " [1.30000000e-05]\n",
      " [3.31578900e-06]\n",
      " [1.50000000e-05]\n",
      " [7.88352000e-05]\n",
      " [2.71428600e-06]\n",
      " [2.50000000e-05]\n",
      " [9.99999900e-06]\n",
      " [5.00000000e-04]\n",
      " [2.10000000e-05]\n",
      " [9.35400000e-06]\n",
      " [2.00000000e-05]\n",
      " [1.00000000e-01]\n",
      " [2.19333330e-05]\n",
      " [1.85000000e-04]\n",
      " [5.50000000e-05]\n",
      " [1.10000000e-04]\n",
      " [3.36000000e-06]\n",
      " [1.45248515e-05]\n",
      " [1.00000000e-03]\n",
      " [1.70000000e-05]\n",
      " [1.00000000e-03]\n",
      " [1.00000000e-04]\n",
      " [2.10000000e-05]\n",
      " [3.44264230e-05]\n",
      " [2.23290100e-06]\n",
      " [1.00000000e-04]\n",
      " [3.69000000e-05]\n",
      " [1.10000000e-04]\n",
      " [4.00000000e-03]\n",
      " [1.10290030e-04]\n",
      " [1.00000000e-04]\n",
      " [4.82520000e-05]\n",
      " [4.00000000e-04]\n",
      " [5.00000000e-04]\n",
      " [2.12121210e-05]\n",
      " [2.86000000e-05]\n",
      " [1.00000000e-03]\n",
      " [7.50000000e-02]\n",
      " [4.00000000e-05]\n",
      " [3.55204000e-05]\n",
      " [2.00000000e-03]\n",
      " [2.50000000e-03]\n",
      " [3.00000000e-05]\n",
      " [1.05000000e-04]\n",
      " [9.00000000e-02]\n",
      " [2.00084200e-04]\n",
      " [7.20000000e-05]\n",
      " [1.00000000e-04]\n",
      " [1.05000000e-04]\n",
      " [5.00000000e-02]\n",
      " [0.00000000e+00]\n",
      " [3.40282367e-04]\n",
      " [3.00000000e-05]\n",
      " [2.00000000e-03]\n",
      " [1.00000000e-05]\n",
      " [1.00000000e-04]\n",
      " [1.20000000e-04]\n",
      " [1.00000000e-04]\n",
      " [1.92768000e-05]\n",
      " [3.00000000e-05]\n",
      " [7.50000000e-05]\n",
      " [6.00000000e-05]\n",
      " [1.89000000e-05]\n",
      " [5.00000000e-02]\n",
      " [5.40000000e-05]\n",
      " [1.88981876e-05]\n",
      " [2.10000000e-05]\n",
      " [2.00000000e-01]\n",
      " [5.00000000e-03]\n",
      " [1.37500000e-04]\n",
      " [1.10000000e-03]\n",
      " [1.00000000e-04]\n",
      " [2.10000000e-05]\n",
      " [9.50727100e-06]\n",
      " [1.74058912e-05]\n",
      " [8.67126345e-02]\n",
      " [1.05000000e-02]\n",
      " [6.15999650e-05]\n",
      " [0.00000000e+00]\n",
      " [2.00000000e-05]\n",
      " [8.40000000e-05]\n",
      " [1.00000000e-04]\n",
      " [1.00000000e-04]\n",
      " [4.82520000e-05]\n",
      " [4.20000000e-06]\n",
      " [8.88888880e-05]\n",
      " [9.13889460e-05]\n",
      " [4.50000000e-02]\n",
      " [2.70000000e-05]\n",
      " [2.10000000e-02]\n",
      " [4.00000000e-04]\n",
      " [1.80000000e-03]\n",
      " [1.57333330e-05]\n",
      " [2.70000000e-05]\n",
      " [2.40000000e-05]\n",
      " [2.10000000e-05]\n",
      " [2.50000000e-02]\n",
      " [1.00000000e-04]\n",
      " [1.20000000e-03]\n",
      " [6.00000000e-05]\n",
      " [1.56306733e-04]\n",
      " [2.10000000e-05]\n",
      " [2.00000000e-04]\n",
      " [1.00000000e-04]\n",
      " [2.10000000e-05]\n",
      " [1.47882760e-05]\n",
      " [9.00000000e-03]\n",
      " [3.50000000e-04]\n",
      " [4.50000000e-05]\n",
      " [2.80000000e-04]\n",
      " [3.18000000e-05]\n",
      " [1.44000000e-04]\n",
      " [5.00000000e-04]\n",
      " [3.00000000e-02]\n",
      " [2.10000000e-04]\n",
      " [6.60000000e-04]\n",
      " [2.10000000e-04]\n",
      " [8.50000000e-02]\n",
      " [1.25000000e-05]\n",
      " [1.00000000e-02]\n",
      " [2.77161210e-05]\n",
      " [2.00000000e-05]\n",
      " [5.50000000e-04]\n",
      " [9.99481516e-04]\n",
      " [5.00000000e-02]\n",
      " [1.50000000e-04]\n",
      " [5.00000000e-03]\n",
      " [5.00000000e-05]\n",
      " [9.00000000e-02]\n",
      " [1.98000000e-05]\n",
      " [2.10000000e-05]\n",
      " [1.20000000e-04]\n",
      " [5.00000000e-04]\n",
      " [6.40000000e-05]\n",
      " [9.00000000e-04]\n",
      " [4.00000000e-06]\n",
      " [2.10000000e-05]\n",
      " [2.30000000e-05]\n",
      " [2.01660000e-05]\n",
      " [2.30000000e-05]\n",
      " [2.50000000e-05]\n",
      " [1.61803300e-06]\n",
      " [3.00000000e-05]\n",
      " [1.00000000e+00]\n",
      " [1.66000000e-05]\n",
      " [2.32000000e-04]\n",
      " [3.36000000e-04]\n",
      " [1.00000000e-02]\n",
      " [1.00000000e-04]\n",
      " [1.10000000e-03]\n",
      " [8.00000000e-04]\n",
      " [5.20000000e-03]\n",
      " [8.40000000e-04]\n",
      " [4.00000000e-05]\n",
      " [1.84069798e-02]\n",
      " [5.00000000e-04]\n",
      " [1.93405940e-05]\n",
      " [2.52460800e-04]\n",
      " [2.50000000e-05]\n",
      " [6.00000000e-05]\n",
      " [1.24000000e-04]\n",
      " [1.00000000e-03]\n",
      " [6.50000000e-03]\n",
      " [1.00000000e-03]\n",
      " [2.10000000e-05]\n",
      " [2.50000000e-05]\n",
      " [5.00000000e-05]\n",
      " [3.00000000e-06]\n",
      " [5.00000000e-06]\n",
      " [7.00000000e-05]\n",
      " [5.00000000e-04]\n",
      " [3.00000000e-04]\n",
      " [2.10000000e-05]\n",
      " [8.80000000e-05]\n",
      " [3.00000000e-05]\n",
      " [1.00000000e-04]\n",
      " [1.00000000e-04]\n",
      " [2.00000000e-04]\n",
      " [8.00000000e-05]\n",
      " [1.84000000e-05]\n",
      " [4.50000000e-05]\n",
      " [5.12195122e-03]\n",
      " [2.10000000e-05]\n",
      " [2.62800000e-05]\n",
      " [2.10000000e-05]\n",
      " [1.80000000e-05]\n",
      " [2.60000000e-05]\n",
      " [1.05000000e-05]\n",
      " [6.00000518e-04]\n",
      " [1.50000000e-04]\n",
      " [1.84000000e-01]\n",
      " [1.02000000e-02]\n",
      " [4.40000000e-05]\n",
      " [1.68000000e-04]\n",
      " [1.00000000e-04]\n",
      " [1.00000000e-03]\n",
      " [8.40000000e-05]\n",
      " [9.00000000e-05]\n",
      " [9.20000000e-02]\n",
      " [6.50000000e-04]\n",
      " [1.00262205e-04]\n",
      " [1.80818060e-05]\n",
      " [2.20757000e-05]\n",
      " [2.10000000e-05]\n",
      " [2.10000000e-05]\n",
      " [8.25465640e-05]\n",
      " [2.10000000e-05]\n",
      " [5.15100000e-06]\n",
      " [1.68800000e-02]\n",
      " [5.25000000e-05]\n",
      " [1.00000000e-04]\n",
      " [2.21052630e-05]\n",
      " [1.00000000e-03]\n",
      " [1.75000000e-03]\n",
      " [8.81888880e-05]\n",
      " [2.10000000e-04]\n",
      " [1.84470000e-01]\n",
      " [5.50000000e-05]\n",
      " [5.00000000e-05]\n",
      " [2.60000000e-04]\n",
      " [2.10000000e-04]\n",
      " [2.10000000e-03]\n",
      " [3.66000000e-04]\n",
      " [1.00000000e-04]\n",
      " [2.50000000e-05]\n",
      " [1.80000000e-02]\n",
      " [1.00000000e-03]\n",
      " [1.00000000e-04]\n",
      " [1.00000000e-03]\n",
      " [7.60000000e-03]\n",
      " [5.00000000e-05]\n",
      " [8.40000000e-05]\n",
      " [2.10000000e-05]\n",
      " [7.00000000e-02]\n",
      " [0.00000000e+00]\n",
      " [8.08000000e-03]\n",
      " [5.40000000e-05]\n",
      " [1.05120001e-04]\n",
      " [2.52288000e-05]\n",
      " [1.05000000e-04]\n",
      " [2.10000000e-05]\n",
      " [1.20000000e-04]\n",
      " [2.10000000e-05]\n",
      " [2.62800000e-04]\n",
      " [1.90359990e-05]\n",
      " [3.08860000e-05]\n",
      " [1.33700000e-05]\n",
      " [7.48000000e-02]\n",
      " [1.00000000e-04]\n",
      " [1.97000000e-05]\n",
      " [8.40000000e-05]\n",
      " [5.00000000e-04]\n",
      " [5.00000000e-03]\n",
      " [4.20000000e-04]\n",
      " [6.40000000e-05]\n",
      " [2.10000000e-06]\n",
      " [1.68000000e-04]\n",
      " [3.00000000e-05]\n",
      " [1.00000000e-03]\n",
      " [3.50000000e-02]\n",
      " [9.81000000e-02]\n",
      " [0.00000000e+00]\n",
      " [4.00000000e-03]\n",
      " [2.00000000e-04]\n",
      " [7.00000000e-03]\n",
      " [5.42561190e-05]\n",
      " [2.10000000e-05]\n",
      " [0.00000000e+00]\n",
      " [5.00000000e-04]\n",
      " [1.00000000e-03]\n",
      " [1.05000000e-02]\n",
      " [1.90000000e-04]\n",
      " [1.00000000e-03]\n",
      " [4.20000000e-05]\n",
      " [1.50000000e-05]\n",
      " [5.00000000e-02]\n",
      " [4.00000000e-04]\n",
      " [1.05000000e-04]\n",
      " [2.08000000e-04]\n",
      " [1.60000000e-04]\n",
      " [9.00000000e-06]\n",
      " [5.00000000e-06]\n",
      " [1.82000000e-04]\n",
      " [1.65043330e-05]\n",
      " [1.05000000e-04]\n",
      " [1.59918400e-04]\n",
      " [1.00088356e-02]\n",
      " [3.00000000e-04]\n",
      " [6.01681450e-05]\n",
      " [2.80000000e-06]\n",
      " [1.20000000e-07]\n",
      " [2.10000000e-03]\n",
      " [0.00000000e+00]\n",
      " [2.44879440e-05]\n",
      " [0.00000000e+00]\n",
      " [1.00000000e-03]\n",
      " [1.00000000e-04]\n",
      " [8.63414000e-06]\n",
      " [9.90000000e-01]\n",
      " [1.00000000e-03]\n",
      " [2.00000000e-03]\n",
      " [2.50000000e-04]\n",
      " [1.40022261e-03]\n",
      " [2.10000000e-05]\n",
      " [1.00000000e-06]]\n",
      "[[0.00000000e+00]\n",
      " [1.06585544e-03]\n",
      " [2.95755135e-02]\n",
      " [1.81084216e-05]\n",
      " [1.08773140e-04]\n",
      " [6.36766869e-05]\n",
      " [9.12258115e-06]\n",
      " [1.73750477e-05]\n",
      " [1.14506014e-04]\n",
      " [7.45767517e-06]\n",
      " [2.76929416e-03]\n",
      " [1.15215648e-02]\n",
      " [1.30185323e-06]\n",
      " [1.21165956e-05]\n",
      " [5.82659976e-06]\n",
      " [2.58007927e-05]\n",
      " [1.12624435e-05]\n",
      " [1.23291844e-05]\n",
      " [1.83184492e-05]\n",
      " [6.41849598e-04]\n",
      " [1.70532672e-03]\n",
      " [4.64652228e-11]\n",
      " [1.71925544e-04]\n",
      " [1.30244827e-04]\n",
      " [7.43215826e-06]\n",
      " [1.24307234e-04]\n",
      " [2.62181901e-04]\n",
      " [5.00496041e-05]\n",
      " [3.37811390e-05]\n",
      " [4.29676383e-08]\n",
      " [7.29292622e-06]\n",
      " [1.04958232e-06]\n",
      " [4.75140520e-06]\n",
      " [5.04747593e-06]\n",
      " [4.04044983e-02]\n",
      " [3.33786204e-06]\n",
      " [1.60906184e-02]\n",
      " [1.89637086e-02]\n",
      " [1.26658163e-02]\n",
      " [2.11218941e-05]\n",
      " [2.21085202e-04]\n",
      " [1.96939056e-05]\n",
      " [5.73709874e-06]\n",
      " [4.66500130e-04]\n",
      " [1.15424563e-06]\n",
      " [2.10779222e-04]\n",
      " [8.93066505e-04]\n",
      " [6.63367951e-05]\n",
      " [4.20798797e-05]\n",
      " [9.01696054e-05]\n",
      " [1.69549413e-03]\n",
      " [9.15119049e-02]\n",
      " [1.78293669e-05]\n",
      " [2.13025732e-05]\n",
      " [1.52979126e-04]\n",
      " [1.95217146e-05]\n",
      " [1.11546951e-06]\n",
      " [6.20671349e-05]\n",
      " [3.85377707e-05]\n",
      " [4.08406827e-05]\n",
      " [2.15092608e-02]\n",
      " [5.86285764e-06]\n",
      " [1.63015602e-03]\n",
      " [1.63435782e-05]\n",
      " [6.67553613e-05]\n",
      " [2.38999317e-03]\n",
      " [1.48853798e-05]\n",
      " [3.38093937e-04]\n",
      " [1.53095910e-05]\n",
      " [3.25314242e-06]\n",
      " [2.24929013e-04]\n",
      " [7.47071473e-05]\n",
      " [2.96120216e-02]\n",
      " [1.11528082e-06]\n",
      " [2.44600160e-05]\n",
      " [2.58525120e-05]\n",
      " [5.12204019e-05]\n",
      " [1.14647776e-09]\n",
      " [5.69033254e-04]\n",
      " [8.10720573e-05]\n",
      " [4.39770246e-05]\n",
      " [1.63873227e-03]\n",
      " [1.44628821e-06]\n",
      " [2.31672884e-05]\n",
      " [2.30114543e-06]\n",
      " [2.02901093e-07]\n",
      " [1.21947653e-06]\n",
      " [1.11006574e-03]\n",
      " [5.07431736e-05]\n",
      " [2.33849637e-05]\n",
      " [3.23448803e-05]\n",
      " [5.16911770e-05]\n",
      " [1.20816427e-04]\n",
      " [7.02107913e-06]\n",
      " [1.01011210e-04]\n",
      " [3.95920649e-05]\n",
      " [3.34283441e-05]\n",
      " [1.49486751e-04]\n",
      " [1.85928209e-01]\n",
      " [6.97643061e-03]\n",
      " [1.83136823e-03]\n",
      " [5.16905913e-05]\n",
      " [6.88842529e-05]\n",
      " [3.95172707e-05]\n",
      " [5.37317126e-05]\n",
      " [4.19229404e-04]\n",
      " [2.74593518e-05]\n",
      " [1.38908263e-04]\n",
      " [2.04287469e-06]\n",
      " [1.83716482e-07]\n",
      " [1.76412185e-04]\n",
      " [1.53810463e-04]\n",
      " [1.48264216e-06]\n",
      " [7.16855849e-06]\n",
      " [8.00551761e-04]\n",
      " [7.26692071e-04]\n",
      " [2.71697037e-06]\n",
      " [6.57717195e-05]\n",
      " [6.42961169e-06]\n",
      " [1.02425435e-05]\n",
      " [1.17220326e-05]\n",
      " [4.65696279e-03]\n",
      " [7.15671268e-04]\n",
      " [6.25700063e-07]\n",
      " [1.25886061e-05]\n",
      " [8.90626316e-08]\n",
      " [1.52896895e-06]\n",
      " [6.43009129e-05]\n",
      " [3.25473739e-05]\n",
      " [1.38816694e-05]\n",
      " [1.48962890e-05]\n",
      " [8.65464045e-06]\n",
      " [1.60242185e-05]\n",
      " [3.32486635e-07]\n",
      " [3.28945750e-05]\n",
      " [7.63791112e-05]\n",
      " [1.01011210e-04]\n",
      " [1.06013693e-05]\n",
      " [2.32755805e-05]\n",
      " [3.34330039e-02]\n",
      " [4.34951957e-05]\n",
      " [1.36673421e-05]\n",
      " [1.60281151e-05]\n",
      " [2.12097720e-05]\n",
      " [1.04698213e-05]\n",
      " [2.12123588e-04]\n",
      " [1.15646844e-05]\n",
      " [3.70675927e-06]\n",
      " [1.11075186e-02]\n",
      " [7.05422770e-05]\n",
      " [5.18083886e-06]\n",
      " [2.19598179e-02]\n",
      " [1.01712766e-02]\n",
      " [9.08970084e-06]\n",
      " [4.08863247e-05]\n",
      " [4.55664609e-05]\n",
      " [5.75966768e-06]\n",
      " [6.42856379e-07]\n",
      " [1.74378887e-05]\n",
      " [1.05124711e-05]\n",
      " [3.73451086e-02]\n",
      " [4.42130254e-06]\n",
      " [2.16920009e-03]\n",
      " [2.02022081e-05]\n",
      " [6.63721270e-06]\n",
      " [1.37921173e-05]\n",
      " [1.35915589e-04]\n",
      " [1.20757235e-06]\n",
      " [1.68312808e-05]\n",
      " [8.42942549e-05]\n",
      " [2.46343036e-05]\n",
      " [6.22639422e-07]\n",
      " [3.89800067e-05]\n",
      " [8.21314714e-04]\n",
      " [4.57205414e-06]\n",
      " [1.01011210e-04]\n",
      " [5.05052021e-06]\n",
      " [1.39180880e-06]\n",
      " [6.63643887e-04]\n",
      " [1.17070111e-04]\n",
      " [1.57212206e-05]\n",
      " [4.36019698e-05]\n",
      " [7.90149485e-06]\n",
      " [6.01407867e-07]\n",
      " [6.30693857e-06]\n",
      " [6.64244285e-07]\n",
      " [2.60803781e-06]\n",
      " [1.01011248e-03]\n",
      " [1.95946375e-06]\n",
      " [1.18026786e-04]\n",
      " [1.71313644e-04]\n",
      " [9.19876346e-06]\n",
      " [6.71926867e-04]\n",
      " [1.12316008e-05]\n",
      " [1.97757681e-02]\n",
      " [7.47824332e-05]\n",
      " [3.38619163e-05]\n",
      " [2.67354984e-04]\n",
      " [7.64477327e-06]\n",
      " [1.50220676e-04]\n",
      " [2.52536414e-06]\n",
      " [1.01011210e-04]\n",
      " [1.79988316e-05]\n",
      " [1.09310599e-03]\n",
      " [2.64705008e-05]\n",
      " [5.67027475e-06]\n",
      " [1.09296238e-04]\n",
      " [1.85282627e-05]\n",
      " [1.98282997e-04]\n",
      " [8.32332679e-04]\n",
      " [9.31251250e-02]\n",
      " [3.89225122e-06]\n",
      " [5.05055839e-05]\n",
      " [1.72623766e-05]\n",
      " [2.47430641e-06]\n",
      " [6.19853238e-05]\n",
      " [2.02022081e-05]\n",
      " [6.13081745e-06]\n",
      " [1.25420743e-05]\n",
      " [2.04486994e-05]\n",
      " [7.63547361e-05]\n",
      " [1.11927340e-05]\n",
      " [1.10247479e-05]\n",
      " [8.22866957e-07]\n",
      " [9.87994092e-07]\n",
      " [8.46255203e-06]\n",
      " [3.41550801e-02]\n",
      " [3.50806121e-06]\n",
      " [3.34927758e-06]\n",
      " [1.06240916e-05]\n",
      " [3.05333865e-05]\n",
      " [9.03024436e-07]\n",
      " [9.45166937e-06]\n",
      " [1.89507660e-06]\n",
      " [2.42076800e-05]\n",
      " [2.55158108e-06]\n",
      " [5.71628230e-06]\n",
      " [1.19412331e-05]\n",
      " [5.42412277e-04]\n",
      " [3.11253043e-07]\n",
      " [1.10802036e-05]\n",
      " [2.95212655e-06]\n",
      " [1.11112335e-04]\n",
      " [3.14671870e-06]\n",
      " [1.46716920e-05]\n",
      " [3.06927721e-05]\n",
      " [6.99160688e-06]\n",
      " [1.01011248e-03]\n",
      " [1.00853035e-04]\n",
      " [1.87332595e-05]\n",
      " [3.64148828e-05]\n",
      " [2.25543884e-06]\n",
      " [1.32958153e-05]\n",
      " [1.23073665e-05]\n",
      " [1.11749098e-04]\n",
      " [6.47441826e-05]\n",
      " [1.12259659e-04]\n",
      " [2.17389145e-05]\n",
      " [1.02255287e-05]\n",
      " [4.05480743e-04]\n",
      " [1.22895754e-04]\n",
      " [5.42318506e-06]\n",
      " [1.15989403e-06]\n",
      " [5.05013838e-07]\n",
      " [1.01562474e-04]\n",
      " [1.73449856e-05]\n",
      " [2.04810993e-05]\n",
      " [2.98119989e-04]\n",
      " [1.33107321e-03]\n",
      " [1.15053675e-05]\n",
      " [2.15747126e-05]\n",
      " [4.10701854e-02]\n",
      " [1.04476656e-05]\n",
      " [1.38116367e-05]\n",
      " [1.01011210e-04]\n",
      " [6.97341029e-05]\n",
      " [2.30324675e-02]\n",
      " [1.99842507e-05]\n",
      " [1.34595731e-04]\n",
      " [1.85933606e-05]\n",
      " [1.82776538e-03]\n",
      " [4.21352278e-06]\n",
      " [3.54942764e-05]\n",
      " [6.35785359e-05]\n",
      " [6.87312886e-06]\n",
      " [1.83165250e-05]\n",
      " [2.14831237e-05]\n",
      " [5.21999183e-06]\n",
      " [2.63056760e-05]\n",
      " [2.64936758e-06]\n",
      " [9.13639800e-03]\n",
      " [1.43049722e-05]\n",
      " [2.21386120e-05]\n",
      " [1.79818446e-05]\n",
      " [1.64703996e-01]\n",
      " [2.26367137e-03]\n",
      " [1.09064601e-04]\n",
      " [1.23714134e-04]\n",
      " [4.78104041e-05]\n",
      " [1.81775281e-05]\n",
      " [1.26963271e-05]\n",
      " [1.88519880e-05]\n",
      " [5.60155222e-02]\n",
      " [4.90078315e-07]\n",
      " [4.04040768e-06]\n",
      " [1.44452828e-01]\n",
      " [9.80213195e-06]\n",
      " [1.76302085e-05]\n",
      " [3.29768296e-05]\n",
      " [3.40574428e-05]\n",
      " [1.97371402e-05]\n",
      " [4.24243018e-06]\n",
      " [9.03708384e-06]\n",
      " [2.52527707e-05]\n",
      " [2.61892587e-02]\n",
      " [7.33580085e-06]\n",
      " [5.26425518e-03]\n",
      " [1.84485293e-04]\n",
      " [2.73018832e-03]\n",
      " [1.15222820e-06]\n",
      " [4.20805361e-06]\n",
      " [2.42426582e-05]\n",
      " [1.73762780e-05]\n",
      " [4.89495201e-02]\n",
      " [9.29816237e-05]\n",
      " [5.66231888e-04]\n",
      " [8.38972526e-06]\n",
      " [3.43306318e-05]\n",
      " [2.17138435e-06]\n",
      " [3.10220795e-05]\n",
      " [1.01001111e-04]\n",
      " [1.24554595e-05]\n",
      " [1.65279692e-05]\n",
      " [9.09101268e-03]\n",
      " [1.76987692e-04]\n",
      " [6.43968659e-06]\n",
      " [1.28853237e-05]\n",
      " [5.89124381e-06]\n",
      " [3.85848367e-05]\n",
      " [2.91003848e-04]\n",
      " [2.86863373e-02]\n",
      " [1.85389975e-04]\n",
      " [4.86602037e-04]\n",
      " [1.12099192e-04]\n",
      " [1.94768093e-02]\n",
      " [4.54546394e-06]\n",
      " [5.26159269e-04]\n",
      " [1.33810989e-05]\n",
      " [1.71271881e-05]\n",
      " [8.11283643e-05]\n",
      " [4.45712345e-04]\n",
      " [4.96116790e-03]\n",
      " [8.50450132e-06]\n",
      " [4.00428929e-03]\n",
      " [4.56309971e-05]\n",
      " [3.03939541e-02]\n",
      " [4.27176436e-06]\n",
      " [7.92673212e-06]\n",
      " [2.75757063e-05]\n",
      " [3.02829625e-04]\n",
      " [4.59429554e-05]\n",
      " [5.96999438e-04]\n",
      " [2.52977049e-06]\n",
      " [4.45177803e-06]\n",
      " [8.56379697e-06]\n",
      " [2.03698868e-05]\n",
      " [1.20370525e-05]\n",
      " [2.06525784e-05]\n",
      " [1.63435298e-06]\n",
      " [9.49435120e-06]\n",
      " [5.36772131e-02]\n",
      " [4.86702214e-06]\n",
      " [2.37221112e-04]\n",
      " [1.35286821e-04]\n",
      " [1.01011252e-02]\n",
      " [1.08410553e-04]\n",
      " [6.50306272e-04]\n",
      " [2.32627786e-04]\n",
      " [1.79001183e-03]\n",
      " [6.44837948e-04]\n",
      " [1.25719191e-05]\n",
      " [1.46375551e-02]\n",
      " [2.13434349e-04]\n",
      " [1.13650793e-05]\n",
      " [2.06546796e-04]\n",
      " [2.18970688e-06]\n",
      " [4.23472889e-07]\n",
      " [2.58285481e-05]\n",
      " [6.57430306e-04]\n",
      " [2.50116398e-04]\n",
      " [8.08585389e-05]\n",
      " [4.11132985e-06]\n",
      " [2.52527707e-05]\n",
      " [1.39272422e-05]\n",
      " [8.54146923e-07]\n",
      " [1.19406563e-06]\n",
      " [7.20770187e-05]\n",
      " [2.70000689e-04]\n",
      " [2.76169408e-05]\n",
      " [9.90278902e-06]\n",
      " [2.20977720e-05]\n",
      " [9.98037678e-06]\n",
      " [1.24355458e-06]\n",
      " [3.21230119e-05]\n",
      " [1.41152674e-04]\n",
      " [1.11872105e-05]\n",
      " [1.61787925e-05]\n",
      " [4.44829112e-06]\n",
      " [1.41835707e-03]\n",
      " [2.12823681e-05]\n",
      " [5.14919781e-06]\n",
      " [1.10151974e-05]\n",
      " [8.03448554e-07]\n",
      " [3.90981907e-05]\n",
      " [7.05700743e-06]\n",
      " [8.51100613e-08]\n",
      " [1.93472812e-05]\n",
      " [4.17121119e-02]\n",
      " [1.03031477e-02]\n",
      " [7.70711616e-06]\n",
      " [1.37236286e-04]\n",
      " [3.35742633e-05]\n",
      " [5.65749794e-04]\n",
      " [2.18177211e-05]\n",
      " [3.05904037e-05]\n",
      " [7.86595430e-02]\n",
      " [2.74369083e-06]\n",
      " [5.83955738e-05]\n",
      " [1.83788903e-05]\n",
      " [8.20799562e-06]\n",
      " [8.73279064e-06]\n",
      " [5.04348043e-06]\n",
      " [3.72964642e-05]\n",
      " [7.15397070e-06]\n",
      " [5.97930834e-06]\n",
      " [1.05250741e-06]\n",
      " [1.34674020e-05]\n",
      " [6.67218068e-05]\n",
      " [1.43094668e-06]\n",
      " [5.45840616e-06]\n",
      " [1.57377121e-05]\n",
      " [4.94031390e-06]\n",
      " [1.48952315e-05]\n",
      " [1.00559844e-01]\n",
      " [1.94643309e-05]\n",
      " [3.10822574e-05]\n",
      " [1.08853590e-04]\n",
      " [9.42141003e-06]\n",
      " [2.12123626e-03]\n",
      " [4.71972234e-06]\n",
      " [4.55014985e-06]\n",
      " [5.06656218e-06]\n",
      " [1.07067285e-03]\n",
      " [1.01011248e-03]\n",
      " [9.85234628e-06]\n",
      " [1.01011248e-03]\n",
      " [4.27793914e-03]\n",
      " [6.85600057e-06]\n",
      " [1.37726904e-05]\n",
      " [1.81744220e-05]\n",
      " [2.10624444e-04]\n",
      " [1.73839595e-02]\n",
      " [1.88593547e-03]\n",
      " [3.56692387e-05]\n",
      " [1.59419930e-06]\n",
      " [1.60069292e-05]\n",
      " [1.36121532e-05]\n",
      " [4.10156115e-07]\n",
      " [3.56414924e-05]\n",
      " [1.49269453e-05]\n",
      " [3.60483685e-05]\n",
      " [1.84496742e-05]\n",
      " [2.54050831e-05]\n",
      " [1.95422397e-06]\n",
      " [3.11374358e-02]\n",
      " [1.30564604e-05]\n",
      " [7.22854142e-07]\n",
      " [2.07542631e-05]\n",
      " [2.00949869e-04]\n",
      " [9.05425601e-04]\n",
      " [1.55761296e-05]\n",
      " [5.28226170e-05]\n",
      " [1.18208469e-06]\n",
      " [8.54687097e-05]\n",
      " [2.40163529e-05]\n",
      " [1.01011248e-03]\n",
      " [1.54737997e-02]\n",
      " [5.61269372e-05]\n",
      " [2.45027100e-04]\n",
      " [3.86336220e-03]\n",
      " [3.57287710e-06]\n",
      " [2.35929439e-05]\n",
      " [2.07845703e-05]\n",
      " [4.43663265e-06]\n",
      " [9.72855333e-06]\n",
      " [4.40766219e-04]\n",
      " [7.88100559e-04]\n",
      " [9.90650170e-04]\n",
      " [1.81211409e-02]\n",
      " [4.99238645e-04]\n",
      " [2.32193426e-05]\n",
      " [6.06067091e-05]\n",
      " [2.98831581e-02]\n",
      " [4.08405094e-04]\n",
      " [7.40393915e-05]\n",
      " [2.03400587e-04]\n",
      " [1.04669713e-04]\n",
      " [3.85984576e-06]\n",
      " [5.10360760e-06]\n",
      " [7.03890989e-05]\n",
      " [1.70718862e-05]\n",
      " [7.54311862e-05]\n",
      " [1.21225723e-04]\n",
      " [1.01013724e-02]\n",
      " [2.54553935e-04]\n",
      " [1.13167250e-06]\n",
      " [3.36658434e-06]\n",
      " [1.42158947e-07]\n",
      " [1.01011210e-04]\n",
      " [1.03086476e-03]\n",
      " [2.47355366e-05]\n",
      " [1.13373236e-03]\n",
      " [1.01011248e-03]\n",
      " [1.01011210e-04]\n",
      " [9.37697110e-06]\n",
      " [1.00000000e+00]\n",
      " [1.01011248e-03]\n",
      " [2.02022500e-03]\n",
      " [1.50819943e-05]\n",
      " [9.90135079e-04]\n",
      " [7.37028150e-06]\n",
      " [1.29582282e-07]]\n"
     ]
    }
   ],
   "source": [
    "# Scaling data to create the scatter plot with tradable cryptocurrencies.\n",
    "data_supply = clustered_df['TotalCoinSupply'].values.reshape(-1, 1)\n",
    "# Scale features\n",
    "scaler = MinMaxScaler()\n",
    "model = scaler.fit(data_supply)\n",
    "scaled_data_supply = model.transform(data_supply)\n",
    "# Print scaled features\n",
    "print(scaled_data_supply)\n",
    "\n",
    "\n",
    "\n",
    "data_mined = clustered_df['TotalCoinsMined'].values.reshape(-1, 1)\n",
    "# Scale features\n",
    "scaler = MinMaxScaler()\n",
    "model = scaler.fit(data_mined)\n",
    "scaled_data_mined = model.transform(data_mined)\n",
    "# Print scaled features\n",
    "print(scaled_data_mined)"
   ]
  },
  {
   "cell_type": "code",
   "execution_count": 136,
   "metadata": {},
   "outputs": [
    {
     "name": "stdout",
     "output_type": "stream",
     "text": [
      "42      4.200000e+01\n",
      "404     5.320000e+08\n",
      "1337    3.141593e+11\n",
      "BTC     2.100000e+07\n",
      "ETH     0.000000e+00\n",
      "            ...     \n",
      "ZEPH    2.000000e+09\n",
      "GAP     2.500000e+08\n",
      "BDX     1.400223e+09\n",
      "ZEN     2.100000e+07\n",
      "XBC     1.000000e+06\n",
      "Name: TotalCoinSupply, Length: 532, dtype: float64\n",
      "[[4.20000000e-11]\n",
      " [5.32000000e-04]\n",
      " [3.14159265e-01]\n",
      " [2.10000000e-05]\n",
      " [0.00000000e+00]\n",
      " [8.40000000e-05]\n",
      " [2.20000000e-05]\n",
      " [0.00000000e+00]\n",
      " [2.10000000e-04]\n",
      " [2.10000000e-05]\n",
      " [3.60057050e-03]\n",
      " [2.10000000e-02]\n",
      " [2.20000000e-05]\n",
      " [1.25000000e-05]\n",
      " [2.10000000e-05]\n",
      " [3.50000000e-04]\n",
      " [2.00000000e-05]\n",
      " [6.40000000e-05]\n",
      " [1.67685840e-05]\n",
      " [0.00000000e+00]\n",
      " [2.00000000e-03]\n",
      " [3.84000000e-01]\n",
      " [1.69795588e-04]\n",
      " [2.50000000e-04]\n",
      " [1.00000000e-04]\n",
      " [0.00000000e+00]\n",
      " [2.47000000e-04]\n",
      " [8.40000000e-05]\n",
      " [4.81660000e-05]\n",
      " [5.00000000e-07]\n",
      " [2.10000000e-05]\n",
      " [1.00000000e-06]\n",
      " [1.31400000e-05]\n",
      " [1.80000000e-05]\n",
      " [4.00000000e-02]\n",
      " [4.38000000e-06]\n",
      " [1.65550000e-02]\n",
      " [2.10000000e-02]\n",
      " [1.35000000e-02]\n",
      " [2.10000000e-05]\n",
      " [2.99792458e-04]\n",
      " [3.20000000e-05]\n",
      " [0.00000000e+00]\n",
      " [0.00000000e+00]\n",
      " [1.12358130e-05]\n",
      " [3.36000000e-04]\n",
      " [1.42060961e-03]\n",
      " [7.00000000e-05]\n",
      " [7.22457000e-05]\n",
      " [1.20000000e-04]\n",
      " [0.00000000e+00]\n",
      " [9.06000000e-02]\n",
      " [2.20000000e-05]\n",
      " [2.10000000e-05]\n",
      " [2.65420800e-04]\n",
      " [2.00000000e-05]\n",
      " [1.35000000e-06]\n",
      " [1.00000000e-04]\n",
      " [4.20000000e-05]\n",
      " [2.00000000e-04]\n",
      " [0.00000000e+00]\n",
      " [1.00000000e-05]\n",
      " [2.41920000e-03]\n",
      " [1.61800000e-05]\n",
      " [0.00000000e+00]\n",
      " [1.50000000e-02]\n",
      " [2.10000000e-05]\n",
      " [3.37000000e-04]\n",
      " [0.00000000e+00]\n",
      " [3.77000000e-06]\n",
      " [4.20000000e-04]\n",
      " [9.80000000e-05]\n",
      " [0.00000000e+00]\n",
      " [2.10000000e-05]\n",
      " [2.50000000e-04]\n",
      " [5.12000000e-05]\n",
      " [0.00000000e+00]\n",
      " [1.00000000e-09]\n",
      " [8.88000000e-04]\n",
      " [1.00000000e-04]\n",
      " [4.70119680e-05]\n",
      " [2.30000000e-03]\n",
      " [1.00000000e-05]\n",
      " [4.20000000e-05]\n",
      " [8.00000000e-05]\n",
      " [2.50000000e-07]\n",
      " [0.00000000e+00]\n",
      " [1.60000000e-03]\n",
      " [1.00000000e-04]\n",
      " [2.30000000e-05]\n",
      " [0.00000000e+00]\n",
      " [8.40000000e-05]\n",
      " [2.65420800e-04]\n",
      " [5.50000000e-06]\n",
      " [0.00000000e+00]\n",
      " [4.50000000e-05]\n",
      " [0.00000000e+00]\n",
      " [1.00000000e-03]\n",
      " [1.84467441e-01]\n",
      " [1.00000000e-02]\n",
      " [2.15881280e-03]\n",
      " [5.00000000e-04]\n",
      " [1.05120000e-04]\n",
      " [6.80000000e-05]\n",
      " [0.00000000e+00]\n",
      " [1.68000000e-03]\n",
      " [0.00000000e+00]\n",
      " [1.66386000e-04]\n",
      " [1.20000000e-05]\n",
      " [2.62800000e-06]\n",
      " [5.00000000e-04]\n",
      " [1.60000000e-04]\n",
      " [0.00000000e+00]\n",
      " [1.00000000e-05]\n",
      " [1.00000000e-03]\n",
      " [1.00000000e-03]\n",
      " [2.00000000e-05]\n",
      " [0.00000000e+00]\n",
      " [0.00000000e+00]\n",
      " [3.37133700e-06]\n",
      " [2.00000000e-05]\n",
      " [1.00000000e-02]\n",
      " [1.84000000e-03]\n",
      " [6.19478000e-07]\n",
      " [2.10000000e-05]\n",
      " [9.20000000e-02]\n",
      " [0.00000000e+00]\n",
      " [7.80000000e-05]\n",
      " [3.30000000e-05]\n",
      " [6.57891000e-05]\n",
      " [5.37600000e-05]\n",
      " [5.06000000e-06]\n",
      " [2.10000000e-05]\n",
      " [0.00000000e+00]\n",
      " [2.10240000e-04]\n",
      " [2.50000000e-04]\n",
      " [1.00000000e-04]\n",
      " [1.69063970e-05]\n",
      " [5.00000000e-05]\n",
      " [0.00000000e+00]\n",
      " [1.00000000e-03]\n",
      " [2.62980000e-05]\n",
      " [1.60000000e-05]\n",
      " [2.10000000e-05]\n",
      " [2.10000000e-05]\n",
      " [2.10000000e-04]\n",
      " [8.19621000e-05]\n",
      " [2.20000000e-05]\n",
      " [2.65500000e-02]\n",
      " [8.40000000e-05]\n",
      " [1.05000000e-05]\n",
      " [2.16262800e-02]\n",
      " [0.00000000e+00]\n",
      " [4.20000000e-05]\n",
      " [2.21052632e-04]\n",
      " [8.40000000e-05]\n",
      " [3.00000000e-05]\n",
      " [1.68351300e-04]\n",
      " [2.40000000e-05]\n",
      " [3.84000000e-04]\n",
      " [9.90000000e-02]\n",
      " [4.00000000e-05]\n",
      " [2.14748365e-03]\n",
      " [2.00000000e-05]\n",
      " [2.00000000e-05]\n",
      " [2.50000000e-05]\n",
      " [7.50000000e-05]\n",
      " [2.22725000e-04]\n",
      " [5.25000000e-04]\n",
      " [9.00000000e-05]\n",
      " [1.39000000e-04]\n",
      " [6.16448000e-07]\n",
      " [3.35000000e-05]\n",
      " [2.00000000e-03]\n",
      " [4.43333330e-05]\n",
      " [1.00000000e-04]\n",
      " [2.00000000e-04]\n",
      " [2.50000000e-05]\n",
      " [6.57000000e-04]\n",
      " [2.00000000e-04]\n",
      " [5.00000000e-05]\n",
      " [9.00000000e-05]\n",
      " [1.00000000e-05]\n",
      " [2.10000000e-05]\n",
      " [9.73600000e-06]\n",
      " [3.00000000e-06]\n",
      " [2.10000000e-05]\n",
      " [1.20000000e-03]\n",
      " [0.00000000e+00]\n",
      " [2.00000000e-04]\n",
      " [0.00000000e+00]\n",
      " [1.06382980e-05]\n",
      " [3.10000000e-03]\n",
      " [3.00000000e-05]\n",
      " [2.00000000e-02]\n",
      " [7.40000000e-05]\n",
      " [0.00000000e+00]\n",
      " [1.50000000e-03]\n",
      " [2.14000000e-05]\n",
      " [3.99998980e-05]\n",
      " [2.50012400e-06]\n",
      " [1.00000000e-04]\n",
      " [3.01000000e-04]\n",
      " [7.50600000e-03]\n",
      " [2.62055390e-05]\n",
      " [2.10000000e-05]\n",
      " [1.25000000e-04]\n",
      " [3.00000000e-05]\n",
      " [1.00000000e-02]\n",
      " [5.00000000e-04]\n",
      " [8.50000000e-04]\n",
      " [3.85332678e-06]\n",
      " [5.00000000e-05]\n",
      " [3.85400000e-05]\n",
      " [4.20000000e-05]\n",
      " [2.28000000e-04]\n",
      " [2.00000000e-05]\n",
      " [6.00000000e-05]\n",
      " [2.00000000e-05]\n",
      " [3.30000000e-05]\n",
      " [7.65000000e-05]\n",
      " [2.80000000e-05]\n",
      " [6.50659833e-04]\n",
      " [5.00000000e-06]\n",
      " [2.10000000e-05]\n",
      " [1.44000000e-04]\n",
      " [3.25149169e-02]\n",
      " [1.30000000e-05]\n",
      " [3.31578900e-06]\n",
      " [1.50000000e-05]\n",
      " [7.88352000e-05]\n",
      " [2.71428600e-06]\n",
      " [2.50000000e-05]\n",
      " [9.99999900e-06]\n",
      " [5.00000000e-04]\n",
      " [2.10000000e-05]\n",
      " [9.35400000e-06]\n",
      " [2.00000000e-05]\n",
      " [1.00000000e-01]\n",
      " [2.19333330e-05]\n",
      " [1.85000000e-04]\n",
      " [5.50000000e-05]\n",
      " [1.10000000e-04]\n",
      " [3.36000000e-06]\n",
      " [1.45248515e-05]\n",
      " [1.00000000e-03]\n",
      " [1.70000000e-05]\n",
      " [1.00000000e-03]\n",
      " [1.00000000e-04]\n",
      " [2.10000000e-05]\n",
      " [3.44264230e-05]\n",
      " [2.23290100e-06]\n",
      " [1.00000000e-04]\n",
      " [3.69000000e-05]\n",
      " [1.10000000e-04]\n",
      " [4.00000000e-03]\n",
      " [1.10290030e-04]\n",
      " [1.00000000e-04]\n",
      " [4.82520000e-05]\n",
      " [4.00000000e-04]\n",
      " [5.00000000e-04]\n",
      " [2.12121210e-05]\n",
      " [2.86000000e-05]\n",
      " [1.00000000e-03]\n",
      " [7.50000000e-02]\n",
      " [4.00000000e-05]\n",
      " [3.55204000e-05]\n",
      " [2.00000000e-03]\n",
      " [2.50000000e-03]\n",
      " [3.00000000e-05]\n",
      " [1.05000000e-04]\n",
      " [9.00000000e-02]\n",
      " [2.00084200e-04]\n",
      " [7.20000000e-05]\n",
      " [1.00000000e-04]\n",
      " [1.05000000e-04]\n",
      " [5.00000000e-02]\n",
      " [0.00000000e+00]\n",
      " [3.40282367e-04]\n",
      " [3.00000000e-05]\n",
      " [2.00000000e-03]\n",
      " [1.00000000e-05]\n",
      " [1.00000000e-04]\n",
      " [1.20000000e-04]\n",
      " [1.00000000e-04]\n",
      " [1.92768000e-05]\n",
      " [3.00000000e-05]\n",
      " [7.50000000e-05]\n",
      " [6.00000000e-05]\n",
      " [1.89000000e-05]\n",
      " [5.00000000e-02]\n",
      " [5.40000000e-05]\n",
      " [1.88981876e-05]\n",
      " [2.10000000e-05]\n",
      " [2.00000000e-01]\n",
      " [5.00000000e-03]\n",
      " [1.37500000e-04]\n",
      " [1.10000000e-03]\n",
      " [1.00000000e-04]\n",
      " [2.10000000e-05]\n",
      " [9.50727100e-06]\n",
      " [1.74058912e-05]\n",
      " [8.67126345e-02]\n",
      " [1.05000000e-02]\n",
      " [6.15999650e-05]\n",
      " [0.00000000e+00]\n",
      " [2.00000000e-05]\n",
      " [8.40000000e-05]\n",
      " [1.00000000e-04]\n",
      " [1.00000000e-04]\n",
      " [4.82520000e-05]\n",
      " [4.20000000e-06]\n",
      " [8.88888880e-05]\n",
      " [9.13889460e-05]\n",
      " [4.50000000e-02]\n",
      " [2.70000000e-05]\n",
      " [2.10000000e-02]\n",
      " [4.00000000e-04]\n",
      " [1.80000000e-03]\n",
      " [1.57333330e-05]\n",
      " [2.70000000e-05]\n",
      " [2.40000000e-05]\n",
      " [2.10000000e-05]\n",
      " [2.50000000e-02]\n",
      " [1.00000000e-04]\n",
      " [1.20000000e-03]\n",
      " [6.00000000e-05]\n",
      " [1.56306733e-04]\n",
      " [2.10000000e-05]\n",
      " [2.00000000e-04]\n",
      " [1.00000000e-04]\n",
      " [2.10000000e-05]\n",
      " [1.47882760e-05]\n",
      " [9.00000000e-03]\n",
      " [3.50000000e-04]\n",
      " [4.50000000e-05]\n",
      " [2.80000000e-04]\n",
      " [3.18000000e-05]\n",
      " [1.44000000e-04]\n",
      " [5.00000000e-04]\n",
      " [3.00000000e-02]\n",
      " [2.10000000e-04]\n",
      " [6.60000000e-04]\n",
      " [2.10000000e-04]\n",
      " [8.50000000e-02]\n",
      " [1.25000000e-05]\n",
      " [1.00000000e-02]\n",
      " [2.77161210e-05]\n",
      " [2.00000000e-05]\n",
      " [5.50000000e-04]\n",
      " [9.99481516e-04]\n",
      " [5.00000000e-02]\n",
      " [1.50000000e-04]\n",
      " [5.00000000e-03]\n",
      " [5.00000000e-05]\n",
      " [9.00000000e-02]\n",
      " [1.98000000e-05]\n",
      " [2.10000000e-05]\n",
      " [1.20000000e-04]\n",
      " [5.00000000e-04]\n",
      " [6.40000000e-05]\n",
      " [9.00000000e-04]\n",
      " [4.00000000e-06]\n",
      " [2.10000000e-05]\n",
      " [2.30000000e-05]\n",
      " [2.01660000e-05]\n",
      " [2.30000000e-05]\n",
      " [2.50000000e-05]\n",
      " [1.61803300e-06]\n",
      " [3.00000000e-05]\n",
      " [1.00000000e+00]\n",
      " [1.66000000e-05]\n",
      " [2.32000000e-04]\n",
      " [3.36000000e-04]\n",
      " [1.00000000e-02]\n",
      " [1.00000000e-04]\n",
      " [1.10000000e-03]\n",
      " [8.00000000e-04]\n",
      " [5.20000000e-03]\n",
      " [8.40000000e-04]\n",
      " [4.00000000e-05]\n",
      " [1.84069798e-02]\n",
      " [5.00000000e-04]\n",
      " [1.93405940e-05]\n",
      " [2.52460800e-04]\n",
      " [2.50000000e-05]\n",
      " [6.00000000e-05]\n",
      " [1.24000000e-04]\n",
      " [1.00000000e-03]\n",
      " [6.50000000e-03]\n",
      " [1.00000000e-03]\n",
      " [2.10000000e-05]\n",
      " [2.50000000e-05]\n",
      " [5.00000000e-05]\n",
      " [3.00000000e-06]\n",
      " [5.00000000e-06]\n",
      " [7.00000000e-05]\n",
      " [5.00000000e-04]\n",
      " [3.00000000e-04]\n",
      " [2.10000000e-05]\n",
      " [8.80000000e-05]\n",
      " [3.00000000e-05]\n",
      " [1.00000000e-04]\n",
      " [1.00000000e-04]\n",
      " [2.00000000e-04]\n",
      " [8.00000000e-05]\n",
      " [1.84000000e-05]\n",
      " [4.50000000e-05]\n",
      " [5.12195122e-03]\n",
      " [2.10000000e-05]\n",
      " [2.62800000e-05]\n",
      " [2.10000000e-05]\n",
      " [1.80000000e-05]\n",
      " [2.60000000e-05]\n",
      " [1.05000000e-05]\n",
      " [6.00000518e-04]\n",
      " [1.50000000e-04]\n",
      " [1.84000000e-01]\n",
      " [1.02000000e-02]\n",
      " [4.40000000e-05]\n",
      " [1.68000000e-04]\n",
      " [1.00000000e-04]\n",
      " [1.00000000e-03]\n",
      " [8.40000000e-05]\n",
      " [9.00000000e-05]\n",
      " [9.20000000e-02]\n",
      " [6.50000000e-04]\n",
      " [1.00262205e-04]\n",
      " [1.80818060e-05]\n",
      " [2.20757000e-05]\n",
      " [2.10000000e-05]\n",
      " [2.10000000e-05]\n",
      " [8.25465640e-05]\n",
      " [2.10000000e-05]\n",
      " [5.15100000e-06]\n",
      " [1.68800000e-02]\n",
      " [5.25000000e-05]\n",
      " [1.00000000e-04]\n",
      " [2.21052630e-05]\n",
      " [1.00000000e-03]\n",
      " [1.75000000e-03]\n",
      " [8.81888880e-05]\n",
      " [2.10000000e-04]\n",
      " [1.84470000e-01]\n",
      " [5.50000000e-05]\n",
      " [5.00000000e-05]\n",
      " [2.60000000e-04]\n",
      " [2.10000000e-04]\n",
      " [2.10000000e-03]\n",
      " [3.66000000e-04]\n",
      " [1.00000000e-04]\n",
      " [2.50000000e-05]\n",
      " [1.80000000e-02]\n",
      " [1.00000000e-03]\n",
      " [1.00000000e-04]\n",
      " [1.00000000e-03]\n",
      " [7.60000000e-03]\n",
      " [5.00000000e-05]\n",
      " [8.40000000e-05]\n",
      " [2.10000000e-05]\n",
      " [7.00000000e-02]\n",
      " [0.00000000e+00]\n",
      " [8.08000000e-03]\n",
      " [5.40000000e-05]\n",
      " [1.05120001e-04]\n",
      " [2.52288000e-05]\n",
      " [1.05000000e-04]\n",
      " [2.10000000e-05]\n",
      " [1.20000000e-04]\n",
      " [2.10000000e-05]\n",
      " [2.62800000e-04]\n",
      " [1.90359990e-05]\n",
      " [3.08860000e-05]\n",
      " [1.33700000e-05]\n",
      " [7.48000000e-02]\n",
      " [1.00000000e-04]\n",
      " [1.97000000e-05]\n",
      " [8.40000000e-05]\n",
      " [5.00000000e-04]\n",
      " [5.00000000e-03]\n",
      " [4.20000000e-04]\n",
      " [6.40000000e-05]\n",
      " [2.10000000e-06]\n",
      " [1.68000000e-04]\n",
      " [3.00000000e-05]\n",
      " [1.00000000e-03]\n",
      " [3.50000000e-02]\n",
      " [9.81000000e-02]\n",
      " [0.00000000e+00]\n",
      " [4.00000000e-03]\n",
      " [2.00000000e-04]\n",
      " [7.00000000e-03]\n",
      " [5.42561190e-05]\n",
      " [2.10000000e-05]\n",
      " [0.00000000e+00]\n",
      " [5.00000000e-04]\n",
      " [1.00000000e-03]\n",
      " [1.05000000e-02]\n",
      " [1.90000000e-04]\n",
      " [1.00000000e-03]\n",
      " [4.20000000e-05]\n",
      " [1.50000000e-05]\n",
      " [5.00000000e-02]\n",
      " [4.00000000e-04]\n",
      " [1.05000000e-04]\n",
      " [2.08000000e-04]\n",
      " [1.60000000e-04]\n",
      " [9.00000000e-06]\n",
      " [5.00000000e-06]\n",
      " [1.82000000e-04]\n",
      " [1.65043330e-05]\n",
      " [1.05000000e-04]\n",
      " [1.59918400e-04]\n",
      " [1.00088356e-02]\n",
      " [3.00000000e-04]\n",
      " [6.01681450e-05]\n",
      " [2.80000000e-06]\n",
      " [1.20000000e-07]\n",
      " [2.10000000e-03]\n",
      " [0.00000000e+00]\n",
      " [2.44879440e-05]\n",
      " [0.00000000e+00]\n",
      " [1.00000000e-03]\n",
      " [1.00000000e-04]\n",
      " [8.63414000e-06]\n",
      " [9.90000000e-01]\n",
      " [1.00000000e-03]\n",
      " [2.00000000e-03]\n",
      " [2.50000000e-04]\n",
      " [1.40022261e-03]\n",
      " [2.10000000e-05]\n",
      " [1.00000000e-06]]\n"
     ]
    }
   ],
   "source": [
    "print(clustered_df['TotalCoinSupply'])\n",
    "print(scaled_data_supply)"
   ]
  },
  {
   "cell_type": "code",
   "execution_count": 139,
   "metadata": {},
   "outputs": [
    {
     "data": {
      "text/html": [
       "<div>\n",
       "<style scoped>\n",
       "    .dataframe tbody tr th:only-of-type {\n",
       "        vertical-align: middle;\n",
       "    }\n",
       "\n",
       "    .dataframe tbody tr th {\n",
       "        vertical-align: top;\n",
       "    }\n",
       "\n",
       "    .dataframe thead th {\n",
       "        text-align: right;\n",
       "    }\n",
       "</style>\n",
       "<table border=\"1\" class=\"dataframe\">\n",
       "  <thead>\n",
       "    <tr style=\"text-align: right;\">\n",
       "      <th></th>\n",
       "      <th>TotalCoinSupply</th>\n",
       "      <th>TotalCoinsMined</th>\n",
       "      <th>CoinName</th>\n",
       "      <th>Class</th>\n",
       "    </tr>\n",
       "  </thead>\n",
       "  <tbody>\n",
       "    <tr>\n",
       "      <th>42</th>\n",
       "      <td>4.200000e-11</td>\n",
       "      <td>0.000000</td>\n",
       "      <td>42 Coin</td>\n",
       "      <td>0</td>\n",
       "    </tr>\n",
       "    <tr>\n",
       "      <th>404</th>\n",
       "      <td>5.320000e-04</td>\n",
       "      <td>0.001066</td>\n",
       "      <td>404Coin</td>\n",
       "      <td>0</td>\n",
       "    </tr>\n",
       "    <tr>\n",
       "      <th>1337</th>\n",
       "      <td>3.141593e-01</td>\n",
       "      <td>0.029576</td>\n",
       "      <td>EliteCoin</td>\n",
       "      <td>0</td>\n",
       "    </tr>\n",
       "    <tr>\n",
       "      <th>BTC</th>\n",
       "      <td>2.100000e-05</td>\n",
       "      <td>0.000018</td>\n",
       "      <td>Bitcoin</td>\n",
       "      <td>3</td>\n",
       "    </tr>\n",
       "    <tr>\n",
       "      <th>ETH</th>\n",
       "      <td>0.000000e+00</td>\n",
       "      <td>0.000109</td>\n",
       "      <td>Ethereum</td>\n",
       "      <td>3</td>\n",
       "    </tr>\n",
       "    <tr>\n",
       "      <th>LTC</th>\n",
       "      <td>8.400000e-05</td>\n",
       "      <td>0.000064</td>\n",
       "      <td>Litecoin</td>\n",
       "      <td>3</td>\n",
       "    </tr>\n",
       "    <tr>\n",
       "      <th>DASH</th>\n",
       "      <td>2.200000e-05</td>\n",
       "      <td>0.000009</td>\n",
       "      <td>Dash</td>\n",
       "      <td>0</td>\n",
       "    </tr>\n",
       "    <tr>\n",
       "      <th>XMR</th>\n",
       "      <td>0.000000e+00</td>\n",
       "      <td>0.000017</td>\n",
       "      <td>Monero</td>\n",
       "      <td>3</td>\n",
       "    </tr>\n",
       "    <tr>\n",
       "      <th>ETC</th>\n",
       "      <td>2.100000e-04</td>\n",
       "      <td>0.000115</td>\n",
       "      <td>Ethereum Classic</td>\n",
       "      <td>3</td>\n",
       "    </tr>\n",
       "    <tr>\n",
       "      <th>ZEC</th>\n",
       "      <td>2.100000e-05</td>\n",
       "      <td>0.000007</td>\n",
       "      <td>ZCash</td>\n",
       "      <td>3</td>\n",
       "    </tr>\n",
       "  </tbody>\n",
       "</table>\n",
       "</div>"
      ],
      "text/plain": [
       "      TotalCoinSupply  TotalCoinsMined          CoinName  Class\n",
       "42       4.200000e-11         0.000000           42 Coin      0\n",
       "404      5.320000e-04         0.001066           404Coin      0\n",
       "1337     3.141593e-01         0.029576         EliteCoin      0\n",
       "BTC      2.100000e-05         0.000018           Bitcoin      3\n",
       "ETH      0.000000e+00         0.000109          Ethereum      3\n",
       "LTC      8.400000e-05         0.000064          Litecoin      3\n",
       "DASH     2.200000e-05         0.000009              Dash      0\n",
       "XMR      0.000000e+00         0.000017            Monero      3\n",
       "ETC      2.100000e-04         0.000115  Ethereum Classic      3\n",
       "ZEC      2.100000e-05         0.000007             ZCash      3"
      ]
     },
     "execution_count": 139,
     "metadata": {},
     "output_type": "execute_result"
    }
   ],
   "source": [
    "# Create a new DataFrame that has the scaled data with the clustered_df DataFrame index.\n",
    "# Add the \"CoinName\" column from the clustered_df DataFrame to the new DataFrame.\n",
    "plot_df = crypto_names\n",
    "plot_df['TotalCoinSupply'] = scaled_data_supply\n",
    "plot_df['TotalCoinsMined'] = scaled_data_mined\n",
    "\n",
    "# Add the \"Class\" column from the clustered_df DataFrame to the new DataFrame. \n",
    "plot_df['Class'] = clustered_df['Class']\n",
    "\n",
    "# Reorder columns\n",
    "plot_df = plot_df[['TotalCoinSupply', 'TotalCoinsMined', 'CoinName', 'Class']]\n",
    "plot_df.head(10)"
   ]
  },
  {
   "cell_type": "code",
   "execution_count": 140,
   "metadata": {},
   "outputs": [
    {
     "data": {},
     "metadata": {},
     "output_type": "display_data"
    },
    {
     "data": {
      "application/vnd.holoviews_exec.v0+json": "",
      "text/html": [
       "<div id='1597'>\n",
       "\n",
       "\n",
       "\n",
       "\n",
       "\n",
       "  <div class=\"bk-root\" id=\"70634df2-089e-420d-a476-6207d213f04a\" data-root-id=\"1597\"></div>\n",
       "</div>\n",
       "<script type=\"application/javascript\">(function(root) {\n",
       "  function embed_document(root) {\n",
       "    var docs_json = {\"dd7202a9-3d8b-448d-8adf-9c40502c18b1\":{\"defs\":[{\"extends\":null,\"module\":null,\"name\":\"ReactiveHTML1\",\"overrides\":[],\"properties\":[]},{\"extends\":null,\"module\":null,\"name\":\"FlexBox1\",\"overrides\":[],\"properties\":[{\"default\":\"flex-start\",\"kind\":null,\"name\":\"align_content\"},{\"default\":\"flex-start\",\"kind\":null,\"name\":\"align_items\"},{\"default\":\"row\",\"kind\":null,\"name\":\"flex_direction\"},{\"default\":\"wrap\",\"kind\":null,\"name\":\"flex_wrap\"},{\"default\":\"flex-start\",\"kind\":null,\"name\":\"justify_content\"}]},{\"extends\":null,\"module\":null,\"name\":\"GridStack1\",\"overrides\":[],\"properties\":[{\"default\":\"warn\",\"kind\":null,\"name\":\"mode\"},{\"default\":null,\"kind\":null,\"name\":\"ncols\"},{\"default\":null,\"kind\":null,\"name\":\"nrows\"},{\"default\":true,\"kind\":null,\"name\":\"allow_resize\"},{\"default\":true,\"kind\":null,\"name\":\"allow_drag\"},{\"default\":[],\"kind\":null,\"name\":\"state\"}]},{\"extends\":null,\"module\":null,\"name\":\"click1\",\"overrides\":[],\"properties\":[{\"default\":\"\",\"kind\":null,\"name\":\"terminal_output\"},{\"default\":\"\",\"kind\":null,\"name\":\"debug_name\"},{\"default\":0,\"kind\":null,\"name\":\"clears\"}]},{\"extends\":null,\"module\":null,\"name\":\"TemplateActions1\",\"overrides\":[],\"properties\":[{\"default\":0,\"kind\":null,\"name\":\"open_modal\"},{\"default\":0,\"kind\":null,\"name\":\"close_modal\"}]},{\"extends\":null,\"module\":null,\"name\":\"MaterialTemplateActions1\",\"overrides\":[],\"properties\":[{\"default\":0,\"kind\":null,\"name\":\"open_modal\"},{\"default\":0,\"kind\":null,\"name\":\"close_modal\"}]}],\"roots\":{\"references\":[{\"attributes\":{},\"id\":\"1619\",\"type\":\"BasicTicker\"},{\"attributes\":{\"coordinates\":null,\"data_source\":{\"id\":\"1684\"},\"glyph\":{\"id\":\"1687\"},\"group\":null,\"hover_glyph\":null,\"muted_glyph\":{\"id\":\"1689\"},\"nonselection_glyph\":{\"id\":\"1688\"},\"selection_glyph\":{\"id\":\"1707\"},\"view\":{\"id\":\"1691\"}},\"id\":\"1690\",\"type\":\"GlyphRenderer\"},{\"attributes\":{\"axis\":{\"id\":\"1618\"},\"coordinates\":null,\"dimension\":1,\"grid_line_color\":null,\"group\":null,\"ticker\":null},\"id\":\"1621\",\"type\":\"Grid\"},{\"attributes\":{\"fill_color\":{\"value\":\"#30a2da\"},\"hatch_color\":{\"value\":\"#30a2da\"},\"line_color\":{\"value\":\"#30a2da\"},\"size\":{\"value\":5.477225575051661},\"x\":{\"field\":\"TotalCoinsMined\"},\"y\":{\"field\":\"TotalCoinSupply\"}},\"id\":\"1644\",\"type\":\"Scatter\"},{\"attributes\":{\"source\":{\"id\":\"1708\"}},\"id\":\"1715\",\"type\":\"CDSView\"},{\"attributes\":{},\"id\":\"1685\",\"type\":\"Selection\"},{\"attributes\":{\"angle\":{\"value\":0.0},\"fill_alpha\":{\"value\":1.0},\"fill_color\":{\"value\":\"#fc4f30\"},\"hatch_alpha\":{\"value\":1.0},\"hatch_color\":{\"value\":\"#fc4f30\"},\"hatch_scale\":{\"value\":12.0},\"hatch_weight\":{\"value\":1.0},\"line_alpha\":{\"value\":1.0},\"line_cap\":{\"value\":\"butt\"},\"line_color\":{\"value\":\"#fc4f30\"},\"line_dash\":{\"value\":[]},\"line_dash_offset\":{\"value\":0},\"line_join\":{\"value\":\"bevel\"},\"line_width\":{\"value\":1},\"marker\":{\"value\":\"circle\"},\"size\":{\"value\":5.477225575051661},\"x\":{\"field\":\"TotalCoinsMined\"},\"y\":{\"field\":\"TotalCoinSupply\"}},\"id\":\"1683\",\"type\":\"Scatter\"},{\"attributes\":{},\"id\":\"1703\",\"type\":\"UnionRenderers\"},{\"attributes\":{\"fill_alpha\":{\"value\":0.2},\"fill_color\":{\"value\":\"#e5ae38\"},\"hatch_alpha\":{\"value\":0.2},\"hatch_color\":{\"value\":\"#e5ae38\"},\"line_alpha\":{\"value\":0.2},\"line_color\":{\"value\":\"#e5ae38\"},\"size\":{\"value\":5.477225575051661},\"x\":{\"field\":\"TotalCoinsMined\"},\"y\":{\"field\":\"TotalCoinSupply\"}},\"id\":\"1689\",\"type\":\"Scatter\"},{\"attributes\":{},\"id\":\"1640\",\"type\":\"AllLabels\"},{\"attributes\":{\"fill_alpha\":{\"value\":0.1},\"fill_color\":{\"value\":\"#e5ae38\"},\"hatch_alpha\":{\"value\":0.1},\"hatch_color\":{\"value\":\"#e5ae38\"},\"line_alpha\":{\"value\":0.1},\"line_color\":{\"value\":\"#e5ae38\"},\"size\":{\"value\":5.477225575051661},\"x\":{\"field\":\"TotalCoinsMined\"},\"y\":{\"field\":\"TotalCoinSupply\"}},\"id\":\"1688\",\"type\":\"Scatter\"},{\"attributes\":{\"data\":{\"Class\":[2],\"TotalCoinSupply\":{\"__ndarray__\":\"rkfhehSu7z8=\",\"dtype\":\"float64\",\"order\":\"little\",\"shape\":[1]},\"TotalCoinsMined\":{\"__ndarray__\":\"AAAAAAAA8D8=\",\"dtype\":\"float64\",\"order\":\"little\",\"shape\":[1]}},\"selected\":{\"id\":\"1685\"},\"selection_policy\":{\"id\":\"1703\"}},\"id\":\"1684\",\"type\":\"ColumnDataSource\"},{\"attributes\":{},\"id\":\"1622\",\"type\":\"SaveTool\"},{\"attributes\":{\"axis\":{\"id\":\"1614\"},\"coordinates\":null,\"grid_line_color\":null,\"group\":null,\"ticker\":null},\"id\":\"1617\",\"type\":\"Grid\"},{\"attributes\":{},\"id\":\"1623\",\"type\":\"PanTool\"},{\"attributes\":{\"source\":{\"id\":\"1684\"}},\"id\":\"1691\",\"type\":\"CDSView\"},{\"attributes\":{},\"id\":\"1624\",\"type\":\"WheelZoomTool\"},{\"attributes\":{\"children\":[{\"id\":\"1598\"},{\"id\":\"1605\"},{\"id\":\"1878\"}],\"margin\":[0,0,0,0],\"name\":\"Row02923\",\"tags\":[\"embedded\"]},\"id\":\"1597\",\"type\":\"Row\"},{\"attributes\":{\"tools\":[{\"id\":\"1601\"},{\"id\":\"1622\"},{\"id\":\"1623\"},{\"id\":\"1624\"},{\"id\":\"1625\"},{\"id\":\"1626\"}]},\"id\":\"1628\",\"type\":\"Toolbar\"},{\"attributes\":{\"click_policy\":\"mute\",\"coordinates\":null,\"group\":null,\"items\":[{\"id\":\"1660\"},{\"id\":\"1682\"},{\"id\":\"1706\"},{\"id\":\"1732\"}],\"location\":[0,0],\"title\":\"Class\"},\"id\":\"1659\",\"type\":\"Legend\"},{\"attributes\":{\"fill_alpha\":{\"value\":0.1},\"fill_color\":{\"value\":\"#6d904f\"},\"hatch_alpha\":{\"value\":0.1},\"hatch_color\":{\"value\":\"#6d904f\"},\"line_alpha\":{\"value\":0.1},\"line_color\":{\"value\":\"#6d904f\"},\"size\":{\"value\":5.477225575051661},\"x\":{\"field\":\"TotalCoinsMined\"},\"y\":{\"field\":\"TotalCoinSupply\"}},\"id\":\"1712\",\"type\":\"Scatter\"},{\"attributes\":{\"overlay\":{\"id\":\"1627\"}},\"id\":\"1625\",\"type\":\"BoxZoomTool\"},{\"attributes\":{\"margin\":[5,5,5,5],\"name\":\"HSpacer02927\",\"sizing_mode\":\"stretch_width\"},\"id\":\"1598\",\"type\":\"Spacer\"},{\"attributes\":{\"fill_color\":{\"value\":\"#e5ae38\"},\"hatch_color\":{\"value\":\"#e5ae38\"},\"line_color\":{\"value\":\"#e5ae38\"},\"size\":{\"value\":5.477225575051661},\"x\":{\"field\":\"TotalCoinsMined\"},\"y\":{\"field\":\"TotalCoinSupply\"}},\"id\":\"1687\",\"type\":\"Scatter\"},{\"attributes\":{\"label\":{\"value\":\"2\"},\"renderers\":[{\"id\":\"1690\"}]},\"id\":\"1706\",\"type\":\"LegendItem\"},{\"attributes\":{},\"id\":\"1626\",\"type\":\"ResetTool\"},{\"attributes\":{\"end\":1.1,\"reset_end\":1.1,\"reset_start\":-0.1,\"start\":-0.1,\"tags\":[[[\"TotalCoinSupply\",\"TotalCoinSupply\",null]]]},\"id\":\"1600\",\"type\":\"Range1d\"},{\"attributes\":{\"bottom_units\":\"screen\",\"coordinates\":null,\"fill_alpha\":0.5,\"fill_color\":\"lightgrey\",\"group\":null,\"left_units\":\"screen\",\"level\":\"overlay\",\"line_alpha\":1.0,\"line_color\":\"black\",\"line_dash\":[4,4],\"line_width\":2,\"right_units\":\"screen\",\"syncable\":false,\"top_units\":\"screen\"},\"id\":\"1627\",\"type\":\"BoxAnnotation\"},{\"attributes\":{\"coordinates\":null,\"data_source\":{\"id\":\"1708\"},\"glyph\":{\"id\":\"1711\"},\"group\":null,\"hover_glyph\":null,\"muted_glyph\":{\"id\":\"1713\"},\"nonselection_glyph\":{\"id\":\"1712\"},\"selection_glyph\":{\"id\":\"1733\"},\"view\":{\"id\":\"1715\"}},\"id\":\"1714\",\"type\":\"GlyphRenderer\"},{\"attributes\":{\"fill_alpha\":{\"value\":0.2},\"fill_color\":{\"value\":\"#30a2da\"},\"hatch_alpha\":{\"value\":0.2},\"hatch_color\":{\"value\":\"#30a2da\"},\"line_alpha\":{\"value\":0.2},\"line_color\":{\"value\":\"#30a2da\"},\"size\":{\"value\":5.477225575051661},\"x\":{\"field\":\"TotalCoinsMined\"},\"y\":{\"field\":\"TotalCoinSupply\"}},\"id\":\"1646\",\"type\":\"Scatter\"},{\"attributes\":{},\"id\":\"1656\",\"type\":\"UnionRenderers\"},{\"attributes\":{\"angle\":{\"value\":0.0},\"fill_alpha\":{\"value\":1.0},\"fill_color\":{\"value\":\"#e5ae38\"},\"hatch_alpha\":{\"value\":1.0},\"hatch_color\":{\"value\":\"#e5ae38\"},\"hatch_scale\":{\"value\":12.0},\"hatch_weight\":{\"value\":1.0},\"line_alpha\":{\"value\":1.0},\"line_cap\":{\"value\":\"butt\"},\"line_color\":{\"value\":\"#e5ae38\"},\"line_dash\":{\"value\":[]},\"line_dash_offset\":{\"value\":0},\"line_join\":{\"value\":\"bevel\"},\"line_width\":{\"value\":1},\"marker\":{\"value\":\"circle\"},\"size\":{\"value\":5.477225575051661},\"x\":{\"field\":\"TotalCoinsMined\"},\"y\":{\"field\":\"TotalCoinSupply\"}},\"id\":\"1707\",\"type\":\"Scatter\"},{\"attributes\":{\"label\":{\"value\":\"0\"},\"renderers\":[{\"id\":\"1647\"}]},\"id\":\"1660\",\"type\":\"LegendItem\"},{\"attributes\":{},\"id\":\"1612\",\"type\":\"LinearScale\"},{\"attributes\":{\"fill_alpha\":{\"value\":0.2},\"fill_color\":{\"value\":\"#6d904f\"},\"hatch_alpha\":{\"value\":0.2},\"hatch_color\":{\"value\":\"#6d904f\"},\"line_alpha\":{\"value\":0.2},\"line_color\":{\"value\":\"#6d904f\"},\"size\":{\"value\":5.477225575051661},\"x\":{\"field\":\"TotalCoinsMined\"},\"y\":{\"field\":\"TotalCoinSupply\"}},\"id\":\"1713\",\"type\":\"Scatter\"},{\"attributes\":{},\"id\":\"1642\",\"type\":\"Selection\"},{\"attributes\":{\"fill_color\":{\"value\":\"#6d904f\"},\"hatch_color\":{\"value\":\"#6d904f\"},\"line_color\":{\"value\":\"#6d904f\"},\"size\":{\"value\":5.477225575051661},\"x\":{\"field\":\"TotalCoinsMined\"},\"y\":{\"field\":\"TotalCoinSupply\"}},\"id\":\"1711\",\"type\":\"Scatter\"},{\"attributes\":{},\"id\":\"1729\",\"type\":\"UnionRenderers\"},{\"attributes\":{\"data\":{\"Class\":[0,0,0,0,0,0,0,0,0,0,0,0,0,0,0,0,0,0,0,0,0,0,0,0,0,0,0,0,0,0,0,0,0,0,0,0,0,0,0,0,0,0,0,0,0,0,0,0,0,0,0,0,0,0,0,0,0,0,0,0,0,0,0,0,0,0,0,0,0,0,0,0,0,0,0,0,0,0,0,0,0,0,0,0,0,0,0,0,0,0,0,0,0,0,0,0,0,0,0,0,0,0,0,0,0,0,0,0,0,0,0,0,0,0,0,0,0,0,0,0,0,0,0,0,0,0,0,0,0,0,0,0,0,0,0,0,0,0,0,0,0,0,0,0,0,0,0,0,0,0,0,0,0,0,0,0,0,0,0,0,0,0,0,0,0,0,0,0,0,0,0,0,0,0,0,0,0,0,0,0,0,0,0,0,0,0,0,0,0,0,0,0,0,0,0,0,0,0,0,0,0,0,0,0,0,0,0,0,0,0,0,0,0,0,0,0,0,0,0,0,0,0,0,0,0,0,0,0,0,0,0,0,0,0,0,0,0,0,0,0,0,0,0,0,0,0,0,0,0,0,0,0,0,0,0,0,0,0,0,0,0,0,0,0,0,0,0,0,0,0,0,0,0,0,0,0,0,0,0,0,0,0,0,0,0,0,0,0],\"TotalCoinSupply\":{\"__ndarray__\":\"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\",\"dtype\":\"float64\",\"order\":\"little\",\"shape\":[288]},\"TotalCoinsMined\":{\"__ndarray__\":\"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\",\"dtype\":\"float64\",\"order\":\"little\",\"shape\":[288]}},\"selected\":{\"id\":\"1642\"},\"selection_policy\":{\"id\":\"1656\"}},\"id\":\"1641\",\"type\":\"ColumnDataSource\"},{\"attributes\":{},\"id\":\"1639\",\"type\":\"BasicTickFormatter\"},{\"attributes\":{\"source\":{\"id\":\"1641\"}},\"id\":\"1648\",\"type\":\"CDSView\"},{\"attributes\":{\"callback\":null,\"renderers\":[{\"id\":\"1647\"},{\"id\":\"1668\"},{\"id\":\"1690\"},{\"id\":\"1714\"}],\"tags\":[\"hv_created\"],\"tooltips\":[[\"Class\",\"@{Class}\"],[\"TotalCoinsMined\",\"@{TotalCoinsMined}\"],[\"TotalCoinSupply\",\"@{TotalCoinSupply}\"]]},\"id\":\"1601\",\"type\":\"HoverTool\"},{\"attributes\":{\"coordinates\":null,\"data_source\":{\"id\":\"1641\"},\"glyph\":{\"id\":\"1644\"},\"group\":null,\"hover_glyph\":null,\"muted_glyph\":{\"id\":\"1646\"},\"nonselection_glyph\":{\"id\":\"1645\"},\"selection_glyph\":{\"id\":\"1661\"},\"view\":{\"id\":\"1648\"}},\"id\":\"1647\",\"type\":\"GlyphRenderer\"},{\"attributes\":{},\"id\":\"1637\",\"type\":\"AllLabels\"},{\"attributes\":{},\"id\":\"1636\",\"type\":\"BasicTickFormatter\"},{\"attributes\":{},\"id\":\"1709\",\"type\":\"Selection\"},{\"attributes\":{\"coordinates\":null,\"group\":null,\"text_color\":\"black\",\"text_font_size\":\"12pt\"},\"id\":\"1606\",\"type\":\"Title\"},{\"attributes\":{\"margin\":[5,5,5,5],\"name\":\"HSpacer02928\",\"sizing_mode\":\"stretch_width\"},\"id\":\"1878\",\"type\":\"Spacer\"},{\"attributes\":{\"label\":{\"value\":\"3\"},\"renderers\":[{\"id\":\"1714\"}]},\"id\":\"1732\",\"type\":\"LegendItem\"},{\"attributes\":{\"angle\":{\"value\":0.0},\"fill_alpha\":{\"value\":1.0},\"fill_color\":{\"value\":\"#30a2da\"},\"hatch_alpha\":{\"value\":1.0},\"hatch_color\":{\"value\":\"#30a2da\"},\"hatch_scale\":{\"value\":12.0},\"hatch_weight\":{\"value\":1.0},\"line_alpha\":{\"value\":1.0},\"line_cap\":{\"value\":\"butt\"},\"line_color\":{\"value\":\"#30a2da\"},\"line_dash\":{\"value\":[]},\"line_dash_offset\":{\"value\":0},\"line_join\":{\"value\":\"bevel\"},\"line_width\":{\"value\":1},\"marker\":{\"value\":\"circle\"},\"size\":{\"value\":5.477225575051661},\"x\":{\"field\":\"TotalCoinsMined\"},\"y\":{\"field\":\"TotalCoinSupply\"}},\"id\":\"1661\",\"type\":\"Scatter\"},{\"attributes\":{\"fill_alpha\":{\"value\":0.1},\"fill_color\":{\"value\":\"#30a2da\"},\"hatch_alpha\":{\"value\":0.1},\"hatch_color\":{\"value\":\"#30a2da\"},\"line_alpha\":{\"value\":0.1},\"line_color\":{\"value\":\"#30a2da\"},\"size\":{\"value\":5.477225575051661},\"x\":{\"field\":\"TotalCoinsMined\"},\"y\":{\"field\":\"TotalCoinSupply\"}},\"id\":\"1645\",\"type\":\"Scatter\"},{\"attributes\":{},\"id\":\"1663\",\"type\":\"Selection\"},{\"attributes\":{\"end\":1.042857142857143,\"reset_end\":1.042857142857143,\"reset_start\":-0.04285714285714286,\"start\":-0.04285714285714286,\"tags\":[[[\"TotalCoinsMined\",\"TotalCoinsMined\",null]]]},\"id\":\"1599\",\"type\":\"Range1d\"},{\"attributes\":{\"fill_alpha\":{\"value\":0.1},\"fill_color\":{\"value\":\"#fc4f30\"},\"hatch_alpha\":{\"value\":0.1},\"hatch_color\":{\"value\":\"#fc4f30\"},\"line_alpha\":{\"value\":0.1},\"line_color\":{\"value\":\"#fc4f30\"},\"size\":{\"value\":5.477225575051661},\"x\":{\"field\":\"TotalCoinsMined\"},\"y\":{\"field\":\"TotalCoinSupply\"}},\"id\":\"1666\",\"type\":\"Scatter\"},{\"attributes\":{\"fill_color\":{\"value\":\"#fc4f30\"},\"hatch_color\":{\"value\":\"#fc4f30\"},\"line_color\":{\"value\":\"#fc4f30\"},\"size\":{\"value\":5.477225575051661},\"x\":{\"field\":\"TotalCoinsMined\"},\"y\":{\"field\":\"TotalCoinSupply\"}},\"id\":\"1665\",\"type\":\"Scatter\"},{\"attributes\":{\"angle\":{\"value\":0.0},\"fill_alpha\":{\"value\":1.0},\"fill_color\":{\"value\":\"#6d904f\"},\"hatch_alpha\":{\"value\":1.0},\"hatch_color\":{\"value\":\"#6d904f\"},\"hatch_scale\":{\"value\":12.0},\"hatch_weight\":{\"value\":1.0},\"line_alpha\":{\"value\":1.0},\"line_cap\":{\"value\":\"butt\"},\"line_color\":{\"value\":\"#6d904f\"},\"line_dash\":{\"value\":[]},\"line_dash_offset\":{\"value\":0},\"line_join\":{\"value\":\"bevel\"},\"line_width\":{\"value\":1},\"marker\":{\"value\":\"circle\"},\"size\":{\"value\":5.477225575051661},\"x\":{\"field\":\"TotalCoinsMined\"},\"y\":{\"field\":\"TotalCoinSupply\"}},\"id\":\"1733\",\"type\":\"Scatter\"},{\"attributes\":{\"label\":{\"value\":\"1\"},\"renderers\":[{\"id\":\"1668\"}]},\"id\":\"1682\",\"type\":\"LegendItem\"},{\"attributes\":{},\"id\":\"1615\",\"type\":\"BasicTicker\"},{\"attributes\":{\"below\":[{\"id\":\"1614\"}],\"center\":[{\"id\":\"1617\"},{\"id\":\"1621\"}],\"height\":300,\"left\":[{\"id\":\"1618\"}],\"margin\":[5,5,5,5],\"min_border_bottom\":10,\"min_border_left\":10,\"min_border_right\":10,\"min_border_top\":10,\"renderers\":[{\"id\":\"1647\"},{\"id\":\"1668\"},{\"id\":\"1690\"},{\"id\":\"1714\"}],\"right\":[{\"id\":\"1659\"}],\"sizing_mode\":\"fixed\",\"title\":{\"id\":\"1606\"},\"toolbar\":{\"id\":\"1628\"},\"width\":700,\"x_range\":{\"id\":\"1599\"},\"x_scale\":{\"id\":\"1610\"},\"y_range\":{\"id\":\"1600\"},\"y_scale\":{\"id\":\"1612\"}},\"id\":\"1605\",\"subtype\":\"Figure\",\"type\":\"Plot\"},{\"attributes\":{\"fill_alpha\":{\"value\":0.2},\"fill_color\":{\"value\":\"#fc4f30\"},\"hatch_alpha\":{\"value\":0.2},\"hatch_color\":{\"value\":\"#fc4f30\"},\"line_alpha\":{\"value\":0.2},\"line_color\":{\"value\":\"#fc4f30\"},\"size\":{\"value\":5.477225575051661},\"x\":{\"field\":\"TotalCoinsMined\"},\"y\":{\"field\":\"TotalCoinSupply\"}},\"id\":\"1667\",\"type\":\"Scatter\"},{\"attributes\":{\"axis_label\":\"TotalCoinSupply\",\"coordinates\":null,\"formatter\":{\"id\":\"1639\"},\"group\":null,\"major_label_policy\":{\"id\":\"1640\"},\"ticker\":{\"id\":\"1619\"}},\"id\":\"1618\",\"type\":\"LinearAxis\"},{\"attributes\":{\"data\":{\"Class\":[3,3,3,3,3,3,3,3,3,3,3,3,3,3,3,3,3,3,3,3,3,3,3,3,3,3,3,3,3,3,3,3,3,3,3,3,3,3,3,3,3,3,3,3,3,3,3,3,3,3,3,3,3,3,3,3,3,3,3,3,3,3,3,3,3,3,3,3,3,3,3,3,3,3,3,3,3,3,3,3,3,3,3,3,3,3,3,3,3,3,3,3,3,3,3,3,3,3,3,3,3,3,3,3,3,3,3,3,3,3,3,3,3,3,3,3,3,3,3,3,3,3,3,3,3,3,3,3,3,3,3,3,3,3,3,3,3,3,3,3,3,3,3,3,3,3,3,3,3,3,3,3,3,3,3,3,3,3,3,3,3,3,3,3,3,3,3,3,3,3,3,3,3,3,3,3,3,3,3,3,3,3,3,3,3,3,3,3,3,3,3,3,3,3,3,3,3,3,3,3,3,3,3,3,3,3,3,3,3,3,3,3,3,3,3,3,3,3,3,3,3,3,3,3,3,3,3,3,3,3,3,3,3,3,3,3,3,3,3],\"TotalCoinSupply\":{\"__ndarray__\":\"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\",\"dtype\":\"float64\",\"order\":\"little\",\"shape\":[239]},\"TotalCoinsMined\":{\"__ndarray__\":\"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\",\"dtype\":\"float64\",\"order\":\"little\",\"shape\":[239]}},\"selected\":{\"id\":\"1709\"},\"selection_policy\":{\"id\":\"1729\"}},\"id\":\"1708\",\"type\":\"ColumnDataSource\"},{\"attributes\":{\"source\":{\"id\":\"1662\"}},\"id\":\"1669\",\"type\":\"CDSView\"},{\"attributes\":{\"coordinates\":null,\"data_source\":{\"id\":\"1662\"},\"glyph\":{\"id\":\"1665\"},\"group\":null,\"hover_glyph\":null,\"muted_glyph\":{\"id\":\"1667\"},\"nonselection_glyph\":{\"id\":\"1666\"},\"selection_glyph\":{\"id\":\"1683\"},\"view\":{\"id\":\"1669\"}},\"id\":\"1668\",\"type\":\"GlyphRenderer\"},{\"attributes\":{},\"id\":\"1610\",\"type\":\"LinearScale\"},{\"attributes\":{\"axis_label\":\"TotalCoinsMined\",\"coordinates\":null,\"formatter\":{\"id\":\"1636\"},\"group\":null,\"major_label_policy\":{\"id\":\"1637\"},\"ticker\":{\"id\":\"1615\"}},\"id\":\"1614\",\"type\":\"LinearAxis\"},{\"attributes\":{\"data\":{\"Class\":[1,1,1,1],\"TotalCoinSupply\":{\"__ndarray__\":\"lPYGX5hMdT+8eapDboZLP/yp8dJNYlA/LEMc6+I2Gj8=\",\"dtype\":\"float64\",\"order\":\"little\",\"shape\":[4]},\"TotalCoinsMined\":{\"__ndarray__\":\"j1gNkdpTXT+QpMXySiFFP3pDQwW4jFA/+0V+YL96Gj8=\",\"dtype\":\"float64\",\"order\":\"little\",\"shape\":[4]}},\"selected\":{\"id\":\"1663\"},\"selection_policy\":{\"id\":\"1679\"}},\"id\":\"1662\",\"type\":\"ColumnDataSource\"},{\"attributes\":{},\"id\":\"1679\",\"type\":\"UnionRenderers\"}],\"root_ids\":[\"1597\"]},\"title\":\"Bokeh Application\",\"version\":\"2.4.2\"}};\n",
       "    var render_items = [{\"docid\":\"dd7202a9-3d8b-448d-8adf-9c40502c18b1\",\"root_ids\":[\"1597\"],\"roots\":{\"1597\":\"70634df2-089e-420d-a476-6207d213f04a\"}}];\n",
       "    root.Bokeh.embed.embed_items_notebook(docs_json, render_items);\n",
       "  }\n",
       "  if (root.Bokeh !== undefined && root.Bokeh.Panel !== undefined) {\n",
       "    embed_document(root);\n",
       "  } else {\n",
       "    var attempts = 0;\n",
       "    var timer = setInterval(function(root) {\n",
       "      if (root.Bokeh !== undefined && root.Bokeh.Panel !== undefined) {\n",
       "        clearInterval(timer);\n",
       "        embed_document(root);\n",
       "      } else if (document.readyState == \"complete\") {\n",
       "        attempts++;\n",
       "        if (attempts > 200) {\n",
       "          clearInterval(timer);\n",
       "          console.log(\"Bokeh: ERROR: Unable to run BokehJS code because BokehJS library is missing\");\n",
       "        }\n",
       "      }\n",
       "    }, 25, root)\n",
       "  }\n",
       "})(window);</script>"
      ],
      "text/plain": [
       ":NdOverlay   [Class]\n",
       "   :Scatter   [TotalCoinsMined]   (TotalCoinSupply)"
      ]
     },
     "execution_count": 140,
     "metadata": {
      "application/vnd.holoviews_exec.v0+json": {
       "id": "1597"
      }
     },
     "output_type": "execute_result"
    }
   ],
   "source": [
    "# Create a hvplot.scatter plot using x=\"TotalCoinsMined\" and y=\"TotalCoinSupply\".\n",
    "plot_df.hvplot.scatter(x=\"TotalCoinsMined\", y=\"TotalCoinSupply\", by=\"Class\")"
   ]
  },
  {
   "cell_type": "code",
   "execution_count": null,
   "metadata": {},
   "outputs": [],
   "source": []
  }
 ],
 "metadata": {
  "file_extension": ".py",
  "kernelspec": {
   "display_name": "PythonData",
   "language": "python",
   "name": "pythondata"
  },
  "language_info": {
   "codemirror_mode": {
    "name": "ipython",
    "version": 3
   },
   "file_extension": ".py",
   "mimetype": "text/x-python",
   "name": "python",
   "nbconvert_exporter": "python",
   "pygments_lexer": "ipython3",
   "version": "3.7.13"
  },
  "latex_envs": {
   "LaTeX_envs_menu_present": true,
   "autoclose": false,
   "autocomplete": true,
   "bibliofile": "biblio.bib",
   "cite_by": "apalike",
   "current_citInitial": 1,
   "eqLabelWithNumbers": true,
   "eqNumInitial": 1,
   "hotkeys": {
    "equation": "Ctrl-E",
    "itemize": "Ctrl-I"
   },
   "labels_anchors": false,
   "latex_user_defs": false,
   "report_style_numbering": false,
   "user_envs_cfg": false
  },
  "mimetype": "text/x-python",
  "name": "python",
  "npconvert_exporter": "python",
  "pygments_lexer": "ipython3",
  "version": 3
 },
 "nbformat": 4,
 "nbformat_minor": 2
}
